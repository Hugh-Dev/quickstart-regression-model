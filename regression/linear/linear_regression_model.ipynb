{
 "cells": [
  {
   "cell_type": "markdown",
   "id": "f2d59d7d",
   "metadata": {},
   "source": [
    "# Linear Regression\n",
    "\n",
    "Los modelos de regresión son como 'calculadoras inteligentes' que usan datos pasados para predecir números. Por esta razón usaremos un ejemplo basado en un estudio real en el que se recopilaron datos de un sistema de bicicletas compartidas para predecir el número de alquileres en función de la estacionalidad y las condiciones climáticas. Utilizaremos una versión simplificada del conjunto de datos, que te presento a continuacion:"
   ]
  },
  {
   "cell_type": "code",
   "execution_count": 1,
   "id": "6436baeb",
   "metadata": {},
   "outputs": [
    {
     "data": {
      "text/html": [
       "<div>\n",
       "<style scoped>\n",
       "    .dataframe tbody tr th:only-of-type {\n",
       "        vertical-align: middle;\n",
       "    }\n",
       "\n",
       "    .dataframe tbody tr th {\n",
       "        vertical-align: top;\n",
       "    }\n",
       "\n",
       "    .dataframe thead th {\n",
       "        text-align: right;\n",
       "    }\n",
       "</style>\n",
       "<table border=\"1\" class=\"dataframe\">\n",
       "  <thead>\n",
       "    <tr style=\"text-align: right;\">\n",
       "      <th></th>\n",
       "      <th>instant</th>\n",
       "      <th>dteday</th>\n",
       "      <th>season</th>\n",
       "      <th>yr</th>\n",
       "      <th>mnth</th>\n",
       "      <th>holiday</th>\n",
       "      <th>weekday</th>\n",
       "      <th>workingday</th>\n",
       "      <th>weathersit</th>\n",
       "      <th>temp</th>\n",
       "      <th>atemp</th>\n",
       "      <th>hum</th>\n",
       "      <th>windspeed</th>\n",
       "      <th>rentals</th>\n",
       "    </tr>\n",
       "  </thead>\n",
       "  <tbody>\n",
       "    <tr>\n",
       "      <th>0</th>\n",
       "      <td>1</td>\n",
       "      <td>1/1/2011</td>\n",
       "      <td>1</td>\n",
       "      <td>0</td>\n",
       "      <td>1</td>\n",
       "      <td>0</td>\n",
       "      <td>6</td>\n",
       "      <td>0</td>\n",
       "      <td>2</td>\n",
       "      <td>0.344167</td>\n",
       "      <td>0.363625</td>\n",
       "      <td>0.805833</td>\n",
       "      <td>0.160446</td>\n",
       "      <td>331</td>\n",
       "    </tr>\n",
       "    <tr>\n",
       "      <th>1</th>\n",
       "      <td>2</td>\n",
       "      <td>1/2/2011</td>\n",
       "      <td>1</td>\n",
       "      <td>0</td>\n",
       "      <td>1</td>\n",
       "      <td>0</td>\n",
       "      <td>0</td>\n",
       "      <td>0</td>\n",
       "      <td>2</td>\n",
       "      <td>0.363478</td>\n",
       "      <td>0.353739</td>\n",
       "      <td>0.696087</td>\n",
       "      <td>0.248539</td>\n",
       "      <td>131</td>\n",
       "    </tr>\n",
       "    <tr>\n",
       "      <th>2</th>\n",
       "      <td>3</td>\n",
       "      <td>1/3/2011</td>\n",
       "      <td>1</td>\n",
       "      <td>0</td>\n",
       "      <td>1</td>\n",
       "      <td>0</td>\n",
       "      <td>1</td>\n",
       "      <td>1</td>\n",
       "      <td>1</td>\n",
       "      <td>0.196364</td>\n",
       "      <td>0.189405</td>\n",
       "      <td>0.437273</td>\n",
       "      <td>0.248309</td>\n",
       "      <td>120</td>\n",
       "    </tr>\n",
       "    <tr>\n",
       "      <th>3</th>\n",
       "      <td>4</td>\n",
       "      <td>1/4/2011</td>\n",
       "      <td>1</td>\n",
       "      <td>0</td>\n",
       "      <td>1</td>\n",
       "      <td>0</td>\n",
       "      <td>2</td>\n",
       "      <td>1</td>\n",
       "      <td>1</td>\n",
       "      <td>0.200000</td>\n",
       "      <td>0.212122</td>\n",
       "      <td>0.590435</td>\n",
       "      <td>0.160296</td>\n",
       "      <td>108</td>\n",
       "    </tr>\n",
       "    <tr>\n",
       "      <th>4</th>\n",
       "      <td>5</td>\n",
       "      <td>1/5/2011</td>\n",
       "      <td>1</td>\n",
       "      <td>0</td>\n",
       "      <td>1</td>\n",
       "      <td>0</td>\n",
       "      <td>3</td>\n",
       "      <td>1</td>\n",
       "      <td>1</td>\n",
       "      <td>0.226957</td>\n",
       "      <td>0.229270</td>\n",
       "      <td>0.436957</td>\n",
       "      <td>0.186900</td>\n",
       "      <td>82</td>\n",
       "    </tr>\n",
       "  </tbody>\n",
       "</table>\n",
       "</div>"
      ],
      "text/plain": [
       "   instant    dteday  season  yr  mnth  holiday  weekday  workingday  \\\n",
       "0        1  1/1/2011       1   0     1        0        6           0   \n",
       "1        2  1/2/2011       1   0     1        0        0           0   \n",
       "2        3  1/3/2011       1   0     1        0        1           1   \n",
       "3        4  1/4/2011       1   0     1        0        2           1   \n",
       "4        5  1/5/2011       1   0     1        0        3           1   \n",
       "\n",
       "   weathersit      temp     atemp       hum  windspeed  rentals  \n",
       "0           2  0.344167  0.363625  0.805833   0.160446      331  \n",
       "1           2  0.363478  0.353739  0.696087   0.248539      131  \n",
       "2           1  0.196364  0.189405  0.437273   0.248309      120  \n",
       "3           1  0.200000  0.212122  0.590435   0.160296      108  \n",
       "4           1  0.226957  0.229270  0.436957   0.186900       82  "
      ]
     },
     "execution_count": 1,
     "metadata": {},
     "output_type": "execute_result"
    }
   ],
   "source": [
    "import pandas as pd\n",
    "\n",
    "# carga el conjunto de datos de entrenamiento\n",
    "bike_data = pd.read_csv('daily-bike-share.csv')\n",
    "bike_data.head()"
   ]
  },
  {
   "cell_type": "markdown",
   "id": "ce3268d3",
   "metadata": {},
   "source": [
    "Este es un dataset muy usado en cursos introductorios de machine learning, especialmente en entornos Microsoft (como Azure ML), y contiene datos históricos de uso de bicicletas compartidas.\n",
    "\n",
    "### Contenido del dataset daily-bike-share.csv\n",
    "\n",
    "Este dataset contiene registros diarios del número de bicicletas rentadas en un sistema de bike sharing, junto con variables meteorológicas y temporales.\n",
    "\n",
    "Columna\tDescripción\n",
    "- **day**\tFecha en formato YYYY-MM-DD.\n",
    "- **season**\tEstación del año (1: invierno, 2: primavera, 3: verano, 4: otoño).\n",
    "- **year**\t0 para 2011, 1 para 2012.\n",
    "- **month**\tNúmero del mes (1-12).\n",
    "- **holiday**\t1 si es día festivo, 0 si no.\n",
    "- **weekday**\tDía de la semana (0: domingo, …, 6: sábado).\n",
    "- **workingday**\t1 si es día laboral, 0 si es fin de semana o feriado.\n",
    "- **weather**\tEstado del clima (1: despejado, 2: nublado, 3: lluvia ligera, 4: tormenta).\n",
    "- **temp**\tTemperatura normalizada (valor entre 0 y 1).\n",
    "- **atemp**\tSensación térmica normalizada.\n",
    "- **hum**\tHumedad relativa normalizada.\n",
    "- **windspeed**\tVelocidad del viento normalizada.\n",
    "- **rentals**\tNúmero real de bicicletas rentadas ese día."
   ]
  },
  {
   "cell_type": "code",
   "execution_count": 2,
   "id": "8489d559",
   "metadata": {},
   "outputs": [
    {
     "data": {
      "text/html": [
       "<div>\n",
       "<style scoped>\n",
       "    .dataframe tbody tr th:only-of-type {\n",
       "        vertical-align: middle;\n",
       "    }\n",
       "\n",
       "    .dataframe tbody tr th {\n",
       "        vertical-align: top;\n",
       "    }\n",
       "\n",
       "    .dataframe thead th {\n",
       "        text-align: right;\n",
       "    }\n",
       "</style>\n",
       "<table border=\"1\" class=\"dataframe\">\n",
       "  <thead>\n",
       "    <tr style=\"text-align: right;\">\n",
       "      <th></th>\n",
       "      <th>temp</th>\n",
       "      <th>atemp</th>\n",
       "      <th>hum</th>\n",
       "      <th>windspeed</th>\n",
       "    </tr>\n",
       "  </thead>\n",
       "  <tbody>\n",
       "    <tr>\n",
       "      <th>0</th>\n",
       "      <td>0.344167</td>\n",
       "      <td>0.363625</td>\n",
       "      <td>0.805833</td>\n",
       "      <td>0.160446</td>\n",
       "    </tr>\n",
       "    <tr>\n",
       "      <th>1</th>\n",
       "      <td>0.363478</td>\n",
       "      <td>0.353739</td>\n",
       "      <td>0.696087</td>\n",
       "      <td>0.248539</td>\n",
       "    </tr>\n",
       "    <tr>\n",
       "      <th>2</th>\n",
       "      <td>0.196364</td>\n",
       "      <td>0.189405</td>\n",
       "      <td>0.437273</td>\n",
       "      <td>0.248309</td>\n",
       "    </tr>\n",
       "    <tr>\n",
       "      <th>3</th>\n",
       "      <td>0.200000</td>\n",
       "      <td>0.212122</td>\n",
       "      <td>0.590435</td>\n",
       "      <td>0.160296</td>\n",
       "    </tr>\n",
       "    <tr>\n",
       "      <th>4</th>\n",
       "      <td>0.226957</td>\n",
       "      <td>0.229270</td>\n",
       "      <td>0.436957</td>\n",
       "      <td>0.186900</td>\n",
       "    </tr>\n",
       "    <tr>\n",
       "      <th>...</th>\n",
       "      <td>...</td>\n",
       "      <td>...</td>\n",
       "      <td>...</td>\n",
       "      <td>...</td>\n",
       "    </tr>\n",
       "    <tr>\n",
       "      <th>726</th>\n",
       "      <td>0.254167</td>\n",
       "      <td>0.226642</td>\n",
       "      <td>0.652917</td>\n",
       "      <td>0.350133</td>\n",
       "    </tr>\n",
       "    <tr>\n",
       "      <th>727</th>\n",
       "      <td>0.253333</td>\n",
       "      <td>0.255046</td>\n",
       "      <td>0.590000</td>\n",
       "      <td>0.155471</td>\n",
       "    </tr>\n",
       "    <tr>\n",
       "      <th>728</th>\n",
       "      <td>0.253333</td>\n",
       "      <td>0.242400</td>\n",
       "      <td>0.752917</td>\n",
       "      <td>0.124383</td>\n",
       "    </tr>\n",
       "    <tr>\n",
       "      <th>729</th>\n",
       "      <td>0.255833</td>\n",
       "      <td>0.231700</td>\n",
       "      <td>0.483333</td>\n",
       "      <td>0.350754</td>\n",
       "    </tr>\n",
       "    <tr>\n",
       "      <th>730</th>\n",
       "      <td>0.215833</td>\n",
       "      <td>0.223487</td>\n",
       "      <td>0.577500</td>\n",
       "      <td>0.154846</td>\n",
       "    </tr>\n",
       "  </tbody>\n",
       "</table>\n",
       "<p>731 rows × 4 columns</p>\n",
       "</div>"
      ],
      "text/plain": [
       "         temp     atemp       hum  windspeed\n",
       "0    0.344167  0.363625  0.805833   0.160446\n",
       "1    0.363478  0.353739  0.696087   0.248539\n",
       "2    0.196364  0.189405  0.437273   0.248309\n",
       "3    0.200000  0.212122  0.590435   0.160296\n",
       "4    0.226957  0.229270  0.436957   0.186900\n",
       "..        ...       ...       ...        ...\n",
       "726  0.254167  0.226642  0.652917   0.350133\n",
       "727  0.253333  0.255046  0.590000   0.155471\n",
       "728  0.253333  0.242400  0.752917   0.124383\n",
       "729  0.255833  0.231700  0.483333   0.350754\n",
       "730  0.215833  0.223487  0.577500   0.154846\n",
       "\n",
       "[731 rows x 4 columns]"
      ]
     },
     "execution_count": 2,
     "metadata": {},
     "output_type": "execute_result"
    }
   ],
   "source": [
    "# Selecciona las columnas numéricas normalizadas de temperatura, sensación térmica, humedad y velocidad del viento\n",
    "bike_data[['temp', 'atemp', 'hum', 'windspeed']]"
   ]
  },
  {
   "cell_type": "markdown",
   "id": "7f099069",
   "metadata": {},
   "source": [
    "# Variables normalizadas\n",
    "\n",
    "- **temp**\n",
    "- **atemp**\n",
    "- **hum**\n",
    "- **windspeed**\n",
    "\n",
    "## ¿Qué significa que esté normalizada entre 0 y 1?\n",
    "\n",
    "La normalización es una técnica de escalado de valores, usada comúnmente en machine learning para que todos los datos estén en un rango comparable, fórmula:\n",
    "\n",
    "$$\n",
    "\\text{valor normalizado} = \\frac{t - t_{\\text{min}}}{t_{\\text{max}} - t_{\\text{min}}}\n",
    "$$\n",
    "\n",
    "donde:  \n",
    "- Para **temp**: $t_{\\text{min}} = -8^\\circ C$, $t_{\\text{max}} = 39^\\circ C$  \n",
    "- Para **atemp**: $t_{\\text{min}} = -16^\\circ C$, $t_{\\text{max}} = 50^\\circ C$\n",
    "\n",
    "Esta información está respaldada por la descripción del dataset en la [UCI Machine Learning Repository](https://archive.ics.uci.edu/dataset/275/bike+sharing+dataset)."
   ]
  },
  {
   "cell_type": "markdown",
   "id": "847ccbbf",
   "metadata": {
    "vscode": {
     "languageId": "latex"
    }
   },
   "source": [
    "En este conjunto de datos, 'rentals' (alquileres) representa la etiqueta (el valor y) que nuestro modelo debe aprender a predecir. Las otras columnas son características potenciales (valores x). Siempre existira la posibilidad de enriquecer este conjunto de datos.\n",
    "\n",
    "Por ejemplo podemos realizar ingeniería de características (feature engineering ) para combinar o derivar nuevas características. Por ejemplo, agreguemos una nueva columna llamada day al DataFrame extrayendo el componente del día de la columna existente dteday. La nueva columna representa el día del mes, del 1 al 31."
   ]
  },
  {
   "cell_type": "code",
   "execution_count": 16,
   "id": "36313c88",
   "metadata": {},
   "outputs": [
    {
     "data": {
      "text/html": [
       "<div>\n",
       "<style scoped>\n",
       "    .dataframe tbody tr th:only-of-type {\n",
       "        vertical-align: middle;\n",
       "    }\n",
       "\n",
       "    .dataframe tbody tr th {\n",
       "        vertical-align: top;\n",
       "    }\n",
       "\n",
       "    .dataframe thead th {\n",
       "        text-align: right;\n",
       "    }\n",
       "</style>\n",
       "<table border=\"1\" class=\"dataframe\">\n",
       "  <thead>\n",
       "    <tr style=\"text-align: right;\">\n",
       "      <th></th>\n",
       "      <th>instant</th>\n",
       "      <th>dteday</th>\n",
       "      <th>season</th>\n",
       "      <th>yr</th>\n",
       "      <th>mnth</th>\n",
       "      <th>holiday</th>\n",
       "      <th>weekday</th>\n",
       "      <th>workingday</th>\n",
       "      <th>weathersit</th>\n",
       "      <th>temp</th>\n",
       "      <th>atemp</th>\n",
       "      <th>hum</th>\n",
       "      <th>windspeed</th>\n",
       "      <th>rentals</th>\n",
       "      <th>day</th>\n",
       "    </tr>\n",
       "  </thead>\n",
       "  <tbody>\n",
       "    <tr>\n",
       "      <th>0</th>\n",
       "      <td>1</td>\n",
       "      <td>1/1/2011</td>\n",
       "      <td>1</td>\n",
       "      <td>0</td>\n",
       "      <td>1</td>\n",
       "      <td>0</td>\n",
       "      <td>6</td>\n",
       "      <td>0</td>\n",
       "      <td>2</td>\n",
       "      <td>0.344167</td>\n",
       "      <td>0.363625</td>\n",
       "      <td>0.805833</td>\n",
       "      <td>0.160446</td>\n",
       "      <td>331</td>\n",
       "      <td>1</td>\n",
       "    </tr>\n",
       "    <tr>\n",
       "      <th>1</th>\n",
       "      <td>2</td>\n",
       "      <td>1/2/2011</td>\n",
       "      <td>1</td>\n",
       "      <td>0</td>\n",
       "      <td>1</td>\n",
       "      <td>0</td>\n",
       "      <td>0</td>\n",
       "      <td>0</td>\n",
       "      <td>2</td>\n",
       "      <td>0.363478</td>\n",
       "      <td>0.353739</td>\n",
       "      <td>0.696087</td>\n",
       "      <td>0.248539</td>\n",
       "      <td>131</td>\n",
       "      <td>2</td>\n",
       "    </tr>\n",
       "    <tr>\n",
       "      <th>2</th>\n",
       "      <td>3</td>\n",
       "      <td>1/3/2011</td>\n",
       "      <td>1</td>\n",
       "      <td>0</td>\n",
       "      <td>1</td>\n",
       "      <td>0</td>\n",
       "      <td>1</td>\n",
       "      <td>1</td>\n",
       "      <td>1</td>\n",
       "      <td>0.196364</td>\n",
       "      <td>0.189405</td>\n",
       "      <td>0.437273</td>\n",
       "      <td>0.248309</td>\n",
       "      <td>120</td>\n",
       "      <td>3</td>\n",
       "    </tr>\n",
       "    <tr>\n",
       "      <th>3</th>\n",
       "      <td>4</td>\n",
       "      <td>1/4/2011</td>\n",
       "      <td>1</td>\n",
       "      <td>0</td>\n",
       "      <td>1</td>\n",
       "      <td>0</td>\n",
       "      <td>2</td>\n",
       "      <td>1</td>\n",
       "      <td>1</td>\n",
       "      <td>0.200000</td>\n",
       "      <td>0.212122</td>\n",
       "      <td>0.590435</td>\n",
       "      <td>0.160296</td>\n",
       "      <td>108</td>\n",
       "      <td>4</td>\n",
       "    </tr>\n",
       "    <tr>\n",
       "      <th>4</th>\n",
       "      <td>5</td>\n",
       "      <td>1/5/2011</td>\n",
       "      <td>1</td>\n",
       "      <td>0</td>\n",
       "      <td>1</td>\n",
       "      <td>0</td>\n",
       "      <td>3</td>\n",
       "      <td>1</td>\n",
       "      <td>1</td>\n",
       "      <td>0.226957</td>\n",
       "      <td>0.229270</td>\n",
       "      <td>0.436957</td>\n",
       "      <td>0.186900</td>\n",
       "      <td>82</td>\n",
       "      <td>5</td>\n",
       "    </tr>\n",
       "    <tr>\n",
       "      <th>5</th>\n",
       "      <td>6</td>\n",
       "      <td>1/6/2011</td>\n",
       "      <td>1</td>\n",
       "      <td>0</td>\n",
       "      <td>1</td>\n",
       "      <td>0</td>\n",
       "      <td>4</td>\n",
       "      <td>1</td>\n",
       "      <td>1</td>\n",
       "      <td>0.204348</td>\n",
       "      <td>0.233209</td>\n",
       "      <td>0.518261</td>\n",
       "      <td>0.089565</td>\n",
       "      <td>88</td>\n",
       "      <td>6</td>\n",
       "    </tr>\n",
       "    <tr>\n",
       "      <th>6</th>\n",
       "      <td>7</td>\n",
       "      <td>1/7/2011</td>\n",
       "      <td>1</td>\n",
       "      <td>0</td>\n",
       "      <td>1</td>\n",
       "      <td>0</td>\n",
       "      <td>5</td>\n",
       "      <td>1</td>\n",
       "      <td>2</td>\n",
       "      <td>0.196522</td>\n",
       "      <td>0.208839</td>\n",
       "      <td>0.498696</td>\n",
       "      <td>0.168726</td>\n",
       "      <td>148</td>\n",
       "      <td>7</td>\n",
       "    </tr>\n",
       "    <tr>\n",
       "      <th>7</th>\n",
       "      <td>8</td>\n",
       "      <td>1/8/2011</td>\n",
       "      <td>1</td>\n",
       "      <td>0</td>\n",
       "      <td>1</td>\n",
       "      <td>0</td>\n",
       "      <td>6</td>\n",
       "      <td>0</td>\n",
       "      <td>2</td>\n",
       "      <td>0.165000</td>\n",
       "      <td>0.162254</td>\n",
       "      <td>0.535833</td>\n",
       "      <td>0.266804</td>\n",
       "      <td>68</td>\n",
       "      <td>8</td>\n",
       "    </tr>\n",
       "    <tr>\n",
       "      <th>8</th>\n",
       "      <td>9</td>\n",
       "      <td>1/9/2011</td>\n",
       "      <td>1</td>\n",
       "      <td>0</td>\n",
       "      <td>1</td>\n",
       "      <td>0</td>\n",
       "      <td>0</td>\n",
       "      <td>0</td>\n",
       "      <td>1</td>\n",
       "      <td>0.138333</td>\n",
       "      <td>0.116175</td>\n",
       "      <td>0.434167</td>\n",
       "      <td>0.361950</td>\n",
       "      <td>54</td>\n",
       "      <td>9</td>\n",
       "    </tr>\n",
       "    <tr>\n",
       "      <th>9</th>\n",
       "      <td>10</td>\n",
       "      <td>1/10/2011</td>\n",
       "      <td>1</td>\n",
       "      <td>0</td>\n",
       "      <td>1</td>\n",
       "      <td>0</td>\n",
       "      <td>1</td>\n",
       "      <td>1</td>\n",
       "      <td>1</td>\n",
       "      <td>0.150833</td>\n",
       "      <td>0.150888</td>\n",
       "      <td>0.482917</td>\n",
       "      <td>0.223267</td>\n",
       "      <td>41</td>\n",
       "      <td>10</td>\n",
       "    </tr>\n",
       "    <tr>\n",
       "      <th>10</th>\n",
       "      <td>11</td>\n",
       "      <td>1/11/2011</td>\n",
       "      <td>1</td>\n",
       "      <td>0</td>\n",
       "      <td>1</td>\n",
       "      <td>0</td>\n",
       "      <td>2</td>\n",
       "      <td>1</td>\n",
       "      <td>2</td>\n",
       "      <td>0.169091</td>\n",
       "      <td>0.191464</td>\n",
       "      <td>0.686364</td>\n",
       "      <td>0.122132</td>\n",
       "      <td>43</td>\n",
       "      <td>11</td>\n",
       "    </tr>\n",
       "    <tr>\n",
       "      <th>11</th>\n",
       "      <td>12</td>\n",
       "      <td>1/12/2011</td>\n",
       "      <td>1</td>\n",
       "      <td>0</td>\n",
       "      <td>1</td>\n",
       "      <td>0</td>\n",
       "      <td>3</td>\n",
       "      <td>1</td>\n",
       "      <td>1</td>\n",
       "      <td>0.172727</td>\n",
       "      <td>0.160473</td>\n",
       "      <td>0.599545</td>\n",
       "      <td>0.304627</td>\n",
       "      <td>25</td>\n",
       "      <td>12</td>\n",
       "    </tr>\n",
       "    <tr>\n",
       "      <th>12</th>\n",
       "      <td>13</td>\n",
       "      <td>1/13/2011</td>\n",
       "      <td>1</td>\n",
       "      <td>0</td>\n",
       "      <td>1</td>\n",
       "      <td>0</td>\n",
       "      <td>4</td>\n",
       "      <td>1</td>\n",
       "      <td>1</td>\n",
       "      <td>0.165000</td>\n",
       "      <td>0.150883</td>\n",
       "      <td>0.470417</td>\n",
       "      <td>0.301000</td>\n",
       "      <td>38</td>\n",
       "      <td>13</td>\n",
       "    </tr>\n",
       "    <tr>\n",
       "      <th>13</th>\n",
       "      <td>14</td>\n",
       "      <td>1/14/2011</td>\n",
       "      <td>1</td>\n",
       "      <td>0</td>\n",
       "      <td>1</td>\n",
       "      <td>0</td>\n",
       "      <td>5</td>\n",
       "      <td>1</td>\n",
       "      <td>1</td>\n",
       "      <td>0.160870</td>\n",
       "      <td>0.188413</td>\n",
       "      <td>0.537826</td>\n",
       "      <td>0.126548</td>\n",
       "      <td>54</td>\n",
       "      <td>14</td>\n",
       "    </tr>\n",
       "    <tr>\n",
       "      <th>14</th>\n",
       "      <td>15</td>\n",
       "      <td>1/15/2011</td>\n",
       "      <td>1</td>\n",
       "      <td>0</td>\n",
       "      <td>1</td>\n",
       "      <td>0</td>\n",
       "      <td>6</td>\n",
       "      <td>0</td>\n",
       "      <td>2</td>\n",
       "      <td>0.233333</td>\n",
       "      <td>0.248112</td>\n",
       "      <td>0.498750</td>\n",
       "      <td>0.157963</td>\n",
       "      <td>222</td>\n",
       "      <td>15</td>\n",
       "    </tr>\n",
       "    <tr>\n",
       "      <th>15</th>\n",
       "      <td>16</td>\n",
       "      <td>1/16/2011</td>\n",
       "      <td>1</td>\n",
       "      <td>0</td>\n",
       "      <td>1</td>\n",
       "      <td>0</td>\n",
       "      <td>0</td>\n",
       "      <td>0</td>\n",
       "      <td>1</td>\n",
       "      <td>0.231667</td>\n",
       "      <td>0.234217</td>\n",
       "      <td>0.483750</td>\n",
       "      <td>0.188433</td>\n",
       "      <td>251</td>\n",
       "      <td>16</td>\n",
       "    </tr>\n",
       "    <tr>\n",
       "      <th>16</th>\n",
       "      <td>17</td>\n",
       "      <td>1/17/2011</td>\n",
       "      <td>1</td>\n",
       "      <td>0</td>\n",
       "      <td>1</td>\n",
       "      <td>1</td>\n",
       "      <td>1</td>\n",
       "      <td>0</td>\n",
       "      <td>2</td>\n",
       "      <td>0.175833</td>\n",
       "      <td>0.176771</td>\n",
       "      <td>0.537500</td>\n",
       "      <td>0.194017</td>\n",
       "      <td>117</td>\n",
       "      <td>17</td>\n",
       "    </tr>\n",
       "    <tr>\n",
       "      <th>17</th>\n",
       "      <td>18</td>\n",
       "      <td>1/18/2011</td>\n",
       "      <td>1</td>\n",
       "      <td>0</td>\n",
       "      <td>1</td>\n",
       "      <td>0</td>\n",
       "      <td>2</td>\n",
       "      <td>1</td>\n",
       "      <td>2</td>\n",
       "      <td>0.216667</td>\n",
       "      <td>0.232333</td>\n",
       "      <td>0.861667</td>\n",
       "      <td>0.146775</td>\n",
       "      <td>9</td>\n",
       "      <td>18</td>\n",
       "    </tr>\n",
       "    <tr>\n",
       "      <th>18</th>\n",
       "      <td>19</td>\n",
       "      <td>1/19/2011</td>\n",
       "      <td>1</td>\n",
       "      <td>0</td>\n",
       "      <td>1</td>\n",
       "      <td>0</td>\n",
       "      <td>3</td>\n",
       "      <td>1</td>\n",
       "      <td>2</td>\n",
       "      <td>0.292174</td>\n",
       "      <td>0.298422</td>\n",
       "      <td>0.741739</td>\n",
       "      <td>0.208317</td>\n",
       "      <td>78</td>\n",
       "      <td>19</td>\n",
       "    </tr>\n",
       "    <tr>\n",
       "      <th>19</th>\n",
       "      <td>20</td>\n",
       "      <td>1/20/2011</td>\n",
       "      <td>1</td>\n",
       "      <td>0</td>\n",
       "      <td>1</td>\n",
       "      <td>0</td>\n",
       "      <td>4</td>\n",
       "      <td>1</td>\n",
       "      <td>2</td>\n",
       "      <td>0.261667</td>\n",
       "      <td>0.255050</td>\n",
       "      <td>0.538333</td>\n",
       "      <td>0.195904</td>\n",
       "      <td>83</td>\n",
       "      <td>20</td>\n",
       "    </tr>\n",
       "    <tr>\n",
       "      <th>20</th>\n",
       "      <td>21</td>\n",
       "      <td>1/21/2011</td>\n",
       "      <td>1</td>\n",
       "      <td>0</td>\n",
       "      <td>1</td>\n",
       "      <td>0</td>\n",
       "      <td>5</td>\n",
       "      <td>1</td>\n",
       "      <td>1</td>\n",
       "      <td>0.177500</td>\n",
       "      <td>0.157833</td>\n",
       "      <td>0.457083</td>\n",
       "      <td>0.353242</td>\n",
       "      <td>75</td>\n",
       "      <td>21</td>\n",
       "    </tr>\n",
       "    <tr>\n",
       "      <th>21</th>\n",
       "      <td>22</td>\n",
       "      <td>1/22/2011</td>\n",
       "      <td>1</td>\n",
       "      <td>0</td>\n",
       "      <td>1</td>\n",
       "      <td>0</td>\n",
       "      <td>6</td>\n",
       "      <td>0</td>\n",
       "      <td>1</td>\n",
       "      <td>0.059130</td>\n",
       "      <td>0.079070</td>\n",
       "      <td>0.400000</td>\n",
       "      <td>0.171970</td>\n",
       "      <td>93</td>\n",
       "      <td>22</td>\n",
       "    </tr>\n",
       "    <tr>\n",
       "      <th>22</th>\n",
       "      <td>23</td>\n",
       "      <td>1/23/2011</td>\n",
       "      <td>1</td>\n",
       "      <td>0</td>\n",
       "      <td>1</td>\n",
       "      <td>0</td>\n",
       "      <td>0</td>\n",
       "      <td>0</td>\n",
       "      <td>1</td>\n",
       "      <td>0.096522</td>\n",
       "      <td>0.098839</td>\n",
       "      <td>0.436522</td>\n",
       "      <td>0.246600</td>\n",
       "      <td>150</td>\n",
       "      <td>23</td>\n",
       "    </tr>\n",
       "    <tr>\n",
       "      <th>23</th>\n",
       "      <td>24</td>\n",
       "      <td>1/24/2011</td>\n",
       "      <td>1</td>\n",
       "      <td>0</td>\n",
       "      <td>1</td>\n",
       "      <td>0</td>\n",
       "      <td>1</td>\n",
       "      <td>1</td>\n",
       "      <td>1</td>\n",
       "      <td>0.097391</td>\n",
       "      <td>0.117930</td>\n",
       "      <td>0.491739</td>\n",
       "      <td>0.158330</td>\n",
       "      <td>86</td>\n",
       "      <td>24</td>\n",
       "    </tr>\n",
       "    <tr>\n",
       "      <th>24</th>\n",
       "      <td>25</td>\n",
       "      <td>1/25/2011</td>\n",
       "      <td>1</td>\n",
       "      <td>0</td>\n",
       "      <td>1</td>\n",
       "      <td>0</td>\n",
       "      <td>2</td>\n",
       "      <td>1</td>\n",
       "      <td>2</td>\n",
       "      <td>0.223478</td>\n",
       "      <td>0.234526</td>\n",
       "      <td>0.616957</td>\n",
       "      <td>0.129796</td>\n",
       "      <td>186</td>\n",
       "      <td>25</td>\n",
       "    </tr>\n",
       "    <tr>\n",
       "      <th>25</th>\n",
       "      <td>26</td>\n",
       "      <td>1/26/2011</td>\n",
       "      <td>1</td>\n",
       "      <td>0</td>\n",
       "      <td>1</td>\n",
       "      <td>0</td>\n",
       "      <td>3</td>\n",
       "      <td>1</td>\n",
       "      <td>3</td>\n",
       "      <td>0.217500</td>\n",
       "      <td>0.203600</td>\n",
       "      <td>0.862500</td>\n",
       "      <td>0.293850</td>\n",
       "      <td>34</td>\n",
       "      <td>26</td>\n",
       "    </tr>\n",
       "    <tr>\n",
       "      <th>26</th>\n",
       "      <td>27</td>\n",
       "      <td>1/27/2011</td>\n",
       "      <td>1</td>\n",
       "      <td>0</td>\n",
       "      <td>1</td>\n",
       "      <td>0</td>\n",
       "      <td>4</td>\n",
       "      <td>1</td>\n",
       "      <td>1</td>\n",
       "      <td>0.195000</td>\n",
       "      <td>0.219700</td>\n",
       "      <td>0.687500</td>\n",
       "      <td>0.113837</td>\n",
       "      <td>15</td>\n",
       "      <td>27</td>\n",
       "    </tr>\n",
       "    <tr>\n",
       "      <th>27</th>\n",
       "      <td>28</td>\n",
       "      <td>1/28/2011</td>\n",
       "      <td>1</td>\n",
       "      <td>0</td>\n",
       "      <td>1</td>\n",
       "      <td>0</td>\n",
       "      <td>5</td>\n",
       "      <td>1</td>\n",
       "      <td>2</td>\n",
       "      <td>0.203478</td>\n",
       "      <td>0.223317</td>\n",
       "      <td>0.793043</td>\n",
       "      <td>0.123300</td>\n",
       "      <td>38</td>\n",
       "      <td>28</td>\n",
       "    </tr>\n",
       "    <tr>\n",
       "      <th>28</th>\n",
       "      <td>29</td>\n",
       "      <td>1/29/2011</td>\n",
       "      <td>1</td>\n",
       "      <td>0</td>\n",
       "      <td>1</td>\n",
       "      <td>0</td>\n",
       "      <td>6</td>\n",
       "      <td>0</td>\n",
       "      <td>1</td>\n",
       "      <td>0.196522</td>\n",
       "      <td>0.212126</td>\n",
       "      <td>0.651739</td>\n",
       "      <td>0.145365</td>\n",
       "      <td>123</td>\n",
       "      <td>29</td>\n",
       "    </tr>\n",
       "    <tr>\n",
       "      <th>29</th>\n",
       "      <td>30</td>\n",
       "      <td>1/30/2011</td>\n",
       "      <td>1</td>\n",
       "      <td>0</td>\n",
       "      <td>1</td>\n",
       "      <td>0</td>\n",
       "      <td>0</td>\n",
       "      <td>0</td>\n",
       "      <td>1</td>\n",
       "      <td>0.216522</td>\n",
       "      <td>0.250322</td>\n",
       "      <td>0.722174</td>\n",
       "      <td>0.073983</td>\n",
       "      <td>140</td>\n",
       "      <td>30</td>\n",
       "    </tr>\n",
       "    <tr>\n",
       "      <th>30</th>\n",
       "      <td>31</td>\n",
       "      <td>1/31/2011</td>\n",
       "      <td>1</td>\n",
       "      <td>0</td>\n",
       "      <td>1</td>\n",
       "      <td>0</td>\n",
       "      <td>1</td>\n",
       "      <td>1</td>\n",
       "      <td>2</td>\n",
       "      <td>0.180833</td>\n",
       "      <td>0.186250</td>\n",
       "      <td>0.603750</td>\n",
       "      <td>0.187192</td>\n",
       "      <td>42</td>\n",
       "      <td>31</td>\n",
       "    </tr>\n",
       "    <tr>\n",
       "      <th>31</th>\n",
       "      <td>32</td>\n",
       "      <td>2/1/2011</td>\n",
       "      <td>1</td>\n",
       "      <td>0</td>\n",
       "      <td>2</td>\n",
       "      <td>0</td>\n",
       "      <td>2</td>\n",
       "      <td>1</td>\n",
       "      <td>2</td>\n",
       "      <td>0.192174</td>\n",
       "      <td>0.234530</td>\n",
       "      <td>0.829565</td>\n",
       "      <td>0.053213</td>\n",
       "      <td>47</td>\n",
       "      <td>1</td>\n",
       "    </tr>\n",
       "  </tbody>\n",
       "</table>\n",
       "</div>"
      ],
      "text/plain": [
       "    instant     dteday  season  yr  mnth  holiday  weekday  workingday  \\\n",
       "0         1   1/1/2011       1   0     1        0        6           0   \n",
       "1         2   1/2/2011       1   0     1        0        0           0   \n",
       "2         3   1/3/2011       1   0     1        0        1           1   \n",
       "3         4   1/4/2011       1   0     1        0        2           1   \n",
       "4         5   1/5/2011       1   0     1        0        3           1   \n",
       "5         6   1/6/2011       1   0     1        0        4           1   \n",
       "6         7   1/7/2011       1   0     1        0        5           1   \n",
       "7         8   1/8/2011       1   0     1        0        6           0   \n",
       "8         9   1/9/2011       1   0     1        0        0           0   \n",
       "9        10  1/10/2011       1   0     1        0        1           1   \n",
       "10       11  1/11/2011       1   0     1        0        2           1   \n",
       "11       12  1/12/2011       1   0     1        0        3           1   \n",
       "12       13  1/13/2011       1   0     1        0        4           1   \n",
       "13       14  1/14/2011       1   0     1        0        5           1   \n",
       "14       15  1/15/2011       1   0     1        0        6           0   \n",
       "15       16  1/16/2011       1   0     1        0        0           0   \n",
       "16       17  1/17/2011       1   0     1        1        1           0   \n",
       "17       18  1/18/2011       1   0     1        0        2           1   \n",
       "18       19  1/19/2011       1   0     1        0        3           1   \n",
       "19       20  1/20/2011       1   0     1        0        4           1   \n",
       "20       21  1/21/2011       1   0     1        0        5           1   \n",
       "21       22  1/22/2011       1   0     1        0        6           0   \n",
       "22       23  1/23/2011       1   0     1        0        0           0   \n",
       "23       24  1/24/2011       1   0     1        0        1           1   \n",
       "24       25  1/25/2011       1   0     1        0        2           1   \n",
       "25       26  1/26/2011       1   0     1        0        3           1   \n",
       "26       27  1/27/2011       1   0     1        0        4           1   \n",
       "27       28  1/28/2011       1   0     1        0        5           1   \n",
       "28       29  1/29/2011       1   0     1        0        6           0   \n",
       "29       30  1/30/2011       1   0     1        0        0           0   \n",
       "30       31  1/31/2011       1   0     1        0        1           1   \n",
       "31       32   2/1/2011       1   0     2        0        2           1   \n",
       "\n",
       "    weathersit      temp     atemp       hum  windspeed  rentals  day  \n",
       "0            2  0.344167  0.363625  0.805833   0.160446      331    1  \n",
       "1            2  0.363478  0.353739  0.696087   0.248539      131    2  \n",
       "2            1  0.196364  0.189405  0.437273   0.248309      120    3  \n",
       "3            1  0.200000  0.212122  0.590435   0.160296      108    4  \n",
       "4            1  0.226957  0.229270  0.436957   0.186900       82    5  \n",
       "5            1  0.204348  0.233209  0.518261   0.089565       88    6  \n",
       "6            2  0.196522  0.208839  0.498696   0.168726      148    7  \n",
       "7            2  0.165000  0.162254  0.535833   0.266804       68    8  \n",
       "8            1  0.138333  0.116175  0.434167   0.361950       54    9  \n",
       "9            1  0.150833  0.150888  0.482917   0.223267       41   10  \n",
       "10           2  0.169091  0.191464  0.686364   0.122132       43   11  \n",
       "11           1  0.172727  0.160473  0.599545   0.304627       25   12  \n",
       "12           1  0.165000  0.150883  0.470417   0.301000       38   13  \n",
       "13           1  0.160870  0.188413  0.537826   0.126548       54   14  \n",
       "14           2  0.233333  0.248112  0.498750   0.157963      222   15  \n",
       "15           1  0.231667  0.234217  0.483750   0.188433      251   16  \n",
       "16           2  0.175833  0.176771  0.537500   0.194017      117   17  \n",
       "17           2  0.216667  0.232333  0.861667   0.146775        9   18  \n",
       "18           2  0.292174  0.298422  0.741739   0.208317       78   19  \n",
       "19           2  0.261667  0.255050  0.538333   0.195904       83   20  \n",
       "20           1  0.177500  0.157833  0.457083   0.353242       75   21  \n",
       "21           1  0.059130  0.079070  0.400000   0.171970       93   22  \n",
       "22           1  0.096522  0.098839  0.436522   0.246600      150   23  \n",
       "23           1  0.097391  0.117930  0.491739   0.158330       86   24  \n",
       "24           2  0.223478  0.234526  0.616957   0.129796      186   25  \n",
       "25           3  0.217500  0.203600  0.862500   0.293850       34   26  \n",
       "26           1  0.195000  0.219700  0.687500   0.113837       15   27  \n",
       "27           2  0.203478  0.223317  0.793043   0.123300       38   28  \n",
       "28           1  0.196522  0.212126  0.651739   0.145365      123   29  \n",
       "29           1  0.216522  0.250322  0.722174   0.073983      140   30  \n",
       "30           2  0.180833  0.186250  0.603750   0.187192       42   31  \n",
       "31           2  0.192174  0.234530  0.829565   0.053213       47    1  "
      ]
     },
     "execution_count": 16,
     "metadata": {},
     "output_type": "execute_result"
    }
   ],
   "source": [
    "# Agrega una nueva columna 'day' al DataFrame extrayendo el día del mes de la columna 'dteday'\n",
    "bike_data['day'] = pd.DatetimeIndex(bike_data['dteday']).day\n",
    "\n",
    "# Muestra las primeras 32 filas para verificar la nueva columna\n",
    "bike_data.head(32)"
   ]
  },
  {
   "cell_type": "markdown",
   "id": "00bbb4ec",
   "metadata": {},
   "source": [
    "Bien, comencemos nuestro análisis de los datos examinando algunas estadísticas descriptivas clave. Podemos usar el método describe del DataFrame para generarlas tanto para las características numéricas como para la columna de etiqueta rentals."
   ]
  },
  {
   "cell_type": "code",
   "execution_count": 17,
   "id": "a4667331",
   "metadata": {},
   "outputs": [
    {
     "data": {
      "text/html": [
       "<div>\n",
       "<style scoped>\n",
       "    .dataframe tbody tr th:only-of-type {\n",
       "        vertical-align: middle;\n",
       "    }\n",
       "\n",
       "    .dataframe tbody tr th {\n",
       "        vertical-align: top;\n",
       "    }\n",
       "\n",
       "    .dataframe thead th {\n",
       "        text-align: right;\n",
       "    }\n",
       "</style>\n",
       "<table border=\"1\" class=\"dataframe\">\n",
       "  <thead>\n",
       "    <tr style=\"text-align: right;\">\n",
       "      <th></th>\n",
       "      <th>temp</th>\n",
       "      <th>atemp</th>\n",
       "      <th>hum</th>\n",
       "      <th>windspeed</th>\n",
       "      <th>rentals</th>\n",
       "    </tr>\n",
       "  </thead>\n",
       "  <tbody>\n",
       "    <tr>\n",
       "      <th>count</th>\n",
       "      <td>731.000000</td>\n",
       "      <td>731.000000</td>\n",
       "      <td>731.000000</td>\n",
       "      <td>731.000000</td>\n",
       "      <td>731.000000</td>\n",
       "    </tr>\n",
       "    <tr>\n",
       "      <th>mean</th>\n",
       "      <td>0.495385</td>\n",
       "      <td>0.474354</td>\n",
       "      <td>0.627894</td>\n",
       "      <td>0.190486</td>\n",
       "      <td>848.176471</td>\n",
       "    </tr>\n",
       "    <tr>\n",
       "      <th>std</th>\n",
       "      <td>0.183051</td>\n",
       "      <td>0.162961</td>\n",
       "      <td>0.142429</td>\n",
       "      <td>0.077498</td>\n",
       "      <td>686.622488</td>\n",
       "    </tr>\n",
       "    <tr>\n",
       "      <th>min</th>\n",
       "      <td>0.059130</td>\n",
       "      <td>0.079070</td>\n",
       "      <td>0.000000</td>\n",
       "      <td>0.022392</td>\n",
       "      <td>2.000000</td>\n",
       "    </tr>\n",
       "    <tr>\n",
       "      <th>25%</th>\n",
       "      <td>0.337083</td>\n",
       "      <td>0.337842</td>\n",
       "      <td>0.520000</td>\n",
       "      <td>0.134950</td>\n",
       "      <td>315.500000</td>\n",
       "    </tr>\n",
       "    <tr>\n",
       "      <th>50%</th>\n",
       "      <td>0.498333</td>\n",
       "      <td>0.486733</td>\n",
       "      <td>0.626667</td>\n",
       "      <td>0.180975</td>\n",
       "      <td>713.000000</td>\n",
       "    </tr>\n",
       "    <tr>\n",
       "      <th>75%</th>\n",
       "      <td>0.655417</td>\n",
       "      <td>0.608602</td>\n",
       "      <td>0.730209</td>\n",
       "      <td>0.233214</td>\n",
       "      <td>1096.000000</td>\n",
       "    </tr>\n",
       "    <tr>\n",
       "      <th>max</th>\n",
       "      <td>0.861667</td>\n",
       "      <td>0.840896</td>\n",
       "      <td>0.972500</td>\n",
       "      <td>0.507463</td>\n",
       "      <td>3410.000000</td>\n",
       "    </tr>\n",
       "  </tbody>\n",
       "</table>\n",
       "</div>"
      ],
      "text/plain": [
       "             temp       atemp         hum   windspeed      rentals\n",
       "count  731.000000  731.000000  731.000000  731.000000   731.000000\n",
       "mean     0.495385    0.474354    0.627894    0.190486   848.176471\n",
       "std      0.183051    0.162961    0.142429    0.077498   686.622488\n",
       "min      0.059130    0.079070    0.000000    0.022392     2.000000\n",
       "25%      0.337083    0.337842    0.520000    0.134950   315.500000\n",
       "50%      0.498333    0.486733    0.626667    0.180975   713.000000\n",
       "75%      0.655417    0.608602    0.730209    0.233214  1096.000000\n",
       "max      0.861667    0.840896    0.972500    0.507463  3410.000000"
      ]
     },
     "execution_count": 17,
     "metadata": {},
     "output_type": "execute_result"
    }
   ],
   "source": [
    "# Selecciona las características numéricas y la columna de etiquetas, y muestra estadísticas descriptivas\n",
    "numeric_features = ['temp', 'atemp', 'hum', 'windspeed']\n",
    "bike_data[numeric_features + ['rentals']].describe()"
   ]
  },
  {
   "cell_type": "markdown",
   "id": "37b6b181",
   "metadata": {},
   "source": [
    "Las estadísticas revelan información sobre la distribución de los datos en cada uno de los campos numéricos, incluyendo el número de observaciones (hay 731 registros), la media, la desviación estándar, los valores mínimos y máximos, y los valores de los cuartiles (los valores límite para el 25%, 50% —que también es la mediana— y el 75% de los datos). A partir de esto, podemos ver que el número medio de rentas diarias es de alrededor de 848; pero hay una desviación estándar relativamente alta, lo que indica mucha variabilidad en el número de rentas por día.\n",
    "\n",
    "Podríamos obtener una idea más clara de la distribución de los valores de rentas visualizando los datos. Los tipos de gráficos más comunes para visualizar distribuciones de datos numéricos son los histogramas y los diagramas de caja (box plots), así que usaremos la biblioteca matplotlib de Python para crear uno de cada tipo para la columna rentals."
   ]
  },
  {
   "cell_type": "code",
   "execution_count": 18,
   "id": "49218d20",
   "metadata": {},
   "outputs": [
    {
     "data": {
      "application/vnd.plotly.v1+json": {
       "config": {
        "plotlyServerURL": "https://plot.ly"
       },
       "data": [
        {
         "marker": {
          "color": "lightblue"
         },
         "name": "Rentals",
         "nbinsx": 100,
         "type": "histogram",
         "x": {
          "bdata": "SwGDAHgAbABSAFgAlABEADYAKQArABkAJgA2AN4A+wB1AAkATgBTAEsAXQCWAFYAugAiAA8AJgB7AIwAKgAvAEgAPQBYAGQAYgF4AEAANQAvAJUAIAGNAdAAjADaAAMBQwIUAn8CwwBKAIsAZAB4AKgBtgJRAIkA5wB7ANYAgAJyAPQAPAG/AC4A9wDUAtYDZwEhAUEBqAF0A5AFFwSRAcwBywCmACwB1QPYAd4APQGoALMAMwGCA3MG3gKnAJ0BOwKsAG8DpARXAwEB0QARAoICeQAWBp0CmQFlAukCsQC2Ba4GBQOmAiMCOQJuA60HcgRPA1sC/wBmAn4DTAZ5BZgCtgImArcCtAKGAy4GBQOmAhgC3wKNA9IIKAZEA5MC5AL2AmcD0QczCQ0GoQIBAuACggNNB5UGoQL7AqQCMwIvA8EGuwVfA9cCAQMhAl8DDwdnBrsCBgOVAuoCyQP2BoAHVgPcAlADAwTeBJwI6gj5CwcEEAPyArQCxAfPBtMClgLsAngDJgVyCdYHSQPwAoQCeAIyAtsDGgQ4Au4C8wJeAp4CFwb0BdkCIQPTAR8D/wPxBRIFTgOLA3QDLAMbBOAFOgUHA9ECnAJ/Ah0DegfhBEEDAQW1A7MBAAPiAIcF2QIHA7ACDwNrA48H2QnUBMwAdgCZAKEB1gZhBrICvQKHAqwB5gKaBUkFswK2ARsCKwICAfAGCAasAt0B4AGNAj4D4AFoAkoB5gEvAn8CtQO7CF0J6gWbAtkAIgERAmsH1AbJAn0C/gDXAaQC2wVTBrsCtwKUAfAAyAE5AHUDagGaAXIBPgHWAYQEuAN1AXgBMQG+ALgB+wTsA1MCwQGRAIsA9QCvAxMD3ABFAHAAMAJHBOEEKgP9AGAAvAC2AAwBwgJ6AukAfgAyAJYABQH2AXkBjwCbALIAtQCyABMB3AAEAdgAawDjAKMAmwAvAa4BZwD/AP4A6wGZAq4C9ABZAF8AjAAzAS4EVwJqAK0AXAANAa4ATQEcAdkAfwBtAIIAcwBDAMQAkQC3AdMB9AANAQcDLgJ+AEQBMAG+ADYBgAE+Ac4AxwBtAKMA4wDAAEkAXgCHAI0ASgBdAZsFagL2AaMAigEEAvYAPQEDAv0A5QBBAEUB9gC8A8YCywDdALAB5gG/AcgDegZGA/oC5QPtAyQCUwyfCNYDGwRiBDYFpQkJBPwFGwMTAqICQgMcA/0IKwm4BEQFIgSoBA8HtAy2CIkDMwPiAZcC5ATrCh4LrgTdA1sBTgM8Be0JeADDAAYCjwLbAfYDYAS1CJkCjQKbAvwCLQTACVcI8APiAmwCAgQnBT4KfAhWAXEC3wPaBPEFUg2QCnYCMwP+AiMEiQUnC9MM/QlwA+kCTAQVAusKvgkvBMgDAwQOBNAFlAqwCPkD3QGVBJwEGwaTC0oKjQLIA2gDCgPEA2EK9wlzBDUENQSZAz0DrwWNBYgDHAQCCn0FVgWoBbME5gO6A88DCATnBTMJgAdABJkDHwN4A+sC8ATwCW8EdARnBQwE6wS6CGkIEATIAzIE1wMwBSkJqwbRBP4E7wSsBCkExwiGCLcEaASuBDoFywULC7gEAgQ5BEYEUwUtBSUHywXdA6cDmQSUBJkFMAk1Cq0HYwNAA2MCFQQVBgoKXgQuBBoEHgRjBVgMdgj+A3MBFAOrA+IE0AmWCekDTQMTA+8CFQQdCt8H+wI7AdgCewPsBdcLDQNqA1kCDANCAyQEzAggCPgCmgPTA/AD8QL2ClQIPgNJAxsDawOeBFMK5gMCAFcAowHSAWoCBQSxBHoB0gFGAVQBxQIqCPIISQRHAXUBQAHkASEFmgPBARYCZwK7A0MGFAI1AVEBewDGAPMAagG3A3wDKwInAksBVAFdAYEEuQFJARoBNgGpAa0B/wIaAtQAsQFNAToB3QDNAJgBrgC4AQkA9wCEAp8AbAG3AQ==",
          "dtype": "i2"
         },
         "xaxis": "x",
         "yaxis": "y"
        },
        {
         "line": {
          "color": "magenta",
          "dash": "dash"
         },
         "mode": "lines",
         "name": "Mean",
         "type": "scatter",
         "x": [
          848.1764705882352,
          848.1764705882352
         ],
         "xaxis": "x",
         "y": [
          0,
          100
         ],
         "yaxis": "y"
        },
        {
         "line": {
          "color": "cyan",
          "dash": "dash"
         },
         "mode": "lines",
         "name": "Median",
         "type": "scatter",
         "x": [
          713,
          713
         ],
         "xaxis": "x",
         "y": [
          0,
          100
         ],
         "yaxis": "y"
        },
        {
         "boxpoints": "outliers",
         "marker": {
          "color": "orange"
         },
         "name": "Rentals",
         "orientation": "h",
         "type": "box",
         "x": {
          "bdata": "SwGDAHgAbABSAFgAlABEADYAKQArABkAJgA2AN4A+wB1AAkATgBTAEsAXQCWAFYAugAiAA8AJgB7AIwAKgAvAEgAPQBYAGQAYgF4AEAANQAvAJUAIAGNAdAAjADaAAMBQwIUAn8CwwBKAIsAZAB4AKgBtgJRAIkA5wB7ANYAgAJyAPQAPAG/AC4A9wDUAtYDZwEhAUEBqAF0A5AFFwSRAcwBywCmACwB1QPYAd4APQGoALMAMwGCA3MG3gKnAJ0BOwKsAG8DpARXAwEB0QARAoICeQAWBp0CmQFlAukCsQC2Ba4GBQOmAiMCOQJuA60HcgRPA1sC/wBmAn4DTAZ5BZgCtgImArcCtAKGAy4GBQOmAhgC3wKNA9IIKAZEA5MC5AL2AmcD0QczCQ0GoQIBAuACggNNB5UGoQL7AqQCMwIvA8EGuwVfA9cCAQMhAl8DDwdnBrsCBgOVAuoCyQP2BoAHVgPcAlADAwTeBJwI6gj5CwcEEAPyArQCxAfPBtMClgLsAngDJgVyCdYHSQPwAoQCeAIyAtsDGgQ4Au4C8wJeAp4CFwb0BdkCIQPTAR8D/wPxBRIFTgOLA3QDLAMbBOAFOgUHA9ECnAJ/Ah0DegfhBEEDAQW1A7MBAAPiAIcF2QIHA7ACDwNrA48H2QnUBMwAdgCZAKEB1gZhBrICvQKHAqwB5gKaBUkFswK2ARsCKwICAfAGCAasAt0B4AGNAj4D4AFoAkoB5gEvAn8CtQO7CF0J6gWbAtkAIgERAmsH1AbJAn0C/gDXAaQC2wVTBrsCtwKUAfAAyAE5AHUDagGaAXIBPgHWAYQEuAN1AXgBMQG+ALgB+wTsA1MCwQGRAIsA9QCvAxMD3ABFAHAAMAJHBOEEKgP9AGAAvAC2AAwBwgJ6AukAfgAyAJYABQH2AXkBjwCbALIAtQCyABMB3AAEAdgAawDjAKMAmwAvAa4BZwD/AP4A6wGZAq4C9ABZAF8AjAAzAS4EVwJqAK0AXAANAa4ATQEcAdkAfwBtAIIAcwBDAMQAkQC3AdMB9AANAQcDLgJ+AEQBMAG+ADYBgAE+Ac4AxwBtAKMA4wDAAEkAXgCHAI0ASgBdAZsFagL2AaMAigEEAvYAPQEDAv0A5QBBAEUB9gC8A8YCywDdALAB5gG/AcgDegZGA/oC5QPtAyQCUwyfCNYDGwRiBDYFpQkJBPwFGwMTAqICQgMcA/0IKwm4BEQFIgSoBA8HtAy2CIkDMwPiAZcC5ATrCh4LrgTdA1sBTgM8Be0JeADDAAYCjwLbAfYDYAS1CJkCjQKbAvwCLQTACVcI8APiAmwCAgQnBT4KfAhWAXEC3wPaBPEFUg2QCnYCMwP+AiMEiQUnC9MM/QlwA+kCTAQVAusKvgkvBMgDAwQOBNAFlAqwCPkD3QGVBJwEGwaTC0oKjQLIA2gDCgPEA2EK9wlzBDUENQSZAz0DrwWNBYgDHAQCCn0FVgWoBbME5gO6A88DCATnBTMJgAdABJkDHwN4A+sC8ATwCW8EdARnBQwE6wS6CGkIEATIAzIE1wMwBSkJqwbRBP4E7wSsBCkExwiGCLcEaASuBDoFywULC7gEAgQ5BEYEUwUtBSUHywXdA6cDmQSUBJkFMAk1Cq0HYwNAA2MCFQQVBgoKXgQuBBoEHgRjBVgMdgj+A3MBFAOrA+IE0AmWCekDTQMTA+8CFQQdCt8H+wI7AdgCewPsBdcLDQNqA1kCDANCAyQEzAggCPgCmgPTA/AD8QL2ClQIPgNJAxsDawOeBFMK5gMCAFcAowHSAWoCBQSxBHoB0gFGAVQBxQIqCPIISQRHAXUBQAHkASEFmgPBARYCZwK7A0MGFAI1AVEBewDGAPMAagG3A3wDKwInAksBVAFdAYEEuQFJARoBNgGpAa0B/wIaAtQAsQFNAToB3QDNAJgBrgC4AQkA9wCEAp8AbAG3AQ==",
          "dtype": "i2"
         },
         "xaxis": "x2",
         "yaxis": "y2"
        }
       ],
       "layout": {
        "annotations": [
         {
          "font": {
           "size": 16
          },
          "showarrow": false,
          "text": "Rental Distribution Histogram",
          "x": 0.5,
          "xanchor": "center",
          "xref": "paper",
          "y": 1,
          "yanchor": "bottom",
          "yref": "paper"
         },
         {
          "font": {
           "size": 16
          },
          "showarrow": false,
          "text": "Rental Distribution Boxplot",
          "x": 0.5,
          "xanchor": "center",
          "xref": "paper",
          "y": 0.375,
          "yanchor": "bottom",
          "yref": "paper"
         }
        ],
        "height": 700,
        "showlegend": true,
        "template": {
         "data": {
          "bar": [
           {
            "error_x": {
             "color": "#2a3f5f"
            },
            "error_y": {
             "color": "#2a3f5f"
            },
            "marker": {
             "line": {
              "color": "#E5ECF6",
              "width": 0.5
             },
             "pattern": {
              "fillmode": "overlay",
              "size": 10,
              "solidity": 0.2
             }
            },
            "type": "bar"
           }
          ],
          "barpolar": [
           {
            "marker": {
             "line": {
              "color": "#E5ECF6",
              "width": 0.5
             },
             "pattern": {
              "fillmode": "overlay",
              "size": 10,
              "solidity": 0.2
             }
            },
            "type": "barpolar"
           }
          ],
          "carpet": [
           {
            "aaxis": {
             "endlinecolor": "#2a3f5f",
             "gridcolor": "white",
             "linecolor": "white",
             "minorgridcolor": "white",
             "startlinecolor": "#2a3f5f"
            },
            "baxis": {
             "endlinecolor": "#2a3f5f",
             "gridcolor": "white",
             "linecolor": "white",
             "minorgridcolor": "white",
             "startlinecolor": "#2a3f5f"
            },
            "type": "carpet"
           }
          ],
          "choropleth": [
           {
            "colorbar": {
             "outlinewidth": 0,
             "ticks": ""
            },
            "type": "choropleth"
           }
          ],
          "contour": [
           {
            "colorbar": {
             "outlinewidth": 0,
             "ticks": ""
            },
            "colorscale": [
             [
              0,
              "#0d0887"
             ],
             [
              0.1111111111111111,
              "#46039f"
             ],
             [
              0.2222222222222222,
              "#7201a8"
             ],
             [
              0.3333333333333333,
              "#9c179e"
             ],
             [
              0.4444444444444444,
              "#bd3786"
             ],
             [
              0.5555555555555556,
              "#d8576b"
             ],
             [
              0.6666666666666666,
              "#ed7953"
             ],
             [
              0.7777777777777778,
              "#fb9f3a"
             ],
             [
              0.8888888888888888,
              "#fdca26"
             ],
             [
              1,
              "#f0f921"
             ]
            ],
            "type": "contour"
           }
          ],
          "contourcarpet": [
           {
            "colorbar": {
             "outlinewidth": 0,
             "ticks": ""
            },
            "type": "contourcarpet"
           }
          ],
          "heatmap": [
           {
            "colorbar": {
             "outlinewidth": 0,
             "ticks": ""
            },
            "colorscale": [
             [
              0,
              "#0d0887"
             ],
             [
              0.1111111111111111,
              "#46039f"
             ],
             [
              0.2222222222222222,
              "#7201a8"
             ],
             [
              0.3333333333333333,
              "#9c179e"
             ],
             [
              0.4444444444444444,
              "#bd3786"
             ],
             [
              0.5555555555555556,
              "#d8576b"
             ],
             [
              0.6666666666666666,
              "#ed7953"
             ],
             [
              0.7777777777777778,
              "#fb9f3a"
             ],
             [
              0.8888888888888888,
              "#fdca26"
             ],
             [
              1,
              "#f0f921"
             ]
            ],
            "type": "heatmap"
           }
          ],
          "histogram": [
           {
            "marker": {
             "pattern": {
              "fillmode": "overlay",
              "size": 10,
              "solidity": 0.2
             }
            },
            "type": "histogram"
           }
          ],
          "histogram2d": [
           {
            "colorbar": {
             "outlinewidth": 0,
             "ticks": ""
            },
            "colorscale": [
             [
              0,
              "#0d0887"
             ],
             [
              0.1111111111111111,
              "#46039f"
             ],
             [
              0.2222222222222222,
              "#7201a8"
             ],
             [
              0.3333333333333333,
              "#9c179e"
             ],
             [
              0.4444444444444444,
              "#bd3786"
             ],
             [
              0.5555555555555556,
              "#d8576b"
             ],
             [
              0.6666666666666666,
              "#ed7953"
             ],
             [
              0.7777777777777778,
              "#fb9f3a"
             ],
             [
              0.8888888888888888,
              "#fdca26"
             ],
             [
              1,
              "#f0f921"
             ]
            ],
            "type": "histogram2d"
           }
          ],
          "histogram2dcontour": [
           {
            "colorbar": {
             "outlinewidth": 0,
             "ticks": ""
            },
            "colorscale": [
             [
              0,
              "#0d0887"
             ],
             [
              0.1111111111111111,
              "#46039f"
             ],
             [
              0.2222222222222222,
              "#7201a8"
             ],
             [
              0.3333333333333333,
              "#9c179e"
             ],
             [
              0.4444444444444444,
              "#bd3786"
             ],
             [
              0.5555555555555556,
              "#d8576b"
             ],
             [
              0.6666666666666666,
              "#ed7953"
             ],
             [
              0.7777777777777778,
              "#fb9f3a"
             ],
             [
              0.8888888888888888,
              "#fdca26"
             ],
             [
              1,
              "#f0f921"
             ]
            ],
            "type": "histogram2dcontour"
           }
          ],
          "mesh3d": [
           {
            "colorbar": {
             "outlinewidth": 0,
             "ticks": ""
            },
            "type": "mesh3d"
           }
          ],
          "parcoords": [
           {
            "line": {
             "colorbar": {
              "outlinewidth": 0,
              "ticks": ""
             }
            },
            "type": "parcoords"
           }
          ],
          "pie": [
           {
            "automargin": true,
            "type": "pie"
           }
          ],
          "scatter": [
           {
            "fillpattern": {
             "fillmode": "overlay",
             "size": 10,
             "solidity": 0.2
            },
            "type": "scatter"
           }
          ],
          "scatter3d": [
           {
            "line": {
             "colorbar": {
              "outlinewidth": 0,
              "ticks": ""
             }
            },
            "marker": {
             "colorbar": {
              "outlinewidth": 0,
              "ticks": ""
             }
            },
            "type": "scatter3d"
           }
          ],
          "scattercarpet": [
           {
            "marker": {
             "colorbar": {
              "outlinewidth": 0,
              "ticks": ""
             }
            },
            "type": "scattercarpet"
           }
          ],
          "scattergeo": [
           {
            "marker": {
             "colorbar": {
              "outlinewidth": 0,
              "ticks": ""
             }
            },
            "type": "scattergeo"
           }
          ],
          "scattergl": [
           {
            "marker": {
             "colorbar": {
              "outlinewidth": 0,
              "ticks": ""
             }
            },
            "type": "scattergl"
           }
          ],
          "scattermap": [
           {
            "marker": {
             "colorbar": {
              "outlinewidth": 0,
              "ticks": ""
             }
            },
            "type": "scattermap"
           }
          ],
          "scattermapbox": [
           {
            "marker": {
             "colorbar": {
              "outlinewidth": 0,
              "ticks": ""
             }
            },
            "type": "scattermapbox"
           }
          ],
          "scatterpolar": [
           {
            "marker": {
             "colorbar": {
              "outlinewidth": 0,
              "ticks": ""
             }
            },
            "type": "scatterpolar"
           }
          ],
          "scatterpolargl": [
           {
            "marker": {
             "colorbar": {
              "outlinewidth": 0,
              "ticks": ""
             }
            },
            "type": "scatterpolargl"
           }
          ],
          "scatterternary": [
           {
            "marker": {
             "colorbar": {
              "outlinewidth": 0,
              "ticks": ""
             }
            },
            "type": "scatterternary"
           }
          ],
          "surface": [
           {
            "colorbar": {
             "outlinewidth": 0,
             "ticks": ""
            },
            "colorscale": [
             [
              0,
              "#0d0887"
             ],
             [
              0.1111111111111111,
              "#46039f"
             ],
             [
              0.2222222222222222,
              "#7201a8"
             ],
             [
              0.3333333333333333,
              "#9c179e"
             ],
             [
              0.4444444444444444,
              "#bd3786"
             ],
             [
              0.5555555555555556,
              "#d8576b"
             ],
             [
              0.6666666666666666,
              "#ed7953"
             ],
             [
              0.7777777777777778,
              "#fb9f3a"
             ],
             [
              0.8888888888888888,
              "#fdca26"
             ],
             [
              1,
              "#f0f921"
             ]
            ],
            "type": "surface"
           }
          ],
          "table": [
           {
            "cells": {
             "fill": {
              "color": "#EBF0F8"
             },
             "line": {
              "color": "white"
             }
            },
            "header": {
             "fill": {
              "color": "#C8D4E3"
             },
             "line": {
              "color": "white"
             }
            },
            "type": "table"
           }
          ]
         },
         "layout": {
          "annotationdefaults": {
           "arrowcolor": "#2a3f5f",
           "arrowhead": 0,
           "arrowwidth": 1
          },
          "autotypenumbers": "strict",
          "coloraxis": {
           "colorbar": {
            "outlinewidth": 0,
            "ticks": ""
           }
          },
          "colorscale": {
           "diverging": [
            [
             0,
             "#8e0152"
            ],
            [
             0.1,
             "#c51b7d"
            ],
            [
             0.2,
             "#de77ae"
            ],
            [
             0.3,
             "#f1b6da"
            ],
            [
             0.4,
             "#fde0ef"
            ],
            [
             0.5,
             "#f7f7f7"
            ],
            [
             0.6,
             "#e6f5d0"
            ],
            [
             0.7,
             "#b8e186"
            ],
            [
             0.8,
             "#7fbc41"
            ],
            [
             0.9,
             "#4d9221"
            ],
            [
             1,
             "#276419"
            ]
           ],
           "sequential": [
            [
             0,
             "#0d0887"
            ],
            [
             0.1111111111111111,
             "#46039f"
            ],
            [
             0.2222222222222222,
             "#7201a8"
            ],
            [
             0.3333333333333333,
             "#9c179e"
            ],
            [
             0.4444444444444444,
             "#bd3786"
            ],
            [
             0.5555555555555556,
             "#d8576b"
            ],
            [
             0.6666666666666666,
             "#ed7953"
            ],
            [
             0.7777777777777778,
             "#fb9f3a"
            ],
            [
             0.8888888888888888,
             "#fdca26"
            ],
            [
             1,
             "#f0f921"
            ]
           ],
           "sequentialminus": [
            [
             0,
             "#0d0887"
            ],
            [
             0.1111111111111111,
             "#46039f"
            ],
            [
             0.2222222222222222,
             "#7201a8"
            ],
            [
             0.3333333333333333,
             "#9c179e"
            ],
            [
             0.4444444444444444,
             "#bd3786"
            ],
            [
             0.5555555555555556,
             "#d8576b"
            ],
            [
             0.6666666666666666,
             "#ed7953"
            ],
            [
             0.7777777777777778,
             "#fb9f3a"
            ],
            [
             0.8888888888888888,
             "#fdca26"
            ],
            [
             1,
             "#f0f921"
            ]
           ]
          },
          "colorway": [
           "#636efa",
           "#EF553B",
           "#00cc96",
           "#ab63fa",
           "#FFA15A",
           "#19d3f3",
           "#FF6692",
           "#B6E880",
           "#FF97FF",
           "#FECB52"
          ],
          "font": {
           "color": "#2a3f5f"
          },
          "geo": {
           "bgcolor": "white",
           "lakecolor": "white",
           "landcolor": "#E5ECF6",
           "showlakes": true,
           "showland": true,
           "subunitcolor": "white"
          },
          "hoverlabel": {
           "align": "left"
          },
          "hovermode": "closest",
          "mapbox": {
           "style": "light"
          },
          "paper_bgcolor": "white",
          "plot_bgcolor": "#E5ECF6",
          "polar": {
           "angularaxis": {
            "gridcolor": "white",
            "linecolor": "white",
            "ticks": ""
           },
           "bgcolor": "#E5ECF6",
           "radialaxis": {
            "gridcolor": "white",
            "linecolor": "white",
            "ticks": ""
           }
          },
          "scene": {
           "xaxis": {
            "backgroundcolor": "#E5ECF6",
            "gridcolor": "white",
            "gridwidth": 2,
            "linecolor": "white",
            "showbackground": true,
            "ticks": "",
            "zerolinecolor": "white"
           },
           "yaxis": {
            "backgroundcolor": "#E5ECF6",
            "gridcolor": "white",
            "gridwidth": 2,
            "linecolor": "white",
            "showbackground": true,
            "ticks": "",
            "zerolinecolor": "white"
           },
           "zaxis": {
            "backgroundcolor": "#E5ECF6",
            "gridcolor": "white",
            "gridwidth": 2,
            "linecolor": "white",
            "showbackground": true,
            "ticks": "",
            "zerolinecolor": "white"
           }
          },
          "shapedefaults": {
           "line": {
            "color": "#2a3f5f"
           }
          },
          "ternary": {
           "aaxis": {
            "gridcolor": "white",
            "linecolor": "white",
            "ticks": ""
           },
           "baxis": {
            "gridcolor": "white",
            "linecolor": "white",
            "ticks": ""
           },
           "bgcolor": "#E5ECF6",
           "caxis": {
            "gridcolor": "white",
            "linecolor": "white",
            "ticks": ""
           }
          },
          "title": {
           "x": 0.05
          },
          "xaxis": {
           "automargin": true,
           "gridcolor": "white",
           "linecolor": "white",
           "ticks": "",
           "title": {
            "standoff": 15
           },
           "zerolinecolor": "white",
           "zerolinewidth": 2
          },
          "yaxis": {
           "automargin": true,
           "gridcolor": "white",
           "linecolor": "white",
           "ticks": "",
           "title": {
            "standoff": 15
           },
           "zerolinecolor": "white",
           "zerolinewidth": 2
          }
         }
        },
        "title": {
         "text": "Distribución de alquiler (Histograma y diagrama de caja)"
        },
        "xaxis": {
         "anchor": "y",
         "domain": [
          0,
          1
         ]
        },
        "xaxis2": {
         "anchor": "y2",
         "domain": [
          0,
          1
         ],
         "title": {
          "text": "Rentals"
         }
        },
        "yaxis": {
         "anchor": "x",
         "domain": [
          0.625,
          1
         ],
         "title": {
          "text": "Frequency"
         }
        },
        "yaxis2": {
         "anchor": "x2",
         "domain": [
          0,
          0.375
         ]
        }
       }
      }
     },
     "metadata": {},
     "output_type": "display_data"
    }
   ],
   "source": [
    "import pandas as pd\n",
    "from plotly.subplots import make_subplots\n",
    "import plotly.graph_objects as go\n",
    "\n",
    "label = bike_data['rentals']\n",
    "\n",
    "# Histograma\n",
    "hist = go.Histogram(x=label, nbinsx=100, name='Rentals', marker_color='lightblue')\n",
    "\n",
    "# Líneas para la media y la mediana\n",
    "mean_line = go.Scatter(x=[label.mean(), label.mean()], y=[0, 100], mode='lines', name='Mean', line=dict(color='magenta', dash='dash'))\n",
    "median_line = go.Scatter(x=[label.median(), label.median()], y=[0, 100], mode='lines', name='Median', line=dict(color='cyan', dash='dash'))\n",
    "\n",
    "# Diagrama de caja (boxplot)\n",
    "box = go.Box(x=label, name='Rentals', boxpoints='outliers', marker_color='orange', orientation='h')\n",
    "\n",
    "# Crea subgráficos (subplots)\n",
    "fig = make_subplots(rows=2, cols=1, subplot_titles=('Rental Distribution Histogram', 'Rental Distribution Boxplot'))\n",
    "\n",
    "fig.add_trace(hist, row=1, col=1)\n",
    "fig.add_trace(mean_line, row=1, col=1)\n",
    "fig.add_trace(median_line, row=1, col=1)\n",
    "fig.add_trace(box, row=2, col=1)\n",
    "\n",
    "fig.update_layout(height=700, showlegend=True, title_text='Distribución de alquiler (Histograma y diagrama de caja)')\n",
    "fig.update_xaxes(title_text='Rentals', row=2, col=1)\n",
    "fig.update_yaxes(title_text='Frequency', row=1, col=1)\n",
    "\n",
    "fig.show()"
   ]
  },
  {
   "cell_type": "markdown",
   "id": "5de4e1f7",
   "metadata": {},
   "source": [
    "![Distribución de Rentas](assets/RentalDistribution.png)"
   ]
  },
  {
   "cell_type": "markdown",
   "id": "3d9d8ff3",
   "metadata": {},
   "source": [
    "Los gráficos muestran que el número de rentas diarias varía desde 0 hasta poco más de 3,400. Sin embargo, la media (y la mediana) del número de rentas diarias está más cerca del extremo inferior de ese rango, con la mayoría de los datos entre 0 y alrededor de 2,200 rentas. Los pocos valores por encima de esto se muestran en el diagrama de caja como pequeños círculos, lo que indica que son valores atípicos; en otras palabras, valores inusualmente altos o bajos que están fuera del rango típico de la mayoría de los datos.\n",
    "\n",
    "Podemos hacer el mismo tipo de exploración visual con las características numéricas. Vamos a crear un histograma para cada una de ellas."
   ]
  },
  {
   "cell_type": "code",
   "execution_count": 19,
   "id": "0afd1e00",
   "metadata": {},
   "outputs": [
    {
     "data": {
      "application/vnd.plotly.v1+json": {
       "config": {
        "plotlyServerURL": "https://plot.ly"
       },
       "data": [
        {
         "marker": {
          "color": "lightblue"
         },
         "name": "temp",
         "nbinsx": 100,
         "showlegend": false,
         "type": "histogram",
         "x": {
          "bdata": "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",
          "dtype": "f8"
         },
         "xaxis": "x",
         "yaxis": "y"
        },
        {
         "line": {
          "color": "magenta",
          "dash": "dash"
         },
         "mode": "lines",
         "name": "Mean",
         "showlegend": true,
         "type": "scatter",
         "x": [
          0.495384788508892,
          0.495384788508892
         ],
         "xaxis": "x",
         "y": [
          0,
          5
         ],
         "yaxis": "y"
        },
        {
         "line": {
          "color": "cyan",
          "dash": "dash"
         },
         "mode": "lines",
         "name": "Median",
         "showlegend": true,
         "type": "scatter",
         "x": [
          0.498333,
          0.498333
         ],
         "xaxis": "x",
         "y": [
          0,
          5
         ],
         "yaxis": "y"
        },
        {
         "marker": {
          "color": "lightblue"
         },
         "name": "atemp",
         "nbinsx": 100,
         "showlegend": false,
         "type": "histogram",
         "x": {
          "bdata": "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",
          "dtype": "f8"
         },
         "xaxis": "x2",
         "yaxis": "y2"
        },
        {
         "line": {
          "color": "magenta",
          "dash": "dash"
         },
         "mode": "lines",
         "name": "Mean",
         "showlegend": false,
         "type": "scatter",
         "x": [
          0.47435398864569084,
          0.47435398864569084
         ],
         "xaxis": "x2",
         "y": [
          0,
          4
         ],
         "yaxis": "y2"
        },
        {
         "line": {
          "color": "cyan",
          "dash": "dash"
         },
         "mode": "lines",
         "name": "Median",
         "showlegend": false,
         "type": "scatter",
         "x": [
          0.486733,
          0.486733
         ],
         "xaxis": "x2",
         "y": [
          0,
          4
         ],
         "yaxis": "y2"
        },
        {
         "marker": {
          "color": "lightblue"
         },
         "name": "hum",
         "nbinsx": 100,
         "showlegend": false,
         "type": "histogram",
         "x": {
          "bdata": "wjOhSWLJ6T/NdoU+WEbmP6wfm+RH/Ns/hj3t8Nfk4j+HhzB+GvfbPylauReYleA/U1ipoKLq3z8ew2M/iyXhP9kngGJkyds/96xrtBzo3j8W26SisfblP8he7/54L+M/KuCe508b3j8pCB7f3jXhP+xRuB6F698/9ihcj8L13j8zMzMzMzPhP5pbIazGkus/KV5lbVO85z8ycasgBjrhPzKvIw7ZQN0/mpmZmZmZ2T8/An/4+e/bP1G8ytqmeN8/hjlBmxy+4z+amZmZmZnrPwAAAAAAAOY/mUuqtptg6T9H41C/C9vkPymwAKYMHOc/UrgehetR4z/r/xzmy4vqP9hl+E830Og/66nVV1cF3D//BYIAGbriP8O3sG68u+0/KJoHsMgv4j+Z1xGHbKDnPz7MXradNuE/IHnnUIaq3z+iJCTSNv7bP1Tle0YiNOA/cf+R6dBp4T/qBZ/m5EXdP/578NqlDdg/UwjkEkce1D/M1CR4QxrbPylcj8L1KOA/kIR9O4mI4D8sZK4Mqg3IPwBYHTnSGdo/XI/C9Shc4z8tJctJKH3iP4NPc/IiE9s/o8ow7gZR5j/X9+EgIcrmPz7MXradNuE/w/UoXI/C5T8rieyDLAvsPx+F61G4HuE/t5p1xvfF3D9QNA9gkV/UP5CEfTuJiOM/SKMCJ9tA6T/sT+JzJ1juP3DtRElIpOE/4PYEie3u2j/YZfhPN9DoPwAAAAAAAAAAKAr0iTzJ5D//PXjt0gbjPzONJhdj4OA/XiuhuyTO3z/h0jHnGfvkPwH8U6pE2eg/U3qmlxhL4z8UtMnhk87gP1M8LqpFRNg/UrgehetR3j/rq6sCtZjnP/Vm1HyV/OM/Pbg7a7fd6j/CM6FJYsnpP65H4XoUrt8/SWWKOQg62T+PboRFRZzfP3Hl7J3RVtM/KuCe508b1D+54Az+frHkP1vNOuP7Yu0/9ihcj8L15T/sUbgehevkP7gehetRuN4/SOF6FK5H2z+EKcql8YvkPxMqOLwgIt4/U3qmlxhL4z/D9Shcj8LqPxSuR+F6FOw/cT0K16Nw6z+jeJW1TfHmP68JaY1Bp+c/Psxetp026j9TeqaXGEvhP3sUrkfheuU/ZqTeUzlt7D+i7C3lfLHeP1yPwvUoXOE/Rx/zAYFO5T+vCWmNQafjP/578NqlDdo/UfaWcr5Y5z9x/5Hp0GnsP+uPMAxY8uk/4jycwHTa6D9dUUoIVlXnP8O3sG68u+o/ZqTeUzlt5j8yryMO2UDdPxTsv85NG+A/W8064/ti6D9cj8L1KFznP0cf8wGBTuY/jwBuFi+W5z98mL1sO23cP+F6FK5H4eI/UrgehetR4T8+zF62nTbkP9ejcD0K1+I/XhPSGoNO3z9IowIn20DkP+xRuB6F6+c/mdcRh2yg6z+F61G4HoXtP7hc/dgkv+s/Psxetp026T/YZfhPN9DqP9ejcD0K1+s/hCnKpfGL6j//PXjt0gbnPxVwz/OnDeQ/9WbUfJX85z/sUbgehevpP62FWWjntOc/SOF6FK5H5j+uR+F6FK7lP+xRuB6F6+Q/UfaWcr5Y5z8zMzMzMzPqP+xRuB6F6+U/ZyjueJNf5D+jrrX3qarlP4XrUbgehdM/uqKUEKyq1j8zMzMzMzPdP+F6FK5H4eQ/MzMzMzMz4z8qHhfVIiLjP+G4jJsa6OM/KJoHsMgv4j9cj8L1KFzjP+uPMAxY8uQ/9+rjoe/u5z+YFYp0P6ffPzJxqyAGOuA/P47myMov3j//PXjt0gbmP4QpyqXxi+c/fNY1Wg505T9dUUoIVlXlP+F6FK5H4ec/rwlpjUGn6D+kcD0K16PmP3pSJjW0geY/UfaWcr5Y4j/g9gSJ7e7eP2ak3lM5beA/CRUcXhAR5T9TeqaXGEvkP+3Vx0Pf3d8/2SeAYmTJ2z9cj8L1KFzZP2XiVkEMdNw/16NwPQrX5T9x/5Hp0GnkP+wTQDGy5OI/wjOhSWLJ5z/Xo3A9CtfkP0ijAifbQOg/hq3Zykt+4z96UiY1tIHiP1H2lnK+WOQ/7BNAMbLk4T8+zF62nTbkP3sUrkfhet4/7FG4HoXr4j+4HoXrUbjiP11RSghWVeM/16NwPQrX5D/YZfhPN9DkP5nXEYdsoOY/H4XrUbge5j+aWyGsxpLiPwAAAAAAAOA/mdcRh2yg4T8ycasgBjroP0cf8wGBTuE/2SeAYmTJ2T+jrrX3qariP1yPwvUoXOE/wXEZNzXQ3T+3mnXG98XeP5nXEYdsoOE/cT0K16Nw3z8K16NwPQrlPz0K16NwPeg/KJoHsMgv5D8pXI/C9SjoPx9Hc2TlF+g/648wDFjy4j9IowIn20DiPzW3QliNJds/H4XrUbge2z+PwvUoXI/aP1H2lnK+WOc/KVyPwvUo6j/CM6FJYsnmP3pSJjW0geI/cf+R6dBp4j/rjzAMWPLkPyoeF9UiIuc/mlshrMaS5T+kcD0K16PoPxSuR+F6FN4/NbdCWI0l3T9cj8L1KFzjP7ngDP5+seg/XI/C9Shc6D8zMzMzMzPrP7Uy4Zf6+eE/uFz92CS/4T+EKcql8YvhPyoeF9UiIuM/fNY1Wg505D89SE+RQ0TnP/fq46Hv7uY/uFz92CS/5z9TeqaXGEvpPyqqfqXzYew/UfaWcr5Y7T9w626e6hDuP8O3sG68u+w/H4XrUbge6D/Xo3A9CtfmPzOHpBZKJuY/zczMzMzM5j9HH/MBgU7mP7ngDP5+seY/7BNAMbLk4j/1ZtR8lfzmPz0K16NwPeY/FK5H4XoU5j8zMzMzMzPsP83MzMzMzOw/1uHoKt3d7D8fhetRuB7vP5qZmZmZmes/CtejcD0K6z8ew2M/iyXrP11RSghWVew/KVyPwvUo6z9nKO54k1/mP7gehetRuOQ/H4XrUbge6D9dUUoIVlXpP1H2lnK+WOg/uB6F61G45j/Dt7BuvLvkP9bh6Crd3eM/7BNAMbLk5T9xPQrXo3DmP0jhehSuR+c/exSuR+F65z/hehSuR+HpPwAAAAAAAO0/ueAM/n6x7D/sUbgehevmP+D2BInt7t4/NbdCWI0l3z+EKcql8YviP3zWNVoOdOY/61c6H56l7D9cj8L1KFzkP2co7niTX+I/Kh4X1SIi5D+4HoXrUbjnP62FWWjntOg/9+rjoe/u4z8VcM/zpw3nPwuZK4NqA+o/uFz92CS/4j89CtejcD3sP/YoXI/C9eM/elImNbSB5j/hehSuR+HlPwAAAAAAAOc/cHuCxHZ35j/sUbgehevjP6UyxRwEneA/elImNbSB5z9I4XoUrkfoPx9Hc2TlF+c/PUhPkUNE6D//PXjt0gbqP4/C9Shcj9w/ueAM/n6x4T9GXWvvU1XdP8IzoUliyeI/CtejcD0K5j/D9Shcj8LtP2ak3lM5beI/PQrXo3A92j8JFRxeEBHgP+G4jJsa6OU/H4XrUbge7T/NzMzMzMzuP0ijAifbQOg/mlshrMaS4T+amZmZmZnkP9hl+E830OU/UfaWcr5Y5j//sRAdAsfnP48AbhYvluo/mdcRh2yg4z/CM6FJYsngP/89eO3SBuQ/pTLFHASd4z/MCkW6n9PoP3B7gsR2d+o/W8064/ti7j8VcM/zpw3vP4/C9Shcj+I/PUhPkUNE5j89CtejcD3gP1yPwvUoXN8/cHuCxHZ35T/hehSuR+HiPz0K16NwPeU/U3qmlxhL5D8LmSuDagPgP+uPMAxY8uE/w/UoXI/C4j9mZmZmZmbkPxVwz/OnDeM/cHuCxHZ36z89CtejcD3oP/YoXI/C9eU/XI/C9Shc4T+ZSdQLPs3lPwFO7+L9OOA/ZmZmZmZm6D+a7+AnDiDgP2co7niTX+I/ZyjueJNf5D+thVlo57TjPylcj8L1KOY//l915Ehn2D89CtejcD3cP3mQniKHiNo/zo5U3/nF4D9R9pZyvljhPwuZK4NqA+E/w/UoXI/C3T981jVaDnTmP9ifxOdOsOQ/H4XrUbge6z+54Az+frHpPz0K16NwPeA/SOF6FK5H3T/j/iPTodPaP7gehetRuOA/cefCSC/q5j9QNA9gkV/cP9ejcD0K198/zczMzMzM3D+amZmZmZnqP3sUrkfheuk/KVyPwvUo7T+4XP3YJL/qP5qZmZmZmeQ/mdcRh2yg6D+4HoXrUbjnP1vNOuP7YuE/7FG4HoXr0z+YFYp0P6fZP7qilBCsqto/SKMCJ9tA4D+QhH07iYjlP+I8nMB02uA/648wDFjy6D8LmSuDagPmP/Z8zXLZ6OM/w/UoXI/C3z8qHhfVIiLnP/Vm1HyV/OE/SOF6FK5H4T9mZmZmZmbnP63D0VW6u90/UrgehetR2j9I4XoUrkfgPwAAAAAAAOE/H0dzZOUX6D9HH/MBgU7kPxTsv85NG+E/elImNbSB4D8z38FPHEDgPx8tzhjmBOM/NPW6RWAs4j+4XP3YJL/hP5qZmZmZmec/Rl1r71NV2T89CtejcD3aP1sLs9DOad8/Rl1r71NV2T98DixHyMDpP7ngDP5+seM//z147dIG5T/hehSuR+HjP8FxGTc10Nk/MzMzMzMz4D9JZYo5CDrdP2ak3lM5beA/KVyPwvUo4j/+e/DapQ3aP3yYvWw7bdY/F0omp3aG3j9eE9Iag07fP8P1KFyPwuM/MnGrIAY64D+EKcql8YviP+uPMAxY8uo/KJoHsMgv6D/sUbgehevpP1K4HoXrUec/4jycwHTa6T9I4XoUrkfqP5qZmZmZmeo/Psxetp025j9dUUoIVlXsPyiaB7DIL+w/pfRMLzGW3j+PwvUoXI/SP83MzMzMzN4/KuCe508b3D+PAG4WL5biP5nXEYdsoOc/pHA9Ctej5T8+srlqniPgP3LBGfz9Ytk//nvw2qUN3j8ChA8lWvLXPxMqOLwgItg/UzwuqkVE0D+YFYp0P6fRP1K4HoXrUdQ/16NwPQrX2z/MKJZbWg3eP9ejcD0K190/Eyo4vCAi2j8fR3Nk5RfgP0ijAifbQOA/AcKHEi354T8MW7OVl/zYPz7MXradNuI/mpmZmZmZ4z8ycasgBjrmP+I8nMB02uU/w7ewbry76j+QhH07iYjoPyAJ+3YSEd0/csEZ/P1i2z8+zF62nTboP5gVinQ/p9k/Rl1r71NV3z/CM6FJYsniPz0K16NwPeI/FOy/zk0b5T96UiY1tIHpP48AbhYvlug/kIR9O4mI5z8+zF62nTboP65H4XoUruc/SKMCJ9tA5T/rjzAMWPLlP9hl+E830Oc/o66196mq4T8gCft2EhHXP85Q3PEmv94/cT0K16Nw4j89SE+RQ0TpP2ak3lM5bek/XVFKCFZV5j+kcD0K16PgP7hc/dgkv+A/MzMzMzMz3T8BwocSLfngP/YoXI/C9ek/elImNbSB6D/CM6FJYsnoP/fq46Hv7uY/4biMmxro5z9xPQrXo3DnP0cf8wGBTuY/pHA9Ctej5T/huIybGujlP3E9CtejcOU/mx2pvvOL3z809bpFYCzoP5pbIazGkuE/hGdCk8SS3z8dAdwsXizfP5nXEYdsoOM/j8L1KFyP4z8ew2M/iyXiPwKEDyVa8t0/6s2o+Sr52z8ycasgBjrhP9hl+E830OI/o66196mq6j+Z1xGHbKDiPzJxqyAGOuI/1uHoKt3d4j8qHhfVIiLgPylcj8L1KOM/7BNAMbLk6D8UrkfhehTmP+uPMAxY8uI/NPW6RWAs4j9cj8L1KFziPxTsv85NG+E/uqKUEKyq3j8qHhfVIiLgP9YfYRiw5Nc/CtejcD0K1z8K16NwPQrbP0jhehSuR98/PQrXo3A94z+amZmZmZngP44+5gMCndw/b7n6sUl+3z89CtejcD3hP14T0hqDTt0/y0i9p3La3D9vufqxSX7fP1yPwvUoXOI/1uHoKt3d5T9cj8L1KFzlPz1IT5FDROQ/648wDFjy4D8JU5RL4xffP2co7niTX+Y/AcKHEi355j+kcD0K16PkPyiaB7DIL+A/cHuCxHZ34j8+zF62nTbjPwuZK4NqA+s/ueAM/n6x6z9mZmZmZmboPz7MXradNuY/9ihcj8L15D/NzMzMzMzcPx9Hc2TlF+M//z147dIG4z+Z1xGHbKDjP/YoXI/C9eM/ZmZmZmZm5T+QhH07iYjmP65H4XoUruU/FOy/zk0b5T+PwvUoXI/kP5nXEYdsoOM/4XoUrkfh5D/36uOh7+7kP4XrUbgeheY/kIR9O4mI5T/iPJzAdNrjP+G4jJsa6OY/fNY1Wg505z8BwocSLfngP3zWNVoOdOE/AcKHEi355T/MCkW6n9PjP6UyxRwEneA/PUhPkUNE4j9HH/MBgU7jP86OVN/5xeY/hq3Zykt+5z+PwvUoXI/lP6OutfepquU/UfaWcr5Y5D+uR+F6FK7jP9hl+E830OY/CRUcXhAR6z9nKO54k1/nP9ejcD0K1+M/o66196mq4T/sE0AxsuTiP83MzMzMzOI/ZqTeUzlt5D8UrkfhehTqP0cf8wGBTuk/KVyPwvUo6D+4HoXrUbjnP/fq46Hv7uk/j8L1KFyP5z+aWyGsxpLpP4XrUbgeheE/H4XrUbge4D+kcD0K16PgP3B7gsR2d+I/W8064/ti5D+F61G4HoXlPxVwz/OnDeA/PQrXo3A94j96UiY1tIHnP+xRuB6F6+s/NPW6RWAs4T/CM6FJYsnjP2ZmZmZmZuU/ueAM/n6x5D/WH2EYsOTdP5sdqb7zi98/PQrXo3A94j8omgewyC/kPxTsv85NG+Y/FK5H4XoU5j9nKO54k1/hP6OutfepquI/zo5U3/nF5D/sE0AxsuTrP2ZmZmZmZuk/Kh4X1SIi5z8UrkfhehTkP0ijAifbQOU/o66196mq5j+thVlo57TmP2co7niTX+g/KJoHsMgv5D+YFYp0P6fdP0ijAifbQOE/mBWKdD+n3z+GrdnKS37kP6RwPQrXo+Y/1uHoKt3d4T809bpFYCzmP0cf8wGBTuc/FK5H4XoU6j9dUUoIVlXiP1K4HoXrUeA/KJoHsMgv4j+QhH07iYjkP1yPwvUoXOQ/pTLFHASd6T/MCkW6n9PpPwrXo3A9Cuc/MnGrIAY65j8pXI/C9SjsP9I6qpogauo/XVFKCFZV5T+lMsUcBJ3iP62FWWjntOA/cT0K16Nw3z8VcM/zpw3hP7DL8J9uoN8/HsNjP4sl4j+F61G4HoXhPwnf+xu0V9U/Rx/zAYFO4T+vCWmNQafkPx9Hc2TlF+U/w7ewbry75z8+zF62nTblP6OutfepquE/4jycwHTa4z/CM6FJYsngP3zWNVoOdOE/NPW6RWAs5j/rjzAMWPLjP+xRuB6F6+U/pHA9Ctej4z+aWyGsxpLiPzMzMzMzM+I/1h9hGLDk2T/qzaj5KvndPyoeF9UiIuE/NPW6RWAs6T8zMzMzMzPgP66f/rPmx+E/wjOhSWLJ5D/YZfhPN9DpP1H2lnK+WOo/j8L1KFyP6D97FK5H4XrnPwrXo3A9Ct8/SOF6FK5H4D981jVaDnToPylcj8L1KO0/AcKHEi357D+amZmZmZntPx9Hc2TlF+M/MnGrIAY64T8JU5RL4xffP5pbIazGkuQ/2GX4TzfQ5D/Xo3A9CtfqP/89eO3SBu0/UrgehetR5T8LmSuDagPkP2co7niTX+U/2GX4TzfQ4T89CtejcD3cP4at2cpLfuA/HjUmxFxS6T8+BFWjV4PnP1H2lnK+WOo/7BNAMbLk5D/hehSuR+HiPx9Hc2TlF+g/4PYEie3u3j97FK5H4XriPw==",
          "dtype": "f8"
         },
         "xaxis": "x3",
         "yaxis": "y3"
        },
        {
         "line": {
          "color": "magenta",
          "dash": "dash"
         },
         "mode": "lines",
         "name": "Mean",
         "showlegend": false,
         "type": "scatter",
         "x": [
          0.6278940629274967,
          0.6278940629274967
         ],
         "xaxis": "x3",
         "y": [
          0,
          4
         ],
         "yaxis": "y3"
        },
        {
         "line": {
          "color": "cyan",
          "dash": "dash"
         },
         "mode": "lines",
         "name": "Median",
         "showlegend": false,
         "type": "scatter",
         "x": [
          0.626667,
          0.626667
         ],
         "xaxis": "x3",
         "y": [
          0,
          4
         ],
         "yaxis": "y3"
        },
        {
         "marker": {
          "color": "lightblue"
         },
         "name": "windspeed",
         "nbinsx": 100,
         "showlegend": false,
         "type": "histogram",
         "x": {
          "bdata": "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",
          "dtype": "f8"
         },
         "xaxis": "x4",
         "yaxis": "y4"
        },
        {
         "line": {
          "color": "magenta",
          "dash": "dash"
         },
         "mode": "lines",
         "name": "Mean",
         "showlegend": false,
         "type": "scatter",
         "x": [
          0.190486211627907,
          0.190486211627907
         ],
         "xaxis": "x4",
         "y": [
          0,
          3
         ],
         "yaxis": "y4"
        },
        {
         "line": {
          "color": "cyan",
          "dash": "dash"
         },
         "mode": "lines",
         "name": "Median",
         "showlegend": false,
         "type": "scatter",
         "x": [
          0.180975,
          0.180975
         ],
         "xaxis": "x4",
         "y": [
          0,
          3
         ],
         "yaxis": "y4"
        }
       ],
       "layout": {
        "annotations": [
         {
          "font": {
           "size": 16
          },
          "showarrow": false,
          "text": "temp",
          "x": 0.225,
          "xanchor": "center",
          "xref": "paper",
          "y": 1,
          "yanchor": "bottom",
          "yref": "paper"
         },
         {
          "font": {
           "size": 16
          },
          "showarrow": false,
          "text": "atemp",
          "x": 0.775,
          "xanchor": "center",
          "xref": "paper",
          "y": 1,
          "yanchor": "bottom",
          "yref": "paper"
         },
         {
          "font": {
           "size": 16
          },
          "showarrow": false,
          "text": "hum",
          "x": 0.225,
          "xanchor": "center",
          "xref": "paper",
          "y": 0.375,
          "yanchor": "bottom",
          "yref": "paper"
         },
         {
          "font": {
           "size": 16
          },
          "showarrow": false,
          "text": "windspeed",
          "x": 0.775,
          "xanchor": "center",
          "xref": "paper",
          "y": 0.375,
          "yanchor": "bottom",
          "yref": "paper"
         }
        ],
        "height": 700,
        "template": {
         "data": {
          "bar": [
           {
            "error_x": {
             "color": "#2a3f5f"
            },
            "error_y": {
             "color": "#2a3f5f"
            },
            "marker": {
             "line": {
              "color": "#E5ECF6",
              "width": 0.5
             },
             "pattern": {
              "fillmode": "overlay",
              "size": 10,
              "solidity": 0.2
             }
            },
            "type": "bar"
           }
          ],
          "barpolar": [
           {
            "marker": {
             "line": {
              "color": "#E5ECF6",
              "width": 0.5
             },
             "pattern": {
              "fillmode": "overlay",
              "size": 10,
              "solidity": 0.2
             }
            },
            "type": "barpolar"
           }
          ],
          "carpet": [
           {
            "aaxis": {
             "endlinecolor": "#2a3f5f",
             "gridcolor": "white",
             "linecolor": "white",
             "minorgridcolor": "white",
             "startlinecolor": "#2a3f5f"
            },
            "baxis": {
             "endlinecolor": "#2a3f5f",
             "gridcolor": "white",
             "linecolor": "white",
             "minorgridcolor": "white",
             "startlinecolor": "#2a3f5f"
            },
            "type": "carpet"
           }
          ],
          "choropleth": [
           {
            "colorbar": {
             "outlinewidth": 0,
             "ticks": ""
            },
            "type": "choropleth"
           }
          ],
          "contour": [
           {
            "colorbar": {
             "outlinewidth": 0,
             "ticks": ""
            },
            "colorscale": [
             [
              0,
              "#0d0887"
             ],
             [
              0.1111111111111111,
              "#46039f"
             ],
             [
              0.2222222222222222,
              "#7201a8"
             ],
             [
              0.3333333333333333,
              "#9c179e"
             ],
             [
              0.4444444444444444,
              "#bd3786"
             ],
             [
              0.5555555555555556,
              "#d8576b"
             ],
             [
              0.6666666666666666,
              "#ed7953"
             ],
             [
              0.7777777777777778,
              "#fb9f3a"
             ],
             [
              0.8888888888888888,
              "#fdca26"
             ],
             [
              1,
              "#f0f921"
             ]
            ],
            "type": "contour"
           }
          ],
          "contourcarpet": [
           {
            "colorbar": {
             "outlinewidth": 0,
             "ticks": ""
            },
            "type": "contourcarpet"
           }
          ],
          "heatmap": [
           {
            "colorbar": {
             "outlinewidth": 0,
             "ticks": ""
            },
            "colorscale": [
             [
              0,
              "#0d0887"
             ],
             [
              0.1111111111111111,
              "#46039f"
             ],
             [
              0.2222222222222222,
              "#7201a8"
             ],
             [
              0.3333333333333333,
              "#9c179e"
             ],
             [
              0.4444444444444444,
              "#bd3786"
             ],
             [
              0.5555555555555556,
              "#d8576b"
             ],
             [
              0.6666666666666666,
              "#ed7953"
             ],
             [
              0.7777777777777778,
              "#fb9f3a"
             ],
             [
              0.8888888888888888,
              "#fdca26"
             ],
             [
              1,
              "#f0f921"
             ]
            ],
            "type": "heatmap"
           }
          ],
          "histogram": [
           {
            "marker": {
             "pattern": {
              "fillmode": "overlay",
              "size": 10,
              "solidity": 0.2
             }
            },
            "type": "histogram"
           }
          ],
          "histogram2d": [
           {
            "colorbar": {
             "outlinewidth": 0,
             "ticks": ""
            },
            "colorscale": [
             [
              0,
              "#0d0887"
             ],
             [
              0.1111111111111111,
              "#46039f"
             ],
             [
              0.2222222222222222,
              "#7201a8"
             ],
             [
              0.3333333333333333,
              "#9c179e"
             ],
             [
              0.4444444444444444,
              "#bd3786"
             ],
             [
              0.5555555555555556,
              "#d8576b"
             ],
             [
              0.6666666666666666,
              "#ed7953"
             ],
             [
              0.7777777777777778,
              "#fb9f3a"
             ],
             [
              0.8888888888888888,
              "#fdca26"
             ],
             [
              1,
              "#f0f921"
             ]
            ],
            "type": "histogram2d"
           }
          ],
          "histogram2dcontour": [
           {
            "colorbar": {
             "outlinewidth": 0,
             "ticks": ""
            },
            "colorscale": [
             [
              0,
              "#0d0887"
             ],
             [
              0.1111111111111111,
              "#46039f"
             ],
             [
              0.2222222222222222,
              "#7201a8"
             ],
             [
              0.3333333333333333,
              "#9c179e"
             ],
             [
              0.4444444444444444,
              "#bd3786"
             ],
             [
              0.5555555555555556,
              "#d8576b"
             ],
             [
              0.6666666666666666,
              "#ed7953"
             ],
             [
              0.7777777777777778,
              "#fb9f3a"
             ],
             [
              0.8888888888888888,
              "#fdca26"
             ],
             [
              1,
              "#f0f921"
             ]
            ],
            "type": "histogram2dcontour"
           }
          ],
          "mesh3d": [
           {
            "colorbar": {
             "outlinewidth": 0,
             "ticks": ""
            },
            "type": "mesh3d"
           }
          ],
          "parcoords": [
           {
            "line": {
             "colorbar": {
              "outlinewidth": 0,
              "ticks": ""
             }
            },
            "type": "parcoords"
           }
          ],
          "pie": [
           {
            "automargin": true,
            "type": "pie"
           }
          ],
          "scatter": [
           {
            "fillpattern": {
             "fillmode": "overlay",
             "size": 10,
             "solidity": 0.2
            },
            "type": "scatter"
           }
          ],
          "scatter3d": [
           {
            "line": {
             "colorbar": {
              "outlinewidth": 0,
              "ticks": ""
             }
            },
            "marker": {
             "colorbar": {
              "outlinewidth": 0,
              "ticks": ""
             }
            },
            "type": "scatter3d"
           }
          ],
          "scattercarpet": [
           {
            "marker": {
             "colorbar": {
              "outlinewidth": 0,
              "ticks": ""
             }
            },
            "type": "scattercarpet"
           }
          ],
          "scattergeo": [
           {
            "marker": {
             "colorbar": {
              "outlinewidth": 0,
              "ticks": ""
             }
            },
            "type": "scattergeo"
           }
          ],
          "scattergl": [
           {
            "marker": {
             "colorbar": {
              "outlinewidth": 0,
              "ticks": ""
             }
            },
            "type": "scattergl"
           }
          ],
          "scattermap": [
           {
            "marker": {
             "colorbar": {
              "outlinewidth": 0,
              "ticks": ""
             }
            },
            "type": "scattermap"
           }
          ],
          "scattermapbox": [
           {
            "marker": {
             "colorbar": {
              "outlinewidth": 0,
              "ticks": ""
             }
            },
            "type": "scattermapbox"
           }
          ],
          "scatterpolar": [
           {
            "marker": {
             "colorbar": {
              "outlinewidth": 0,
              "ticks": ""
             }
            },
            "type": "scatterpolar"
           }
          ],
          "scatterpolargl": [
           {
            "marker": {
             "colorbar": {
              "outlinewidth": 0,
              "ticks": ""
             }
            },
            "type": "scatterpolargl"
           }
          ],
          "scatterternary": [
           {
            "marker": {
             "colorbar": {
              "outlinewidth": 0,
              "ticks": ""
             }
            },
            "type": "scatterternary"
           }
          ],
          "surface": [
           {
            "colorbar": {
             "outlinewidth": 0,
             "ticks": ""
            },
            "colorscale": [
             [
              0,
              "#0d0887"
             ],
             [
              0.1111111111111111,
              "#46039f"
             ],
             [
              0.2222222222222222,
              "#7201a8"
             ],
             [
              0.3333333333333333,
              "#9c179e"
             ],
             [
              0.4444444444444444,
              "#bd3786"
             ],
             [
              0.5555555555555556,
              "#d8576b"
             ],
             [
              0.6666666666666666,
              "#ed7953"
             ],
             [
              0.7777777777777778,
              "#fb9f3a"
             ],
             [
              0.8888888888888888,
              "#fdca26"
             ],
             [
              1,
              "#f0f921"
             ]
            ],
            "type": "surface"
           }
          ],
          "table": [
           {
            "cells": {
             "fill": {
              "color": "#EBF0F8"
             },
             "line": {
              "color": "white"
             }
            },
            "header": {
             "fill": {
              "color": "#C8D4E3"
             },
             "line": {
              "color": "white"
             }
            },
            "type": "table"
           }
          ]
         },
         "layout": {
          "annotationdefaults": {
           "arrowcolor": "#2a3f5f",
           "arrowhead": 0,
           "arrowwidth": 1
          },
          "autotypenumbers": "strict",
          "coloraxis": {
           "colorbar": {
            "outlinewidth": 0,
            "ticks": ""
           }
          },
          "colorscale": {
           "diverging": [
            [
             0,
             "#8e0152"
            ],
            [
             0.1,
             "#c51b7d"
            ],
            [
             0.2,
             "#de77ae"
            ],
            [
             0.3,
             "#f1b6da"
            ],
            [
             0.4,
             "#fde0ef"
            ],
            [
             0.5,
             "#f7f7f7"
            ],
            [
             0.6,
             "#e6f5d0"
            ],
            [
             0.7,
             "#b8e186"
            ],
            [
             0.8,
             "#7fbc41"
            ],
            [
             0.9,
             "#4d9221"
            ],
            [
             1,
             "#276419"
            ]
           ],
           "sequential": [
            [
             0,
             "#0d0887"
            ],
            [
             0.1111111111111111,
             "#46039f"
            ],
            [
             0.2222222222222222,
             "#7201a8"
            ],
            [
             0.3333333333333333,
             "#9c179e"
            ],
            [
             0.4444444444444444,
             "#bd3786"
            ],
            [
             0.5555555555555556,
             "#d8576b"
            ],
            [
             0.6666666666666666,
             "#ed7953"
            ],
            [
             0.7777777777777778,
             "#fb9f3a"
            ],
            [
             0.8888888888888888,
             "#fdca26"
            ],
            [
             1,
             "#f0f921"
            ]
           ],
           "sequentialminus": [
            [
             0,
             "#0d0887"
            ],
            [
             0.1111111111111111,
             "#46039f"
            ],
            [
             0.2222222222222222,
             "#7201a8"
            ],
            [
             0.3333333333333333,
             "#9c179e"
            ],
            [
             0.4444444444444444,
             "#bd3786"
            ],
            [
             0.5555555555555556,
             "#d8576b"
            ],
            [
             0.6666666666666666,
             "#ed7953"
            ],
            [
             0.7777777777777778,
             "#fb9f3a"
            ],
            [
             0.8888888888888888,
             "#fdca26"
            ],
            [
             1,
             "#f0f921"
            ]
           ]
          },
          "colorway": [
           "#636efa",
           "#EF553B",
           "#00cc96",
           "#ab63fa",
           "#FFA15A",
           "#19d3f3",
           "#FF6692",
           "#B6E880",
           "#FF97FF",
           "#FECB52"
          ],
          "font": {
           "color": "#2a3f5f"
          },
          "geo": {
           "bgcolor": "white",
           "lakecolor": "white",
           "landcolor": "#E5ECF6",
           "showlakes": true,
           "showland": true,
           "subunitcolor": "white"
          },
          "hoverlabel": {
           "align": "left"
          },
          "hovermode": "closest",
          "mapbox": {
           "style": "light"
          },
          "paper_bgcolor": "white",
          "plot_bgcolor": "#E5ECF6",
          "polar": {
           "angularaxis": {
            "gridcolor": "white",
            "linecolor": "white",
            "ticks": ""
           },
           "bgcolor": "#E5ECF6",
           "radialaxis": {
            "gridcolor": "white",
            "linecolor": "white",
            "ticks": ""
           }
          },
          "scene": {
           "xaxis": {
            "backgroundcolor": "#E5ECF6",
            "gridcolor": "white",
            "gridwidth": 2,
            "linecolor": "white",
            "showbackground": true,
            "ticks": "",
            "zerolinecolor": "white"
           },
           "yaxis": {
            "backgroundcolor": "#E5ECF6",
            "gridcolor": "white",
            "gridwidth": 2,
            "linecolor": "white",
            "showbackground": true,
            "ticks": "",
            "zerolinecolor": "white"
           },
           "zaxis": {
            "backgroundcolor": "#E5ECF6",
            "gridcolor": "white",
            "gridwidth": 2,
            "linecolor": "white",
            "showbackground": true,
            "ticks": "",
            "zerolinecolor": "white"
           }
          },
          "shapedefaults": {
           "line": {
            "color": "#2a3f5f"
           }
          },
          "ternary": {
           "aaxis": {
            "gridcolor": "white",
            "linecolor": "white",
            "ticks": ""
           },
           "baxis": {
            "gridcolor": "white",
            "linecolor": "white",
            "ticks": ""
           },
           "bgcolor": "#E5ECF6",
           "caxis": {
            "gridcolor": "white",
            "linecolor": "white",
            "ticks": ""
           }
          },
          "title": {
           "x": 0.05
          },
          "xaxis": {
           "automargin": true,
           "gridcolor": "white",
           "linecolor": "white",
           "ticks": "",
           "title": {
            "standoff": 15
           },
           "zerolinecolor": "white",
           "zerolinewidth": 2
          },
          "yaxis": {
           "automargin": true,
           "gridcolor": "white",
           "linecolor": "white",
           "ticks": "",
           "title": {
            "standoff": 15
           },
           "zerolinecolor": "white",
           "zerolinewidth": 2
          }
         }
        },
        "title": {
         "text": "Histogramas de características numéricas"
        },
        "width": 1000,
        "xaxis": {
         "anchor": "y",
         "domain": [
          0,
          0.45
         ]
        },
        "xaxis2": {
         "anchor": "y2",
         "domain": [
          0.55,
          1
         ]
        },
        "xaxis3": {
         "anchor": "y3",
         "domain": [
          0,
          0.45
         ]
        },
        "xaxis4": {
         "anchor": "y4",
         "domain": [
          0.55,
          1
         ]
        },
        "yaxis": {
         "anchor": "x",
         "domain": [
          0.625,
          1
         ]
        },
        "yaxis2": {
         "anchor": "x2",
         "domain": [
          0.625,
          1
         ]
        },
        "yaxis3": {
         "anchor": "x3",
         "domain": [
          0,
          0.375
         ]
        },
        "yaxis4": {
         "anchor": "x4",
         "domain": [
          0,
          0.375
         ]
        }
       }
      }
     },
     "metadata": {},
     "output_type": "display_data"
    }
   ],
   "source": [
    "from plotly.subplots import make_subplots\n",
    "import plotly.graph_objects as go\n",
    "\n",
    "# Creamos una figura con 2 filas y 2 columnas para los histogramas\n",
    "fig = make_subplots(rows=2, cols=2, subplot_titles=numeric_features)\n",
    "\n",
    "# Recorremos cada característica numérica para graficar su histograma\n",
    "for i, col in enumerate(numeric_features):\n",
    "    feature = bike_data[col]\n",
    "    row = i // 2 + 1  # Calcula la fila del subplot\n",
    "    col_pos = i % 2 + 1  # Calcula la columna del subplot\n",
    "\n",
    "    # Histograma de la característica\n",
    "    hist = go.Histogram(\n",
    "        x=feature, nbinsx=100, name=col, marker_color='lightblue', showlegend=False\n",
    "    )\n",
    "    # Línea de la media\n",
    "    mean_line = go.Scatter(\n",
    "        x=[feature.mean(), feature.mean()],\n",
    "        y=[0, feature.value_counts().max()],\n",
    "        mode='lines',\n",
    "        name='Mean',\n",
    "        line=dict(color='magenta', dash='dash'),\n",
    "        showlegend=(i == 0)  # Solo muestra la leyenda una vez\n",
    "    )\n",
    "    # Línea de la mediana\n",
    "    median_line = go.Scatter(\n",
    "        x=[feature.median(), feature.median()],\n",
    "        y=[0, feature.value_counts().max()],\n",
    "        mode='lines',\n",
    "        name='Median',\n",
    "        line=dict(color='cyan', dash='dash'),\n",
    "        showlegend=(i == 0)\n",
    "    )\n",
    "    # Agrega los trazos al subplot correspondiente\n",
    "    fig.add_trace(hist, row=row, col=col_pos)\n",
    "    fig.add_trace(mean_line, row=row, col=col_pos)\n",
    "    fig.add_trace(median_line, row=row, col=col_pos)\n",
    "\n",
    "# Ajusta el diseño y muestra la figura\n",
    "fig.update_layout(height=700, width=1000, title_text='Histogramas de características numéricas')\n",
    "fig.show()"
   ]
  },
  {
   "cell_type": "markdown",
   "id": "69368501",
   "metadata": {},
   "source": [
    "![Distribución de Rentas](assets/Histograms.png)"
   ]
  },
  {
   "cell_type": "markdown",
   "id": "41709158",
   "metadata": {},
   "source": [
    "Las características numéricas parecen estar distribuidas de forma más normal, con la media y la mediana más cercanas al centro del rango de valores, coincidiendo con los valores que ocurren con mayor frecuencia.\n",
    "\n",
    "> **Nota**: Las distribuciones no son realmente normales en el sentido estadístico, lo cual implicaría un histograma suave y simétrico en forma de “campana”, con la media y la moda (el valor más común) en el centro; pero en general indican que la mayoría de las observaciones tienen un valor cercano al centro.\n",
    "\n",
    "Ya hemos explorado la distribución de los valores numéricos en el conjunto de datos, pero ¿qué hay de las características categóricas? Estas no son números continuos en una escala, por lo que no podemos usar histogramas; pero sí podemos graficar un diagrama de barras que muestre la cantidad de veces que aparece cada valor discreto en cada categoría."
   ]
  },
  {
   "cell_type": "code",
   "execution_count": 20,
   "id": "e5460b57",
   "metadata": {},
   "outputs": [
    {
     "data": {
      "application/vnd.plotly.v1+json": {
       "config": {
        "plotlyServerURL": "https://plot.ly"
       },
       "data": [
        {
         "marker": {
          "color": "steelblue"
         },
         "type": "bar",
         "x": {
          "bdata": "AQIDBA==",
          "dtype": "i1"
         },
         "y": {
          "bdata": "tQC4ALwAsgA=",
          "dtype": "i2"
         }
        }
       ],
       "layout": {
        "template": {
         "data": {
          "bar": [
           {
            "error_x": {
             "color": "#2a3f5f"
            },
            "error_y": {
             "color": "#2a3f5f"
            },
            "marker": {
             "line": {
              "color": "#E5ECF6",
              "width": 0.5
             },
             "pattern": {
              "fillmode": "overlay",
              "size": 10,
              "solidity": 0.2
             }
            },
            "type": "bar"
           }
          ],
          "barpolar": [
           {
            "marker": {
             "line": {
              "color": "#E5ECF6",
              "width": 0.5
             },
             "pattern": {
              "fillmode": "overlay",
              "size": 10,
              "solidity": 0.2
             }
            },
            "type": "barpolar"
           }
          ],
          "carpet": [
           {
            "aaxis": {
             "endlinecolor": "#2a3f5f",
             "gridcolor": "white",
             "linecolor": "white",
             "minorgridcolor": "white",
             "startlinecolor": "#2a3f5f"
            },
            "baxis": {
             "endlinecolor": "#2a3f5f",
             "gridcolor": "white",
             "linecolor": "white",
             "minorgridcolor": "white",
             "startlinecolor": "#2a3f5f"
            },
            "type": "carpet"
           }
          ],
          "choropleth": [
           {
            "colorbar": {
             "outlinewidth": 0,
             "ticks": ""
            },
            "type": "choropleth"
           }
          ],
          "contour": [
           {
            "colorbar": {
             "outlinewidth": 0,
             "ticks": ""
            },
            "colorscale": [
             [
              0,
              "#0d0887"
             ],
             [
              0.1111111111111111,
              "#46039f"
             ],
             [
              0.2222222222222222,
              "#7201a8"
             ],
             [
              0.3333333333333333,
              "#9c179e"
             ],
             [
              0.4444444444444444,
              "#bd3786"
             ],
             [
              0.5555555555555556,
              "#d8576b"
             ],
             [
              0.6666666666666666,
              "#ed7953"
             ],
             [
              0.7777777777777778,
              "#fb9f3a"
             ],
             [
              0.8888888888888888,
              "#fdca26"
             ],
             [
              1,
              "#f0f921"
             ]
            ],
            "type": "contour"
           }
          ],
          "contourcarpet": [
           {
            "colorbar": {
             "outlinewidth": 0,
             "ticks": ""
            },
            "type": "contourcarpet"
           }
          ],
          "heatmap": [
           {
            "colorbar": {
             "outlinewidth": 0,
             "ticks": ""
            },
            "colorscale": [
             [
              0,
              "#0d0887"
             ],
             [
              0.1111111111111111,
              "#46039f"
             ],
             [
              0.2222222222222222,
              "#7201a8"
             ],
             [
              0.3333333333333333,
              "#9c179e"
             ],
             [
              0.4444444444444444,
              "#bd3786"
             ],
             [
              0.5555555555555556,
              "#d8576b"
             ],
             [
              0.6666666666666666,
              "#ed7953"
             ],
             [
              0.7777777777777778,
              "#fb9f3a"
             ],
             [
              0.8888888888888888,
              "#fdca26"
             ],
             [
              1,
              "#f0f921"
             ]
            ],
            "type": "heatmap"
           }
          ],
          "histogram": [
           {
            "marker": {
             "pattern": {
              "fillmode": "overlay",
              "size": 10,
              "solidity": 0.2
             }
            },
            "type": "histogram"
           }
          ],
          "histogram2d": [
           {
            "colorbar": {
             "outlinewidth": 0,
             "ticks": ""
            },
            "colorscale": [
             [
              0,
              "#0d0887"
             ],
             [
              0.1111111111111111,
              "#46039f"
             ],
             [
              0.2222222222222222,
              "#7201a8"
             ],
             [
              0.3333333333333333,
              "#9c179e"
             ],
             [
              0.4444444444444444,
              "#bd3786"
             ],
             [
              0.5555555555555556,
              "#d8576b"
             ],
             [
              0.6666666666666666,
              "#ed7953"
             ],
             [
              0.7777777777777778,
              "#fb9f3a"
             ],
             [
              0.8888888888888888,
              "#fdca26"
             ],
             [
              1,
              "#f0f921"
             ]
            ],
            "type": "histogram2d"
           }
          ],
          "histogram2dcontour": [
           {
            "colorbar": {
             "outlinewidth": 0,
             "ticks": ""
            },
            "colorscale": [
             [
              0,
              "#0d0887"
             ],
             [
              0.1111111111111111,
              "#46039f"
             ],
             [
              0.2222222222222222,
              "#7201a8"
             ],
             [
              0.3333333333333333,
              "#9c179e"
             ],
             [
              0.4444444444444444,
              "#bd3786"
             ],
             [
              0.5555555555555556,
              "#d8576b"
             ],
             [
              0.6666666666666666,
              "#ed7953"
             ],
             [
              0.7777777777777778,
              "#fb9f3a"
             ],
             [
              0.8888888888888888,
              "#fdca26"
             ],
             [
              1,
              "#f0f921"
             ]
            ],
            "type": "histogram2dcontour"
           }
          ],
          "mesh3d": [
           {
            "colorbar": {
             "outlinewidth": 0,
             "ticks": ""
            },
            "type": "mesh3d"
           }
          ],
          "parcoords": [
           {
            "line": {
             "colorbar": {
              "outlinewidth": 0,
              "ticks": ""
             }
            },
            "type": "parcoords"
           }
          ],
          "pie": [
           {
            "automargin": true,
            "type": "pie"
           }
          ],
          "scatter": [
           {
            "fillpattern": {
             "fillmode": "overlay",
             "size": 10,
             "solidity": 0.2
            },
            "type": "scatter"
           }
          ],
          "scatter3d": [
           {
            "line": {
             "colorbar": {
              "outlinewidth": 0,
              "ticks": ""
             }
            },
            "marker": {
             "colorbar": {
              "outlinewidth": 0,
              "ticks": ""
             }
            },
            "type": "scatter3d"
           }
          ],
          "scattercarpet": [
           {
            "marker": {
             "colorbar": {
              "outlinewidth": 0,
              "ticks": ""
             }
            },
            "type": "scattercarpet"
           }
          ],
          "scattergeo": [
           {
            "marker": {
             "colorbar": {
              "outlinewidth": 0,
              "ticks": ""
             }
            },
            "type": "scattergeo"
           }
          ],
          "scattergl": [
           {
            "marker": {
             "colorbar": {
              "outlinewidth": 0,
              "ticks": ""
             }
            },
            "type": "scattergl"
           }
          ],
          "scattermap": [
           {
            "marker": {
             "colorbar": {
              "outlinewidth": 0,
              "ticks": ""
             }
            },
            "type": "scattermap"
           }
          ],
          "scattermapbox": [
           {
            "marker": {
             "colorbar": {
              "outlinewidth": 0,
              "ticks": ""
             }
            },
            "type": "scattermapbox"
           }
          ],
          "scatterpolar": [
           {
            "marker": {
             "colorbar": {
              "outlinewidth": 0,
              "ticks": ""
             }
            },
            "type": "scatterpolar"
           }
          ],
          "scatterpolargl": [
           {
            "marker": {
             "colorbar": {
              "outlinewidth": 0,
              "ticks": ""
             }
            },
            "type": "scatterpolargl"
           }
          ],
          "scatterternary": [
           {
            "marker": {
             "colorbar": {
              "outlinewidth": 0,
              "ticks": ""
             }
            },
            "type": "scatterternary"
           }
          ],
          "surface": [
           {
            "colorbar": {
             "outlinewidth": 0,
             "ticks": ""
            },
            "colorscale": [
             [
              0,
              "#0d0887"
             ],
             [
              0.1111111111111111,
              "#46039f"
             ],
             [
              0.2222222222222222,
              "#7201a8"
             ],
             [
              0.3333333333333333,
              "#9c179e"
             ],
             [
              0.4444444444444444,
              "#bd3786"
             ],
             [
              0.5555555555555556,
              "#d8576b"
             ],
             [
              0.6666666666666666,
              "#ed7953"
             ],
             [
              0.7777777777777778,
              "#fb9f3a"
             ],
             [
              0.8888888888888888,
              "#fdca26"
             ],
             [
              1,
              "#f0f921"
             ]
            ],
            "type": "surface"
           }
          ],
          "table": [
           {
            "cells": {
             "fill": {
              "color": "#EBF0F8"
             },
             "line": {
              "color": "white"
             }
            },
            "header": {
             "fill": {
              "color": "#C8D4E3"
             },
             "line": {
              "color": "white"
             }
            },
            "type": "table"
           }
          ]
         },
         "layout": {
          "annotationdefaults": {
           "arrowcolor": "#2a3f5f",
           "arrowhead": 0,
           "arrowwidth": 1
          },
          "autotypenumbers": "strict",
          "coloraxis": {
           "colorbar": {
            "outlinewidth": 0,
            "ticks": ""
           }
          },
          "colorscale": {
           "diverging": [
            [
             0,
             "#8e0152"
            ],
            [
             0.1,
             "#c51b7d"
            ],
            [
             0.2,
             "#de77ae"
            ],
            [
             0.3,
             "#f1b6da"
            ],
            [
             0.4,
             "#fde0ef"
            ],
            [
             0.5,
             "#f7f7f7"
            ],
            [
             0.6,
             "#e6f5d0"
            ],
            [
             0.7,
             "#b8e186"
            ],
            [
             0.8,
             "#7fbc41"
            ],
            [
             0.9,
             "#4d9221"
            ],
            [
             1,
             "#276419"
            ]
           ],
           "sequential": [
            [
             0,
             "#0d0887"
            ],
            [
             0.1111111111111111,
             "#46039f"
            ],
            [
             0.2222222222222222,
             "#7201a8"
            ],
            [
             0.3333333333333333,
             "#9c179e"
            ],
            [
             0.4444444444444444,
             "#bd3786"
            ],
            [
             0.5555555555555556,
             "#d8576b"
            ],
            [
             0.6666666666666666,
             "#ed7953"
            ],
            [
             0.7777777777777778,
             "#fb9f3a"
            ],
            [
             0.8888888888888888,
             "#fdca26"
            ],
            [
             1,
             "#f0f921"
            ]
           ],
           "sequentialminus": [
            [
             0,
             "#0d0887"
            ],
            [
             0.1111111111111111,
             "#46039f"
            ],
            [
             0.2222222222222222,
             "#7201a8"
            ],
            [
             0.3333333333333333,
             "#9c179e"
            ],
            [
             0.4444444444444444,
             "#bd3786"
            ],
            [
             0.5555555555555556,
             "#d8576b"
            ],
            [
             0.6666666666666666,
             "#ed7953"
            ],
            [
             0.7777777777777778,
             "#fb9f3a"
            ],
            [
             0.8888888888888888,
             "#fdca26"
            ],
            [
             1,
             "#f0f921"
            ]
           ]
          },
          "colorway": [
           "#636efa",
           "#EF553B",
           "#00cc96",
           "#ab63fa",
           "#FFA15A",
           "#19d3f3",
           "#FF6692",
           "#B6E880",
           "#FF97FF",
           "#FECB52"
          ],
          "font": {
           "color": "#2a3f5f"
          },
          "geo": {
           "bgcolor": "white",
           "lakecolor": "white",
           "landcolor": "#E5ECF6",
           "showlakes": true,
           "showland": true,
           "subunitcolor": "white"
          },
          "hoverlabel": {
           "align": "left"
          },
          "hovermode": "closest",
          "mapbox": {
           "style": "light"
          },
          "paper_bgcolor": "white",
          "plot_bgcolor": "#E5ECF6",
          "polar": {
           "angularaxis": {
            "gridcolor": "white",
            "linecolor": "white",
            "ticks": ""
           },
           "bgcolor": "#E5ECF6",
           "radialaxis": {
            "gridcolor": "white",
            "linecolor": "white",
            "ticks": ""
           }
          },
          "scene": {
           "xaxis": {
            "backgroundcolor": "#E5ECF6",
            "gridcolor": "white",
            "gridwidth": 2,
            "linecolor": "white",
            "showbackground": true,
            "ticks": "",
            "zerolinecolor": "white"
           },
           "yaxis": {
            "backgroundcolor": "#E5ECF6",
            "gridcolor": "white",
            "gridwidth": 2,
            "linecolor": "white",
            "showbackground": true,
            "ticks": "",
            "zerolinecolor": "white"
           },
           "zaxis": {
            "backgroundcolor": "#E5ECF6",
            "gridcolor": "white",
            "gridwidth": 2,
            "linecolor": "white",
            "showbackground": true,
            "ticks": "",
            "zerolinecolor": "white"
           }
          },
          "shapedefaults": {
           "line": {
            "color": "#2a3f5f"
           }
          },
          "ternary": {
           "aaxis": {
            "gridcolor": "white",
            "linecolor": "white",
            "ticks": ""
           },
           "baxis": {
            "gridcolor": "white",
            "linecolor": "white",
            "ticks": ""
           },
           "bgcolor": "#E5ECF6",
           "caxis": {
            "gridcolor": "white",
            "linecolor": "white",
            "ticks": ""
           }
          },
          "title": {
           "x": 0.05
          },
          "xaxis": {
           "automargin": true,
           "gridcolor": "white",
           "linecolor": "white",
           "ticks": "",
           "title": {
            "standoff": 15
           },
           "zerolinecolor": "white",
           "zerolinewidth": 2
          },
          "yaxis": {
           "automargin": true,
           "gridcolor": "white",
           "linecolor": "white",
           "ticks": "",
           "title": {
            "standoff": 15
           },
           "zerolinecolor": "white",
           "zerolinewidth": 2
          }
         }
        },
        "title": {
         "text": "season counts"
        },
        "xaxis": {
         "title": {
          "text": "season"
         }
        },
        "yaxis": {
         "title": {
          "text": "Frequency"
         }
        }
       }
      }
     },
     "metadata": {},
     "output_type": "display_data"
    },
    {
     "data": {
      "application/vnd.plotly.v1+json": {
       "config": {
        "plotlyServerURL": "https://plot.ly"
       },
       "data": [
        {
         "marker": {
          "color": "steelblue"
         },
         "type": "bar",
         "x": {
          "bdata": "AQIDBAUGBwgJCgsM",
          "dtype": "i1"
         },
         "y": {
          "bdata": "Pjk+PD48Pj48Pjw+",
          "dtype": "i1"
         }
        }
       ],
       "layout": {
        "template": {
         "data": {
          "bar": [
           {
            "error_x": {
             "color": "#2a3f5f"
            },
            "error_y": {
             "color": "#2a3f5f"
            },
            "marker": {
             "line": {
              "color": "#E5ECF6",
              "width": 0.5
             },
             "pattern": {
              "fillmode": "overlay",
              "size": 10,
              "solidity": 0.2
             }
            },
            "type": "bar"
           }
          ],
          "barpolar": [
           {
            "marker": {
             "line": {
              "color": "#E5ECF6",
              "width": 0.5
             },
             "pattern": {
              "fillmode": "overlay",
              "size": 10,
              "solidity": 0.2
             }
            },
            "type": "barpolar"
           }
          ],
          "carpet": [
           {
            "aaxis": {
             "endlinecolor": "#2a3f5f",
             "gridcolor": "white",
             "linecolor": "white",
             "minorgridcolor": "white",
             "startlinecolor": "#2a3f5f"
            },
            "baxis": {
             "endlinecolor": "#2a3f5f",
             "gridcolor": "white",
             "linecolor": "white",
             "minorgridcolor": "white",
             "startlinecolor": "#2a3f5f"
            },
            "type": "carpet"
           }
          ],
          "choropleth": [
           {
            "colorbar": {
             "outlinewidth": 0,
             "ticks": ""
            },
            "type": "choropleth"
           }
          ],
          "contour": [
           {
            "colorbar": {
             "outlinewidth": 0,
             "ticks": ""
            },
            "colorscale": [
             [
              0,
              "#0d0887"
             ],
             [
              0.1111111111111111,
              "#46039f"
             ],
             [
              0.2222222222222222,
              "#7201a8"
             ],
             [
              0.3333333333333333,
              "#9c179e"
             ],
             [
              0.4444444444444444,
              "#bd3786"
             ],
             [
              0.5555555555555556,
              "#d8576b"
             ],
             [
              0.6666666666666666,
              "#ed7953"
             ],
             [
              0.7777777777777778,
              "#fb9f3a"
             ],
             [
              0.8888888888888888,
              "#fdca26"
             ],
             [
              1,
              "#f0f921"
             ]
            ],
            "type": "contour"
           }
          ],
          "contourcarpet": [
           {
            "colorbar": {
             "outlinewidth": 0,
             "ticks": ""
            },
            "type": "contourcarpet"
           }
          ],
          "heatmap": [
           {
            "colorbar": {
             "outlinewidth": 0,
             "ticks": ""
            },
            "colorscale": [
             [
              0,
              "#0d0887"
             ],
             [
              0.1111111111111111,
              "#46039f"
             ],
             [
              0.2222222222222222,
              "#7201a8"
             ],
             [
              0.3333333333333333,
              "#9c179e"
             ],
             [
              0.4444444444444444,
              "#bd3786"
             ],
             [
              0.5555555555555556,
              "#d8576b"
             ],
             [
              0.6666666666666666,
              "#ed7953"
             ],
             [
              0.7777777777777778,
              "#fb9f3a"
             ],
             [
              0.8888888888888888,
              "#fdca26"
             ],
             [
              1,
              "#f0f921"
             ]
            ],
            "type": "heatmap"
           }
          ],
          "histogram": [
           {
            "marker": {
             "pattern": {
              "fillmode": "overlay",
              "size": 10,
              "solidity": 0.2
             }
            },
            "type": "histogram"
           }
          ],
          "histogram2d": [
           {
            "colorbar": {
             "outlinewidth": 0,
             "ticks": ""
            },
            "colorscale": [
             [
              0,
              "#0d0887"
             ],
             [
              0.1111111111111111,
              "#46039f"
             ],
             [
              0.2222222222222222,
              "#7201a8"
             ],
             [
              0.3333333333333333,
              "#9c179e"
             ],
             [
              0.4444444444444444,
              "#bd3786"
             ],
             [
              0.5555555555555556,
              "#d8576b"
             ],
             [
              0.6666666666666666,
              "#ed7953"
             ],
             [
              0.7777777777777778,
              "#fb9f3a"
             ],
             [
              0.8888888888888888,
              "#fdca26"
             ],
             [
              1,
              "#f0f921"
             ]
            ],
            "type": "histogram2d"
           }
          ],
          "histogram2dcontour": [
           {
            "colorbar": {
             "outlinewidth": 0,
             "ticks": ""
            },
            "colorscale": [
             [
              0,
              "#0d0887"
             ],
             [
              0.1111111111111111,
              "#46039f"
             ],
             [
              0.2222222222222222,
              "#7201a8"
             ],
             [
              0.3333333333333333,
              "#9c179e"
             ],
             [
              0.4444444444444444,
              "#bd3786"
             ],
             [
              0.5555555555555556,
              "#d8576b"
             ],
             [
              0.6666666666666666,
              "#ed7953"
             ],
             [
              0.7777777777777778,
              "#fb9f3a"
             ],
             [
              0.8888888888888888,
              "#fdca26"
             ],
             [
              1,
              "#f0f921"
             ]
            ],
            "type": "histogram2dcontour"
           }
          ],
          "mesh3d": [
           {
            "colorbar": {
             "outlinewidth": 0,
             "ticks": ""
            },
            "type": "mesh3d"
           }
          ],
          "parcoords": [
           {
            "line": {
             "colorbar": {
              "outlinewidth": 0,
              "ticks": ""
             }
            },
            "type": "parcoords"
           }
          ],
          "pie": [
           {
            "automargin": true,
            "type": "pie"
           }
          ],
          "scatter": [
           {
            "fillpattern": {
             "fillmode": "overlay",
             "size": 10,
             "solidity": 0.2
            },
            "type": "scatter"
           }
          ],
          "scatter3d": [
           {
            "line": {
             "colorbar": {
              "outlinewidth": 0,
              "ticks": ""
             }
            },
            "marker": {
             "colorbar": {
              "outlinewidth": 0,
              "ticks": ""
             }
            },
            "type": "scatter3d"
           }
          ],
          "scattercarpet": [
           {
            "marker": {
             "colorbar": {
              "outlinewidth": 0,
              "ticks": ""
             }
            },
            "type": "scattercarpet"
           }
          ],
          "scattergeo": [
           {
            "marker": {
             "colorbar": {
              "outlinewidth": 0,
              "ticks": ""
             }
            },
            "type": "scattergeo"
           }
          ],
          "scattergl": [
           {
            "marker": {
             "colorbar": {
              "outlinewidth": 0,
              "ticks": ""
             }
            },
            "type": "scattergl"
           }
          ],
          "scattermap": [
           {
            "marker": {
             "colorbar": {
              "outlinewidth": 0,
              "ticks": ""
             }
            },
            "type": "scattermap"
           }
          ],
          "scattermapbox": [
           {
            "marker": {
             "colorbar": {
              "outlinewidth": 0,
              "ticks": ""
             }
            },
            "type": "scattermapbox"
           }
          ],
          "scatterpolar": [
           {
            "marker": {
             "colorbar": {
              "outlinewidth": 0,
              "ticks": ""
             }
            },
            "type": "scatterpolar"
           }
          ],
          "scatterpolargl": [
           {
            "marker": {
             "colorbar": {
              "outlinewidth": 0,
              "ticks": ""
             }
            },
            "type": "scatterpolargl"
           }
          ],
          "scatterternary": [
           {
            "marker": {
             "colorbar": {
              "outlinewidth": 0,
              "ticks": ""
             }
            },
            "type": "scatterternary"
           }
          ],
          "surface": [
           {
            "colorbar": {
             "outlinewidth": 0,
             "ticks": ""
            },
            "colorscale": [
             [
              0,
              "#0d0887"
             ],
             [
              0.1111111111111111,
              "#46039f"
             ],
             [
              0.2222222222222222,
              "#7201a8"
             ],
             [
              0.3333333333333333,
              "#9c179e"
             ],
             [
              0.4444444444444444,
              "#bd3786"
             ],
             [
              0.5555555555555556,
              "#d8576b"
             ],
             [
              0.6666666666666666,
              "#ed7953"
             ],
             [
              0.7777777777777778,
              "#fb9f3a"
             ],
             [
              0.8888888888888888,
              "#fdca26"
             ],
             [
              1,
              "#f0f921"
             ]
            ],
            "type": "surface"
           }
          ],
          "table": [
           {
            "cells": {
             "fill": {
              "color": "#EBF0F8"
             },
             "line": {
              "color": "white"
             }
            },
            "header": {
             "fill": {
              "color": "#C8D4E3"
             },
             "line": {
              "color": "white"
             }
            },
            "type": "table"
           }
          ]
         },
         "layout": {
          "annotationdefaults": {
           "arrowcolor": "#2a3f5f",
           "arrowhead": 0,
           "arrowwidth": 1
          },
          "autotypenumbers": "strict",
          "coloraxis": {
           "colorbar": {
            "outlinewidth": 0,
            "ticks": ""
           }
          },
          "colorscale": {
           "diverging": [
            [
             0,
             "#8e0152"
            ],
            [
             0.1,
             "#c51b7d"
            ],
            [
             0.2,
             "#de77ae"
            ],
            [
             0.3,
             "#f1b6da"
            ],
            [
             0.4,
             "#fde0ef"
            ],
            [
             0.5,
             "#f7f7f7"
            ],
            [
             0.6,
             "#e6f5d0"
            ],
            [
             0.7,
             "#b8e186"
            ],
            [
             0.8,
             "#7fbc41"
            ],
            [
             0.9,
             "#4d9221"
            ],
            [
             1,
             "#276419"
            ]
           ],
           "sequential": [
            [
             0,
             "#0d0887"
            ],
            [
             0.1111111111111111,
             "#46039f"
            ],
            [
             0.2222222222222222,
             "#7201a8"
            ],
            [
             0.3333333333333333,
             "#9c179e"
            ],
            [
             0.4444444444444444,
             "#bd3786"
            ],
            [
             0.5555555555555556,
             "#d8576b"
            ],
            [
             0.6666666666666666,
             "#ed7953"
            ],
            [
             0.7777777777777778,
             "#fb9f3a"
            ],
            [
             0.8888888888888888,
             "#fdca26"
            ],
            [
             1,
             "#f0f921"
            ]
           ],
           "sequentialminus": [
            [
             0,
             "#0d0887"
            ],
            [
             0.1111111111111111,
             "#46039f"
            ],
            [
             0.2222222222222222,
             "#7201a8"
            ],
            [
             0.3333333333333333,
             "#9c179e"
            ],
            [
             0.4444444444444444,
             "#bd3786"
            ],
            [
             0.5555555555555556,
             "#d8576b"
            ],
            [
             0.6666666666666666,
             "#ed7953"
            ],
            [
             0.7777777777777778,
             "#fb9f3a"
            ],
            [
             0.8888888888888888,
             "#fdca26"
            ],
            [
             1,
             "#f0f921"
            ]
           ]
          },
          "colorway": [
           "#636efa",
           "#EF553B",
           "#00cc96",
           "#ab63fa",
           "#FFA15A",
           "#19d3f3",
           "#FF6692",
           "#B6E880",
           "#FF97FF",
           "#FECB52"
          ],
          "font": {
           "color": "#2a3f5f"
          },
          "geo": {
           "bgcolor": "white",
           "lakecolor": "white",
           "landcolor": "#E5ECF6",
           "showlakes": true,
           "showland": true,
           "subunitcolor": "white"
          },
          "hoverlabel": {
           "align": "left"
          },
          "hovermode": "closest",
          "mapbox": {
           "style": "light"
          },
          "paper_bgcolor": "white",
          "plot_bgcolor": "#E5ECF6",
          "polar": {
           "angularaxis": {
            "gridcolor": "white",
            "linecolor": "white",
            "ticks": ""
           },
           "bgcolor": "#E5ECF6",
           "radialaxis": {
            "gridcolor": "white",
            "linecolor": "white",
            "ticks": ""
           }
          },
          "scene": {
           "xaxis": {
            "backgroundcolor": "#E5ECF6",
            "gridcolor": "white",
            "gridwidth": 2,
            "linecolor": "white",
            "showbackground": true,
            "ticks": "",
            "zerolinecolor": "white"
           },
           "yaxis": {
            "backgroundcolor": "#E5ECF6",
            "gridcolor": "white",
            "gridwidth": 2,
            "linecolor": "white",
            "showbackground": true,
            "ticks": "",
            "zerolinecolor": "white"
           },
           "zaxis": {
            "backgroundcolor": "#E5ECF6",
            "gridcolor": "white",
            "gridwidth": 2,
            "linecolor": "white",
            "showbackground": true,
            "ticks": "",
            "zerolinecolor": "white"
           }
          },
          "shapedefaults": {
           "line": {
            "color": "#2a3f5f"
           }
          },
          "ternary": {
           "aaxis": {
            "gridcolor": "white",
            "linecolor": "white",
            "ticks": ""
           },
           "baxis": {
            "gridcolor": "white",
            "linecolor": "white",
            "ticks": ""
           },
           "bgcolor": "#E5ECF6",
           "caxis": {
            "gridcolor": "white",
            "linecolor": "white",
            "ticks": ""
           }
          },
          "title": {
           "x": 0.05
          },
          "xaxis": {
           "automargin": true,
           "gridcolor": "white",
           "linecolor": "white",
           "ticks": "",
           "title": {
            "standoff": 15
           },
           "zerolinecolor": "white",
           "zerolinewidth": 2
          },
          "yaxis": {
           "automargin": true,
           "gridcolor": "white",
           "linecolor": "white",
           "ticks": "",
           "title": {
            "standoff": 15
           },
           "zerolinecolor": "white",
           "zerolinewidth": 2
          }
         }
        },
        "title": {
         "text": "mnth counts"
        },
        "xaxis": {
         "title": {
          "text": "mnth"
         }
        },
        "yaxis": {
         "title": {
          "text": "Frequency"
         }
        }
       }
      }
     },
     "metadata": {},
     "output_type": "display_data"
    },
    {
     "data": {
      "application/vnd.plotly.v1+json": {
       "config": {
        "plotlyServerURL": "https://plot.ly"
       },
       "data": [
        {
         "marker": {
          "color": "steelblue"
         },
         "type": "bar",
         "x": {
          "bdata": "AAE=",
          "dtype": "i1"
         },
         "y": {
          "bdata": "xgIVAA==",
          "dtype": "i2"
         }
        }
       ],
       "layout": {
        "template": {
         "data": {
          "bar": [
           {
            "error_x": {
             "color": "#2a3f5f"
            },
            "error_y": {
             "color": "#2a3f5f"
            },
            "marker": {
             "line": {
              "color": "#E5ECF6",
              "width": 0.5
             },
             "pattern": {
              "fillmode": "overlay",
              "size": 10,
              "solidity": 0.2
             }
            },
            "type": "bar"
           }
          ],
          "barpolar": [
           {
            "marker": {
             "line": {
              "color": "#E5ECF6",
              "width": 0.5
             },
             "pattern": {
              "fillmode": "overlay",
              "size": 10,
              "solidity": 0.2
             }
            },
            "type": "barpolar"
           }
          ],
          "carpet": [
           {
            "aaxis": {
             "endlinecolor": "#2a3f5f",
             "gridcolor": "white",
             "linecolor": "white",
             "minorgridcolor": "white",
             "startlinecolor": "#2a3f5f"
            },
            "baxis": {
             "endlinecolor": "#2a3f5f",
             "gridcolor": "white",
             "linecolor": "white",
             "minorgridcolor": "white",
             "startlinecolor": "#2a3f5f"
            },
            "type": "carpet"
           }
          ],
          "choropleth": [
           {
            "colorbar": {
             "outlinewidth": 0,
             "ticks": ""
            },
            "type": "choropleth"
           }
          ],
          "contour": [
           {
            "colorbar": {
             "outlinewidth": 0,
             "ticks": ""
            },
            "colorscale": [
             [
              0,
              "#0d0887"
             ],
             [
              0.1111111111111111,
              "#46039f"
             ],
             [
              0.2222222222222222,
              "#7201a8"
             ],
             [
              0.3333333333333333,
              "#9c179e"
             ],
             [
              0.4444444444444444,
              "#bd3786"
             ],
             [
              0.5555555555555556,
              "#d8576b"
             ],
             [
              0.6666666666666666,
              "#ed7953"
             ],
             [
              0.7777777777777778,
              "#fb9f3a"
             ],
             [
              0.8888888888888888,
              "#fdca26"
             ],
             [
              1,
              "#f0f921"
             ]
            ],
            "type": "contour"
           }
          ],
          "contourcarpet": [
           {
            "colorbar": {
             "outlinewidth": 0,
             "ticks": ""
            },
            "type": "contourcarpet"
           }
          ],
          "heatmap": [
           {
            "colorbar": {
             "outlinewidth": 0,
             "ticks": ""
            },
            "colorscale": [
             [
              0,
              "#0d0887"
             ],
             [
              0.1111111111111111,
              "#46039f"
             ],
             [
              0.2222222222222222,
              "#7201a8"
             ],
             [
              0.3333333333333333,
              "#9c179e"
             ],
             [
              0.4444444444444444,
              "#bd3786"
             ],
             [
              0.5555555555555556,
              "#d8576b"
             ],
             [
              0.6666666666666666,
              "#ed7953"
             ],
             [
              0.7777777777777778,
              "#fb9f3a"
             ],
             [
              0.8888888888888888,
              "#fdca26"
             ],
             [
              1,
              "#f0f921"
             ]
            ],
            "type": "heatmap"
           }
          ],
          "histogram": [
           {
            "marker": {
             "pattern": {
              "fillmode": "overlay",
              "size": 10,
              "solidity": 0.2
             }
            },
            "type": "histogram"
           }
          ],
          "histogram2d": [
           {
            "colorbar": {
             "outlinewidth": 0,
             "ticks": ""
            },
            "colorscale": [
             [
              0,
              "#0d0887"
             ],
             [
              0.1111111111111111,
              "#46039f"
             ],
             [
              0.2222222222222222,
              "#7201a8"
             ],
             [
              0.3333333333333333,
              "#9c179e"
             ],
             [
              0.4444444444444444,
              "#bd3786"
             ],
             [
              0.5555555555555556,
              "#d8576b"
             ],
             [
              0.6666666666666666,
              "#ed7953"
             ],
             [
              0.7777777777777778,
              "#fb9f3a"
             ],
             [
              0.8888888888888888,
              "#fdca26"
             ],
             [
              1,
              "#f0f921"
             ]
            ],
            "type": "histogram2d"
           }
          ],
          "histogram2dcontour": [
           {
            "colorbar": {
             "outlinewidth": 0,
             "ticks": ""
            },
            "colorscale": [
             [
              0,
              "#0d0887"
             ],
             [
              0.1111111111111111,
              "#46039f"
             ],
             [
              0.2222222222222222,
              "#7201a8"
             ],
             [
              0.3333333333333333,
              "#9c179e"
             ],
             [
              0.4444444444444444,
              "#bd3786"
             ],
             [
              0.5555555555555556,
              "#d8576b"
             ],
             [
              0.6666666666666666,
              "#ed7953"
             ],
             [
              0.7777777777777778,
              "#fb9f3a"
             ],
             [
              0.8888888888888888,
              "#fdca26"
             ],
             [
              1,
              "#f0f921"
             ]
            ],
            "type": "histogram2dcontour"
           }
          ],
          "mesh3d": [
           {
            "colorbar": {
             "outlinewidth": 0,
             "ticks": ""
            },
            "type": "mesh3d"
           }
          ],
          "parcoords": [
           {
            "line": {
             "colorbar": {
              "outlinewidth": 0,
              "ticks": ""
             }
            },
            "type": "parcoords"
           }
          ],
          "pie": [
           {
            "automargin": true,
            "type": "pie"
           }
          ],
          "scatter": [
           {
            "fillpattern": {
             "fillmode": "overlay",
             "size": 10,
             "solidity": 0.2
            },
            "type": "scatter"
           }
          ],
          "scatter3d": [
           {
            "line": {
             "colorbar": {
              "outlinewidth": 0,
              "ticks": ""
             }
            },
            "marker": {
             "colorbar": {
              "outlinewidth": 0,
              "ticks": ""
             }
            },
            "type": "scatter3d"
           }
          ],
          "scattercarpet": [
           {
            "marker": {
             "colorbar": {
              "outlinewidth": 0,
              "ticks": ""
             }
            },
            "type": "scattercarpet"
           }
          ],
          "scattergeo": [
           {
            "marker": {
             "colorbar": {
              "outlinewidth": 0,
              "ticks": ""
             }
            },
            "type": "scattergeo"
           }
          ],
          "scattergl": [
           {
            "marker": {
             "colorbar": {
              "outlinewidth": 0,
              "ticks": ""
             }
            },
            "type": "scattergl"
           }
          ],
          "scattermap": [
           {
            "marker": {
             "colorbar": {
              "outlinewidth": 0,
              "ticks": ""
             }
            },
            "type": "scattermap"
           }
          ],
          "scattermapbox": [
           {
            "marker": {
             "colorbar": {
              "outlinewidth": 0,
              "ticks": ""
             }
            },
            "type": "scattermapbox"
           }
          ],
          "scatterpolar": [
           {
            "marker": {
             "colorbar": {
              "outlinewidth": 0,
              "ticks": ""
             }
            },
            "type": "scatterpolar"
           }
          ],
          "scatterpolargl": [
           {
            "marker": {
             "colorbar": {
              "outlinewidth": 0,
              "ticks": ""
             }
            },
            "type": "scatterpolargl"
           }
          ],
          "scatterternary": [
           {
            "marker": {
             "colorbar": {
              "outlinewidth": 0,
              "ticks": ""
             }
            },
            "type": "scatterternary"
           }
          ],
          "surface": [
           {
            "colorbar": {
             "outlinewidth": 0,
             "ticks": ""
            },
            "colorscale": [
             [
              0,
              "#0d0887"
             ],
             [
              0.1111111111111111,
              "#46039f"
             ],
             [
              0.2222222222222222,
              "#7201a8"
             ],
             [
              0.3333333333333333,
              "#9c179e"
             ],
             [
              0.4444444444444444,
              "#bd3786"
             ],
             [
              0.5555555555555556,
              "#d8576b"
             ],
             [
              0.6666666666666666,
              "#ed7953"
             ],
             [
              0.7777777777777778,
              "#fb9f3a"
             ],
             [
              0.8888888888888888,
              "#fdca26"
             ],
             [
              1,
              "#f0f921"
             ]
            ],
            "type": "surface"
           }
          ],
          "table": [
           {
            "cells": {
             "fill": {
              "color": "#EBF0F8"
             },
             "line": {
              "color": "white"
             }
            },
            "header": {
             "fill": {
              "color": "#C8D4E3"
             },
             "line": {
              "color": "white"
             }
            },
            "type": "table"
           }
          ]
         },
         "layout": {
          "annotationdefaults": {
           "arrowcolor": "#2a3f5f",
           "arrowhead": 0,
           "arrowwidth": 1
          },
          "autotypenumbers": "strict",
          "coloraxis": {
           "colorbar": {
            "outlinewidth": 0,
            "ticks": ""
           }
          },
          "colorscale": {
           "diverging": [
            [
             0,
             "#8e0152"
            ],
            [
             0.1,
             "#c51b7d"
            ],
            [
             0.2,
             "#de77ae"
            ],
            [
             0.3,
             "#f1b6da"
            ],
            [
             0.4,
             "#fde0ef"
            ],
            [
             0.5,
             "#f7f7f7"
            ],
            [
             0.6,
             "#e6f5d0"
            ],
            [
             0.7,
             "#b8e186"
            ],
            [
             0.8,
             "#7fbc41"
            ],
            [
             0.9,
             "#4d9221"
            ],
            [
             1,
             "#276419"
            ]
           ],
           "sequential": [
            [
             0,
             "#0d0887"
            ],
            [
             0.1111111111111111,
             "#46039f"
            ],
            [
             0.2222222222222222,
             "#7201a8"
            ],
            [
             0.3333333333333333,
             "#9c179e"
            ],
            [
             0.4444444444444444,
             "#bd3786"
            ],
            [
             0.5555555555555556,
             "#d8576b"
            ],
            [
             0.6666666666666666,
             "#ed7953"
            ],
            [
             0.7777777777777778,
             "#fb9f3a"
            ],
            [
             0.8888888888888888,
             "#fdca26"
            ],
            [
             1,
             "#f0f921"
            ]
           ],
           "sequentialminus": [
            [
             0,
             "#0d0887"
            ],
            [
             0.1111111111111111,
             "#46039f"
            ],
            [
             0.2222222222222222,
             "#7201a8"
            ],
            [
             0.3333333333333333,
             "#9c179e"
            ],
            [
             0.4444444444444444,
             "#bd3786"
            ],
            [
             0.5555555555555556,
             "#d8576b"
            ],
            [
             0.6666666666666666,
             "#ed7953"
            ],
            [
             0.7777777777777778,
             "#fb9f3a"
            ],
            [
             0.8888888888888888,
             "#fdca26"
            ],
            [
             1,
             "#f0f921"
            ]
           ]
          },
          "colorway": [
           "#636efa",
           "#EF553B",
           "#00cc96",
           "#ab63fa",
           "#FFA15A",
           "#19d3f3",
           "#FF6692",
           "#B6E880",
           "#FF97FF",
           "#FECB52"
          ],
          "font": {
           "color": "#2a3f5f"
          },
          "geo": {
           "bgcolor": "white",
           "lakecolor": "white",
           "landcolor": "#E5ECF6",
           "showlakes": true,
           "showland": true,
           "subunitcolor": "white"
          },
          "hoverlabel": {
           "align": "left"
          },
          "hovermode": "closest",
          "mapbox": {
           "style": "light"
          },
          "paper_bgcolor": "white",
          "plot_bgcolor": "#E5ECF6",
          "polar": {
           "angularaxis": {
            "gridcolor": "white",
            "linecolor": "white",
            "ticks": ""
           },
           "bgcolor": "#E5ECF6",
           "radialaxis": {
            "gridcolor": "white",
            "linecolor": "white",
            "ticks": ""
           }
          },
          "scene": {
           "xaxis": {
            "backgroundcolor": "#E5ECF6",
            "gridcolor": "white",
            "gridwidth": 2,
            "linecolor": "white",
            "showbackground": true,
            "ticks": "",
            "zerolinecolor": "white"
           },
           "yaxis": {
            "backgroundcolor": "#E5ECF6",
            "gridcolor": "white",
            "gridwidth": 2,
            "linecolor": "white",
            "showbackground": true,
            "ticks": "",
            "zerolinecolor": "white"
           },
           "zaxis": {
            "backgroundcolor": "#E5ECF6",
            "gridcolor": "white",
            "gridwidth": 2,
            "linecolor": "white",
            "showbackground": true,
            "ticks": "",
            "zerolinecolor": "white"
           }
          },
          "shapedefaults": {
           "line": {
            "color": "#2a3f5f"
           }
          },
          "ternary": {
           "aaxis": {
            "gridcolor": "white",
            "linecolor": "white",
            "ticks": ""
           },
           "baxis": {
            "gridcolor": "white",
            "linecolor": "white",
            "ticks": ""
           },
           "bgcolor": "#E5ECF6",
           "caxis": {
            "gridcolor": "white",
            "linecolor": "white",
            "ticks": ""
           }
          },
          "title": {
           "x": 0.05
          },
          "xaxis": {
           "automargin": true,
           "gridcolor": "white",
           "linecolor": "white",
           "ticks": "",
           "title": {
            "standoff": 15
           },
           "zerolinecolor": "white",
           "zerolinewidth": 2
          },
          "yaxis": {
           "automargin": true,
           "gridcolor": "white",
           "linecolor": "white",
           "ticks": "",
           "title": {
            "standoff": 15
           },
           "zerolinecolor": "white",
           "zerolinewidth": 2
          }
         }
        },
        "title": {
         "text": "holiday counts"
        },
        "xaxis": {
         "title": {
          "text": "holiday"
         }
        },
        "yaxis": {
         "title": {
          "text": "Frequency"
         }
        }
       }
      }
     },
     "metadata": {},
     "output_type": "display_data"
    },
    {
     "data": {
      "application/vnd.plotly.v1+json": {
       "config": {
        "plotlyServerURL": "https://plot.ly"
       },
       "data": [
        {
         "marker": {
          "color": "steelblue"
         },
         "type": "bar",
         "x": {
          "bdata": "AAECAwQFBg==",
          "dtype": "i1"
         },
         "y": {
          "bdata": "aWloaGhoaQ==",
          "dtype": "i1"
         }
        }
       ],
       "layout": {
        "template": {
         "data": {
          "bar": [
           {
            "error_x": {
             "color": "#2a3f5f"
            },
            "error_y": {
             "color": "#2a3f5f"
            },
            "marker": {
             "line": {
              "color": "#E5ECF6",
              "width": 0.5
             },
             "pattern": {
              "fillmode": "overlay",
              "size": 10,
              "solidity": 0.2
             }
            },
            "type": "bar"
           }
          ],
          "barpolar": [
           {
            "marker": {
             "line": {
              "color": "#E5ECF6",
              "width": 0.5
             },
             "pattern": {
              "fillmode": "overlay",
              "size": 10,
              "solidity": 0.2
             }
            },
            "type": "barpolar"
           }
          ],
          "carpet": [
           {
            "aaxis": {
             "endlinecolor": "#2a3f5f",
             "gridcolor": "white",
             "linecolor": "white",
             "minorgridcolor": "white",
             "startlinecolor": "#2a3f5f"
            },
            "baxis": {
             "endlinecolor": "#2a3f5f",
             "gridcolor": "white",
             "linecolor": "white",
             "minorgridcolor": "white",
             "startlinecolor": "#2a3f5f"
            },
            "type": "carpet"
           }
          ],
          "choropleth": [
           {
            "colorbar": {
             "outlinewidth": 0,
             "ticks": ""
            },
            "type": "choropleth"
           }
          ],
          "contour": [
           {
            "colorbar": {
             "outlinewidth": 0,
             "ticks": ""
            },
            "colorscale": [
             [
              0,
              "#0d0887"
             ],
             [
              0.1111111111111111,
              "#46039f"
             ],
             [
              0.2222222222222222,
              "#7201a8"
             ],
             [
              0.3333333333333333,
              "#9c179e"
             ],
             [
              0.4444444444444444,
              "#bd3786"
             ],
             [
              0.5555555555555556,
              "#d8576b"
             ],
             [
              0.6666666666666666,
              "#ed7953"
             ],
             [
              0.7777777777777778,
              "#fb9f3a"
             ],
             [
              0.8888888888888888,
              "#fdca26"
             ],
             [
              1,
              "#f0f921"
             ]
            ],
            "type": "contour"
           }
          ],
          "contourcarpet": [
           {
            "colorbar": {
             "outlinewidth": 0,
             "ticks": ""
            },
            "type": "contourcarpet"
           }
          ],
          "heatmap": [
           {
            "colorbar": {
             "outlinewidth": 0,
             "ticks": ""
            },
            "colorscale": [
             [
              0,
              "#0d0887"
             ],
             [
              0.1111111111111111,
              "#46039f"
             ],
             [
              0.2222222222222222,
              "#7201a8"
             ],
             [
              0.3333333333333333,
              "#9c179e"
             ],
             [
              0.4444444444444444,
              "#bd3786"
             ],
             [
              0.5555555555555556,
              "#d8576b"
             ],
             [
              0.6666666666666666,
              "#ed7953"
             ],
             [
              0.7777777777777778,
              "#fb9f3a"
             ],
             [
              0.8888888888888888,
              "#fdca26"
             ],
             [
              1,
              "#f0f921"
             ]
            ],
            "type": "heatmap"
           }
          ],
          "histogram": [
           {
            "marker": {
             "pattern": {
              "fillmode": "overlay",
              "size": 10,
              "solidity": 0.2
             }
            },
            "type": "histogram"
           }
          ],
          "histogram2d": [
           {
            "colorbar": {
             "outlinewidth": 0,
             "ticks": ""
            },
            "colorscale": [
             [
              0,
              "#0d0887"
             ],
             [
              0.1111111111111111,
              "#46039f"
             ],
             [
              0.2222222222222222,
              "#7201a8"
             ],
             [
              0.3333333333333333,
              "#9c179e"
             ],
             [
              0.4444444444444444,
              "#bd3786"
             ],
             [
              0.5555555555555556,
              "#d8576b"
             ],
             [
              0.6666666666666666,
              "#ed7953"
             ],
             [
              0.7777777777777778,
              "#fb9f3a"
             ],
             [
              0.8888888888888888,
              "#fdca26"
             ],
             [
              1,
              "#f0f921"
             ]
            ],
            "type": "histogram2d"
           }
          ],
          "histogram2dcontour": [
           {
            "colorbar": {
             "outlinewidth": 0,
             "ticks": ""
            },
            "colorscale": [
             [
              0,
              "#0d0887"
             ],
             [
              0.1111111111111111,
              "#46039f"
             ],
             [
              0.2222222222222222,
              "#7201a8"
             ],
             [
              0.3333333333333333,
              "#9c179e"
             ],
             [
              0.4444444444444444,
              "#bd3786"
             ],
             [
              0.5555555555555556,
              "#d8576b"
             ],
             [
              0.6666666666666666,
              "#ed7953"
             ],
             [
              0.7777777777777778,
              "#fb9f3a"
             ],
             [
              0.8888888888888888,
              "#fdca26"
             ],
             [
              1,
              "#f0f921"
             ]
            ],
            "type": "histogram2dcontour"
           }
          ],
          "mesh3d": [
           {
            "colorbar": {
             "outlinewidth": 0,
             "ticks": ""
            },
            "type": "mesh3d"
           }
          ],
          "parcoords": [
           {
            "line": {
             "colorbar": {
              "outlinewidth": 0,
              "ticks": ""
             }
            },
            "type": "parcoords"
           }
          ],
          "pie": [
           {
            "automargin": true,
            "type": "pie"
           }
          ],
          "scatter": [
           {
            "fillpattern": {
             "fillmode": "overlay",
             "size": 10,
             "solidity": 0.2
            },
            "type": "scatter"
           }
          ],
          "scatter3d": [
           {
            "line": {
             "colorbar": {
              "outlinewidth": 0,
              "ticks": ""
             }
            },
            "marker": {
             "colorbar": {
              "outlinewidth": 0,
              "ticks": ""
             }
            },
            "type": "scatter3d"
           }
          ],
          "scattercarpet": [
           {
            "marker": {
             "colorbar": {
              "outlinewidth": 0,
              "ticks": ""
             }
            },
            "type": "scattercarpet"
           }
          ],
          "scattergeo": [
           {
            "marker": {
             "colorbar": {
              "outlinewidth": 0,
              "ticks": ""
             }
            },
            "type": "scattergeo"
           }
          ],
          "scattergl": [
           {
            "marker": {
             "colorbar": {
              "outlinewidth": 0,
              "ticks": ""
             }
            },
            "type": "scattergl"
           }
          ],
          "scattermap": [
           {
            "marker": {
             "colorbar": {
              "outlinewidth": 0,
              "ticks": ""
             }
            },
            "type": "scattermap"
           }
          ],
          "scattermapbox": [
           {
            "marker": {
             "colorbar": {
              "outlinewidth": 0,
              "ticks": ""
             }
            },
            "type": "scattermapbox"
           }
          ],
          "scatterpolar": [
           {
            "marker": {
             "colorbar": {
              "outlinewidth": 0,
              "ticks": ""
             }
            },
            "type": "scatterpolar"
           }
          ],
          "scatterpolargl": [
           {
            "marker": {
             "colorbar": {
              "outlinewidth": 0,
              "ticks": ""
             }
            },
            "type": "scatterpolargl"
           }
          ],
          "scatterternary": [
           {
            "marker": {
             "colorbar": {
              "outlinewidth": 0,
              "ticks": ""
             }
            },
            "type": "scatterternary"
           }
          ],
          "surface": [
           {
            "colorbar": {
             "outlinewidth": 0,
             "ticks": ""
            },
            "colorscale": [
             [
              0,
              "#0d0887"
             ],
             [
              0.1111111111111111,
              "#46039f"
             ],
             [
              0.2222222222222222,
              "#7201a8"
             ],
             [
              0.3333333333333333,
              "#9c179e"
             ],
             [
              0.4444444444444444,
              "#bd3786"
             ],
             [
              0.5555555555555556,
              "#d8576b"
             ],
             [
              0.6666666666666666,
              "#ed7953"
             ],
             [
              0.7777777777777778,
              "#fb9f3a"
             ],
             [
              0.8888888888888888,
              "#fdca26"
             ],
             [
              1,
              "#f0f921"
             ]
            ],
            "type": "surface"
           }
          ],
          "table": [
           {
            "cells": {
             "fill": {
              "color": "#EBF0F8"
             },
             "line": {
              "color": "white"
             }
            },
            "header": {
             "fill": {
              "color": "#C8D4E3"
             },
             "line": {
              "color": "white"
             }
            },
            "type": "table"
           }
          ]
         },
         "layout": {
          "annotationdefaults": {
           "arrowcolor": "#2a3f5f",
           "arrowhead": 0,
           "arrowwidth": 1
          },
          "autotypenumbers": "strict",
          "coloraxis": {
           "colorbar": {
            "outlinewidth": 0,
            "ticks": ""
           }
          },
          "colorscale": {
           "diverging": [
            [
             0,
             "#8e0152"
            ],
            [
             0.1,
             "#c51b7d"
            ],
            [
             0.2,
             "#de77ae"
            ],
            [
             0.3,
             "#f1b6da"
            ],
            [
             0.4,
             "#fde0ef"
            ],
            [
             0.5,
             "#f7f7f7"
            ],
            [
             0.6,
             "#e6f5d0"
            ],
            [
             0.7,
             "#b8e186"
            ],
            [
             0.8,
             "#7fbc41"
            ],
            [
             0.9,
             "#4d9221"
            ],
            [
             1,
             "#276419"
            ]
           ],
           "sequential": [
            [
             0,
             "#0d0887"
            ],
            [
             0.1111111111111111,
             "#46039f"
            ],
            [
             0.2222222222222222,
             "#7201a8"
            ],
            [
             0.3333333333333333,
             "#9c179e"
            ],
            [
             0.4444444444444444,
             "#bd3786"
            ],
            [
             0.5555555555555556,
             "#d8576b"
            ],
            [
             0.6666666666666666,
             "#ed7953"
            ],
            [
             0.7777777777777778,
             "#fb9f3a"
            ],
            [
             0.8888888888888888,
             "#fdca26"
            ],
            [
             1,
             "#f0f921"
            ]
           ],
           "sequentialminus": [
            [
             0,
             "#0d0887"
            ],
            [
             0.1111111111111111,
             "#46039f"
            ],
            [
             0.2222222222222222,
             "#7201a8"
            ],
            [
             0.3333333333333333,
             "#9c179e"
            ],
            [
             0.4444444444444444,
             "#bd3786"
            ],
            [
             0.5555555555555556,
             "#d8576b"
            ],
            [
             0.6666666666666666,
             "#ed7953"
            ],
            [
             0.7777777777777778,
             "#fb9f3a"
            ],
            [
             0.8888888888888888,
             "#fdca26"
            ],
            [
             1,
             "#f0f921"
            ]
           ]
          },
          "colorway": [
           "#636efa",
           "#EF553B",
           "#00cc96",
           "#ab63fa",
           "#FFA15A",
           "#19d3f3",
           "#FF6692",
           "#B6E880",
           "#FF97FF",
           "#FECB52"
          ],
          "font": {
           "color": "#2a3f5f"
          },
          "geo": {
           "bgcolor": "white",
           "lakecolor": "white",
           "landcolor": "#E5ECF6",
           "showlakes": true,
           "showland": true,
           "subunitcolor": "white"
          },
          "hoverlabel": {
           "align": "left"
          },
          "hovermode": "closest",
          "mapbox": {
           "style": "light"
          },
          "paper_bgcolor": "white",
          "plot_bgcolor": "#E5ECF6",
          "polar": {
           "angularaxis": {
            "gridcolor": "white",
            "linecolor": "white",
            "ticks": ""
           },
           "bgcolor": "#E5ECF6",
           "radialaxis": {
            "gridcolor": "white",
            "linecolor": "white",
            "ticks": ""
           }
          },
          "scene": {
           "xaxis": {
            "backgroundcolor": "#E5ECF6",
            "gridcolor": "white",
            "gridwidth": 2,
            "linecolor": "white",
            "showbackground": true,
            "ticks": "",
            "zerolinecolor": "white"
           },
           "yaxis": {
            "backgroundcolor": "#E5ECF6",
            "gridcolor": "white",
            "gridwidth": 2,
            "linecolor": "white",
            "showbackground": true,
            "ticks": "",
            "zerolinecolor": "white"
           },
           "zaxis": {
            "backgroundcolor": "#E5ECF6",
            "gridcolor": "white",
            "gridwidth": 2,
            "linecolor": "white",
            "showbackground": true,
            "ticks": "",
            "zerolinecolor": "white"
           }
          },
          "shapedefaults": {
           "line": {
            "color": "#2a3f5f"
           }
          },
          "ternary": {
           "aaxis": {
            "gridcolor": "white",
            "linecolor": "white",
            "ticks": ""
           },
           "baxis": {
            "gridcolor": "white",
            "linecolor": "white",
            "ticks": ""
           },
           "bgcolor": "#E5ECF6",
           "caxis": {
            "gridcolor": "white",
            "linecolor": "white",
            "ticks": ""
           }
          },
          "title": {
           "x": 0.05
          },
          "xaxis": {
           "automargin": true,
           "gridcolor": "white",
           "linecolor": "white",
           "ticks": "",
           "title": {
            "standoff": 15
           },
           "zerolinecolor": "white",
           "zerolinewidth": 2
          },
          "yaxis": {
           "automargin": true,
           "gridcolor": "white",
           "linecolor": "white",
           "ticks": "",
           "title": {
            "standoff": 15
           },
           "zerolinecolor": "white",
           "zerolinewidth": 2
          }
         }
        },
        "title": {
         "text": "weekday counts"
        },
        "xaxis": {
         "title": {
          "text": "weekday"
         }
        },
        "yaxis": {
         "title": {
          "text": "Frequency"
         }
        }
       }
      }
     },
     "metadata": {},
     "output_type": "display_data"
    },
    {
     "data": {
      "application/vnd.plotly.v1+json": {
       "config": {
        "plotlyServerURL": "https://plot.ly"
       },
       "data": [
        {
         "marker": {
          "color": "steelblue"
         },
         "type": "bar",
         "x": {
          "bdata": "AAE=",
          "dtype": "i1"
         },
         "y": {
          "bdata": "5wD0AQ==",
          "dtype": "i2"
         }
        }
       ],
       "layout": {
        "template": {
         "data": {
          "bar": [
           {
            "error_x": {
             "color": "#2a3f5f"
            },
            "error_y": {
             "color": "#2a3f5f"
            },
            "marker": {
             "line": {
              "color": "#E5ECF6",
              "width": 0.5
             },
             "pattern": {
              "fillmode": "overlay",
              "size": 10,
              "solidity": 0.2
             }
            },
            "type": "bar"
           }
          ],
          "barpolar": [
           {
            "marker": {
             "line": {
              "color": "#E5ECF6",
              "width": 0.5
             },
             "pattern": {
              "fillmode": "overlay",
              "size": 10,
              "solidity": 0.2
             }
            },
            "type": "barpolar"
           }
          ],
          "carpet": [
           {
            "aaxis": {
             "endlinecolor": "#2a3f5f",
             "gridcolor": "white",
             "linecolor": "white",
             "minorgridcolor": "white",
             "startlinecolor": "#2a3f5f"
            },
            "baxis": {
             "endlinecolor": "#2a3f5f",
             "gridcolor": "white",
             "linecolor": "white",
             "minorgridcolor": "white",
             "startlinecolor": "#2a3f5f"
            },
            "type": "carpet"
           }
          ],
          "choropleth": [
           {
            "colorbar": {
             "outlinewidth": 0,
             "ticks": ""
            },
            "type": "choropleth"
           }
          ],
          "contour": [
           {
            "colorbar": {
             "outlinewidth": 0,
             "ticks": ""
            },
            "colorscale": [
             [
              0,
              "#0d0887"
             ],
             [
              0.1111111111111111,
              "#46039f"
             ],
             [
              0.2222222222222222,
              "#7201a8"
             ],
             [
              0.3333333333333333,
              "#9c179e"
             ],
             [
              0.4444444444444444,
              "#bd3786"
             ],
             [
              0.5555555555555556,
              "#d8576b"
             ],
             [
              0.6666666666666666,
              "#ed7953"
             ],
             [
              0.7777777777777778,
              "#fb9f3a"
             ],
             [
              0.8888888888888888,
              "#fdca26"
             ],
             [
              1,
              "#f0f921"
             ]
            ],
            "type": "contour"
           }
          ],
          "contourcarpet": [
           {
            "colorbar": {
             "outlinewidth": 0,
             "ticks": ""
            },
            "type": "contourcarpet"
           }
          ],
          "heatmap": [
           {
            "colorbar": {
             "outlinewidth": 0,
             "ticks": ""
            },
            "colorscale": [
             [
              0,
              "#0d0887"
             ],
             [
              0.1111111111111111,
              "#46039f"
             ],
             [
              0.2222222222222222,
              "#7201a8"
             ],
             [
              0.3333333333333333,
              "#9c179e"
             ],
             [
              0.4444444444444444,
              "#bd3786"
             ],
             [
              0.5555555555555556,
              "#d8576b"
             ],
             [
              0.6666666666666666,
              "#ed7953"
             ],
             [
              0.7777777777777778,
              "#fb9f3a"
             ],
             [
              0.8888888888888888,
              "#fdca26"
             ],
             [
              1,
              "#f0f921"
             ]
            ],
            "type": "heatmap"
           }
          ],
          "histogram": [
           {
            "marker": {
             "pattern": {
              "fillmode": "overlay",
              "size": 10,
              "solidity": 0.2
             }
            },
            "type": "histogram"
           }
          ],
          "histogram2d": [
           {
            "colorbar": {
             "outlinewidth": 0,
             "ticks": ""
            },
            "colorscale": [
             [
              0,
              "#0d0887"
             ],
             [
              0.1111111111111111,
              "#46039f"
             ],
             [
              0.2222222222222222,
              "#7201a8"
             ],
             [
              0.3333333333333333,
              "#9c179e"
             ],
             [
              0.4444444444444444,
              "#bd3786"
             ],
             [
              0.5555555555555556,
              "#d8576b"
             ],
             [
              0.6666666666666666,
              "#ed7953"
             ],
             [
              0.7777777777777778,
              "#fb9f3a"
             ],
             [
              0.8888888888888888,
              "#fdca26"
             ],
             [
              1,
              "#f0f921"
             ]
            ],
            "type": "histogram2d"
           }
          ],
          "histogram2dcontour": [
           {
            "colorbar": {
             "outlinewidth": 0,
             "ticks": ""
            },
            "colorscale": [
             [
              0,
              "#0d0887"
             ],
             [
              0.1111111111111111,
              "#46039f"
             ],
             [
              0.2222222222222222,
              "#7201a8"
             ],
             [
              0.3333333333333333,
              "#9c179e"
             ],
             [
              0.4444444444444444,
              "#bd3786"
             ],
             [
              0.5555555555555556,
              "#d8576b"
             ],
             [
              0.6666666666666666,
              "#ed7953"
             ],
             [
              0.7777777777777778,
              "#fb9f3a"
             ],
             [
              0.8888888888888888,
              "#fdca26"
             ],
             [
              1,
              "#f0f921"
             ]
            ],
            "type": "histogram2dcontour"
           }
          ],
          "mesh3d": [
           {
            "colorbar": {
             "outlinewidth": 0,
             "ticks": ""
            },
            "type": "mesh3d"
           }
          ],
          "parcoords": [
           {
            "line": {
             "colorbar": {
              "outlinewidth": 0,
              "ticks": ""
             }
            },
            "type": "parcoords"
           }
          ],
          "pie": [
           {
            "automargin": true,
            "type": "pie"
           }
          ],
          "scatter": [
           {
            "fillpattern": {
             "fillmode": "overlay",
             "size": 10,
             "solidity": 0.2
            },
            "type": "scatter"
           }
          ],
          "scatter3d": [
           {
            "line": {
             "colorbar": {
              "outlinewidth": 0,
              "ticks": ""
             }
            },
            "marker": {
             "colorbar": {
              "outlinewidth": 0,
              "ticks": ""
             }
            },
            "type": "scatter3d"
           }
          ],
          "scattercarpet": [
           {
            "marker": {
             "colorbar": {
              "outlinewidth": 0,
              "ticks": ""
             }
            },
            "type": "scattercarpet"
           }
          ],
          "scattergeo": [
           {
            "marker": {
             "colorbar": {
              "outlinewidth": 0,
              "ticks": ""
             }
            },
            "type": "scattergeo"
           }
          ],
          "scattergl": [
           {
            "marker": {
             "colorbar": {
              "outlinewidth": 0,
              "ticks": ""
             }
            },
            "type": "scattergl"
           }
          ],
          "scattermap": [
           {
            "marker": {
             "colorbar": {
              "outlinewidth": 0,
              "ticks": ""
             }
            },
            "type": "scattermap"
           }
          ],
          "scattermapbox": [
           {
            "marker": {
             "colorbar": {
              "outlinewidth": 0,
              "ticks": ""
             }
            },
            "type": "scattermapbox"
           }
          ],
          "scatterpolar": [
           {
            "marker": {
             "colorbar": {
              "outlinewidth": 0,
              "ticks": ""
             }
            },
            "type": "scatterpolar"
           }
          ],
          "scatterpolargl": [
           {
            "marker": {
             "colorbar": {
              "outlinewidth": 0,
              "ticks": ""
             }
            },
            "type": "scatterpolargl"
           }
          ],
          "scatterternary": [
           {
            "marker": {
             "colorbar": {
              "outlinewidth": 0,
              "ticks": ""
             }
            },
            "type": "scatterternary"
           }
          ],
          "surface": [
           {
            "colorbar": {
             "outlinewidth": 0,
             "ticks": ""
            },
            "colorscale": [
             [
              0,
              "#0d0887"
             ],
             [
              0.1111111111111111,
              "#46039f"
             ],
             [
              0.2222222222222222,
              "#7201a8"
             ],
             [
              0.3333333333333333,
              "#9c179e"
             ],
             [
              0.4444444444444444,
              "#bd3786"
             ],
             [
              0.5555555555555556,
              "#d8576b"
             ],
             [
              0.6666666666666666,
              "#ed7953"
             ],
             [
              0.7777777777777778,
              "#fb9f3a"
             ],
             [
              0.8888888888888888,
              "#fdca26"
             ],
             [
              1,
              "#f0f921"
             ]
            ],
            "type": "surface"
           }
          ],
          "table": [
           {
            "cells": {
             "fill": {
              "color": "#EBF0F8"
             },
             "line": {
              "color": "white"
             }
            },
            "header": {
             "fill": {
              "color": "#C8D4E3"
             },
             "line": {
              "color": "white"
             }
            },
            "type": "table"
           }
          ]
         },
         "layout": {
          "annotationdefaults": {
           "arrowcolor": "#2a3f5f",
           "arrowhead": 0,
           "arrowwidth": 1
          },
          "autotypenumbers": "strict",
          "coloraxis": {
           "colorbar": {
            "outlinewidth": 0,
            "ticks": ""
           }
          },
          "colorscale": {
           "diverging": [
            [
             0,
             "#8e0152"
            ],
            [
             0.1,
             "#c51b7d"
            ],
            [
             0.2,
             "#de77ae"
            ],
            [
             0.3,
             "#f1b6da"
            ],
            [
             0.4,
             "#fde0ef"
            ],
            [
             0.5,
             "#f7f7f7"
            ],
            [
             0.6,
             "#e6f5d0"
            ],
            [
             0.7,
             "#b8e186"
            ],
            [
             0.8,
             "#7fbc41"
            ],
            [
             0.9,
             "#4d9221"
            ],
            [
             1,
             "#276419"
            ]
           ],
           "sequential": [
            [
             0,
             "#0d0887"
            ],
            [
             0.1111111111111111,
             "#46039f"
            ],
            [
             0.2222222222222222,
             "#7201a8"
            ],
            [
             0.3333333333333333,
             "#9c179e"
            ],
            [
             0.4444444444444444,
             "#bd3786"
            ],
            [
             0.5555555555555556,
             "#d8576b"
            ],
            [
             0.6666666666666666,
             "#ed7953"
            ],
            [
             0.7777777777777778,
             "#fb9f3a"
            ],
            [
             0.8888888888888888,
             "#fdca26"
            ],
            [
             1,
             "#f0f921"
            ]
           ],
           "sequentialminus": [
            [
             0,
             "#0d0887"
            ],
            [
             0.1111111111111111,
             "#46039f"
            ],
            [
             0.2222222222222222,
             "#7201a8"
            ],
            [
             0.3333333333333333,
             "#9c179e"
            ],
            [
             0.4444444444444444,
             "#bd3786"
            ],
            [
             0.5555555555555556,
             "#d8576b"
            ],
            [
             0.6666666666666666,
             "#ed7953"
            ],
            [
             0.7777777777777778,
             "#fb9f3a"
            ],
            [
             0.8888888888888888,
             "#fdca26"
            ],
            [
             1,
             "#f0f921"
            ]
           ]
          },
          "colorway": [
           "#636efa",
           "#EF553B",
           "#00cc96",
           "#ab63fa",
           "#FFA15A",
           "#19d3f3",
           "#FF6692",
           "#B6E880",
           "#FF97FF",
           "#FECB52"
          ],
          "font": {
           "color": "#2a3f5f"
          },
          "geo": {
           "bgcolor": "white",
           "lakecolor": "white",
           "landcolor": "#E5ECF6",
           "showlakes": true,
           "showland": true,
           "subunitcolor": "white"
          },
          "hoverlabel": {
           "align": "left"
          },
          "hovermode": "closest",
          "mapbox": {
           "style": "light"
          },
          "paper_bgcolor": "white",
          "plot_bgcolor": "#E5ECF6",
          "polar": {
           "angularaxis": {
            "gridcolor": "white",
            "linecolor": "white",
            "ticks": ""
           },
           "bgcolor": "#E5ECF6",
           "radialaxis": {
            "gridcolor": "white",
            "linecolor": "white",
            "ticks": ""
           }
          },
          "scene": {
           "xaxis": {
            "backgroundcolor": "#E5ECF6",
            "gridcolor": "white",
            "gridwidth": 2,
            "linecolor": "white",
            "showbackground": true,
            "ticks": "",
            "zerolinecolor": "white"
           },
           "yaxis": {
            "backgroundcolor": "#E5ECF6",
            "gridcolor": "white",
            "gridwidth": 2,
            "linecolor": "white",
            "showbackground": true,
            "ticks": "",
            "zerolinecolor": "white"
           },
           "zaxis": {
            "backgroundcolor": "#E5ECF6",
            "gridcolor": "white",
            "gridwidth": 2,
            "linecolor": "white",
            "showbackground": true,
            "ticks": "",
            "zerolinecolor": "white"
           }
          },
          "shapedefaults": {
           "line": {
            "color": "#2a3f5f"
           }
          },
          "ternary": {
           "aaxis": {
            "gridcolor": "white",
            "linecolor": "white",
            "ticks": ""
           },
           "baxis": {
            "gridcolor": "white",
            "linecolor": "white",
            "ticks": ""
           },
           "bgcolor": "#E5ECF6",
           "caxis": {
            "gridcolor": "white",
            "linecolor": "white",
            "ticks": ""
           }
          },
          "title": {
           "x": 0.05
          },
          "xaxis": {
           "automargin": true,
           "gridcolor": "white",
           "linecolor": "white",
           "ticks": "",
           "title": {
            "standoff": 15
           },
           "zerolinecolor": "white",
           "zerolinewidth": 2
          },
          "yaxis": {
           "automargin": true,
           "gridcolor": "white",
           "linecolor": "white",
           "ticks": "",
           "title": {
            "standoff": 15
           },
           "zerolinecolor": "white",
           "zerolinewidth": 2
          }
         }
        },
        "title": {
         "text": "workingday counts"
        },
        "xaxis": {
         "title": {
          "text": "workingday"
         }
        },
        "yaxis": {
         "title": {
          "text": "Frequency"
         }
        }
       }
      }
     },
     "metadata": {},
     "output_type": "display_data"
    },
    {
     "data": {
      "application/vnd.plotly.v1+json": {
       "config": {
        "plotlyServerURL": "https://plot.ly"
       },
       "data": [
        {
         "marker": {
          "color": "steelblue"
         },
         "type": "bar",
         "x": {
          "bdata": "AQID",
          "dtype": "i1"
         },
         "y": {
          "bdata": "zwH3ABUA",
          "dtype": "i2"
         }
        }
       ],
       "layout": {
        "template": {
         "data": {
          "bar": [
           {
            "error_x": {
             "color": "#2a3f5f"
            },
            "error_y": {
             "color": "#2a3f5f"
            },
            "marker": {
             "line": {
              "color": "#E5ECF6",
              "width": 0.5
             },
             "pattern": {
              "fillmode": "overlay",
              "size": 10,
              "solidity": 0.2
             }
            },
            "type": "bar"
           }
          ],
          "barpolar": [
           {
            "marker": {
             "line": {
              "color": "#E5ECF6",
              "width": 0.5
             },
             "pattern": {
              "fillmode": "overlay",
              "size": 10,
              "solidity": 0.2
             }
            },
            "type": "barpolar"
           }
          ],
          "carpet": [
           {
            "aaxis": {
             "endlinecolor": "#2a3f5f",
             "gridcolor": "white",
             "linecolor": "white",
             "minorgridcolor": "white",
             "startlinecolor": "#2a3f5f"
            },
            "baxis": {
             "endlinecolor": "#2a3f5f",
             "gridcolor": "white",
             "linecolor": "white",
             "minorgridcolor": "white",
             "startlinecolor": "#2a3f5f"
            },
            "type": "carpet"
           }
          ],
          "choropleth": [
           {
            "colorbar": {
             "outlinewidth": 0,
             "ticks": ""
            },
            "type": "choropleth"
           }
          ],
          "contour": [
           {
            "colorbar": {
             "outlinewidth": 0,
             "ticks": ""
            },
            "colorscale": [
             [
              0,
              "#0d0887"
             ],
             [
              0.1111111111111111,
              "#46039f"
             ],
             [
              0.2222222222222222,
              "#7201a8"
             ],
             [
              0.3333333333333333,
              "#9c179e"
             ],
             [
              0.4444444444444444,
              "#bd3786"
             ],
             [
              0.5555555555555556,
              "#d8576b"
             ],
             [
              0.6666666666666666,
              "#ed7953"
             ],
             [
              0.7777777777777778,
              "#fb9f3a"
             ],
             [
              0.8888888888888888,
              "#fdca26"
             ],
             [
              1,
              "#f0f921"
             ]
            ],
            "type": "contour"
           }
          ],
          "contourcarpet": [
           {
            "colorbar": {
             "outlinewidth": 0,
             "ticks": ""
            },
            "type": "contourcarpet"
           }
          ],
          "heatmap": [
           {
            "colorbar": {
             "outlinewidth": 0,
             "ticks": ""
            },
            "colorscale": [
             [
              0,
              "#0d0887"
             ],
             [
              0.1111111111111111,
              "#46039f"
             ],
             [
              0.2222222222222222,
              "#7201a8"
             ],
             [
              0.3333333333333333,
              "#9c179e"
             ],
             [
              0.4444444444444444,
              "#bd3786"
             ],
             [
              0.5555555555555556,
              "#d8576b"
             ],
             [
              0.6666666666666666,
              "#ed7953"
             ],
             [
              0.7777777777777778,
              "#fb9f3a"
             ],
             [
              0.8888888888888888,
              "#fdca26"
             ],
             [
              1,
              "#f0f921"
             ]
            ],
            "type": "heatmap"
           }
          ],
          "histogram": [
           {
            "marker": {
             "pattern": {
              "fillmode": "overlay",
              "size": 10,
              "solidity": 0.2
             }
            },
            "type": "histogram"
           }
          ],
          "histogram2d": [
           {
            "colorbar": {
             "outlinewidth": 0,
             "ticks": ""
            },
            "colorscale": [
             [
              0,
              "#0d0887"
             ],
             [
              0.1111111111111111,
              "#46039f"
             ],
             [
              0.2222222222222222,
              "#7201a8"
             ],
             [
              0.3333333333333333,
              "#9c179e"
             ],
             [
              0.4444444444444444,
              "#bd3786"
             ],
             [
              0.5555555555555556,
              "#d8576b"
             ],
             [
              0.6666666666666666,
              "#ed7953"
             ],
             [
              0.7777777777777778,
              "#fb9f3a"
             ],
             [
              0.8888888888888888,
              "#fdca26"
             ],
             [
              1,
              "#f0f921"
             ]
            ],
            "type": "histogram2d"
           }
          ],
          "histogram2dcontour": [
           {
            "colorbar": {
             "outlinewidth": 0,
             "ticks": ""
            },
            "colorscale": [
             [
              0,
              "#0d0887"
             ],
             [
              0.1111111111111111,
              "#46039f"
             ],
             [
              0.2222222222222222,
              "#7201a8"
             ],
             [
              0.3333333333333333,
              "#9c179e"
             ],
             [
              0.4444444444444444,
              "#bd3786"
             ],
             [
              0.5555555555555556,
              "#d8576b"
             ],
             [
              0.6666666666666666,
              "#ed7953"
             ],
             [
              0.7777777777777778,
              "#fb9f3a"
             ],
             [
              0.8888888888888888,
              "#fdca26"
             ],
             [
              1,
              "#f0f921"
             ]
            ],
            "type": "histogram2dcontour"
           }
          ],
          "mesh3d": [
           {
            "colorbar": {
             "outlinewidth": 0,
             "ticks": ""
            },
            "type": "mesh3d"
           }
          ],
          "parcoords": [
           {
            "line": {
             "colorbar": {
              "outlinewidth": 0,
              "ticks": ""
             }
            },
            "type": "parcoords"
           }
          ],
          "pie": [
           {
            "automargin": true,
            "type": "pie"
           }
          ],
          "scatter": [
           {
            "fillpattern": {
             "fillmode": "overlay",
             "size": 10,
             "solidity": 0.2
            },
            "type": "scatter"
           }
          ],
          "scatter3d": [
           {
            "line": {
             "colorbar": {
              "outlinewidth": 0,
              "ticks": ""
             }
            },
            "marker": {
             "colorbar": {
              "outlinewidth": 0,
              "ticks": ""
             }
            },
            "type": "scatter3d"
           }
          ],
          "scattercarpet": [
           {
            "marker": {
             "colorbar": {
              "outlinewidth": 0,
              "ticks": ""
             }
            },
            "type": "scattercarpet"
           }
          ],
          "scattergeo": [
           {
            "marker": {
             "colorbar": {
              "outlinewidth": 0,
              "ticks": ""
             }
            },
            "type": "scattergeo"
           }
          ],
          "scattergl": [
           {
            "marker": {
             "colorbar": {
              "outlinewidth": 0,
              "ticks": ""
             }
            },
            "type": "scattergl"
           }
          ],
          "scattermap": [
           {
            "marker": {
             "colorbar": {
              "outlinewidth": 0,
              "ticks": ""
             }
            },
            "type": "scattermap"
           }
          ],
          "scattermapbox": [
           {
            "marker": {
             "colorbar": {
              "outlinewidth": 0,
              "ticks": ""
             }
            },
            "type": "scattermapbox"
           }
          ],
          "scatterpolar": [
           {
            "marker": {
             "colorbar": {
              "outlinewidth": 0,
              "ticks": ""
             }
            },
            "type": "scatterpolar"
           }
          ],
          "scatterpolargl": [
           {
            "marker": {
             "colorbar": {
              "outlinewidth": 0,
              "ticks": ""
             }
            },
            "type": "scatterpolargl"
           }
          ],
          "scatterternary": [
           {
            "marker": {
             "colorbar": {
              "outlinewidth": 0,
              "ticks": ""
             }
            },
            "type": "scatterternary"
           }
          ],
          "surface": [
           {
            "colorbar": {
             "outlinewidth": 0,
             "ticks": ""
            },
            "colorscale": [
             [
              0,
              "#0d0887"
             ],
             [
              0.1111111111111111,
              "#46039f"
             ],
             [
              0.2222222222222222,
              "#7201a8"
             ],
             [
              0.3333333333333333,
              "#9c179e"
             ],
             [
              0.4444444444444444,
              "#bd3786"
             ],
             [
              0.5555555555555556,
              "#d8576b"
             ],
             [
              0.6666666666666666,
              "#ed7953"
             ],
             [
              0.7777777777777778,
              "#fb9f3a"
             ],
             [
              0.8888888888888888,
              "#fdca26"
             ],
             [
              1,
              "#f0f921"
             ]
            ],
            "type": "surface"
           }
          ],
          "table": [
           {
            "cells": {
             "fill": {
              "color": "#EBF0F8"
             },
             "line": {
              "color": "white"
             }
            },
            "header": {
             "fill": {
              "color": "#C8D4E3"
             },
             "line": {
              "color": "white"
             }
            },
            "type": "table"
           }
          ]
         },
         "layout": {
          "annotationdefaults": {
           "arrowcolor": "#2a3f5f",
           "arrowhead": 0,
           "arrowwidth": 1
          },
          "autotypenumbers": "strict",
          "coloraxis": {
           "colorbar": {
            "outlinewidth": 0,
            "ticks": ""
           }
          },
          "colorscale": {
           "diverging": [
            [
             0,
             "#8e0152"
            ],
            [
             0.1,
             "#c51b7d"
            ],
            [
             0.2,
             "#de77ae"
            ],
            [
             0.3,
             "#f1b6da"
            ],
            [
             0.4,
             "#fde0ef"
            ],
            [
             0.5,
             "#f7f7f7"
            ],
            [
             0.6,
             "#e6f5d0"
            ],
            [
             0.7,
             "#b8e186"
            ],
            [
             0.8,
             "#7fbc41"
            ],
            [
             0.9,
             "#4d9221"
            ],
            [
             1,
             "#276419"
            ]
           ],
           "sequential": [
            [
             0,
             "#0d0887"
            ],
            [
             0.1111111111111111,
             "#46039f"
            ],
            [
             0.2222222222222222,
             "#7201a8"
            ],
            [
             0.3333333333333333,
             "#9c179e"
            ],
            [
             0.4444444444444444,
             "#bd3786"
            ],
            [
             0.5555555555555556,
             "#d8576b"
            ],
            [
             0.6666666666666666,
             "#ed7953"
            ],
            [
             0.7777777777777778,
             "#fb9f3a"
            ],
            [
             0.8888888888888888,
             "#fdca26"
            ],
            [
             1,
             "#f0f921"
            ]
           ],
           "sequentialminus": [
            [
             0,
             "#0d0887"
            ],
            [
             0.1111111111111111,
             "#46039f"
            ],
            [
             0.2222222222222222,
             "#7201a8"
            ],
            [
             0.3333333333333333,
             "#9c179e"
            ],
            [
             0.4444444444444444,
             "#bd3786"
            ],
            [
             0.5555555555555556,
             "#d8576b"
            ],
            [
             0.6666666666666666,
             "#ed7953"
            ],
            [
             0.7777777777777778,
             "#fb9f3a"
            ],
            [
             0.8888888888888888,
             "#fdca26"
            ],
            [
             1,
             "#f0f921"
            ]
           ]
          },
          "colorway": [
           "#636efa",
           "#EF553B",
           "#00cc96",
           "#ab63fa",
           "#FFA15A",
           "#19d3f3",
           "#FF6692",
           "#B6E880",
           "#FF97FF",
           "#FECB52"
          ],
          "font": {
           "color": "#2a3f5f"
          },
          "geo": {
           "bgcolor": "white",
           "lakecolor": "white",
           "landcolor": "#E5ECF6",
           "showlakes": true,
           "showland": true,
           "subunitcolor": "white"
          },
          "hoverlabel": {
           "align": "left"
          },
          "hovermode": "closest",
          "mapbox": {
           "style": "light"
          },
          "paper_bgcolor": "white",
          "plot_bgcolor": "#E5ECF6",
          "polar": {
           "angularaxis": {
            "gridcolor": "white",
            "linecolor": "white",
            "ticks": ""
           },
           "bgcolor": "#E5ECF6",
           "radialaxis": {
            "gridcolor": "white",
            "linecolor": "white",
            "ticks": ""
           }
          },
          "scene": {
           "xaxis": {
            "backgroundcolor": "#E5ECF6",
            "gridcolor": "white",
            "gridwidth": 2,
            "linecolor": "white",
            "showbackground": true,
            "ticks": "",
            "zerolinecolor": "white"
           },
           "yaxis": {
            "backgroundcolor": "#E5ECF6",
            "gridcolor": "white",
            "gridwidth": 2,
            "linecolor": "white",
            "showbackground": true,
            "ticks": "",
            "zerolinecolor": "white"
           },
           "zaxis": {
            "backgroundcolor": "#E5ECF6",
            "gridcolor": "white",
            "gridwidth": 2,
            "linecolor": "white",
            "showbackground": true,
            "ticks": "",
            "zerolinecolor": "white"
           }
          },
          "shapedefaults": {
           "line": {
            "color": "#2a3f5f"
           }
          },
          "ternary": {
           "aaxis": {
            "gridcolor": "white",
            "linecolor": "white",
            "ticks": ""
           },
           "baxis": {
            "gridcolor": "white",
            "linecolor": "white",
            "ticks": ""
           },
           "bgcolor": "#E5ECF6",
           "caxis": {
            "gridcolor": "white",
            "linecolor": "white",
            "ticks": ""
           }
          },
          "title": {
           "x": 0.05
          },
          "xaxis": {
           "automargin": true,
           "gridcolor": "white",
           "linecolor": "white",
           "ticks": "",
           "title": {
            "standoff": 15
           },
           "zerolinecolor": "white",
           "zerolinewidth": 2
          },
          "yaxis": {
           "automargin": true,
           "gridcolor": "white",
           "linecolor": "white",
           "ticks": "",
           "title": {
            "standoff": 15
           },
           "zerolinecolor": "white",
           "zerolinewidth": 2
          }
         }
        },
        "title": {
         "text": "weathersit counts"
        },
        "xaxis": {
         "title": {
          "text": "weathersit"
         }
        },
        "yaxis": {
         "title": {
          "text": "Frequency"
         }
        }
       }
      }
     },
     "metadata": {},
     "output_type": "display_data"
    },
    {
     "data": {
      "application/vnd.plotly.v1+json": {
       "config": {
        "plotlyServerURL": "https://plot.ly"
       },
       "data": [
        {
         "marker": {
          "color": "steelblue"
         },
         "type": "bar",
         "x": {
          "bdata": "AQAAAAIAAAADAAAABAAAAAUAAAAGAAAABwAAAAgAAAAJAAAACgAAAAsAAAAMAAAADQAAAA4AAAAPAAAAEAAAABEAAAASAAAAEwAAABQAAAAVAAAAFgAAABcAAAAYAAAAGQAAABoAAAAbAAAAHAAAAB0AAAAeAAAAHwAAAA==",
          "dtype": "i4"
         },
         "y": {
          "bdata": "GBgYGBgYGBgYGBgYGBgYGBgYGBgYGBgYGBgYGBcWDg==",
          "dtype": "i1"
         }
        }
       ],
       "layout": {
        "template": {
         "data": {
          "bar": [
           {
            "error_x": {
             "color": "#2a3f5f"
            },
            "error_y": {
             "color": "#2a3f5f"
            },
            "marker": {
             "line": {
              "color": "#E5ECF6",
              "width": 0.5
             },
             "pattern": {
              "fillmode": "overlay",
              "size": 10,
              "solidity": 0.2
             }
            },
            "type": "bar"
           }
          ],
          "barpolar": [
           {
            "marker": {
             "line": {
              "color": "#E5ECF6",
              "width": 0.5
             },
             "pattern": {
              "fillmode": "overlay",
              "size": 10,
              "solidity": 0.2
             }
            },
            "type": "barpolar"
           }
          ],
          "carpet": [
           {
            "aaxis": {
             "endlinecolor": "#2a3f5f",
             "gridcolor": "white",
             "linecolor": "white",
             "minorgridcolor": "white",
             "startlinecolor": "#2a3f5f"
            },
            "baxis": {
             "endlinecolor": "#2a3f5f",
             "gridcolor": "white",
             "linecolor": "white",
             "minorgridcolor": "white",
             "startlinecolor": "#2a3f5f"
            },
            "type": "carpet"
           }
          ],
          "choropleth": [
           {
            "colorbar": {
             "outlinewidth": 0,
             "ticks": ""
            },
            "type": "choropleth"
           }
          ],
          "contour": [
           {
            "colorbar": {
             "outlinewidth": 0,
             "ticks": ""
            },
            "colorscale": [
             [
              0,
              "#0d0887"
             ],
             [
              0.1111111111111111,
              "#46039f"
             ],
             [
              0.2222222222222222,
              "#7201a8"
             ],
             [
              0.3333333333333333,
              "#9c179e"
             ],
             [
              0.4444444444444444,
              "#bd3786"
             ],
             [
              0.5555555555555556,
              "#d8576b"
             ],
             [
              0.6666666666666666,
              "#ed7953"
             ],
             [
              0.7777777777777778,
              "#fb9f3a"
             ],
             [
              0.8888888888888888,
              "#fdca26"
             ],
             [
              1,
              "#f0f921"
             ]
            ],
            "type": "contour"
           }
          ],
          "contourcarpet": [
           {
            "colorbar": {
             "outlinewidth": 0,
             "ticks": ""
            },
            "type": "contourcarpet"
           }
          ],
          "heatmap": [
           {
            "colorbar": {
             "outlinewidth": 0,
             "ticks": ""
            },
            "colorscale": [
             [
              0,
              "#0d0887"
             ],
             [
              0.1111111111111111,
              "#46039f"
             ],
             [
              0.2222222222222222,
              "#7201a8"
             ],
             [
              0.3333333333333333,
              "#9c179e"
             ],
             [
              0.4444444444444444,
              "#bd3786"
             ],
             [
              0.5555555555555556,
              "#d8576b"
             ],
             [
              0.6666666666666666,
              "#ed7953"
             ],
             [
              0.7777777777777778,
              "#fb9f3a"
             ],
             [
              0.8888888888888888,
              "#fdca26"
             ],
             [
              1,
              "#f0f921"
             ]
            ],
            "type": "heatmap"
           }
          ],
          "histogram": [
           {
            "marker": {
             "pattern": {
              "fillmode": "overlay",
              "size": 10,
              "solidity": 0.2
             }
            },
            "type": "histogram"
           }
          ],
          "histogram2d": [
           {
            "colorbar": {
             "outlinewidth": 0,
             "ticks": ""
            },
            "colorscale": [
             [
              0,
              "#0d0887"
             ],
             [
              0.1111111111111111,
              "#46039f"
             ],
             [
              0.2222222222222222,
              "#7201a8"
             ],
             [
              0.3333333333333333,
              "#9c179e"
             ],
             [
              0.4444444444444444,
              "#bd3786"
             ],
             [
              0.5555555555555556,
              "#d8576b"
             ],
             [
              0.6666666666666666,
              "#ed7953"
             ],
             [
              0.7777777777777778,
              "#fb9f3a"
             ],
             [
              0.8888888888888888,
              "#fdca26"
             ],
             [
              1,
              "#f0f921"
             ]
            ],
            "type": "histogram2d"
           }
          ],
          "histogram2dcontour": [
           {
            "colorbar": {
             "outlinewidth": 0,
             "ticks": ""
            },
            "colorscale": [
             [
              0,
              "#0d0887"
             ],
             [
              0.1111111111111111,
              "#46039f"
             ],
             [
              0.2222222222222222,
              "#7201a8"
             ],
             [
              0.3333333333333333,
              "#9c179e"
             ],
             [
              0.4444444444444444,
              "#bd3786"
             ],
             [
              0.5555555555555556,
              "#d8576b"
             ],
             [
              0.6666666666666666,
              "#ed7953"
             ],
             [
              0.7777777777777778,
              "#fb9f3a"
             ],
             [
              0.8888888888888888,
              "#fdca26"
             ],
             [
              1,
              "#f0f921"
             ]
            ],
            "type": "histogram2dcontour"
           }
          ],
          "mesh3d": [
           {
            "colorbar": {
             "outlinewidth": 0,
             "ticks": ""
            },
            "type": "mesh3d"
           }
          ],
          "parcoords": [
           {
            "line": {
             "colorbar": {
              "outlinewidth": 0,
              "ticks": ""
             }
            },
            "type": "parcoords"
           }
          ],
          "pie": [
           {
            "automargin": true,
            "type": "pie"
           }
          ],
          "scatter": [
           {
            "fillpattern": {
             "fillmode": "overlay",
             "size": 10,
             "solidity": 0.2
            },
            "type": "scatter"
           }
          ],
          "scatter3d": [
           {
            "line": {
             "colorbar": {
              "outlinewidth": 0,
              "ticks": ""
             }
            },
            "marker": {
             "colorbar": {
              "outlinewidth": 0,
              "ticks": ""
             }
            },
            "type": "scatter3d"
           }
          ],
          "scattercarpet": [
           {
            "marker": {
             "colorbar": {
              "outlinewidth": 0,
              "ticks": ""
             }
            },
            "type": "scattercarpet"
           }
          ],
          "scattergeo": [
           {
            "marker": {
             "colorbar": {
              "outlinewidth": 0,
              "ticks": ""
             }
            },
            "type": "scattergeo"
           }
          ],
          "scattergl": [
           {
            "marker": {
             "colorbar": {
              "outlinewidth": 0,
              "ticks": ""
             }
            },
            "type": "scattergl"
           }
          ],
          "scattermap": [
           {
            "marker": {
             "colorbar": {
              "outlinewidth": 0,
              "ticks": ""
             }
            },
            "type": "scattermap"
           }
          ],
          "scattermapbox": [
           {
            "marker": {
             "colorbar": {
              "outlinewidth": 0,
              "ticks": ""
             }
            },
            "type": "scattermapbox"
           }
          ],
          "scatterpolar": [
           {
            "marker": {
             "colorbar": {
              "outlinewidth": 0,
              "ticks": ""
             }
            },
            "type": "scatterpolar"
           }
          ],
          "scatterpolargl": [
           {
            "marker": {
             "colorbar": {
              "outlinewidth": 0,
              "ticks": ""
             }
            },
            "type": "scatterpolargl"
           }
          ],
          "scatterternary": [
           {
            "marker": {
             "colorbar": {
              "outlinewidth": 0,
              "ticks": ""
             }
            },
            "type": "scatterternary"
           }
          ],
          "surface": [
           {
            "colorbar": {
             "outlinewidth": 0,
             "ticks": ""
            },
            "colorscale": [
             [
              0,
              "#0d0887"
             ],
             [
              0.1111111111111111,
              "#46039f"
             ],
             [
              0.2222222222222222,
              "#7201a8"
             ],
             [
              0.3333333333333333,
              "#9c179e"
             ],
             [
              0.4444444444444444,
              "#bd3786"
             ],
             [
              0.5555555555555556,
              "#d8576b"
             ],
             [
              0.6666666666666666,
              "#ed7953"
             ],
             [
              0.7777777777777778,
              "#fb9f3a"
             ],
             [
              0.8888888888888888,
              "#fdca26"
             ],
             [
              1,
              "#f0f921"
             ]
            ],
            "type": "surface"
           }
          ],
          "table": [
           {
            "cells": {
             "fill": {
              "color": "#EBF0F8"
             },
             "line": {
              "color": "white"
             }
            },
            "header": {
             "fill": {
              "color": "#C8D4E3"
             },
             "line": {
              "color": "white"
             }
            },
            "type": "table"
           }
          ]
         },
         "layout": {
          "annotationdefaults": {
           "arrowcolor": "#2a3f5f",
           "arrowhead": 0,
           "arrowwidth": 1
          },
          "autotypenumbers": "strict",
          "coloraxis": {
           "colorbar": {
            "outlinewidth": 0,
            "ticks": ""
           }
          },
          "colorscale": {
           "diverging": [
            [
             0,
             "#8e0152"
            ],
            [
             0.1,
             "#c51b7d"
            ],
            [
             0.2,
             "#de77ae"
            ],
            [
             0.3,
             "#f1b6da"
            ],
            [
             0.4,
             "#fde0ef"
            ],
            [
             0.5,
             "#f7f7f7"
            ],
            [
             0.6,
             "#e6f5d0"
            ],
            [
             0.7,
             "#b8e186"
            ],
            [
             0.8,
             "#7fbc41"
            ],
            [
             0.9,
             "#4d9221"
            ],
            [
             1,
             "#276419"
            ]
           ],
           "sequential": [
            [
             0,
             "#0d0887"
            ],
            [
             0.1111111111111111,
             "#46039f"
            ],
            [
             0.2222222222222222,
             "#7201a8"
            ],
            [
             0.3333333333333333,
             "#9c179e"
            ],
            [
             0.4444444444444444,
             "#bd3786"
            ],
            [
             0.5555555555555556,
             "#d8576b"
            ],
            [
             0.6666666666666666,
             "#ed7953"
            ],
            [
             0.7777777777777778,
             "#fb9f3a"
            ],
            [
             0.8888888888888888,
             "#fdca26"
            ],
            [
             1,
             "#f0f921"
            ]
           ],
           "sequentialminus": [
            [
             0,
             "#0d0887"
            ],
            [
             0.1111111111111111,
             "#46039f"
            ],
            [
             0.2222222222222222,
             "#7201a8"
            ],
            [
             0.3333333333333333,
             "#9c179e"
            ],
            [
             0.4444444444444444,
             "#bd3786"
            ],
            [
             0.5555555555555556,
             "#d8576b"
            ],
            [
             0.6666666666666666,
             "#ed7953"
            ],
            [
             0.7777777777777778,
             "#fb9f3a"
            ],
            [
             0.8888888888888888,
             "#fdca26"
            ],
            [
             1,
             "#f0f921"
            ]
           ]
          },
          "colorway": [
           "#636efa",
           "#EF553B",
           "#00cc96",
           "#ab63fa",
           "#FFA15A",
           "#19d3f3",
           "#FF6692",
           "#B6E880",
           "#FF97FF",
           "#FECB52"
          ],
          "font": {
           "color": "#2a3f5f"
          },
          "geo": {
           "bgcolor": "white",
           "lakecolor": "white",
           "landcolor": "#E5ECF6",
           "showlakes": true,
           "showland": true,
           "subunitcolor": "white"
          },
          "hoverlabel": {
           "align": "left"
          },
          "hovermode": "closest",
          "mapbox": {
           "style": "light"
          },
          "paper_bgcolor": "white",
          "plot_bgcolor": "#E5ECF6",
          "polar": {
           "angularaxis": {
            "gridcolor": "white",
            "linecolor": "white",
            "ticks": ""
           },
           "bgcolor": "#E5ECF6",
           "radialaxis": {
            "gridcolor": "white",
            "linecolor": "white",
            "ticks": ""
           }
          },
          "scene": {
           "xaxis": {
            "backgroundcolor": "#E5ECF6",
            "gridcolor": "white",
            "gridwidth": 2,
            "linecolor": "white",
            "showbackground": true,
            "ticks": "",
            "zerolinecolor": "white"
           },
           "yaxis": {
            "backgroundcolor": "#E5ECF6",
            "gridcolor": "white",
            "gridwidth": 2,
            "linecolor": "white",
            "showbackground": true,
            "ticks": "",
            "zerolinecolor": "white"
           },
           "zaxis": {
            "backgroundcolor": "#E5ECF6",
            "gridcolor": "white",
            "gridwidth": 2,
            "linecolor": "white",
            "showbackground": true,
            "ticks": "",
            "zerolinecolor": "white"
           }
          },
          "shapedefaults": {
           "line": {
            "color": "#2a3f5f"
           }
          },
          "ternary": {
           "aaxis": {
            "gridcolor": "white",
            "linecolor": "white",
            "ticks": ""
           },
           "baxis": {
            "gridcolor": "white",
            "linecolor": "white",
            "ticks": ""
           },
           "bgcolor": "#E5ECF6",
           "caxis": {
            "gridcolor": "white",
            "linecolor": "white",
            "ticks": ""
           }
          },
          "title": {
           "x": 0.05
          },
          "xaxis": {
           "automargin": true,
           "gridcolor": "white",
           "linecolor": "white",
           "ticks": "",
           "title": {
            "standoff": 15
           },
           "zerolinecolor": "white",
           "zerolinewidth": 2
          },
          "yaxis": {
           "automargin": true,
           "gridcolor": "white",
           "linecolor": "white",
           "ticks": "",
           "title": {
            "standoff": 15
           },
           "zerolinecolor": "white",
           "zerolinewidth": 2
          }
         }
        },
        "title": {
         "text": "day counts"
        },
        "xaxis": {
         "title": {
          "text": "day"
         }
        },
        "yaxis": {
         "title": {
          "text": "Frequency"
         }
        }
       }
      }
     },
     "metadata": {},
     "output_type": "display_data"
    }
   ],
   "source": [
    "import plotly.graph_objects as go\n",
    "\n",
    "categorical_features = ['season', 'mnth', 'holiday', 'weekday', 'workingday', 'weathersit', 'day']\n",
    "\n",
    "for col in categorical_features:\n",
    "    counts = bike_data[col].value_counts().sort_index()\n",
    "    fig = go.Figure(data=[go.Bar(x=counts.index, y=counts.values, marker_color='steelblue')])\n",
    "    fig.update_layout(\n",
    "        title=f'{col} counts',\n",
    "        xaxis_title=col,\n",
    "        yaxis_title='Frequency'\n",
    "    )\n",
    "    fig.show()\n"
   ]
  },
  {
   "cell_type": "markdown",
   "id": "a78554a2",
   "metadata": {},
   "source": [
    "![Distribución de Rentas](assets/DistributionsCategorical.png)"
   ]
  },
  {
   "cell_type": "markdown",
   "id": "543622c1",
   "metadata": {},
   "source": [
    "Muchas de las características categóricas muestran una distribución más o menos *uniforme* (es decir, hay aproximadamente la misma cantidad de filas para cada categoría). Las excepciones a esto incluyen:\n",
    "\n",
    "- **holiday**: Hay muchos menos días festivos que días que no lo son.\n",
    "- **workingday**: Hay más días laborables que no laborables.\n",
    "- **weathersit**: La mayoría de los días pertenecen a la categoría *1* (despejado), siendo la categoría *2* (neblina y nubes) la siguiente más común. Hay relativamente pocos días en la categoría *3* (lluvia o nieve ligera), y ningún día en la categoría *4* (lluvia fuerte, granizo o niebla densa).\n",
    "\n",
    "Ahora que sabemos algo sobre la distribución de los datos en nuestras columnas, podemos comenzar a buscar relaciones entre las características y la etiqueta **rentals** que queremos predecir.\n",
    "\n",
    "Para las características numéricas, podemos crear diagramas de dispersión (*scatter plots*) que muestren la intersección entre los valores de las características y los valores de la etiqueta. También podemos calcular la estadística de *correlación* para cuantificar la relación aparente."
   ]
  },
  {
   "cell_type": "code",
   "execution_count": 21,
   "id": "4ae235ed",
   "metadata": {},
   "outputs": [
    {
     "data": {
      "application/vnd.plotly.v1+json": {
       "config": {
        "plotlyServerURL": "https://plot.ly"
       },
       "data": [
        {
         "marker": {
          "color": "royalblue",
          "opacity": 0.6
         },
         "mode": "markers",
         "name": "Data",
         "type": "scatter",
         "x": {
          "bdata": "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",
          "dtype": "f8"
         },
         "y": {
          "bdata": "SwGDAHgAbABSAFgAlABEADYAKQArABkAJgA2AN4A+wB1AAkATgBTAEsAXQCWAFYAugAiAA8AJgB7AIwAKgAvAEgAPQBYAGQAYgF4AEAANQAvAJUAIAGNAdAAjADaAAMBQwIUAn8CwwBKAIsAZAB4AKgBtgJRAIkA5wB7ANYAgAJyAPQAPAG/AC4A9wDUAtYDZwEhAUEBqAF0A5AFFwSRAcwBywCmACwB1QPYAd4APQGoALMAMwGCA3MG3gKnAJ0BOwKsAG8DpARXAwEB0QARAoICeQAWBp0CmQFlAukCsQC2Ba4GBQOmAiMCOQJuA60HcgRPA1sC/wBmAn4DTAZ5BZgCtgImArcCtAKGAy4GBQOmAhgC3wKNA9IIKAZEA5MC5AL2AmcD0QczCQ0GoQIBAuACggNNB5UGoQL7AqQCMwIvA8EGuwVfA9cCAQMhAl8DDwdnBrsCBgOVAuoCyQP2BoAHVgPcAlADAwTeBJwI6gj5CwcEEAPyArQCxAfPBtMClgLsAngDJgVyCdYHSQPwAoQCeAIyAtsDGgQ4Au4C8wJeAp4CFwb0BdkCIQPTAR8D/wPxBRIFTgOLA3QDLAMbBOAFOgUHA9ECnAJ/Ah0DegfhBEEDAQW1A7MBAAPiAIcF2QIHA7ACDwNrA48H2QnUBMwAdgCZAKEB1gZhBrICvQKHAqwB5gKaBUkFswK2ARsCKwICAfAGCAasAt0B4AGNAj4D4AFoAkoB5gEvAn8CtQO7CF0J6gWbAtkAIgERAmsH1AbJAn0C/gDXAaQC2wVTBrsCtwKUAfAAyAE5AHUDagGaAXIBPgHWAYQEuAN1AXgBMQG+ALgB+wTsA1MCwQGRAIsA9QCvAxMD3ABFAHAAMAJHBOEEKgP9AGAAvAC2AAwBwgJ6AukAfgAyAJYABQH2AXkBjwCbALIAtQCyABMB3AAEAdgAawDjAKMAmwAvAa4BZwD/AP4A6wGZAq4C9ABZAF8AjAAzAS4EVwJqAK0AXAANAa4ATQEcAdkAfwBtAIIAcwBDAMQAkQC3AdMB9AANAQcDLgJ+AEQBMAG+ADYBgAE+Ac4AxwBtAKMA4wDAAEkAXgCHAI0ASgBdAZsFagL2AaMAigEEAvYAPQEDAv0A5QBBAEUB9gC8A8YCywDdALAB5gG/AcgDegZGA/oC5QPtAyQCUwyfCNYDGwRiBDYFpQkJBPwFGwMTAqICQgMcA/0IKwm4BEQFIgSoBA8HtAy2CIkDMwPiAZcC5ATrCh4LrgTdA1sBTgM8Be0JeADDAAYCjwLbAfYDYAS1CJkCjQKbAvwCLQTACVcI8APiAmwCAgQnBT4KfAhWAXEC3wPaBPEFUg2QCnYCMwP+AiMEiQUnC9MM/QlwA+kCTAQVAusKvgkvBMgDAwQOBNAFlAqwCPkD3QGVBJwEGwaTC0oKjQLIA2gDCgPEA2EK9wlzBDUENQSZAz0DrwWNBYgDHAQCCn0FVgWoBbME5gO6A88DCATnBTMJgAdABJkDHwN4A+sC8ATwCW8EdARnBQwE6wS6CGkIEATIAzIE1wMwBSkJqwbRBP4E7wSsBCkExwiGCLcEaASuBDoFywULC7gEAgQ5BEYEUwUtBSUHywXdA6cDmQSUBJkFMAk1Cq0HYwNAA2MCFQQVBgoKXgQuBBoEHgRjBVgMdgj+A3MBFAOrA+IE0AmWCekDTQMTA+8CFQQdCt8H+wI7AdgCewPsBdcLDQNqA1kCDANCAyQEzAggCPgCmgPTA/AD8QL2ClQIPgNJAxsDawOeBFMK5gMCAFcAowHSAWoCBQSxBHoB0gFGAVQBxQIqCPIISQRHAXUBQAHkASEFmgPBARYCZwK7A0MGFAI1AVEBewDGAPMAagG3A3wDKwInAksBVAFdAYEEuQFJARoBNgGpAa0B/wIaAtQAsQFNAToB3QDNAJgBrgC4AQkA9wCEAp8AbAG3AQ==",
          "dtype": "i2"
         }
        }
       ],
       "layout": {
        "height": 500,
        "template": {
         "data": {
          "bar": [
           {
            "error_x": {
             "color": "#2a3f5f"
            },
            "error_y": {
             "color": "#2a3f5f"
            },
            "marker": {
             "line": {
              "color": "#E5ECF6",
              "width": 0.5
             },
             "pattern": {
              "fillmode": "overlay",
              "size": 10,
              "solidity": 0.2
             }
            },
            "type": "bar"
           }
          ],
          "barpolar": [
           {
            "marker": {
             "line": {
              "color": "#E5ECF6",
              "width": 0.5
             },
             "pattern": {
              "fillmode": "overlay",
              "size": 10,
              "solidity": 0.2
             }
            },
            "type": "barpolar"
           }
          ],
          "carpet": [
           {
            "aaxis": {
             "endlinecolor": "#2a3f5f",
             "gridcolor": "white",
             "linecolor": "white",
             "minorgridcolor": "white",
             "startlinecolor": "#2a3f5f"
            },
            "baxis": {
             "endlinecolor": "#2a3f5f",
             "gridcolor": "white",
             "linecolor": "white",
             "minorgridcolor": "white",
             "startlinecolor": "#2a3f5f"
            },
            "type": "carpet"
           }
          ],
          "choropleth": [
           {
            "colorbar": {
             "outlinewidth": 0,
             "ticks": ""
            },
            "type": "choropleth"
           }
          ],
          "contour": [
           {
            "colorbar": {
             "outlinewidth": 0,
             "ticks": ""
            },
            "colorscale": [
             [
              0,
              "#0d0887"
             ],
             [
              0.1111111111111111,
              "#46039f"
             ],
             [
              0.2222222222222222,
              "#7201a8"
             ],
             [
              0.3333333333333333,
              "#9c179e"
             ],
             [
              0.4444444444444444,
              "#bd3786"
             ],
             [
              0.5555555555555556,
              "#d8576b"
             ],
             [
              0.6666666666666666,
              "#ed7953"
             ],
             [
              0.7777777777777778,
              "#fb9f3a"
             ],
             [
              0.8888888888888888,
              "#fdca26"
             ],
             [
              1,
              "#f0f921"
             ]
            ],
            "type": "contour"
           }
          ],
          "contourcarpet": [
           {
            "colorbar": {
             "outlinewidth": 0,
             "ticks": ""
            },
            "type": "contourcarpet"
           }
          ],
          "heatmap": [
           {
            "colorbar": {
             "outlinewidth": 0,
             "ticks": ""
            },
            "colorscale": [
             [
              0,
              "#0d0887"
             ],
             [
              0.1111111111111111,
              "#46039f"
             ],
             [
              0.2222222222222222,
              "#7201a8"
             ],
             [
              0.3333333333333333,
              "#9c179e"
             ],
             [
              0.4444444444444444,
              "#bd3786"
             ],
             [
              0.5555555555555556,
              "#d8576b"
             ],
             [
              0.6666666666666666,
              "#ed7953"
             ],
             [
              0.7777777777777778,
              "#fb9f3a"
             ],
             [
              0.8888888888888888,
              "#fdca26"
             ],
             [
              1,
              "#f0f921"
             ]
            ],
            "type": "heatmap"
           }
          ],
          "histogram": [
           {
            "marker": {
             "pattern": {
              "fillmode": "overlay",
              "size": 10,
              "solidity": 0.2
             }
            },
            "type": "histogram"
           }
          ],
          "histogram2d": [
           {
            "colorbar": {
             "outlinewidth": 0,
             "ticks": ""
            },
            "colorscale": [
             [
              0,
              "#0d0887"
             ],
             [
              0.1111111111111111,
              "#46039f"
             ],
             [
              0.2222222222222222,
              "#7201a8"
             ],
             [
              0.3333333333333333,
              "#9c179e"
             ],
             [
              0.4444444444444444,
              "#bd3786"
             ],
             [
              0.5555555555555556,
              "#d8576b"
             ],
             [
              0.6666666666666666,
              "#ed7953"
             ],
             [
              0.7777777777777778,
              "#fb9f3a"
             ],
             [
              0.8888888888888888,
              "#fdca26"
             ],
             [
              1,
              "#f0f921"
             ]
            ],
            "type": "histogram2d"
           }
          ],
          "histogram2dcontour": [
           {
            "colorbar": {
             "outlinewidth": 0,
             "ticks": ""
            },
            "colorscale": [
             [
              0,
              "#0d0887"
             ],
             [
              0.1111111111111111,
              "#46039f"
             ],
             [
              0.2222222222222222,
              "#7201a8"
             ],
             [
              0.3333333333333333,
              "#9c179e"
             ],
             [
              0.4444444444444444,
              "#bd3786"
             ],
             [
              0.5555555555555556,
              "#d8576b"
             ],
             [
              0.6666666666666666,
              "#ed7953"
             ],
             [
              0.7777777777777778,
              "#fb9f3a"
             ],
             [
              0.8888888888888888,
              "#fdca26"
             ],
             [
              1,
              "#f0f921"
             ]
            ],
            "type": "histogram2dcontour"
           }
          ],
          "mesh3d": [
           {
            "colorbar": {
             "outlinewidth": 0,
             "ticks": ""
            },
            "type": "mesh3d"
           }
          ],
          "parcoords": [
           {
            "line": {
             "colorbar": {
              "outlinewidth": 0,
              "ticks": ""
             }
            },
            "type": "parcoords"
           }
          ],
          "pie": [
           {
            "automargin": true,
            "type": "pie"
           }
          ],
          "scatter": [
           {
            "fillpattern": {
             "fillmode": "overlay",
             "size": 10,
             "solidity": 0.2
            },
            "type": "scatter"
           }
          ],
          "scatter3d": [
           {
            "line": {
             "colorbar": {
              "outlinewidth": 0,
              "ticks": ""
             }
            },
            "marker": {
             "colorbar": {
              "outlinewidth": 0,
              "ticks": ""
             }
            },
            "type": "scatter3d"
           }
          ],
          "scattercarpet": [
           {
            "marker": {
             "colorbar": {
              "outlinewidth": 0,
              "ticks": ""
             }
            },
            "type": "scattercarpet"
           }
          ],
          "scattergeo": [
           {
            "marker": {
             "colorbar": {
              "outlinewidth": 0,
              "ticks": ""
             }
            },
            "type": "scattergeo"
           }
          ],
          "scattergl": [
           {
            "marker": {
             "colorbar": {
              "outlinewidth": 0,
              "ticks": ""
             }
            },
            "type": "scattergl"
           }
          ],
          "scattermap": [
           {
            "marker": {
             "colorbar": {
              "outlinewidth": 0,
              "ticks": ""
             }
            },
            "type": "scattermap"
           }
          ],
          "scattermapbox": [
           {
            "marker": {
             "colorbar": {
              "outlinewidth": 0,
              "ticks": ""
             }
            },
            "type": "scattermapbox"
           }
          ],
          "scatterpolar": [
           {
            "marker": {
             "colorbar": {
              "outlinewidth": 0,
              "ticks": ""
             }
            },
            "type": "scatterpolar"
           }
          ],
          "scatterpolargl": [
           {
            "marker": {
             "colorbar": {
              "outlinewidth": 0,
              "ticks": ""
             }
            },
            "type": "scatterpolargl"
           }
          ],
          "scatterternary": [
           {
            "marker": {
             "colorbar": {
              "outlinewidth": 0,
              "ticks": ""
             }
            },
            "type": "scatterternary"
           }
          ],
          "surface": [
           {
            "colorbar": {
             "outlinewidth": 0,
             "ticks": ""
            },
            "colorscale": [
             [
              0,
              "#0d0887"
             ],
             [
              0.1111111111111111,
              "#46039f"
             ],
             [
              0.2222222222222222,
              "#7201a8"
             ],
             [
              0.3333333333333333,
              "#9c179e"
             ],
             [
              0.4444444444444444,
              "#bd3786"
             ],
             [
              0.5555555555555556,
              "#d8576b"
             ],
             [
              0.6666666666666666,
              "#ed7953"
             ],
             [
              0.7777777777777778,
              "#fb9f3a"
             ],
             [
              0.8888888888888888,
              "#fdca26"
             ],
             [
              1,
              "#f0f921"
             ]
            ],
            "type": "surface"
           }
          ],
          "table": [
           {
            "cells": {
             "fill": {
              "color": "#EBF0F8"
             },
             "line": {
              "color": "white"
             }
            },
            "header": {
             "fill": {
              "color": "#C8D4E3"
             },
             "line": {
              "color": "white"
             }
            },
            "type": "table"
           }
          ]
         },
         "layout": {
          "annotationdefaults": {
           "arrowcolor": "#2a3f5f",
           "arrowhead": 0,
           "arrowwidth": 1
          },
          "autotypenumbers": "strict",
          "coloraxis": {
           "colorbar": {
            "outlinewidth": 0,
            "ticks": ""
           }
          },
          "colorscale": {
           "diverging": [
            [
             0,
             "#8e0152"
            ],
            [
             0.1,
             "#c51b7d"
            ],
            [
             0.2,
             "#de77ae"
            ],
            [
             0.3,
             "#f1b6da"
            ],
            [
             0.4,
             "#fde0ef"
            ],
            [
             0.5,
             "#f7f7f7"
            ],
            [
             0.6,
             "#e6f5d0"
            ],
            [
             0.7,
             "#b8e186"
            ],
            [
             0.8,
             "#7fbc41"
            ],
            [
             0.9,
             "#4d9221"
            ],
            [
             1,
             "#276419"
            ]
           ],
           "sequential": [
            [
             0,
             "#0d0887"
            ],
            [
             0.1111111111111111,
             "#46039f"
            ],
            [
             0.2222222222222222,
             "#7201a8"
            ],
            [
             0.3333333333333333,
             "#9c179e"
            ],
            [
             0.4444444444444444,
             "#bd3786"
            ],
            [
             0.5555555555555556,
             "#d8576b"
            ],
            [
             0.6666666666666666,
             "#ed7953"
            ],
            [
             0.7777777777777778,
             "#fb9f3a"
            ],
            [
             0.8888888888888888,
             "#fdca26"
            ],
            [
             1,
             "#f0f921"
            ]
           ],
           "sequentialminus": [
            [
             0,
             "#0d0887"
            ],
            [
             0.1111111111111111,
             "#46039f"
            ],
            [
             0.2222222222222222,
             "#7201a8"
            ],
            [
             0.3333333333333333,
             "#9c179e"
            ],
            [
             0.4444444444444444,
             "#bd3786"
            ],
            [
             0.5555555555555556,
             "#d8576b"
            ],
            [
             0.6666666666666666,
             "#ed7953"
            ],
            [
             0.7777777777777778,
             "#fb9f3a"
            ],
            [
             0.8888888888888888,
             "#fdca26"
            ],
            [
             1,
             "#f0f921"
            ]
           ]
          },
          "colorway": [
           "#636efa",
           "#EF553B",
           "#00cc96",
           "#ab63fa",
           "#FFA15A",
           "#19d3f3",
           "#FF6692",
           "#B6E880",
           "#FF97FF",
           "#FECB52"
          ],
          "font": {
           "color": "#2a3f5f"
          },
          "geo": {
           "bgcolor": "white",
           "lakecolor": "white",
           "landcolor": "#E5ECF6",
           "showlakes": true,
           "showland": true,
           "subunitcolor": "white"
          },
          "hoverlabel": {
           "align": "left"
          },
          "hovermode": "closest",
          "mapbox": {
           "style": "light"
          },
          "paper_bgcolor": "white",
          "plot_bgcolor": "#E5ECF6",
          "polar": {
           "angularaxis": {
            "gridcolor": "white",
            "linecolor": "white",
            "ticks": ""
           },
           "bgcolor": "#E5ECF6",
           "radialaxis": {
            "gridcolor": "white",
            "linecolor": "white",
            "ticks": ""
           }
          },
          "scene": {
           "xaxis": {
            "backgroundcolor": "#E5ECF6",
            "gridcolor": "white",
            "gridwidth": 2,
            "linecolor": "white",
            "showbackground": true,
            "ticks": "",
            "zerolinecolor": "white"
           },
           "yaxis": {
            "backgroundcolor": "#E5ECF6",
            "gridcolor": "white",
            "gridwidth": 2,
            "linecolor": "white",
            "showbackground": true,
            "ticks": "",
            "zerolinecolor": "white"
           },
           "zaxis": {
            "backgroundcolor": "#E5ECF6",
            "gridcolor": "white",
            "gridwidth": 2,
            "linecolor": "white",
            "showbackground": true,
            "ticks": "",
            "zerolinecolor": "white"
           }
          },
          "shapedefaults": {
           "line": {
            "color": "#2a3f5f"
           }
          },
          "ternary": {
           "aaxis": {
            "gridcolor": "white",
            "linecolor": "white",
            "ticks": ""
           },
           "baxis": {
            "gridcolor": "white",
            "linecolor": "white",
            "ticks": ""
           },
           "bgcolor": "#E5ECF6",
           "caxis": {
            "gridcolor": "white",
            "linecolor": "white",
            "ticks": ""
           }
          },
          "title": {
           "x": 0.05
          },
          "xaxis": {
           "automargin": true,
           "gridcolor": "white",
           "linecolor": "white",
           "ticks": "",
           "title": {
            "standoff": 15
           },
           "zerolinecolor": "white",
           "zerolinewidth": 2
          },
          "yaxis": {
           "automargin": true,
           "gridcolor": "white",
           "linecolor": "white",
           "ticks": "",
           "title": {
            "standoff": 15
           },
           "zerolinecolor": "white",
           "zerolinewidth": 2
          }
         }
        },
        "title": {
         "text": "rentals vs temp - correlation: 0.543"
        },
        "width": 700,
        "xaxis": {
         "title": {
          "text": "temp"
         }
        },
        "yaxis": {
         "title": {
          "text": "Bike Rentals"
         }
        }
       }
      }
     },
     "metadata": {},
     "output_type": "display_data"
    },
    {
     "data": {
      "application/vnd.plotly.v1+json": {
       "config": {
        "plotlyServerURL": "https://plot.ly"
       },
       "data": [
        {
         "marker": {
          "color": "royalblue",
          "opacity": 0.6
         },
         "mode": "markers",
         "name": "Data",
         "type": "scatter",
         "x": {
          "bdata": "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",
          "dtype": "f8"
         },
         "y": {
          "bdata": "SwGDAHgAbABSAFgAlABEADYAKQArABkAJgA2AN4A+wB1AAkATgBTAEsAXQCWAFYAugAiAA8AJgB7AIwAKgAvAEgAPQBYAGQAYgF4AEAANQAvAJUAIAGNAdAAjADaAAMBQwIUAn8CwwBKAIsAZAB4AKgBtgJRAIkA5wB7ANYAgAJyAPQAPAG/AC4A9wDUAtYDZwEhAUEBqAF0A5AFFwSRAcwBywCmACwB1QPYAd4APQGoALMAMwGCA3MG3gKnAJ0BOwKsAG8DpARXAwEB0QARAoICeQAWBp0CmQFlAukCsQC2Ba4GBQOmAiMCOQJuA60HcgRPA1sC/wBmAn4DTAZ5BZgCtgImArcCtAKGAy4GBQOmAhgC3wKNA9IIKAZEA5MC5AL2AmcD0QczCQ0GoQIBAuACggNNB5UGoQL7AqQCMwIvA8EGuwVfA9cCAQMhAl8DDwdnBrsCBgOVAuoCyQP2BoAHVgPcAlADAwTeBJwI6gj5CwcEEAPyArQCxAfPBtMClgLsAngDJgVyCdYHSQPwAoQCeAIyAtsDGgQ4Au4C8wJeAp4CFwb0BdkCIQPTAR8D/wPxBRIFTgOLA3QDLAMbBOAFOgUHA9ECnAJ/Ah0DegfhBEEDAQW1A7MBAAPiAIcF2QIHA7ACDwNrA48H2QnUBMwAdgCZAKEB1gZhBrICvQKHAqwB5gKaBUkFswK2ARsCKwICAfAGCAasAt0B4AGNAj4D4AFoAkoB5gEvAn8CtQO7CF0J6gWbAtkAIgERAmsH1AbJAn0C/gDXAaQC2wVTBrsCtwKUAfAAyAE5AHUDagGaAXIBPgHWAYQEuAN1AXgBMQG+ALgB+wTsA1MCwQGRAIsA9QCvAxMD3ABFAHAAMAJHBOEEKgP9AGAAvAC2AAwBwgJ6AukAfgAyAJYABQH2AXkBjwCbALIAtQCyABMB3AAEAdgAawDjAKMAmwAvAa4BZwD/AP4A6wGZAq4C9ABZAF8AjAAzAS4EVwJqAK0AXAANAa4ATQEcAdkAfwBtAIIAcwBDAMQAkQC3AdMB9AANAQcDLgJ+AEQBMAG+ADYBgAE+Ac4AxwBtAKMA4wDAAEkAXgCHAI0ASgBdAZsFagL2AaMAigEEAvYAPQEDAv0A5QBBAEUB9gC8A8YCywDdALAB5gG/AcgDegZGA/oC5QPtAyQCUwyfCNYDGwRiBDYFpQkJBPwFGwMTAqICQgMcA/0IKwm4BEQFIgSoBA8HtAy2CIkDMwPiAZcC5ATrCh4LrgTdA1sBTgM8Be0JeADDAAYCjwLbAfYDYAS1CJkCjQKbAvwCLQTACVcI8APiAmwCAgQnBT4KfAhWAXEC3wPaBPEFUg2QCnYCMwP+AiMEiQUnC9MM/QlwA+kCTAQVAusKvgkvBMgDAwQOBNAFlAqwCPkD3QGVBJwEGwaTC0oKjQLIA2gDCgPEA2EK9wlzBDUENQSZAz0DrwWNBYgDHAQCCn0FVgWoBbME5gO6A88DCATnBTMJgAdABJkDHwN4A+sC8ATwCW8EdARnBQwE6wS6CGkIEATIAzIE1wMwBSkJqwbRBP4E7wSsBCkExwiGCLcEaASuBDoFywULC7gEAgQ5BEYEUwUtBSUHywXdA6cDmQSUBJkFMAk1Cq0HYwNAA2MCFQQVBgoKXgQuBBoEHgRjBVgMdgj+A3MBFAOrA+IE0AmWCekDTQMTA+8CFQQdCt8H+wI7AdgCewPsBdcLDQNqA1kCDANCAyQEzAggCPgCmgPTA/AD8QL2ClQIPgNJAxsDawOeBFMK5gMCAFcAowHSAWoCBQSxBHoB0gFGAVQBxQIqCPIISQRHAXUBQAHkASEFmgPBARYCZwK7A0MGFAI1AVEBewDGAPMAagG3A3wDKwInAksBVAFdAYEEuQFJARoBNgGpAa0B/wIaAtQAsQFNAToB3QDNAJgBrgC4AQkA9wCEAp8AbAG3AQ==",
          "dtype": "i2"
         }
        }
       ],
       "layout": {
        "height": 500,
        "template": {
         "data": {
          "bar": [
           {
            "error_x": {
             "color": "#2a3f5f"
            },
            "error_y": {
             "color": "#2a3f5f"
            },
            "marker": {
             "line": {
              "color": "#E5ECF6",
              "width": 0.5
             },
             "pattern": {
              "fillmode": "overlay",
              "size": 10,
              "solidity": 0.2
             }
            },
            "type": "bar"
           }
          ],
          "barpolar": [
           {
            "marker": {
             "line": {
              "color": "#E5ECF6",
              "width": 0.5
             },
             "pattern": {
              "fillmode": "overlay",
              "size": 10,
              "solidity": 0.2
             }
            },
            "type": "barpolar"
           }
          ],
          "carpet": [
           {
            "aaxis": {
             "endlinecolor": "#2a3f5f",
             "gridcolor": "white",
             "linecolor": "white",
             "minorgridcolor": "white",
             "startlinecolor": "#2a3f5f"
            },
            "baxis": {
             "endlinecolor": "#2a3f5f",
             "gridcolor": "white",
             "linecolor": "white",
             "minorgridcolor": "white",
             "startlinecolor": "#2a3f5f"
            },
            "type": "carpet"
           }
          ],
          "choropleth": [
           {
            "colorbar": {
             "outlinewidth": 0,
             "ticks": ""
            },
            "type": "choropleth"
           }
          ],
          "contour": [
           {
            "colorbar": {
             "outlinewidth": 0,
             "ticks": ""
            },
            "colorscale": [
             [
              0,
              "#0d0887"
             ],
             [
              0.1111111111111111,
              "#46039f"
             ],
             [
              0.2222222222222222,
              "#7201a8"
             ],
             [
              0.3333333333333333,
              "#9c179e"
             ],
             [
              0.4444444444444444,
              "#bd3786"
             ],
             [
              0.5555555555555556,
              "#d8576b"
             ],
             [
              0.6666666666666666,
              "#ed7953"
             ],
             [
              0.7777777777777778,
              "#fb9f3a"
             ],
             [
              0.8888888888888888,
              "#fdca26"
             ],
             [
              1,
              "#f0f921"
             ]
            ],
            "type": "contour"
           }
          ],
          "contourcarpet": [
           {
            "colorbar": {
             "outlinewidth": 0,
             "ticks": ""
            },
            "type": "contourcarpet"
           }
          ],
          "heatmap": [
           {
            "colorbar": {
             "outlinewidth": 0,
             "ticks": ""
            },
            "colorscale": [
             [
              0,
              "#0d0887"
             ],
             [
              0.1111111111111111,
              "#46039f"
             ],
             [
              0.2222222222222222,
              "#7201a8"
             ],
             [
              0.3333333333333333,
              "#9c179e"
             ],
             [
              0.4444444444444444,
              "#bd3786"
             ],
             [
              0.5555555555555556,
              "#d8576b"
             ],
             [
              0.6666666666666666,
              "#ed7953"
             ],
             [
              0.7777777777777778,
              "#fb9f3a"
             ],
             [
              0.8888888888888888,
              "#fdca26"
             ],
             [
              1,
              "#f0f921"
             ]
            ],
            "type": "heatmap"
           }
          ],
          "histogram": [
           {
            "marker": {
             "pattern": {
              "fillmode": "overlay",
              "size": 10,
              "solidity": 0.2
             }
            },
            "type": "histogram"
           }
          ],
          "histogram2d": [
           {
            "colorbar": {
             "outlinewidth": 0,
             "ticks": ""
            },
            "colorscale": [
             [
              0,
              "#0d0887"
             ],
             [
              0.1111111111111111,
              "#46039f"
             ],
             [
              0.2222222222222222,
              "#7201a8"
             ],
             [
              0.3333333333333333,
              "#9c179e"
             ],
             [
              0.4444444444444444,
              "#bd3786"
             ],
             [
              0.5555555555555556,
              "#d8576b"
             ],
             [
              0.6666666666666666,
              "#ed7953"
             ],
             [
              0.7777777777777778,
              "#fb9f3a"
             ],
             [
              0.8888888888888888,
              "#fdca26"
             ],
             [
              1,
              "#f0f921"
             ]
            ],
            "type": "histogram2d"
           }
          ],
          "histogram2dcontour": [
           {
            "colorbar": {
             "outlinewidth": 0,
             "ticks": ""
            },
            "colorscale": [
             [
              0,
              "#0d0887"
             ],
             [
              0.1111111111111111,
              "#46039f"
             ],
             [
              0.2222222222222222,
              "#7201a8"
             ],
             [
              0.3333333333333333,
              "#9c179e"
             ],
             [
              0.4444444444444444,
              "#bd3786"
             ],
             [
              0.5555555555555556,
              "#d8576b"
             ],
             [
              0.6666666666666666,
              "#ed7953"
             ],
             [
              0.7777777777777778,
              "#fb9f3a"
             ],
             [
              0.8888888888888888,
              "#fdca26"
             ],
             [
              1,
              "#f0f921"
             ]
            ],
            "type": "histogram2dcontour"
           }
          ],
          "mesh3d": [
           {
            "colorbar": {
             "outlinewidth": 0,
             "ticks": ""
            },
            "type": "mesh3d"
           }
          ],
          "parcoords": [
           {
            "line": {
             "colorbar": {
              "outlinewidth": 0,
              "ticks": ""
             }
            },
            "type": "parcoords"
           }
          ],
          "pie": [
           {
            "automargin": true,
            "type": "pie"
           }
          ],
          "scatter": [
           {
            "fillpattern": {
             "fillmode": "overlay",
             "size": 10,
             "solidity": 0.2
            },
            "type": "scatter"
           }
          ],
          "scatter3d": [
           {
            "line": {
             "colorbar": {
              "outlinewidth": 0,
              "ticks": ""
             }
            },
            "marker": {
             "colorbar": {
              "outlinewidth": 0,
              "ticks": ""
             }
            },
            "type": "scatter3d"
           }
          ],
          "scattercarpet": [
           {
            "marker": {
             "colorbar": {
              "outlinewidth": 0,
              "ticks": ""
             }
            },
            "type": "scattercarpet"
           }
          ],
          "scattergeo": [
           {
            "marker": {
             "colorbar": {
              "outlinewidth": 0,
              "ticks": ""
             }
            },
            "type": "scattergeo"
           }
          ],
          "scattergl": [
           {
            "marker": {
             "colorbar": {
              "outlinewidth": 0,
              "ticks": ""
             }
            },
            "type": "scattergl"
           }
          ],
          "scattermap": [
           {
            "marker": {
             "colorbar": {
              "outlinewidth": 0,
              "ticks": ""
             }
            },
            "type": "scattermap"
           }
          ],
          "scattermapbox": [
           {
            "marker": {
             "colorbar": {
              "outlinewidth": 0,
              "ticks": ""
             }
            },
            "type": "scattermapbox"
           }
          ],
          "scatterpolar": [
           {
            "marker": {
             "colorbar": {
              "outlinewidth": 0,
              "ticks": ""
             }
            },
            "type": "scatterpolar"
           }
          ],
          "scatterpolargl": [
           {
            "marker": {
             "colorbar": {
              "outlinewidth": 0,
              "ticks": ""
             }
            },
            "type": "scatterpolargl"
           }
          ],
          "scatterternary": [
           {
            "marker": {
             "colorbar": {
              "outlinewidth": 0,
              "ticks": ""
             }
            },
            "type": "scatterternary"
           }
          ],
          "surface": [
           {
            "colorbar": {
             "outlinewidth": 0,
             "ticks": ""
            },
            "colorscale": [
             [
              0,
              "#0d0887"
             ],
             [
              0.1111111111111111,
              "#46039f"
             ],
             [
              0.2222222222222222,
              "#7201a8"
             ],
             [
              0.3333333333333333,
              "#9c179e"
             ],
             [
              0.4444444444444444,
              "#bd3786"
             ],
             [
              0.5555555555555556,
              "#d8576b"
             ],
             [
              0.6666666666666666,
              "#ed7953"
             ],
             [
              0.7777777777777778,
              "#fb9f3a"
             ],
             [
              0.8888888888888888,
              "#fdca26"
             ],
             [
              1,
              "#f0f921"
             ]
            ],
            "type": "surface"
           }
          ],
          "table": [
           {
            "cells": {
             "fill": {
              "color": "#EBF0F8"
             },
             "line": {
              "color": "white"
             }
            },
            "header": {
             "fill": {
              "color": "#C8D4E3"
             },
             "line": {
              "color": "white"
             }
            },
            "type": "table"
           }
          ]
         },
         "layout": {
          "annotationdefaults": {
           "arrowcolor": "#2a3f5f",
           "arrowhead": 0,
           "arrowwidth": 1
          },
          "autotypenumbers": "strict",
          "coloraxis": {
           "colorbar": {
            "outlinewidth": 0,
            "ticks": ""
           }
          },
          "colorscale": {
           "diverging": [
            [
             0,
             "#8e0152"
            ],
            [
             0.1,
             "#c51b7d"
            ],
            [
             0.2,
             "#de77ae"
            ],
            [
             0.3,
             "#f1b6da"
            ],
            [
             0.4,
             "#fde0ef"
            ],
            [
             0.5,
             "#f7f7f7"
            ],
            [
             0.6,
             "#e6f5d0"
            ],
            [
             0.7,
             "#b8e186"
            ],
            [
             0.8,
             "#7fbc41"
            ],
            [
             0.9,
             "#4d9221"
            ],
            [
             1,
             "#276419"
            ]
           ],
           "sequential": [
            [
             0,
             "#0d0887"
            ],
            [
             0.1111111111111111,
             "#46039f"
            ],
            [
             0.2222222222222222,
             "#7201a8"
            ],
            [
             0.3333333333333333,
             "#9c179e"
            ],
            [
             0.4444444444444444,
             "#bd3786"
            ],
            [
             0.5555555555555556,
             "#d8576b"
            ],
            [
             0.6666666666666666,
             "#ed7953"
            ],
            [
             0.7777777777777778,
             "#fb9f3a"
            ],
            [
             0.8888888888888888,
             "#fdca26"
            ],
            [
             1,
             "#f0f921"
            ]
           ],
           "sequentialminus": [
            [
             0,
             "#0d0887"
            ],
            [
             0.1111111111111111,
             "#46039f"
            ],
            [
             0.2222222222222222,
             "#7201a8"
            ],
            [
             0.3333333333333333,
             "#9c179e"
            ],
            [
             0.4444444444444444,
             "#bd3786"
            ],
            [
             0.5555555555555556,
             "#d8576b"
            ],
            [
             0.6666666666666666,
             "#ed7953"
            ],
            [
             0.7777777777777778,
             "#fb9f3a"
            ],
            [
             0.8888888888888888,
             "#fdca26"
            ],
            [
             1,
             "#f0f921"
            ]
           ]
          },
          "colorway": [
           "#636efa",
           "#EF553B",
           "#00cc96",
           "#ab63fa",
           "#FFA15A",
           "#19d3f3",
           "#FF6692",
           "#B6E880",
           "#FF97FF",
           "#FECB52"
          ],
          "font": {
           "color": "#2a3f5f"
          },
          "geo": {
           "bgcolor": "white",
           "lakecolor": "white",
           "landcolor": "#E5ECF6",
           "showlakes": true,
           "showland": true,
           "subunitcolor": "white"
          },
          "hoverlabel": {
           "align": "left"
          },
          "hovermode": "closest",
          "mapbox": {
           "style": "light"
          },
          "paper_bgcolor": "white",
          "plot_bgcolor": "#E5ECF6",
          "polar": {
           "angularaxis": {
            "gridcolor": "white",
            "linecolor": "white",
            "ticks": ""
           },
           "bgcolor": "#E5ECF6",
           "radialaxis": {
            "gridcolor": "white",
            "linecolor": "white",
            "ticks": ""
           }
          },
          "scene": {
           "xaxis": {
            "backgroundcolor": "#E5ECF6",
            "gridcolor": "white",
            "gridwidth": 2,
            "linecolor": "white",
            "showbackground": true,
            "ticks": "",
            "zerolinecolor": "white"
           },
           "yaxis": {
            "backgroundcolor": "#E5ECF6",
            "gridcolor": "white",
            "gridwidth": 2,
            "linecolor": "white",
            "showbackground": true,
            "ticks": "",
            "zerolinecolor": "white"
           },
           "zaxis": {
            "backgroundcolor": "#E5ECF6",
            "gridcolor": "white",
            "gridwidth": 2,
            "linecolor": "white",
            "showbackground": true,
            "ticks": "",
            "zerolinecolor": "white"
           }
          },
          "shapedefaults": {
           "line": {
            "color": "#2a3f5f"
           }
          },
          "ternary": {
           "aaxis": {
            "gridcolor": "white",
            "linecolor": "white",
            "ticks": ""
           },
           "baxis": {
            "gridcolor": "white",
            "linecolor": "white",
            "ticks": ""
           },
           "bgcolor": "#E5ECF6",
           "caxis": {
            "gridcolor": "white",
            "linecolor": "white",
            "ticks": ""
           }
          },
          "title": {
           "x": 0.05
          },
          "xaxis": {
           "automargin": true,
           "gridcolor": "white",
           "linecolor": "white",
           "ticks": "",
           "title": {
            "standoff": 15
           },
           "zerolinecolor": "white",
           "zerolinewidth": 2
          },
          "yaxis": {
           "automargin": true,
           "gridcolor": "white",
           "linecolor": "white",
           "ticks": "",
           "title": {
            "standoff": 15
           },
           "zerolinecolor": "white",
           "zerolinewidth": 2
          }
         }
        },
        "title": {
         "text": "rentals vs atemp - correlation: 0.544"
        },
        "width": 700,
        "xaxis": {
         "title": {
          "text": "atemp"
         }
        },
        "yaxis": {
         "title": {
          "text": "Bike Rentals"
         }
        }
       }
      }
     },
     "metadata": {},
     "output_type": "display_data"
    },
    {
     "data": {
      "application/vnd.plotly.v1+json": {
       "config": {
        "plotlyServerURL": "https://plot.ly"
       },
       "data": [
        {
         "marker": {
          "color": "royalblue",
          "opacity": 0.6
         },
         "mode": "markers",
         "name": "Data",
         "type": "scatter",
         "x": {
          "bdata": "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",
          "dtype": "f8"
         },
         "y": {
          "bdata": "SwGDAHgAbABSAFgAlABEADYAKQArABkAJgA2AN4A+wB1AAkATgBTAEsAXQCWAFYAugAiAA8AJgB7AIwAKgAvAEgAPQBYAGQAYgF4AEAANQAvAJUAIAGNAdAAjADaAAMBQwIUAn8CwwBKAIsAZAB4AKgBtgJRAIkA5wB7ANYAgAJyAPQAPAG/AC4A9wDUAtYDZwEhAUEBqAF0A5AFFwSRAcwBywCmACwB1QPYAd4APQGoALMAMwGCA3MG3gKnAJ0BOwKsAG8DpARXAwEB0QARAoICeQAWBp0CmQFlAukCsQC2Ba4GBQOmAiMCOQJuA60HcgRPA1sC/wBmAn4DTAZ5BZgCtgImArcCtAKGAy4GBQOmAhgC3wKNA9IIKAZEA5MC5AL2AmcD0QczCQ0GoQIBAuACggNNB5UGoQL7AqQCMwIvA8EGuwVfA9cCAQMhAl8DDwdnBrsCBgOVAuoCyQP2BoAHVgPcAlADAwTeBJwI6gj5CwcEEAPyArQCxAfPBtMClgLsAngDJgVyCdYHSQPwAoQCeAIyAtsDGgQ4Au4C8wJeAp4CFwb0BdkCIQPTAR8D/wPxBRIFTgOLA3QDLAMbBOAFOgUHA9ECnAJ/Ah0DegfhBEEDAQW1A7MBAAPiAIcF2QIHA7ACDwNrA48H2QnUBMwAdgCZAKEB1gZhBrICvQKHAqwB5gKaBUkFswK2ARsCKwICAfAGCAasAt0B4AGNAj4D4AFoAkoB5gEvAn8CtQO7CF0J6gWbAtkAIgERAmsH1AbJAn0C/gDXAaQC2wVTBrsCtwKUAfAAyAE5AHUDagGaAXIBPgHWAYQEuAN1AXgBMQG+ALgB+wTsA1MCwQGRAIsA9QCvAxMD3ABFAHAAMAJHBOEEKgP9AGAAvAC2AAwBwgJ6AukAfgAyAJYABQH2AXkBjwCbALIAtQCyABMB3AAEAdgAawDjAKMAmwAvAa4BZwD/AP4A6wGZAq4C9ABZAF8AjAAzAS4EVwJqAK0AXAANAa4ATQEcAdkAfwBtAIIAcwBDAMQAkQC3AdMB9AANAQcDLgJ+AEQBMAG+ADYBgAE+Ac4AxwBtAKMA4wDAAEkAXgCHAI0ASgBdAZsFagL2AaMAigEEAvYAPQEDAv0A5QBBAEUB9gC8A8YCywDdALAB5gG/AcgDegZGA/oC5QPtAyQCUwyfCNYDGwRiBDYFpQkJBPwFGwMTAqICQgMcA/0IKwm4BEQFIgSoBA8HtAy2CIkDMwPiAZcC5ATrCh4LrgTdA1sBTgM8Be0JeADDAAYCjwLbAfYDYAS1CJkCjQKbAvwCLQTACVcI8APiAmwCAgQnBT4KfAhWAXEC3wPaBPEFUg2QCnYCMwP+AiMEiQUnC9MM/QlwA+kCTAQVAusKvgkvBMgDAwQOBNAFlAqwCPkD3QGVBJwEGwaTC0oKjQLIA2gDCgPEA2EK9wlzBDUENQSZAz0DrwWNBYgDHAQCCn0FVgWoBbME5gO6A88DCATnBTMJgAdABJkDHwN4A+sC8ATwCW8EdARnBQwE6wS6CGkIEATIAzIE1wMwBSkJqwbRBP4E7wSsBCkExwiGCLcEaASuBDoFywULC7gEAgQ5BEYEUwUtBSUHywXdA6cDmQSUBJkFMAk1Cq0HYwNAA2MCFQQVBgoKXgQuBBoEHgRjBVgMdgj+A3MBFAOrA+IE0AmWCekDTQMTA+8CFQQdCt8H+wI7AdgCewPsBdcLDQNqA1kCDANCAyQEzAggCPgCmgPTA/AD8QL2ClQIPgNJAxsDawOeBFMK5gMCAFcAowHSAWoCBQSxBHoB0gFGAVQBxQIqCPIISQRHAXUBQAHkASEFmgPBARYCZwK7A0MGFAI1AVEBewDGAPMAagG3A3wDKwInAksBVAFdAYEEuQFJARoBNgGpAa0B/wIaAtQAsQFNAToB3QDNAJgBrgC4AQkA9wCEAp8AbAG3AQ==",
          "dtype": "i2"
         }
        }
       ],
       "layout": {
        "height": 500,
        "template": {
         "data": {
          "bar": [
           {
            "error_x": {
             "color": "#2a3f5f"
            },
            "error_y": {
             "color": "#2a3f5f"
            },
            "marker": {
             "line": {
              "color": "#E5ECF6",
              "width": 0.5
             },
             "pattern": {
              "fillmode": "overlay",
              "size": 10,
              "solidity": 0.2
             }
            },
            "type": "bar"
           }
          ],
          "barpolar": [
           {
            "marker": {
             "line": {
              "color": "#E5ECF6",
              "width": 0.5
             },
             "pattern": {
              "fillmode": "overlay",
              "size": 10,
              "solidity": 0.2
             }
            },
            "type": "barpolar"
           }
          ],
          "carpet": [
           {
            "aaxis": {
             "endlinecolor": "#2a3f5f",
             "gridcolor": "white",
             "linecolor": "white",
             "minorgridcolor": "white",
             "startlinecolor": "#2a3f5f"
            },
            "baxis": {
             "endlinecolor": "#2a3f5f",
             "gridcolor": "white",
             "linecolor": "white",
             "minorgridcolor": "white",
             "startlinecolor": "#2a3f5f"
            },
            "type": "carpet"
           }
          ],
          "choropleth": [
           {
            "colorbar": {
             "outlinewidth": 0,
             "ticks": ""
            },
            "type": "choropleth"
           }
          ],
          "contour": [
           {
            "colorbar": {
             "outlinewidth": 0,
             "ticks": ""
            },
            "colorscale": [
             [
              0,
              "#0d0887"
             ],
             [
              0.1111111111111111,
              "#46039f"
             ],
             [
              0.2222222222222222,
              "#7201a8"
             ],
             [
              0.3333333333333333,
              "#9c179e"
             ],
             [
              0.4444444444444444,
              "#bd3786"
             ],
             [
              0.5555555555555556,
              "#d8576b"
             ],
             [
              0.6666666666666666,
              "#ed7953"
             ],
             [
              0.7777777777777778,
              "#fb9f3a"
             ],
             [
              0.8888888888888888,
              "#fdca26"
             ],
             [
              1,
              "#f0f921"
             ]
            ],
            "type": "contour"
           }
          ],
          "contourcarpet": [
           {
            "colorbar": {
             "outlinewidth": 0,
             "ticks": ""
            },
            "type": "contourcarpet"
           }
          ],
          "heatmap": [
           {
            "colorbar": {
             "outlinewidth": 0,
             "ticks": ""
            },
            "colorscale": [
             [
              0,
              "#0d0887"
             ],
             [
              0.1111111111111111,
              "#46039f"
             ],
             [
              0.2222222222222222,
              "#7201a8"
             ],
             [
              0.3333333333333333,
              "#9c179e"
             ],
             [
              0.4444444444444444,
              "#bd3786"
             ],
             [
              0.5555555555555556,
              "#d8576b"
             ],
             [
              0.6666666666666666,
              "#ed7953"
             ],
             [
              0.7777777777777778,
              "#fb9f3a"
             ],
             [
              0.8888888888888888,
              "#fdca26"
             ],
             [
              1,
              "#f0f921"
             ]
            ],
            "type": "heatmap"
           }
          ],
          "histogram": [
           {
            "marker": {
             "pattern": {
              "fillmode": "overlay",
              "size": 10,
              "solidity": 0.2
             }
            },
            "type": "histogram"
           }
          ],
          "histogram2d": [
           {
            "colorbar": {
             "outlinewidth": 0,
             "ticks": ""
            },
            "colorscale": [
             [
              0,
              "#0d0887"
             ],
             [
              0.1111111111111111,
              "#46039f"
             ],
             [
              0.2222222222222222,
              "#7201a8"
             ],
             [
              0.3333333333333333,
              "#9c179e"
             ],
             [
              0.4444444444444444,
              "#bd3786"
             ],
             [
              0.5555555555555556,
              "#d8576b"
             ],
             [
              0.6666666666666666,
              "#ed7953"
             ],
             [
              0.7777777777777778,
              "#fb9f3a"
             ],
             [
              0.8888888888888888,
              "#fdca26"
             ],
             [
              1,
              "#f0f921"
             ]
            ],
            "type": "histogram2d"
           }
          ],
          "histogram2dcontour": [
           {
            "colorbar": {
             "outlinewidth": 0,
             "ticks": ""
            },
            "colorscale": [
             [
              0,
              "#0d0887"
             ],
             [
              0.1111111111111111,
              "#46039f"
             ],
             [
              0.2222222222222222,
              "#7201a8"
             ],
             [
              0.3333333333333333,
              "#9c179e"
             ],
             [
              0.4444444444444444,
              "#bd3786"
             ],
             [
              0.5555555555555556,
              "#d8576b"
             ],
             [
              0.6666666666666666,
              "#ed7953"
             ],
             [
              0.7777777777777778,
              "#fb9f3a"
             ],
             [
              0.8888888888888888,
              "#fdca26"
             ],
             [
              1,
              "#f0f921"
             ]
            ],
            "type": "histogram2dcontour"
           }
          ],
          "mesh3d": [
           {
            "colorbar": {
             "outlinewidth": 0,
             "ticks": ""
            },
            "type": "mesh3d"
           }
          ],
          "parcoords": [
           {
            "line": {
             "colorbar": {
              "outlinewidth": 0,
              "ticks": ""
             }
            },
            "type": "parcoords"
           }
          ],
          "pie": [
           {
            "automargin": true,
            "type": "pie"
           }
          ],
          "scatter": [
           {
            "fillpattern": {
             "fillmode": "overlay",
             "size": 10,
             "solidity": 0.2
            },
            "type": "scatter"
           }
          ],
          "scatter3d": [
           {
            "line": {
             "colorbar": {
              "outlinewidth": 0,
              "ticks": ""
             }
            },
            "marker": {
             "colorbar": {
              "outlinewidth": 0,
              "ticks": ""
             }
            },
            "type": "scatter3d"
           }
          ],
          "scattercarpet": [
           {
            "marker": {
             "colorbar": {
              "outlinewidth": 0,
              "ticks": ""
             }
            },
            "type": "scattercarpet"
           }
          ],
          "scattergeo": [
           {
            "marker": {
             "colorbar": {
              "outlinewidth": 0,
              "ticks": ""
             }
            },
            "type": "scattergeo"
           }
          ],
          "scattergl": [
           {
            "marker": {
             "colorbar": {
              "outlinewidth": 0,
              "ticks": ""
             }
            },
            "type": "scattergl"
           }
          ],
          "scattermap": [
           {
            "marker": {
             "colorbar": {
              "outlinewidth": 0,
              "ticks": ""
             }
            },
            "type": "scattermap"
           }
          ],
          "scattermapbox": [
           {
            "marker": {
             "colorbar": {
              "outlinewidth": 0,
              "ticks": ""
             }
            },
            "type": "scattermapbox"
           }
          ],
          "scatterpolar": [
           {
            "marker": {
             "colorbar": {
              "outlinewidth": 0,
              "ticks": ""
             }
            },
            "type": "scatterpolar"
           }
          ],
          "scatterpolargl": [
           {
            "marker": {
             "colorbar": {
              "outlinewidth": 0,
              "ticks": ""
             }
            },
            "type": "scatterpolargl"
           }
          ],
          "scatterternary": [
           {
            "marker": {
             "colorbar": {
              "outlinewidth": 0,
              "ticks": ""
             }
            },
            "type": "scatterternary"
           }
          ],
          "surface": [
           {
            "colorbar": {
             "outlinewidth": 0,
             "ticks": ""
            },
            "colorscale": [
             [
              0,
              "#0d0887"
             ],
             [
              0.1111111111111111,
              "#46039f"
             ],
             [
              0.2222222222222222,
              "#7201a8"
             ],
             [
              0.3333333333333333,
              "#9c179e"
             ],
             [
              0.4444444444444444,
              "#bd3786"
             ],
             [
              0.5555555555555556,
              "#d8576b"
             ],
             [
              0.6666666666666666,
              "#ed7953"
             ],
             [
              0.7777777777777778,
              "#fb9f3a"
             ],
             [
              0.8888888888888888,
              "#fdca26"
             ],
             [
              1,
              "#f0f921"
             ]
            ],
            "type": "surface"
           }
          ],
          "table": [
           {
            "cells": {
             "fill": {
              "color": "#EBF0F8"
             },
             "line": {
              "color": "white"
             }
            },
            "header": {
             "fill": {
              "color": "#C8D4E3"
             },
             "line": {
              "color": "white"
             }
            },
            "type": "table"
           }
          ]
         },
         "layout": {
          "annotationdefaults": {
           "arrowcolor": "#2a3f5f",
           "arrowhead": 0,
           "arrowwidth": 1
          },
          "autotypenumbers": "strict",
          "coloraxis": {
           "colorbar": {
            "outlinewidth": 0,
            "ticks": ""
           }
          },
          "colorscale": {
           "diverging": [
            [
             0,
             "#8e0152"
            ],
            [
             0.1,
             "#c51b7d"
            ],
            [
             0.2,
             "#de77ae"
            ],
            [
             0.3,
             "#f1b6da"
            ],
            [
             0.4,
             "#fde0ef"
            ],
            [
             0.5,
             "#f7f7f7"
            ],
            [
             0.6,
             "#e6f5d0"
            ],
            [
             0.7,
             "#b8e186"
            ],
            [
             0.8,
             "#7fbc41"
            ],
            [
             0.9,
             "#4d9221"
            ],
            [
             1,
             "#276419"
            ]
           ],
           "sequential": [
            [
             0,
             "#0d0887"
            ],
            [
             0.1111111111111111,
             "#46039f"
            ],
            [
             0.2222222222222222,
             "#7201a8"
            ],
            [
             0.3333333333333333,
             "#9c179e"
            ],
            [
             0.4444444444444444,
             "#bd3786"
            ],
            [
             0.5555555555555556,
             "#d8576b"
            ],
            [
             0.6666666666666666,
             "#ed7953"
            ],
            [
             0.7777777777777778,
             "#fb9f3a"
            ],
            [
             0.8888888888888888,
             "#fdca26"
            ],
            [
             1,
             "#f0f921"
            ]
           ],
           "sequentialminus": [
            [
             0,
             "#0d0887"
            ],
            [
             0.1111111111111111,
             "#46039f"
            ],
            [
             0.2222222222222222,
             "#7201a8"
            ],
            [
             0.3333333333333333,
             "#9c179e"
            ],
            [
             0.4444444444444444,
             "#bd3786"
            ],
            [
             0.5555555555555556,
             "#d8576b"
            ],
            [
             0.6666666666666666,
             "#ed7953"
            ],
            [
             0.7777777777777778,
             "#fb9f3a"
            ],
            [
             0.8888888888888888,
             "#fdca26"
            ],
            [
             1,
             "#f0f921"
            ]
           ]
          },
          "colorway": [
           "#636efa",
           "#EF553B",
           "#00cc96",
           "#ab63fa",
           "#FFA15A",
           "#19d3f3",
           "#FF6692",
           "#B6E880",
           "#FF97FF",
           "#FECB52"
          ],
          "font": {
           "color": "#2a3f5f"
          },
          "geo": {
           "bgcolor": "white",
           "lakecolor": "white",
           "landcolor": "#E5ECF6",
           "showlakes": true,
           "showland": true,
           "subunitcolor": "white"
          },
          "hoverlabel": {
           "align": "left"
          },
          "hovermode": "closest",
          "mapbox": {
           "style": "light"
          },
          "paper_bgcolor": "white",
          "plot_bgcolor": "#E5ECF6",
          "polar": {
           "angularaxis": {
            "gridcolor": "white",
            "linecolor": "white",
            "ticks": ""
           },
           "bgcolor": "#E5ECF6",
           "radialaxis": {
            "gridcolor": "white",
            "linecolor": "white",
            "ticks": ""
           }
          },
          "scene": {
           "xaxis": {
            "backgroundcolor": "#E5ECF6",
            "gridcolor": "white",
            "gridwidth": 2,
            "linecolor": "white",
            "showbackground": true,
            "ticks": "",
            "zerolinecolor": "white"
           },
           "yaxis": {
            "backgroundcolor": "#E5ECF6",
            "gridcolor": "white",
            "gridwidth": 2,
            "linecolor": "white",
            "showbackground": true,
            "ticks": "",
            "zerolinecolor": "white"
           },
           "zaxis": {
            "backgroundcolor": "#E5ECF6",
            "gridcolor": "white",
            "gridwidth": 2,
            "linecolor": "white",
            "showbackground": true,
            "ticks": "",
            "zerolinecolor": "white"
           }
          },
          "shapedefaults": {
           "line": {
            "color": "#2a3f5f"
           }
          },
          "ternary": {
           "aaxis": {
            "gridcolor": "white",
            "linecolor": "white",
            "ticks": ""
           },
           "baxis": {
            "gridcolor": "white",
            "linecolor": "white",
            "ticks": ""
           },
           "bgcolor": "#E5ECF6",
           "caxis": {
            "gridcolor": "white",
            "linecolor": "white",
            "ticks": ""
           }
          },
          "title": {
           "x": 0.05
          },
          "xaxis": {
           "automargin": true,
           "gridcolor": "white",
           "linecolor": "white",
           "ticks": "",
           "title": {
            "standoff": 15
           },
           "zerolinecolor": "white",
           "zerolinewidth": 2
          },
          "yaxis": {
           "automargin": true,
           "gridcolor": "white",
           "linecolor": "white",
           "ticks": "",
           "title": {
            "standoff": 15
           },
           "zerolinecolor": "white",
           "zerolinewidth": 2
          }
         }
        },
        "title": {
         "text": "rentals vs hum - correlation: -0.077"
        },
        "width": 700,
        "xaxis": {
         "title": {
          "text": "hum"
         }
        },
        "yaxis": {
         "title": {
          "text": "Bike Rentals"
         }
        }
       }
      }
     },
     "metadata": {},
     "output_type": "display_data"
    },
    {
     "data": {
      "application/vnd.plotly.v1+json": {
       "config": {
        "plotlyServerURL": "https://plot.ly"
       },
       "data": [
        {
         "marker": {
          "color": "royalblue",
          "opacity": 0.6
         },
         "mode": "markers",
         "name": "Data",
         "type": "scatter",
         "x": {
          "bdata": "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",
          "dtype": "f8"
         },
         "y": {
          "bdata": "SwGDAHgAbABSAFgAlABEADYAKQArABkAJgA2AN4A+wB1AAkATgBTAEsAXQCWAFYAugAiAA8AJgB7AIwAKgAvAEgAPQBYAGQAYgF4AEAANQAvAJUAIAGNAdAAjADaAAMBQwIUAn8CwwBKAIsAZAB4AKgBtgJRAIkA5wB7ANYAgAJyAPQAPAG/AC4A9wDUAtYDZwEhAUEBqAF0A5AFFwSRAcwBywCmACwB1QPYAd4APQGoALMAMwGCA3MG3gKnAJ0BOwKsAG8DpARXAwEB0QARAoICeQAWBp0CmQFlAukCsQC2Ba4GBQOmAiMCOQJuA60HcgRPA1sC/wBmAn4DTAZ5BZgCtgImArcCtAKGAy4GBQOmAhgC3wKNA9IIKAZEA5MC5AL2AmcD0QczCQ0GoQIBAuACggNNB5UGoQL7AqQCMwIvA8EGuwVfA9cCAQMhAl8DDwdnBrsCBgOVAuoCyQP2BoAHVgPcAlADAwTeBJwI6gj5CwcEEAPyArQCxAfPBtMClgLsAngDJgVyCdYHSQPwAoQCeAIyAtsDGgQ4Au4C8wJeAp4CFwb0BdkCIQPTAR8D/wPxBRIFTgOLA3QDLAMbBOAFOgUHA9ECnAJ/Ah0DegfhBEEDAQW1A7MBAAPiAIcF2QIHA7ACDwNrA48H2QnUBMwAdgCZAKEB1gZhBrICvQKHAqwB5gKaBUkFswK2ARsCKwICAfAGCAasAt0B4AGNAj4D4AFoAkoB5gEvAn8CtQO7CF0J6gWbAtkAIgERAmsH1AbJAn0C/gDXAaQC2wVTBrsCtwKUAfAAyAE5AHUDagGaAXIBPgHWAYQEuAN1AXgBMQG+ALgB+wTsA1MCwQGRAIsA9QCvAxMD3ABFAHAAMAJHBOEEKgP9AGAAvAC2AAwBwgJ6AukAfgAyAJYABQH2AXkBjwCbALIAtQCyABMB3AAEAdgAawDjAKMAmwAvAa4BZwD/AP4A6wGZAq4C9ABZAF8AjAAzAS4EVwJqAK0AXAANAa4ATQEcAdkAfwBtAIIAcwBDAMQAkQC3AdMB9AANAQcDLgJ+AEQBMAG+ADYBgAE+Ac4AxwBtAKMA4wDAAEkAXgCHAI0ASgBdAZsFagL2AaMAigEEAvYAPQEDAv0A5QBBAEUB9gC8A8YCywDdALAB5gG/AcgDegZGA/oC5QPtAyQCUwyfCNYDGwRiBDYFpQkJBPwFGwMTAqICQgMcA/0IKwm4BEQFIgSoBA8HtAy2CIkDMwPiAZcC5ATrCh4LrgTdA1sBTgM8Be0JeADDAAYCjwLbAfYDYAS1CJkCjQKbAvwCLQTACVcI8APiAmwCAgQnBT4KfAhWAXEC3wPaBPEFUg2QCnYCMwP+AiMEiQUnC9MM/QlwA+kCTAQVAusKvgkvBMgDAwQOBNAFlAqwCPkD3QGVBJwEGwaTC0oKjQLIA2gDCgPEA2EK9wlzBDUENQSZAz0DrwWNBYgDHAQCCn0FVgWoBbME5gO6A88DCATnBTMJgAdABJkDHwN4A+sC8ATwCW8EdARnBQwE6wS6CGkIEATIAzIE1wMwBSkJqwbRBP4E7wSsBCkExwiGCLcEaASuBDoFywULC7gEAgQ5BEYEUwUtBSUHywXdA6cDmQSUBJkFMAk1Cq0HYwNAA2MCFQQVBgoKXgQuBBoEHgRjBVgMdgj+A3MBFAOrA+IE0AmWCekDTQMTA+8CFQQdCt8H+wI7AdgCewPsBdcLDQNqA1kCDANCAyQEzAggCPgCmgPTA/AD8QL2ClQIPgNJAxsDawOeBFMK5gMCAFcAowHSAWoCBQSxBHoB0gFGAVQBxQIqCPIISQRHAXUBQAHkASEFmgPBARYCZwK7A0MGFAI1AVEBewDGAPMAagG3A3wDKwInAksBVAFdAYEEuQFJARoBNgGpAa0B/wIaAtQAsQFNAToB3QDNAJgBrgC4AQkA9wCEAp8AbAG3AQ==",
          "dtype": "i2"
         }
        }
       ],
       "layout": {
        "height": 500,
        "template": {
         "data": {
          "bar": [
           {
            "error_x": {
             "color": "#2a3f5f"
            },
            "error_y": {
             "color": "#2a3f5f"
            },
            "marker": {
             "line": {
              "color": "#E5ECF6",
              "width": 0.5
             },
             "pattern": {
              "fillmode": "overlay",
              "size": 10,
              "solidity": 0.2
             }
            },
            "type": "bar"
           }
          ],
          "barpolar": [
           {
            "marker": {
             "line": {
              "color": "#E5ECF6",
              "width": 0.5
             },
             "pattern": {
              "fillmode": "overlay",
              "size": 10,
              "solidity": 0.2
             }
            },
            "type": "barpolar"
           }
          ],
          "carpet": [
           {
            "aaxis": {
             "endlinecolor": "#2a3f5f",
             "gridcolor": "white",
             "linecolor": "white",
             "minorgridcolor": "white",
             "startlinecolor": "#2a3f5f"
            },
            "baxis": {
             "endlinecolor": "#2a3f5f",
             "gridcolor": "white",
             "linecolor": "white",
             "minorgridcolor": "white",
             "startlinecolor": "#2a3f5f"
            },
            "type": "carpet"
           }
          ],
          "choropleth": [
           {
            "colorbar": {
             "outlinewidth": 0,
             "ticks": ""
            },
            "type": "choropleth"
           }
          ],
          "contour": [
           {
            "colorbar": {
             "outlinewidth": 0,
             "ticks": ""
            },
            "colorscale": [
             [
              0,
              "#0d0887"
             ],
             [
              0.1111111111111111,
              "#46039f"
             ],
             [
              0.2222222222222222,
              "#7201a8"
             ],
             [
              0.3333333333333333,
              "#9c179e"
             ],
             [
              0.4444444444444444,
              "#bd3786"
             ],
             [
              0.5555555555555556,
              "#d8576b"
             ],
             [
              0.6666666666666666,
              "#ed7953"
             ],
             [
              0.7777777777777778,
              "#fb9f3a"
             ],
             [
              0.8888888888888888,
              "#fdca26"
             ],
             [
              1,
              "#f0f921"
             ]
            ],
            "type": "contour"
           }
          ],
          "contourcarpet": [
           {
            "colorbar": {
             "outlinewidth": 0,
             "ticks": ""
            },
            "type": "contourcarpet"
           }
          ],
          "heatmap": [
           {
            "colorbar": {
             "outlinewidth": 0,
             "ticks": ""
            },
            "colorscale": [
             [
              0,
              "#0d0887"
             ],
             [
              0.1111111111111111,
              "#46039f"
             ],
             [
              0.2222222222222222,
              "#7201a8"
             ],
             [
              0.3333333333333333,
              "#9c179e"
             ],
             [
              0.4444444444444444,
              "#bd3786"
             ],
             [
              0.5555555555555556,
              "#d8576b"
             ],
             [
              0.6666666666666666,
              "#ed7953"
             ],
             [
              0.7777777777777778,
              "#fb9f3a"
             ],
             [
              0.8888888888888888,
              "#fdca26"
             ],
             [
              1,
              "#f0f921"
             ]
            ],
            "type": "heatmap"
           }
          ],
          "histogram": [
           {
            "marker": {
             "pattern": {
              "fillmode": "overlay",
              "size": 10,
              "solidity": 0.2
             }
            },
            "type": "histogram"
           }
          ],
          "histogram2d": [
           {
            "colorbar": {
             "outlinewidth": 0,
             "ticks": ""
            },
            "colorscale": [
             [
              0,
              "#0d0887"
             ],
             [
              0.1111111111111111,
              "#46039f"
             ],
             [
              0.2222222222222222,
              "#7201a8"
             ],
             [
              0.3333333333333333,
              "#9c179e"
             ],
             [
              0.4444444444444444,
              "#bd3786"
             ],
             [
              0.5555555555555556,
              "#d8576b"
             ],
             [
              0.6666666666666666,
              "#ed7953"
             ],
             [
              0.7777777777777778,
              "#fb9f3a"
             ],
             [
              0.8888888888888888,
              "#fdca26"
             ],
             [
              1,
              "#f0f921"
             ]
            ],
            "type": "histogram2d"
           }
          ],
          "histogram2dcontour": [
           {
            "colorbar": {
             "outlinewidth": 0,
             "ticks": ""
            },
            "colorscale": [
             [
              0,
              "#0d0887"
             ],
             [
              0.1111111111111111,
              "#46039f"
             ],
             [
              0.2222222222222222,
              "#7201a8"
             ],
             [
              0.3333333333333333,
              "#9c179e"
             ],
             [
              0.4444444444444444,
              "#bd3786"
             ],
             [
              0.5555555555555556,
              "#d8576b"
             ],
             [
              0.6666666666666666,
              "#ed7953"
             ],
             [
              0.7777777777777778,
              "#fb9f3a"
             ],
             [
              0.8888888888888888,
              "#fdca26"
             ],
             [
              1,
              "#f0f921"
             ]
            ],
            "type": "histogram2dcontour"
           }
          ],
          "mesh3d": [
           {
            "colorbar": {
             "outlinewidth": 0,
             "ticks": ""
            },
            "type": "mesh3d"
           }
          ],
          "parcoords": [
           {
            "line": {
             "colorbar": {
              "outlinewidth": 0,
              "ticks": ""
             }
            },
            "type": "parcoords"
           }
          ],
          "pie": [
           {
            "automargin": true,
            "type": "pie"
           }
          ],
          "scatter": [
           {
            "fillpattern": {
             "fillmode": "overlay",
             "size": 10,
             "solidity": 0.2
            },
            "type": "scatter"
           }
          ],
          "scatter3d": [
           {
            "line": {
             "colorbar": {
              "outlinewidth": 0,
              "ticks": ""
             }
            },
            "marker": {
             "colorbar": {
              "outlinewidth": 0,
              "ticks": ""
             }
            },
            "type": "scatter3d"
           }
          ],
          "scattercarpet": [
           {
            "marker": {
             "colorbar": {
              "outlinewidth": 0,
              "ticks": ""
             }
            },
            "type": "scattercarpet"
           }
          ],
          "scattergeo": [
           {
            "marker": {
             "colorbar": {
              "outlinewidth": 0,
              "ticks": ""
             }
            },
            "type": "scattergeo"
           }
          ],
          "scattergl": [
           {
            "marker": {
             "colorbar": {
              "outlinewidth": 0,
              "ticks": ""
             }
            },
            "type": "scattergl"
           }
          ],
          "scattermap": [
           {
            "marker": {
             "colorbar": {
              "outlinewidth": 0,
              "ticks": ""
             }
            },
            "type": "scattermap"
           }
          ],
          "scattermapbox": [
           {
            "marker": {
             "colorbar": {
              "outlinewidth": 0,
              "ticks": ""
             }
            },
            "type": "scattermapbox"
           }
          ],
          "scatterpolar": [
           {
            "marker": {
             "colorbar": {
              "outlinewidth": 0,
              "ticks": ""
             }
            },
            "type": "scatterpolar"
           }
          ],
          "scatterpolargl": [
           {
            "marker": {
             "colorbar": {
              "outlinewidth": 0,
              "ticks": ""
             }
            },
            "type": "scatterpolargl"
           }
          ],
          "scatterternary": [
           {
            "marker": {
             "colorbar": {
              "outlinewidth": 0,
              "ticks": ""
             }
            },
            "type": "scatterternary"
           }
          ],
          "surface": [
           {
            "colorbar": {
             "outlinewidth": 0,
             "ticks": ""
            },
            "colorscale": [
             [
              0,
              "#0d0887"
             ],
             [
              0.1111111111111111,
              "#46039f"
             ],
             [
              0.2222222222222222,
              "#7201a8"
             ],
             [
              0.3333333333333333,
              "#9c179e"
             ],
             [
              0.4444444444444444,
              "#bd3786"
             ],
             [
              0.5555555555555556,
              "#d8576b"
             ],
             [
              0.6666666666666666,
              "#ed7953"
             ],
             [
              0.7777777777777778,
              "#fb9f3a"
             ],
             [
              0.8888888888888888,
              "#fdca26"
             ],
             [
              1,
              "#f0f921"
             ]
            ],
            "type": "surface"
           }
          ],
          "table": [
           {
            "cells": {
             "fill": {
              "color": "#EBF0F8"
             },
             "line": {
              "color": "white"
             }
            },
            "header": {
             "fill": {
              "color": "#C8D4E3"
             },
             "line": {
              "color": "white"
             }
            },
            "type": "table"
           }
          ]
         },
         "layout": {
          "annotationdefaults": {
           "arrowcolor": "#2a3f5f",
           "arrowhead": 0,
           "arrowwidth": 1
          },
          "autotypenumbers": "strict",
          "coloraxis": {
           "colorbar": {
            "outlinewidth": 0,
            "ticks": ""
           }
          },
          "colorscale": {
           "diverging": [
            [
             0,
             "#8e0152"
            ],
            [
             0.1,
             "#c51b7d"
            ],
            [
             0.2,
             "#de77ae"
            ],
            [
             0.3,
             "#f1b6da"
            ],
            [
             0.4,
             "#fde0ef"
            ],
            [
             0.5,
             "#f7f7f7"
            ],
            [
             0.6,
             "#e6f5d0"
            ],
            [
             0.7,
             "#b8e186"
            ],
            [
             0.8,
             "#7fbc41"
            ],
            [
             0.9,
             "#4d9221"
            ],
            [
             1,
             "#276419"
            ]
           ],
           "sequential": [
            [
             0,
             "#0d0887"
            ],
            [
             0.1111111111111111,
             "#46039f"
            ],
            [
             0.2222222222222222,
             "#7201a8"
            ],
            [
             0.3333333333333333,
             "#9c179e"
            ],
            [
             0.4444444444444444,
             "#bd3786"
            ],
            [
             0.5555555555555556,
             "#d8576b"
            ],
            [
             0.6666666666666666,
             "#ed7953"
            ],
            [
             0.7777777777777778,
             "#fb9f3a"
            ],
            [
             0.8888888888888888,
             "#fdca26"
            ],
            [
             1,
             "#f0f921"
            ]
           ],
           "sequentialminus": [
            [
             0,
             "#0d0887"
            ],
            [
             0.1111111111111111,
             "#46039f"
            ],
            [
             0.2222222222222222,
             "#7201a8"
            ],
            [
             0.3333333333333333,
             "#9c179e"
            ],
            [
             0.4444444444444444,
             "#bd3786"
            ],
            [
             0.5555555555555556,
             "#d8576b"
            ],
            [
             0.6666666666666666,
             "#ed7953"
            ],
            [
             0.7777777777777778,
             "#fb9f3a"
            ],
            [
             0.8888888888888888,
             "#fdca26"
            ],
            [
             1,
             "#f0f921"
            ]
           ]
          },
          "colorway": [
           "#636efa",
           "#EF553B",
           "#00cc96",
           "#ab63fa",
           "#FFA15A",
           "#19d3f3",
           "#FF6692",
           "#B6E880",
           "#FF97FF",
           "#FECB52"
          ],
          "font": {
           "color": "#2a3f5f"
          },
          "geo": {
           "bgcolor": "white",
           "lakecolor": "white",
           "landcolor": "#E5ECF6",
           "showlakes": true,
           "showland": true,
           "subunitcolor": "white"
          },
          "hoverlabel": {
           "align": "left"
          },
          "hovermode": "closest",
          "mapbox": {
           "style": "light"
          },
          "paper_bgcolor": "white",
          "plot_bgcolor": "#E5ECF6",
          "polar": {
           "angularaxis": {
            "gridcolor": "white",
            "linecolor": "white",
            "ticks": ""
           },
           "bgcolor": "#E5ECF6",
           "radialaxis": {
            "gridcolor": "white",
            "linecolor": "white",
            "ticks": ""
           }
          },
          "scene": {
           "xaxis": {
            "backgroundcolor": "#E5ECF6",
            "gridcolor": "white",
            "gridwidth": 2,
            "linecolor": "white",
            "showbackground": true,
            "ticks": "",
            "zerolinecolor": "white"
           },
           "yaxis": {
            "backgroundcolor": "#E5ECF6",
            "gridcolor": "white",
            "gridwidth": 2,
            "linecolor": "white",
            "showbackground": true,
            "ticks": "",
            "zerolinecolor": "white"
           },
           "zaxis": {
            "backgroundcolor": "#E5ECF6",
            "gridcolor": "white",
            "gridwidth": 2,
            "linecolor": "white",
            "showbackground": true,
            "ticks": "",
            "zerolinecolor": "white"
           }
          },
          "shapedefaults": {
           "line": {
            "color": "#2a3f5f"
           }
          },
          "ternary": {
           "aaxis": {
            "gridcolor": "white",
            "linecolor": "white",
            "ticks": ""
           },
           "baxis": {
            "gridcolor": "white",
            "linecolor": "white",
            "ticks": ""
           },
           "bgcolor": "#E5ECF6",
           "caxis": {
            "gridcolor": "white",
            "linecolor": "white",
            "ticks": ""
           }
          },
          "title": {
           "x": 0.05
          },
          "xaxis": {
           "automargin": true,
           "gridcolor": "white",
           "linecolor": "white",
           "ticks": "",
           "title": {
            "standoff": 15
           },
           "zerolinecolor": "white",
           "zerolinewidth": 2
          },
          "yaxis": {
           "automargin": true,
           "gridcolor": "white",
           "linecolor": "white",
           "ticks": "",
           "title": {
            "standoff": 15
           },
           "zerolinecolor": "white",
           "zerolinewidth": 2
          }
         }
        },
        "title": {
         "text": "rentals vs windspeed - correlation: -0.168"
        },
        "width": 700,
        "xaxis": {
         "title": {
          "text": "windspeed"
         }
        },
        "yaxis": {
         "title": {
          "text": "Bike Rentals"
         }
        }
       }
      }
     },
     "metadata": {},
     "output_type": "display_data"
    }
   ],
   "source": [
    "import plotly.graph_objects as go\n",
    "\n",
    "for col in numeric_features:\n",
    "    feature = bike_data[col]\n",
    "    label = bike_data['rentals']\n",
    "    correlation = feature.corr(label)\n",
    "    fig = go.Figure()\n",
    "    fig.add_trace(go.Scatter(\n",
    "        x=feature,\n",
    "        y=label,\n",
    "        mode='markers',\n",
    "        marker=dict(color='royalblue', opacity=0.6),\n",
    "        name='Data'\n",
    "    ))\n",
    "    fig.update_layout(\n",
    "        title=f'rentals vs {col} - correlation: {correlation:.3f}',\n",
    "        xaxis_title=col,\n",
    "        yaxis_title='Bike Rentals',\n",
    "        height=500,\n",
    "        width=700\n",
    "    )\n",
    "    fig.show()"
   ]
  },
  {
   "cell_type": "markdown",
   "id": "2ddace64",
   "metadata": {},
   "source": [
    "![Diagramas de dispersión: Alquileres vs. Características numéricas](assets/RentalsvsNumericFeatures.png)"
   ]
  },
  {
   "cell_type": "markdown",
   "id": "0e574a89",
   "metadata": {},
   "source": [
    "Los resultados no son concluyentes, pero si observas detenidamente los diagramas de dispersión para **temp** y **atemp**, puedes notar una tendencia diagonal tenue que indica que los conteos más altos de rentas tienden a coincidir con temperaturas más elevadas. Un valor de correlación ligeramente superior a 0.5 en ambas características respalda esta observación.\n",
    "\n",
    "Por el contrario, los gráficos para **hum** (humedad) y **windspeed** (velocidad del viento) muestran una correlación ligeramente negativa, lo que indica que hay menos rentas en días con alta humedad o viento.\n",
    "\n",
    "Ahora comparemos las características categóricas con la etiqueta. Haremos esto creando diagramas de caja (*box plots*) que muestren la distribución de los conteos de rentas para cada categoría."
   ]
  },
  {
   "cell_type": "code",
   "execution_count": 22,
   "id": "91d6dfed",
   "metadata": {},
   "outputs": [
    {
     "data": {
      "application/vnd.plotly.v1+json": {
       "config": {
        "plotlyServerURL": "https://plot.ly"
       },
       "data": [
        {
         "alignmentgroup": "True",
         "boxpoints": "outliers",
         "hovertemplate": "season=%{x}<br>rentals=%{y}<extra></extra>",
         "legendgroup": "1",
         "marker": {
          "color": "#636efa"
         },
         "name": "1",
         "notched": false,
         "offsetgroup": "1",
         "orientation": "v",
         "showlegend": true,
         "type": "box",
         "x": {
          "bdata": "AQEBAQEBAQEBAQEBAQEBAQEBAQEBAQEBAQEBAQEBAQEBAQEBAQEBAQEBAQEBAQEBAQEBAQEBAQEBAQEBAQEBAQEBAQEBAQEBAQEBAQEBAQEBAQEBAQEBAQEBAQEBAQEBAQEBAQEBAQEBAQEBAQEBAQEBAQEBAQEBAQEBAQEBAQEBAQEBAQEBAQEBAQEBAQEBAQEBAQEBAQEBAQEBAQEBAQEBAQEBAQEBAQEBAQEBAQEBAQEBAQ==",
          "dtype": "i1"
         },
         "x0": " ",
         "xaxis": "x",
         "y": {
          "bdata": "SwGDAHgAbABSAFgAlABEADYAKQArABkAJgA2AN4A+wB1AAkATgBTAEsAXQCWAFYAugAiAA8AJgB7AIwAKgAvAEgAPQBYAGQAYgF4AEAANQAvAJUAIAGNAdAAjADaAAMBQwIUAn8CwwBKAIsAZAB4AKgBtgJRAIkA5wB7ANYAgAJyAPQAPAG/AC4A9wDUAtYDZwEhAUEBqAF0A5AFFwRrAOMAowCbAC8BrgFnAP8A/gDrAZkCrgL0AFkAXwCMADMBLgRXAmoArQBcAA0BrgBNARwB2QB/AG0AggBzAEMAxACRALcB0wH0AA0BBwMuAn4ARAEwAb4ANgGAAT4BzgDHAG0AowDjAMAASQBeAIcAjQBKAF0BmwVqAvYBowCKAQQC9gA9AQMC/QDlAEEARQH2ALwDxgLLAN0AsAHmAb8ByAN6BkYD+gLlA+0DJAJTDJ8I1gMbBN0AzQCYAa4AuAEJAPcAhAKfAGwBtwE=",
          "dtype": "i2"
         },
         "y0": " ",
         "yaxis": "y"
        },
        {
         "alignmentgroup": "True",
         "boxpoints": "outliers",
         "hovertemplate": "season=%{x}<br>rentals=%{y}<extra></extra>",
         "legendgroup": "2",
         "marker": {
          "color": "#EF553B"
         },
         "name": "2",
         "notched": false,
         "offsetgroup": "2",
         "orientation": "v",
         "showlegend": true,
         "type": "box",
         "x": {
          "bdata": "AgICAgICAgICAgICAgICAgICAgICAgICAgICAgICAgICAgICAgICAgICAgICAgICAgICAgICAgICAgICAgICAgICAgICAgICAgICAgICAgICAgICAgICAgICAgICAgICAgICAgICAgICAgICAgICAgICAgICAgICAgICAgICAgICAgICAgICAgICAgICAgICAgICAgICAgICAgICAgICAgICAgICAgICAgICAgICAgICAgICAgICAg==",
          "dtype": "i1"
         },
         "x0": " ",
         "xaxis": "x",
         "y": {
          "bdata": "kQHMAcsApgAsAdUD2AHeAD0BqACzADMBggNzBt4CpwCdATsCrABvA6QEVwMBAdEAEQKCAnkAFgadApkBZQLpArEAtgWuBgUDpgIjAjkCbgOtB3IETwNbAv8AZgJ+A0wGeQWYArYCJgK3ArQChgMuBgUDpgIYAt8CjQPSCCgGRAOTAuQC9gJnA9EHMwkNBqECAQLgAoIDTQeVBqEC+wKkAjMCLwPBBrsFXwPXAgEDIQJfAw8HZwa7AmIENgWlCQkE/AUbAxMCogJCAxwD/QgrCbgERAUiBKgEDwe0DLYIiQMzA+IBlwLkBOsKHguuBN0DWwFOAzwF7Ql4AMMABgKPAtsB9gNgBLUImQKNApsC/AItBMAJVwjwA+ICbAICBCcFPgp8CFYBcQLfA9oE8QVSDZAKdgIzA/4CIwSJBScL0wz9CXAD6QJMBBUC6wq+CS8EyAMDBA4E0AWUCrAI+QPdAZUEnAQbBpMLSgqNAsgDaAM=",
          "dtype": "i2"
         },
         "y0": " ",
         "yaxis": "y"
        },
        {
         "alignmentgroup": "True",
         "boxpoints": "outliers",
         "hovertemplate": "season=%{x}<br>rentals=%{y}<extra></extra>",
         "legendgroup": "3",
         "marker": {
          "color": "#00cc96"
         },
         "name": "3",
         "notched": false,
         "offsetgroup": "3",
         "orientation": "v",
         "showlegend": true,
         "type": "box",
         "x": {
          "bdata": "AwMDAwMDAwMDAwMDAwMDAwMDAwMDAwMDAwMDAwMDAwMDAwMDAwMDAwMDAwMDAwMDAwMDAwMDAwMDAwMDAwMDAwMDAwMDAwMDAwMDAwMDAwMDAwMDAwMDAwMDAwMDAwMDAwMDAwMDAwMDAwMDAwMDAwMDAwMDAwMDAwMDAwMDAwMDAwMDAwMDAwMDAwMDAwMDAwMDAwMDAwMDAwMDAwMDAwMDAwMDAwMDAwMDAwMDAwMDAwMDAwMDAwMDAwM=",
          "dtype": "i1"
         },
         "x0": " ",
         "xaxis": "x",
         "y": {
          "bdata": "BgOVAuoCyQP2BoAHVgPcAlADAwTeBJwI6gj5CwcEEAPyArQCxAfPBtMClgLsAngDJgVyCdYHSQPwAoQCeAIyAtsDGgQ4Au4C8wJeAp4CFwb0BdkCIQPTAR8D/wPxBRIFTgOLA3QDLAMbBOAFOgUHA9ECnAJ/Ah0DegfhBEEDAQW1A7MBAAPiAIcF2QIHA7ACDwNrA48H2QnUBMwAdgCZAKEB1gZhBrICvQKHAqwB5gKaBUkFswK2ARsCKwIKA8QDYQr3CXMENQQ1BJkDPQOvBY0FiAMcBAIKfQVWBagFswTmA7oDzwMIBOcFMwmAB0AEmQMfA3gD6wLwBPAJbwR0BGcFDATrBLoIaQgQBMgDMgTXAzAFKQmrBtEE/gTvBKwEKQTHCIYItwRoBK4EOgXLBQsLuAQCBDkERgRTBS0FJQfLBd0DpwOZBJQEmQUwCTUKrQdjA0ADYwIVBBUGCgpeBC4EGgQeBGMFWAx2CP4DcwEUA6sD4gTQCQ==",
          "dtype": "i2"
         },
         "y0": " ",
         "yaxis": "y"
        },
        {
         "alignmentgroup": "True",
         "boxpoints": "outliers",
         "hovertemplate": "season=%{x}<br>rentals=%{y}<extra></extra>",
         "legendgroup": "4",
         "marker": {
          "color": "#ab63fa"
         },
         "name": "4",
         "notched": false,
         "offsetgroup": "4",
         "orientation": "v",
         "showlegend": true,
         "type": "box",
         "x": {
          "bdata": "BAQEBAQEBAQEBAQEBAQEBAQEBAQEBAQEBAQEBAQEBAQEBAQEBAQEBAQEBAQEBAQEBAQEBAQEBAQEBAQEBAQEBAQEBAQEBAQEBAQEBAQEBAQEBAQEBAQEBAQEBAQEBAQEBAQEBAQEBAQEBAQEBAQEBAQEBAQEBAQEBAQEBAQEBAQEBAQEBAQEBAQEBAQEBAQEBAQEBAQEBAQEBAQEBAQEBAQEBAQEBAQEBAQEBAQEBAQEBA==",
          "dtype": "i1"
         },
         "x0": " ",
         "xaxis": "x",
         "y": {
          "bdata": "AgHwBggGrALdAeABjQI+A+ABaAJKAeYBLwJ/ArUDuwhdCeoFmwLZACIBEQJrB9QGyQJ9Av4A1wGkAtsFUwa7ArcClAHwAMgBOQB1A2oBmgFyAT4B1gGEBLgDdQF4ATEBvgC4AfsE7ANTAsEBkQCLAPUArwMTA9wARQBwADACRwThBCoD/QBgALwAtgAMAcICegLpAH4AMgCWAAUB9gF5AY8AmwCyALUAsgATAdwABAHYAJYJ6QNNAxMD7wIVBB0K3wf7AjsB2AJ7A+wF1wsNA2oDWQIMA0IDJATMCCAI+AKaA9MD8APxAvYKVAg+A0kDGwNrA54EUwrmAwIAVwCjAdIBagIFBLEEegHSAUYBVAHFAioI8ghJBEcBdQFAAeQBIQWaA8EBFgJnArsDQwYUAjUBUQF7AMYA8wBqAbcDfAMrAicCSwFUAV0BgQS5AUkBGgE2AakBrQH/AhoC1ACxAU0BOgE=",
          "dtype": "i2"
         },
         "y0": " ",
         "yaxis": "y"
        }
       ],
       "layout": {
        "boxmode": "overlay",
        "legend": {
         "title": {
          "text": "season"
         },
         "tracegroupgap": 0
        },
        "template": {
         "data": {
          "bar": [
           {
            "error_x": {
             "color": "#2a3f5f"
            },
            "error_y": {
             "color": "#2a3f5f"
            },
            "marker": {
             "line": {
              "color": "#E5ECF6",
              "width": 0.5
             },
             "pattern": {
              "fillmode": "overlay",
              "size": 10,
              "solidity": 0.2
             }
            },
            "type": "bar"
           }
          ],
          "barpolar": [
           {
            "marker": {
             "line": {
              "color": "#E5ECF6",
              "width": 0.5
             },
             "pattern": {
              "fillmode": "overlay",
              "size": 10,
              "solidity": 0.2
             }
            },
            "type": "barpolar"
           }
          ],
          "carpet": [
           {
            "aaxis": {
             "endlinecolor": "#2a3f5f",
             "gridcolor": "white",
             "linecolor": "white",
             "minorgridcolor": "white",
             "startlinecolor": "#2a3f5f"
            },
            "baxis": {
             "endlinecolor": "#2a3f5f",
             "gridcolor": "white",
             "linecolor": "white",
             "minorgridcolor": "white",
             "startlinecolor": "#2a3f5f"
            },
            "type": "carpet"
           }
          ],
          "choropleth": [
           {
            "colorbar": {
             "outlinewidth": 0,
             "ticks": ""
            },
            "type": "choropleth"
           }
          ],
          "contour": [
           {
            "colorbar": {
             "outlinewidth": 0,
             "ticks": ""
            },
            "colorscale": [
             [
              0,
              "#0d0887"
             ],
             [
              0.1111111111111111,
              "#46039f"
             ],
             [
              0.2222222222222222,
              "#7201a8"
             ],
             [
              0.3333333333333333,
              "#9c179e"
             ],
             [
              0.4444444444444444,
              "#bd3786"
             ],
             [
              0.5555555555555556,
              "#d8576b"
             ],
             [
              0.6666666666666666,
              "#ed7953"
             ],
             [
              0.7777777777777778,
              "#fb9f3a"
             ],
             [
              0.8888888888888888,
              "#fdca26"
             ],
             [
              1,
              "#f0f921"
             ]
            ],
            "type": "contour"
           }
          ],
          "contourcarpet": [
           {
            "colorbar": {
             "outlinewidth": 0,
             "ticks": ""
            },
            "type": "contourcarpet"
           }
          ],
          "heatmap": [
           {
            "colorbar": {
             "outlinewidth": 0,
             "ticks": ""
            },
            "colorscale": [
             [
              0,
              "#0d0887"
             ],
             [
              0.1111111111111111,
              "#46039f"
             ],
             [
              0.2222222222222222,
              "#7201a8"
             ],
             [
              0.3333333333333333,
              "#9c179e"
             ],
             [
              0.4444444444444444,
              "#bd3786"
             ],
             [
              0.5555555555555556,
              "#d8576b"
             ],
             [
              0.6666666666666666,
              "#ed7953"
             ],
             [
              0.7777777777777778,
              "#fb9f3a"
             ],
             [
              0.8888888888888888,
              "#fdca26"
             ],
             [
              1,
              "#f0f921"
             ]
            ],
            "type": "heatmap"
           }
          ],
          "histogram": [
           {
            "marker": {
             "pattern": {
              "fillmode": "overlay",
              "size": 10,
              "solidity": 0.2
             }
            },
            "type": "histogram"
           }
          ],
          "histogram2d": [
           {
            "colorbar": {
             "outlinewidth": 0,
             "ticks": ""
            },
            "colorscale": [
             [
              0,
              "#0d0887"
             ],
             [
              0.1111111111111111,
              "#46039f"
             ],
             [
              0.2222222222222222,
              "#7201a8"
             ],
             [
              0.3333333333333333,
              "#9c179e"
             ],
             [
              0.4444444444444444,
              "#bd3786"
             ],
             [
              0.5555555555555556,
              "#d8576b"
             ],
             [
              0.6666666666666666,
              "#ed7953"
             ],
             [
              0.7777777777777778,
              "#fb9f3a"
             ],
             [
              0.8888888888888888,
              "#fdca26"
             ],
             [
              1,
              "#f0f921"
             ]
            ],
            "type": "histogram2d"
           }
          ],
          "histogram2dcontour": [
           {
            "colorbar": {
             "outlinewidth": 0,
             "ticks": ""
            },
            "colorscale": [
             [
              0,
              "#0d0887"
             ],
             [
              0.1111111111111111,
              "#46039f"
             ],
             [
              0.2222222222222222,
              "#7201a8"
             ],
             [
              0.3333333333333333,
              "#9c179e"
             ],
             [
              0.4444444444444444,
              "#bd3786"
             ],
             [
              0.5555555555555556,
              "#d8576b"
             ],
             [
              0.6666666666666666,
              "#ed7953"
             ],
             [
              0.7777777777777778,
              "#fb9f3a"
             ],
             [
              0.8888888888888888,
              "#fdca26"
             ],
             [
              1,
              "#f0f921"
             ]
            ],
            "type": "histogram2dcontour"
           }
          ],
          "mesh3d": [
           {
            "colorbar": {
             "outlinewidth": 0,
             "ticks": ""
            },
            "type": "mesh3d"
           }
          ],
          "parcoords": [
           {
            "line": {
             "colorbar": {
              "outlinewidth": 0,
              "ticks": ""
             }
            },
            "type": "parcoords"
           }
          ],
          "pie": [
           {
            "automargin": true,
            "type": "pie"
           }
          ],
          "scatter": [
           {
            "fillpattern": {
             "fillmode": "overlay",
             "size": 10,
             "solidity": 0.2
            },
            "type": "scatter"
           }
          ],
          "scatter3d": [
           {
            "line": {
             "colorbar": {
              "outlinewidth": 0,
              "ticks": ""
             }
            },
            "marker": {
             "colorbar": {
              "outlinewidth": 0,
              "ticks": ""
             }
            },
            "type": "scatter3d"
           }
          ],
          "scattercarpet": [
           {
            "marker": {
             "colorbar": {
              "outlinewidth": 0,
              "ticks": ""
             }
            },
            "type": "scattercarpet"
           }
          ],
          "scattergeo": [
           {
            "marker": {
             "colorbar": {
              "outlinewidth": 0,
              "ticks": ""
             }
            },
            "type": "scattergeo"
           }
          ],
          "scattergl": [
           {
            "marker": {
             "colorbar": {
              "outlinewidth": 0,
              "ticks": ""
             }
            },
            "type": "scattergl"
           }
          ],
          "scattermap": [
           {
            "marker": {
             "colorbar": {
              "outlinewidth": 0,
              "ticks": ""
             }
            },
            "type": "scattermap"
           }
          ],
          "scattermapbox": [
           {
            "marker": {
             "colorbar": {
              "outlinewidth": 0,
              "ticks": ""
             }
            },
            "type": "scattermapbox"
           }
          ],
          "scatterpolar": [
           {
            "marker": {
             "colorbar": {
              "outlinewidth": 0,
              "ticks": ""
             }
            },
            "type": "scatterpolar"
           }
          ],
          "scatterpolargl": [
           {
            "marker": {
             "colorbar": {
              "outlinewidth": 0,
              "ticks": ""
             }
            },
            "type": "scatterpolargl"
           }
          ],
          "scatterternary": [
           {
            "marker": {
             "colorbar": {
              "outlinewidth": 0,
              "ticks": ""
             }
            },
            "type": "scatterternary"
           }
          ],
          "surface": [
           {
            "colorbar": {
             "outlinewidth": 0,
             "ticks": ""
            },
            "colorscale": [
             [
              0,
              "#0d0887"
             ],
             [
              0.1111111111111111,
              "#46039f"
             ],
             [
              0.2222222222222222,
              "#7201a8"
             ],
             [
              0.3333333333333333,
              "#9c179e"
             ],
             [
              0.4444444444444444,
              "#bd3786"
             ],
             [
              0.5555555555555556,
              "#d8576b"
             ],
             [
              0.6666666666666666,
              "#ed7953"
             ],
             [
              0.7777777777777778,
              "#fb9f3a"
             ],
             [
              0.8888888888888888,
              "#fdca26"
             ],
             [
              1,
              "#f0f921"
             ]
            ],
            "type": "surface"
           }
          ],
          "table": [
           {
            "cells": {
             "fill": {
              "color": "#EBF0F8"
             },
             "line": {
              "color": "white"
             }
            },
            "header": {
             "fill": {
              "color": "#C8D4E3"
             },
             "line": {
              "color": "white"
             }
            },
            "type": "table"
           }
          ]
         },
         "layout": {
          "annotationdefaults": {
           "arrowcolor": "#2a3f5f",
           "arrowhead": 0,
           "arrowwidth": 1
          },
          "autotypenumbers": "strict",
          "coloraxis": {
           "colorbar": {
            "outlinewidth": 0,
            "ticks": ""
           }
          },
          "colorscale": {
           "diverging": [
            [
             0,
             "#8e0152"
            ],
            [
             0.1,
             "#c51b7d"
            ],
            [
             0.2,
             "#de77ae"
            ],
            [
             0.3,
             "#f1b6da"
            ],
            [
             0.4,
             "#fde0ef"
            ],
            [
             0.5,
             "#f7f7f7"
            ],
            [
             0.6,
             "#e6f5d0"
            ],
            [
             0.7,
             "#b8e186"
            ],
            [
             0.8,
             "#7fbc41"
            ],
            [
             0.9,
             "#4d9221"
            ],
            [
             1,
             "#276419"
            ]
           ],
           "sequential": [
            [
             0,
             "#0d0887"
            ],
            [
             0.1111111111111111,
             "#46039f"
            ],
            [
             0.2222222222222222,
             "#7201a8"
            ],
            [
             0.3333333333333333,
             "#9c179e"
            ],
            [
             0.4444444444444444,
             "#bd3786"
            ],
            [
             0.5555555555555556,
             "#d8576b"
            ],
            [
             0.6666666666666666,
             "#ed7953"
            ],
            [
             0.7777777777777778,
             "#fb9f3a"
            ],
            [
             0.8888888888888888,
             "#fdca26"
            ],
            [
             1,
             "#f0f921"
            ]
           ],
           "sequentialminus": [
            [
             0,
             "#0d0887"
            ],
            [
             0.1111111111111111,
             "#46039f"
            ],
            [
             0.2222222222222222,
             "#7201a8"
            ],
            [
             0.3333333333333333,
             "#9c179e"
            ],
            [
             0.4444444444444444,
             "#bd3786"
            ],
            [
             0.5555555555555556,
             "#d8576b"
            ],
            [
             0.6666666666666666,
             "#ed7953"
            ],
            [
             0.7777777777777778,
             "#fb9f3a"
            ],
            [
             0.8888888888888888,
             "#fdca26"
            ],
            [
             1,
             "#f0f921"
            ]
           ]
          },
          "colorway": [
           "#636efa",
           "#EF553B",
           "#00cc96",
           "#ab63fa",
           "#FFA15A",
           "#19d3f3",
           "#FF6692",
           "#B6E880",
           "#FF97FF",
           "#FECB52"
          ],
          "font": {
           "color": "#2a3f5f"
          },
          "geo": {
           "bgcolor": "white",
           "lakecolor": "white",
           "landcolor": "#E5ECF6",
           "showlakes": true,
           "showland": true,
           "subunitcolor": "white"
          },
          "hoverlabel": {
           "align": "left"
          },
          "hovermode": "closest",
          "mapbox": {
           "style": "light"
          },
          "paper_bgcolor": "white",
          "plot_bgcolor": "#E5ECF6",
          "polar": {
           "angularaxis": {
            "gridcolor": "white",
            "linecolor": "white",
            "ticks": ""
           },
           "bgcolor": "#E5ECF6",
           "radialaxis": {
            "gridcolor": "white",
            "linecolor": "white",
            "ticks": ""
           }
          },
          "scene": {
           "xaxis": {
            "backgroundcolor": "#E5ECF6",
            "gridcolor": "white",
            "gridwidth": 2,
            "linecolor": "white",
            "showbackground": true,
            "ticks": "",
            "zerolinecolor": "white"
           },
           "yaxis": {
            "backgroundcolor": "#E5ECF6",
            "gridcolor": "white",
            "gridwidth": 2,
            "linecolor": "white",
            "showbackground": true,
            "ticks": "",
            "zerolinecolor": "white"
           },
           "zaxis": {
            "backgroundcolor": "#E5ECF6",
            "gridcolor": "white",
            "gridwidth": 2,
            "linecolor": "white",
            "showbackground": true,
            "ticks": "",
            "zerolinecolor": "white"
           }
          },
          "shapedefaults": {
           "line": {
            "color": "#2a3f5f"
           }
          },
          "ternary": {
           "aaxis": {
            "gridcolor": "white",
            "linecolor": "white",
            "ticks": ""
           },
           "baxis": {
            "gridcolor": "white",
            "linecolor": "white",
            "ticks": ""
           },
           "bgcolor": "#E5ECF6",
           "caxis": {
            "gridcolor": "white",
            "linecolor": "white",
            "ticks": ""
           }
          },
          "title": {
           "x": 0.05
          },
          "xaxis": {
           "automargin": true,
           "gridcolor": "white",
           "linecolor": "white",
           "ticks": "",
           "title": {
            "standoff": 15
           },
           "zerolinecolor": "white",
           "zerolinewidth": 2
          },
          "yaxis": {
           "automargin": true,
           "gridcolor": "white",
           "linecolor": "white",
           "ticks": "",
           "title": {
            "standoff": 15
           },
           "zerolinecolor": "white",
           "zerolinewidth": 2
          }
         }
        },
        "title": {
         "text": "Rentals by season"
        },
        "xaxis": {
         "anchor": "y",
         "categoryarray": [
          1,
          2,
          3,
          4
         ],
         "categoryorder": "array",
         "domain": [
          0,
          1
         ],
         "title": {
          "text": "season"
         }
        },
        "yaxis": {
         "anchor": "x",
         "domain": [
          0,
          1
         ],
         "title": {
          "text": "Bike Rentals"
         }
        }
       }
      }
     },
     "metadata": {},
     "output_type": "display_data"
    },
    {
     "data": {
      "application/vnd.plotly.v1+json": {
       "config": {
        "plotlyServerURL": "https://plot.ly"
       },
       "data": [
        {
         "alignmentgroup": "True",
         "boxpoints": "outliers",
         "hovertemplate": "mnth=%{x}<br>rentals=%{y}<extra></extra>",
         "legendgroup": "1",
         "marker": {
          "color": "#636efa"
         },
         "name": "1",
         "notched": false,
         "offsetgroup": "1",
         "orientation": "v",
         "showlegend": true,
         "type": "box",
         "x": {
          "bdata": "AQEBAQEBAQEBAQEBAQEBAQEBAQEBAQEBAQEBAQEBAQEBAQEBAQEBAQEBAQEBAQEBAQEBAQEBAQEBAQEBAQE=",
          "dtype": "i1"
         },
         "x0": " ",
         "xaxis": "x",
         "y": {
          "bdata": "SwGDAHgAbABSAFgAlABEADYAKQArABkAJgA2AN4A+wB1AAkATgBTAEsAXQCWAFYAugAiAA8AJgB7AIwAKgCuAvQAWQBfAIwAMwEuBFcCagCtAFwADQGuAE0BHAHZAH8AbQCCAHMAQwDEAJEAtwHTAfQADQEHAy4CfgBEAQ==",
          "dtype": "i2"
         },
         "y0": " ",
         "yaxis": "y"
        },
        {
         "alignmentgroup": "True",
         "boxpoints": "outliers",
         "hovertemplate": "mnth=%{x}<br>rentals=%{y}<extra></extra>",
         "legendgroup": "2",
         "marker": {
          "color": "#EF553B"
         },
         "name": "2",
         "notched": false,
         "offsetgroup": "2",
         "orientation": "v",
         "showlegend": true,
         "type": "box",
         "x": {
          "bdata": "AgICAgICAgICAgICAgICAgICAgICAgICAgICAgICAgICAgICAgICAgICAgICAgICAgICAgICAgIC",
          "dtype": "i1"
         },
         "x0": " ",
         "xaxis": "x",
         "y": {
          "bdata": "LwBIAD0AWABkAGIBeABAADUALwCVACABjQHQAIwA2gADAUMCFAJ/AsMASgCLAGQAeACoAbYCUQAwAb4ANgGAAT4BzgDHAG0AowDjAMAASQBeAIcAjQBKAF0BmwVqAvYBowCKAQQC9gA9AQMC/QDlAEEA",
          "dtype": "i2"
         },
         "y0": " ",
         "yaxis": "y"
        },
        {
         "alignmentgroup": "True",
         "boxpoints": "outliers",
         "hovertemplate": "mnth=%{x}<br>rentals=%{y}<extra></extra>",
         "legendgroup": "3",
         "marker": {
          "color": "#00cc96"
         },
         "name": "3",
         "notched": false,
         "offsetgroup": "3",
         "orientation": "v",
         "showlegend": true,
         "type": "box",
         "x": {
          "bdata": "AwMDAwMDAwMDAwMDAwMDAwMDAwMDAwMDAwMDAwMDAwMDAwMDAwMDAwMDAwMDAwMDAwMDAwMDAwMDAwMDAwM=",
          "dtype": "i1"
         },
         "x0": " ",
         "xaxis": "x",
         "y": {
          "bdata": "iQDnAHsA1gCAAnIA9AA8Ab8ALgD3ANQC1gNnASEBQQGoAXQDkAUXBJEBzAHLAKYALAHVA9gB3gA9AagAswBFAfYAvAPGAssA3QCwAeYBvwHIA3oGRgP6AuUD7QMkAlMMnwjWAxsEYgQ2BaUJCQT8BRsDEwKiAkIDHAP9CA==",
          "dtype": "i2"
         },
         "y0": " ",
         "yaxis": "y"
        },
        {
         "alignmentgroup": "True",
         "boxpoints": "outliers",
         "hovertemplate": "mnth=%{x}<br>rentals=%{y}<extra></extra>",
         "legendgroup": "4",
         "marker": {
          "color": "#ab63fa"
         },
         "name": "4",
         "notched": false,
         "offsetgroup": "4",
         "orientation": "v",
         "showlegend": true,
         "type": "box",
         "x": {
          "bdata": "BAQEBAQEBAQEBAQEBAQEBAQEBAQEBAQEBAQEBAQEBAQEBAQEBAQEBAQEBAQEBAQEBAQEBAQEBAQEBAQE",
          "dtype": "i1"
         },
         "x0": " ",
         "xaxis": "x",
         "y": {
          "bdata": "MwGCA3MG3gKnAJ0BOwKsAG8DpARXAwEB0QARAoICeQAWBp0CmQFlAukCsQC2Ba4GBQOmAiMCOQJuA60HKwm4BEQFIgSoBA8HtAy2CIkDMwPiAZcC5ATrCh4LrgTdA1sBTgM8Be0JeADDAAYCjwLbAfYDYAS1CJkC",
          "dtype": "i2"
         },
         "y0": " ",
         "yaxis": "y"
        },
        {
         "alignmentgroup": "True",
         "boxpoints": "outliers",
         "hovertemplate": "mnth=%{x}<br>rentals=%{y}<extra></extra>",
         "legendgroup": "5",
         "marker": {
          "color": "#FFA15A"
         },
         "name": "5",
         "notched": false,
         "offsetgroup": "5",
         "orientation": "v",
         "showlegend": true,
         "type": "box",
         "x": {
          "bdata": "BQUFBQUFBQUFBQUFBQUFBQUFBQUFBQUFBQUFBQUFBQUFBQUFBQUFBQUFBQUFBQUFBQUFBQUFBQUFBQUFBQU=",
          "dtype": "i1"
         },
         "x0": " ",
         "xaxis": "x",
         "y": {
          "bdata": "cgRPA1sC/wBmAn4DTAZ5BZgCtgImArcCtAKGAy4GBQOmAhgC3wKNA9IIKAZEA5MC5AL2AmcD0QczCQ0GoQKNApsC/AItBMAJVwjwA+ICbAICBCcFPgp8CFYBcQLfA9oE8QVSDZAKdgIzA/4CIwSJBScL0wz9CXAD6QJMBA==",
          "dtype": "i2"
         },
         "y0": " ",
         "yaxis": "y"
        },
        {
         "alignmentgroup": "True",
         "boxpoints": "outliers",
         "hovertemplate": "mnth=%{x}<br>rentals=%{y}<extra></extra>",
         "legendgroup": "6",
         "marker": {
          "color": "#19d3f3"
         },
         "name": "6",
         "notched": false,
         "offsetgroup": "6",
         "orientation": "v",
         "showlegend": true,
         "type": "box",
         "x": {
          "bdata": "BgYGBgYGBgYGBgYGBgYGBgYGBgYGBgYGBgYGBgYGBgYGBgYGBgYGBgYGBgYGBgYGBgYGBgYGBgYGBgYG",
          "dtype": "i1"
         },
         "x0": " ",
         "xaxis": "x",
         "y": {
          "bdata": "AQLgAoIDTQeVBqEC+wKkAjMCLwPBBrsFXwPXAgEDIQJfAw8HZwa7AgYDlQLqAskD9gaAB1YD3AJQAwMEFQLrCr4JLwTIAwMEDgTQBZQKsAj5A90BlQScBBsGkwtKCo0CyANoAwoDxANhCvcJcwQ1BDUEmQM9A68F",
          "dtype": "i2"
         },
         "y0": " ",
         "yaxis": "y"
        },
        {
         "alignmentgroup": "True",
         "boxpoints": "outliers",
         "hovertemplate": "mnth=%{x}<br>rentals=%{y}<extra></extra>",
         "legendgroup": "7",
         "marker": {
          "color": "#FF6692"
         },
         "name": "7",
         "notched": false,
         "offsetgroup": "7",
         "orientation": "v",
         "showlegend": true,
         "type": "box",
         "x": {
          "bdata": "BwcHBwcHBwcHBwcHBwcHBwcHBwcHBwcHBwcHBwcHBwcHBwcHBwcHBwcHBwcHBwcHBwcHBwcHBwcHBwcHBwc=",
          "dtype": "i1"
         },
         "x0": " ",
         "xaxis": "x",
         "y": {
          "bdata": "3gScCOoI+QsHBBAD8gK0AsQHzwbTApYC7AJ4AyYFcgnWB0kD8AKEAngCMgLbAxoEOALuAvMCXgKeAhcG9AWNBYgDHAQCCn0FVgWoBbME5gO6A88DCATnBTMJgAdABJkDHwN4A+sC8ATwCW8EdARnBQwE6wS6CGkIEATIAw==",
          "dtype": "i2"
         },
         "y0": " ",
         "yaxis": "y"
        },
        {
         "alignmentgroup": "True",
         "boxpoints": "outliers",
         "hovertemplate": "mnth=%{x}<br>rentals=%{y}<extra></extra>",
         "legendgroup": "8",
         "marker": {
          "color": "#B6E880"
         },
         "name": "8",
         "notched": false,
         "offsetgroup": "8",
         "orientation": "v",
         "showlegend": true,
         "type": "box",
         "x": {
          "bdata": "CAgICAgICAgICAgICAgICAgICAgICAgICAgICAgICAgICAgICAgICAgICAgICAgICAgICAgICAgICAgICAg=",
          "dtype": "i1"
         },
         "x0": " ",
         "xaxis": "x",
         "y": {
          "bdata": "2QIhA9MBHwP/A/EFEgVOA4sDdAMsAxsE4AU6BQcD0QKcAn8CHQN6B+EEQQMBBbUDswEAA+IAhwXZAgcDsAIyBNcDMAUpCasG0QT+BO8ErAQpBMcIhgi3BGgErgQ6BcsFCwu4BAIEOQRGBFMFLQUlB8sF3QOnA5kElASZBQ==",
          "dtype": "i2"
         },
         "y0": " ",
         "yaxis": "y"
        },
        {
         "alignmentgroup": "True",
         "boxpoints": "outliers",
         "hovertemplate": "mnth=%{x}<br>rentals=%{y}<extra></extra>",
         "legendgroup": "9",
         "marker": {
          "color": "#FF97FF"
         },
         "name": "9",
         "notched": false,
         "offsetgroup": "9",
         "orientation": "v",
         "showlegend": true,
         "type": "box",
         "x": {
          "bdata": "CQkJCQkJCQkJCQkJCQkJCQkJCQkJCQkJCQkJCQkJCQkJCQkJCQkJCQkJCQkJCQkJCQkJCQkJCQkJCQkJ",
          "dtype": "i1"
         },
         "x0": " ",
         "xaxis": "x",
         "y": {
          "bdata": "DwNrA48H2QnUBMwAdgCZAKEB1gZhBrICvQKHAqwB5gKaBUkFswK2ARsCKwICAfAGCAasAt0B4AGNAj4DMAk1Cq0HYwNAA2MCFQQVBgoKXgQuBBoEHgRjBVgMdgj+A3MBFAOrA+IE0AmWCekDTQMTA+8CFQQdCt8H",
          "dtype": "i2"
         },
         "y0": " ",
         "yaxis": "y"
        },
        {
         "alignmentgroup": "True",
         "boxpoints": "outliers",
         "hovertemplate": "mnth=%{x}<br>rentals=%{y}<extra></extra>",
         "legendgroup": "10",
         "marker": {
          "color": "#FECB52"
         },
         "name": "10",
         "notched": false,
         "offsetgroup": "10",
         "orientation": "v",
         "showlegend": true,
         "type": "box",
         "x": {
          "bdata": "CgoKCgoKCgoKCgoKCgoKCgoKCgoKCgoKCgoKCgoKCgoKCgoKCgoKCgoKCgoKCgoKCgoKCgoKCgoKCgoKCgo=",
          "dtype": "i1"
         },
         "x0": " ",
         "xaxis": "x",
         "y": {
          "bdata": "4AFoAkoB5gEvAn8CtQO7CF0J6gWbAtkAIgERAmsH1AbJAn0C/gDXAaQC2wVTBrsCtwKUAfAAyAE5AHUDagH7AjsB2AJ7A+wF1wsNA2oDWQIMA0IDJATMCCAI+AKaA9MD8APxAvYKVAg+A0kDGwNrA54EUwrmAwIAVwCjAQ==",
          "dtype": "i2"
         },
         "y0": " ",
         "yaxis": "y"
        },
        {
         "alignmentgroup": "True",
         "boxpoints": "outliers",
         "hovertemplate": "mnth=%{x}<br>rentals=%{y}<extra></extra>",
         "legendgroup": "11",
         "marker": {
          "color": "#636efa"
         },
         "name": "11",
         "notched": false,
         "offsetgroup": "11",
         "orientation": "v",
         "showlegend": true,
         "type": "box",
         "x": {
          "bdata": "CwsLCwsLCwsLCwsLCwsLCwsLCwsLCwsLCwsLCwsLCwsLCwsLCwsLCwsLCwsLCwsLCwsLCwsLCwsLCwsL",
          "dtype": "i1"
         },
         "x0": " ",
         "xaxis": "x",
         "y": {
          "bdata": "mgFyAT4B1gGEBLgDdQF4ATEBvgC4AfsE7ANTAsEBkQCLAPUArwMTA9wARQBwADACRwThBCoD/QBgALwA0gFqAgUEsQR6AdIBRgFUAcUCKgjyCEkERwF1AUAB5AEhBZoDwQEWAmcCuwNDBhQCNQFRAXsAxgDzAGoB",
          "dtype": "i2"
         },
         "y0": " ",
         "yaxis": "y"
        },
        {
         "alignmentgroup": "True",
         "boxpoints": "outliers",
         "hovertemplate": "mnth=%{x}<br>rentals=%{y}<extra></extra>",
         "legendgroup": "12",
         "marker": {
          "color": "#EF553B"
         },
         "name": "12",
         "notched": false,
         "offsetgroup": "12",
         "orientation": "v",
         "showlegend": true,
         "type": "box",
         "x": {
          "bdata": "DAwMDAwMDAwMDAwMDAwMDAwMDAwMDAwMDAwMDAwMDAwMDAwMDAwMDAwMDAwMDAwMDAwMDAwMDAwMDAwMDAw=",
          "dtype": "i1"
         },
         "x0": " ",
         "xaxis": "x",
         "y": {
          "bdata": "tgAMAcICegLpAH4AMgCWAAUB9gF5AY8AmwCyALUAsgATAdwABAHYAGsA4wCjAJsALwGuAWcA/wD+AOsBmQK3A3wDKwInAksBVAFdAYEEuQFJARoBNgGpAa0B/wIaAtQAsQFNAToB3QDNAJgBrgC4AQkA9wCEAp8AbAG3AQ==",
          "dtype": "i2"
         },
         "y0": " ",
         "yaxis": "y"
        }
       ],
       "layout": {
        "boxmode": "overlay",
        "legend": {
         "title": {
          "text": "mnth"
         },
         "tracegroupgap": 0
        },
        "template": {
         "data": {
          "bar": [
           {
            "error_x": {
             "color": "#2a3f5f"
            },
            "error_y": {
             "color": "#2a3f5f"
            },
            "marker": {
             "line": {
              "color": "#E5ECF6",
              "width": 0.5
             },
             "pattern": {
              "fillmode": "overlay",
              "size": 10,
              "solidity": 0.2
             }
            },
            "type": "bar"
           }
          ],
          "barpolar": [
           {
            "marker": {
             "line": {
              "color": "#E5ECF6",
              "width": 0.5
             },
             "pattern": {
              "fillmode": "overlay",
              "size": 10,
              "solidity": 0.2
             }
            },
            "type": "barpolar"
           }
          ],
          "carpet": [
           {
            "aaxis": {
             "endlinecolor": "#2a3f5f",
             "gridcolor": "white",
             "linecolor": "white",
             "minorgridcolor": "white",
             "startlinecolor": "#2a3f5f"
            },
            "baxis": {
             "endlinecolor": "#2a3f5f",
             "gridcolor": "white",
             "linecolor": "white",
             "minorgridcolor": "white",
             "startlinecolor": "#2a3f5f"
            },
            "type": "carpet"
           }
          ],
          "choropleth": [
           {
            "colorbar": {
             "outlinewidth": 0,
             "ticks": ""
            },
            "type": "choropleth"
           }
          ],
          "contour": [
           {
            "colorbar": {
             "outlinewidth": 0,
             "ticks": ""
            },
            "colorscale": [
             [
              0,
              "#0d0887"
             ],
             [
              0.1111111111111111,
              "#46039f"
             ],
             [
              0.2222222222222222,
              "#7201a8"
             ],
             [
              0.3333333333333333,
              "#9c179e"
             ],
             [
              0.4444444444444444,
              "#bd3786"
             ],
             [
              0.5555555555555556,
              "#d8576b"
             ],
             [
              0.6666666666666666,
              "#ed7953"
             ],
             [
              0.7777777777777778,
              "#fb9f3a"
             ],
             [
              0.8888888888888888,
              "#fdca26"
             ],
             [
              1,
              "#f0f921"
             ]
            ],
            "type": "contour"
           }
          ],
          "contourcarpet": [
           {
            "colorbar": {
             "outlinewidth": 0,
             "ticks": ""
            },
            "type": "contourcarpet"
           }
          ],
          "heatmap": [
           {
            "colorbar": {
             "outlinewidth": 0,
             "ticks": ""
            },
            "colorscale": [
             [
              0,
              "#0d0887"
             ],
             [
              0.1111111111111111,
              "#46039f"
             ],
             [
              0.2222222222222222,
              "#7201a8"
             ],
             [
              0.3333333333333333,
              "#9c179e"
             ],
             [
              0.4444444444444444,
              "#bd3786"
             ],
             [
              0.5555555555555556,
              "#d8576b"
             ],
             [
              0.6666666666666666,
              "#ed7953"
             ],
             [
              0.7777777777777778,
              "#fb9f3a"
             ],
             [
              0.8888888888888888,
              "#fdca26"
             ],
             [
              1,
              "#f0f921"
             ]
            ],
            "type": "heatmap"
           }
          ],
          "histogram": [
           {
            "marker": {
             "pattern": {
              "fillmode": "overlay",
              "size": 10,
              "solidity": 0.2
             }
            },
            "type": "histogram"
           }
          ],
          "histogram2d": [
           {
            "colorbar": {
             "outlinewidth": 0,
             "ticks": ""
            },
            "colorscale": [
             [
              0,
              "#0d0887"
             ],
             [
              0.1111111111111111,
              "#46039f"
             ],
             [
              0.2222222222222222,
              "#7201a8"
             ],
             [
              0.3333333333333333,
              "#9c179e"
             ],
             [
              0.4444444444444444,
              "#bd3786"
             ],
             [
              0.5555555555555556,
              "#d8576b"
             ],
             [
              0.6666666666666666,
              "#ed7953"
             ],
             [
              0.7777777777777778,
              "#fb9f3a"
             ],
             [
              0.8888888888888888,
              "#fdca26"
             ],
             [
              1,
              "#f0f921"
             ]
            ],
            "type": "histogram2d"
           }
          ],
          "histogram2dcontour": [
           {
            "colorbar": {
             "outlinewidth": 0,
             "ticks": ""
            },
            "colorscale": [
             [
              0,
              "#0d0887"
             ],
             [
              0.1111111111111111,
              "#46039f"
             ],
             [
              0.2222222222222222,
              "#7201a8"
             ],
             [
              0.3333333333333333,
              "#9c179e"
             ],
             [
              0.4444444444444444,
              "#bd3786"
             ],
             [
              0.5555555555555556,
              "#d8576b"
             ],
             [
              0.6666666666666666,
              "#ed7953"
             ],
             [
              0.7777777777777778,
              "#fb9f3a"
             ],
             [
              0.8888888888888888,
              "#fdca26"
             ],
             [
              1,
              "#f0f921"
             ]
            ],
            "type": "histogram2dcontour"
           }
          ],
          "mesh3d": [
           {
            "colorbar": {
             "outlinewidth": 0,
             "ticks": ""
            },
            "type": "mesh3d"
           }
          ],
          "parcoords": [
           {
            "line": {
             "colorbar": {
              "outlinewidth": 0,
              "ticks": ""
             }
            },
            "type": "parcoords"
           }
          ],
          "pie": [
           {
            "automargin": true,
            "type": "pie"
           }
          ],
          "scatter": [
           {
            "fillpattern": {
             "fillmode": "overlay",
             "size": 10,
             "solidity": 0.2
            },
            "type": "scatter"
           }
          ],
          "scatter3d": [
           {
            "line": {
             "colorbar": {
              "outlinewidth": 0,
              "ticks": ""
             }
            },
            "marker": {
             "colorbar": {
              "outlinewidth": 0,
              "ticks": ""
             }
            },
            "type": "scatter3d"
           }
          ],
          "scattercarpet": [
           {
            "marker": {
             "colorbar": {
              "outlinewidth": 0,
              "ticks": ""
             }
            },
            "type": "scattercarpet"
           }
          ],
          "scattergeo": [
           {
            "marker": {
             "colorbar": {
              "outlinewidth": 0,
              "ticks": ""
             }
            },
            "type": "scattergeo"
           }
          ],
          "scattergl": [
           {
            "marker": {
             "colorbar": {
              "outlinewidth": 0,
              "ticks": ""
             }
            },
            "type": "scattergl"
           }
          ],
          "scattermap": [
           {
            "marker": {
             "colorbar": {
              "outlinewidth": 0,
              "ticks": ""
             }
            },
            "type": "scattermap"
           }
          ],
          "scattermapbox": [
           {
            "marker": {
             "colorbar": {
              "outlinewidth": 0,
              "ticks": ""
             }
            },
            "type": "scattermapbox"
           }
          ],
          "scatterpolar": [
           {
            "marker": {
             "colorbar": {
              "outlinewidth": 0,
              "ticks": ""
             }
            },
            "type": "scatterpolar"
           }
          ],
          "scatterpolargl": [
           {
            "marker": {
             "colorbar": {
              "outlinewidth": 0,
              "ticks": ""
             }
            },
            "type": "scatterpolargl"
           }
          ],
          "scatterternary": [
           {
            "marker": {
             "colorbar": {
              "outlinewidth": 0,
              "ticks": ""
             }
            },
            "type": "scatterternary"
           }
          ],
          "surface": [
           {
            "colorbar": {
             "outlinewidth": 0,
             "ticks": ""
            },
            "colorscale": [
             [
              0,
              "#0d0887"
             ],
             [
              0.1111111111111111,
              "#46039f"
             ],
             [
              0.2222222222222222,
              "#7201a8"
             ],
             [
              0.3333333333333333,
              "#9c179e"
             ],
             [
              0.4444444444444444,
              "#bd3786"
             ],
             [
              0.5555555555555556,
              "#d8576b"
             ],
             [
              0.6666666666666666,
              "#ed7953"
             ],
             [
              0.7777777777777778,
              "#fb9f3a"
             ],
             [
              0.8888888888888888,
              "#fdca26"
             ],
             [
              1,
              "#f0f921"
             ]
            ],
            "type": "surface"
           }
          ],
          "table": [
           {
            "cells": {
             "fill": {
              "color": "#EBF0F8"
             },
             "line": {
              "color": "white"
             }
            },
            "header": {
             "fill": {
              "color": "#C8D4E3"
             },
             "line": {
              "color": "white"
             }
            },
            "type": "table"
           }
          ]
         },
         "layout": {
          "annotationdefaults": {
           "arrowcolor": "#2a3f5f",
           "arrowhead": 0,
           "arrowwidth": 1
          },
          "autotypenumbers": "strict",
          "coloraxis": {
           "colorbar": {
            "outlinewidth": 0,
            "ticks": ""
           }
          },
          "colorscale": {
           "diverging": [
            [
             0,
             "#8e0152"
            ],
            [
             0.1,
             "#c51b7d"
            ],
            [
             0.2,
             "#de77ae"
            ],
            [
             0.3,
             "#f1b6da"
            ],
            [
             0.4,
             "#fde0ef"
            ],
            [
             0.5,
             "#f7f7f7"
            ],
            [
             0.6,
             "#e6f5d0"
            ],
            [
             0.7,
             "#b8e186"
            ],
            [
             0.8,
             "#7fbc41"
            ],
            [
             0.9,
             "#4d9221"
            ],
            [
             1,
             "#276419"
            ]
           ],
           "sequential": [
            [
             0,
             "#0d0887"
            ],
            [
             0.1111111111111111,
             "#46039f"
            ],
            [
             0.2222222222222222,
             "#7201a8"
            ],
            [
             0.3333333333333333,
             "#9c179e"
            ],
            [
             0.4444444444444444,
             "#bd3786"
            ],
            [
             0.5555555555555556,
             "#d8576b"
            ],
            [
             0.6666666666666666,
             "#ed7953"
            ],
            [
             0.7777777777777778,
             "#fb9f3a"
            ],
            [
             0.8888888888888888,
             "#fdca26"
            ],
            [
             1,
             "#f0f921"
            ]
           ],
           "sequentialminus": [
            [
             0,
             "#0d0887"
            ],
            [
             0.1111111111111111,
             "#46039f"
            ],
            [
             0.2222222222222222,
             "#7201a8"
            ],
            [
             0.3333333333333333,
             "#9c179e"
            ],
            [
             0.4444444444444444,
             "#bd3786"
            ],
            [
             0.5555555555555556,
             "#d8576b"
            ],
            [
             0.6666666666666666,
             "#ed7953"
            ],
            [
             0.7777777777777778,
             "#fb9f3a"
            ],
            [
             0.8888888888888888,
             "#fdca26"
            ],
            [
             1,
             "#f0f921"
            ]
           ]
          },
          "colorway": [
           "#636efa",
           "#EF553B",
           "#00cc96",
           "#ab63fa",
           "#FFA15A",
           "#19d3f3",
           "#FF6692",
           "#B6E880",
           "#FF97FF",
           "#FECB52"
          ],
          "font": {
           "color": "#2a3f5f"
          },
          "geo": {
           "bgcolor": "white",
           "lakecolor": "white",
           "landcolor": "#E5ECF6",
           "showlakes": true,
           "showland": true,
           "subunitcolor": "white"
          },
          "hoverlabel": {
           "align": "left"
          },
          "hovermode": "closest",
          "mapbox": {
           "style": "light"
          },
          "paper_bgcolor": "white",
          "plot_bgcolor": "#E5ECF6",
          "polar": {
           "angularaxis": {
            "gridcolor": "white",
            "linecolor": "white",
            "ticks": ""
           },
           "bgcolor": "#E5ECF6",
           "radialaxis": {
            "gridcolor": "white",
            "linecolor": "white",
            "ticks": ""
           }
          },
          "scene": {
           "xaxis": {
            "backgroundcolor": "#E5ECF6",
            "gridcolor": "white",
            "gridwidth": 2,
            "linecolor": "white",
            "showbackground": true,
            "ticks": "",
            "zerolinecolor": "white"
           },
           "yaxis": {
            "backgroundcolor": "#E5ECF6",
            "gridcolor": "white",
            "gridwidth": 2,
            "linecolor": "white",
            "showbackground": true,
            "ticks": "",
            "zerolinecolor": "white"
           },
           "zaxis": {
            "backgroundcolor": "#E5ECF6",
            "gridcolor": "white",
            "gridwidth": 2,
            "linecolor": "white",
            "showbackground": true,
            "ticks": "",
            "zerolinecolor": "white"
           }
          },
          "shapedefaults": {
           "line": {
            "color": "#2a3f5f"
           }
          },
          "ternary": {
           "aaxis": {
            "gridcolor": "white",
            "linecolor": "white",
            "ticks": ""
           },
           "baxis": {
            "gridcolor": "white",
            "linecolor": "white",
            "ticks": ""
           },
           "bgcolor": "#E5ECF6",
           "caxis": {
            "gridcolor": "white",
            "linecolor": "white",
            "ticks": ""
           }
          },
          "title": {
           "x": 0.05
          },
          "xaxis": {
           "automargin": true,
           "gridcolor": "white",
           "linecolor": "white",
           "ticks": "",
           "title": {
            "standoff": 15
           },
           "zerolinecolor": "white",
           "zerolinewidth": 2
          },
          "yaxis": {
           "automargin": true,
           "gridcolor": "white",
           "linecolor": "white",
           "ticks": "",
           "title": {
            "standoff": 15
           },
           "zerolinecolor": "white",
           "zerolinewidth": 2
          }
         }
        },
        "title": {
         "text": "Rentals by mnth"
        },
        "xaxis": {
         "anchor": "y",
         "categoryarray": [
          1,
          2,
          3,
          4,
          5,
          6,
          7,
          8,
          9,
          10,
          11,
          12
         ],
         "categoryorder": "array",
         "domain": [
          0,
          1
         ],
         "title": {
          "text": "mnth"
         }
        },
        "yaxis": {
         "anchor": "x",
         "domain": [
          0,
          1
         ],
         "title": {
          "text": "Bike Rentals"
         }
        }
       }
      }
     },
     "metadata": {},
     "output_type": "display_data"
    },
    {
     "data": {
      "application/vnd.plotly.v1+json": {
       "config": {
        "plotlyServerURL": "https://plot.ly"
       },
       "data": [
        {
         "alignmentgroup": "True",
         "boxpoints": "outliers",
         "hovertemplate": "holiday=%{x}<br>rentals=%{y}<extra></extra>",
         "legendgroup": "0",
         "marker": {
          "color": "#636efa"
         },
         "name": "0",
         "notched": false,
         "offsetgroup": "0",
         "orientation": "v",
         "showlegend": true,
         "type": "box",
         "x": {
          "bdata": "AAAAAAAAAAAAAAAAAAAAAAAAAAAAAAAAAAAAAAAAAAAAAAAAAAAAAAAAAAAAAAAAAAAAAAAAAAAAAAAAAAAAAAAAAAAAAAAAAAAAAAAAAAAAAAAAAAAAAAAAAAAAAAAAAAAAAAAAAAAAAAAAAAAAAAAAAAAAAAAAAAAAAAAAAAAAAAAAAAAAAAAAAAAAAAAAAAAAAAAAAAAAAAAAAAAAAAAAAAAAAAAAAAAAAAAAAAAAAAAAAAAAAAAAAAAAAAAAAAAAAAAAAAAAAAAAAAAAAAAAAAAAAAAAAAAAAAAAAAAAAAAAAAAAAAAAAAAAAAAAAAAAAAAAAAAAAAAAAAAAAAAAAAAAAAAAAAAAAAAAAAAAAAAAAAAAAAAAAAAAAAAAAAAAAAAAAAAAAAAAAAAAAAAAAAAAAAAAAAAAAAAAAAAAAAAAAAAAAAAAAAAAAAAAAAAAAAAAAAAAAAAAAAAAAAAAAAAAAAAAAAAAAAAAAAAAAAAAAAAAAAAAAAAAAAAAAAAAAAAAAAAAAAAAAAAAAAAAAAAAAAAAAAAAAAAAAAAAAAAAAAAAAAAAAAAAAAAAAAAAAAAAAAAAAAAAAAAAAAAAAAAAAAAAAAAAAAAAAAAAAAAAAAAAAAAAAAAAAAAAAAAAAAAAAAAAAAAAAAAAAAAAAAAAAAAAAAAAAAAAAAAAAAAAAAAAAAAAAAAAAAAAAAAAAAAAAAAAAAAAAAAAAAAAAAAAAAAAAAAAAAAAAAAAAAAAAAAAAAAAAAAAAAAAAAAAAAAAAAAAAAAAAAAAAAAAAAAAAAAAAAAAAAAAAAAAAAAAAAAAAAAAAAAAAAAAAAAAAAAAAAAAAAAAAAAAAAAAAAAAAAAAAAAAAAAAAAAAAAAAAAAAAAAAAAAAAAAAAAAAAAAAAAAAAAAAAAAAAAAAAAAAAAAAAAAAAAAAAAAAAAAAAAA=",
          "dtype": "i1"
         },
         "x0": " ",
         "xaxis": "x",
         "y": {
          "bdata": "SwGDAHgAbABSAFgAlABEADYAKQArABkAJgA2AN4A+wAJAE4AUwBLAF0AlgBWALoAIgAPACYAewCMACoALwBIAD0AWABkAGIBeABAADUALwCVACABjQHQAIwA2gADAUMCFAJ/AkoAiwBkAHgAqAG2AlEAiQDnAHsA1gCAAnIA9AA8Ab8ALgD3ANQC1gNnASEBQQGoAXQDkAUXBJEBzAHLAKYALAHVA9gB3gA9AagAswAzAYIDcwbeAqcAnQE7AqwAbwOkBFcDAQHRABECeQAWBp0CmQFlAukCsQC2Ba4GBQOmAiMCOQJuA60HcgRPA1sC/wBmAn4DTAZ5BZgCtgImArcCtAKGAy4GBQOmAhgC3wKNA9IIKAZEA5MC5AL2AmcD0QczCaECAQLgAoIDTQeVBqEC+wKkAjMCLwPBBrsFXwPXAgEDIQJfAw8HZwa7AgYDlQLqAskD9gaAB1YD3AJQAwME3gScCOoIBwQQA/ICtALEB88G0wKWAuwCeAMmBXIJ1gdJA/AChAJ4AjIC2wMaBDgC7gLzAl4CngIXBvQF2QIhA9MBHwP/A/EFEgVOA4sDdAMsAxsE4AU6BQcD0QKcAn8CHQN6B+EEQQMBBbUDswEAA+IAhwXZAgcDsAIPA2sDjwfZCcwAdgCZAKEB1gZhBrICvQKHAqwB5gKaBUkFswK2ARsCKwICAfAGCAasAt0B4AGNAj4D4AFoAkoB5gEvAn8CtQO7CF0JmwLZACIBEQJrB9QGyQJ9Av4A1wGkAtsFUwa7ArcClAHwAMgBOQB1A2oBmgFyAT4B1gGEBLgDdQF4ATEBvgD7BOwDUwLBAZEAiwD1AK8DEwPcAEUAcABHBOEEKgP9AGAAvAC2AAwBwgJ6AukAfgAyAJYABQH2AXkBjwCbALIAtQCyABMB3AAEAdgAawDjAKMAmwAvAWcA/wD+AOsBmQKuAlkAXwCMADMBLgRXAmoArQBcAA0BrgBNARwBfwBtAIIAcwBDAMQAkQC3AdMB9AANAQcDLgJ+AEQBMAG+ADYBgAE+Ac4AxwBtAKMA4wDAAEkAXgCHAI0ASgBdAZsFagKjAIoBBAL2AD0BAwL9AOUAQQBFAfYAvAPGAssA3QCwAeYBvwHIA3oGRgP6AuUD7QMkAlMMnwjWAxsEYgQ2BaUJCQT8BRsDEwKiAkIDHAP9CCsJuAREBSIEqAQPB7QMtgiJAzMD4gGXAuQE6woeC90DWwFOAzwF7Ql4AMMABgKPAtsB9gNgBLUImQKNApsC/AItBMAJVwjwA+ICbAICBCcFPgp8CFYBcQLfA9oE8QVSDZAKdgIzA/4CIwSJBScL0wxwA+kCTAQVAusKvgkvBMgDAwQOBNAFlAqwCPkD3QGVBJwEGwaTC0oKjQLIA2gDCgPEA2EK9wlzBDUENQSZAz0DrwWNBYgDHAR9BVYFqAWzBOYDugPPAwgE5wUzCYAHQASZAx8DeAPrAvAE8AlvBHQEZwUMBOsEughpCBAEyAMyBNcDMAUpCasG0QT+BO8ErAQpBMcIhgi3BGgErgQ6BcsFCwu4BAIEOQRGBFMFLQUlB8sF3QOnA5kElASZBTAJNQpjA0ADYwIVBBUGCgpeBC4EGgQeBGMFWAx2CP4DcwEUA6sD4gTQCZYJ6QNNAxMD7wIVBB0K3wf7AjsB2AJ7A+wF1wsNA1kCDANCAyQEzAggCPgCmgPTA/AD8QL2ClQIPgNJAxsDawOeBFMK5gMCAFcAowHSAWoCBQSxBHoB0gFGAVQBxQIqCPIIRwF1AUAB5AEhBZoDwQEWAmcCQwYUAjUBUQF7AMYA8wBqAbcDfAMrAicCSwFUAV0BgQS5AUkBGgE2AakBrQH/AhoC1ACxAU0BOgHdAM0AmAGuAAkA9wCEAp8AbAG3AQ==",
          "dtype": "i2"
         },
         "y0": " ",
         "yaxis": "y"
        },
        {
         "alignmentgroup": "True",
         "boxpoints": "outliers",
         "hovertemplate": "holiday=%{x}<br>rentals=%{y}<extra></extra>",
         "legendgroup": "1",
         "marker": {
          "color": "#EF553B"
         },
         "name": "1",
         "notched": false,
         "offsetgroup": "1",
         "orientation": "v",
         "showlegend": true,
         "type": "box",
         "x": {
          "bdata": "AQEBAQEBAQEBAQEBAQEBAQEBAQEB",
          "dtype": "i1"
         },
         "x0": " ",
         "xaxis": "x",
         "y": {
          "bdata": "dQDDAIICDQb5C9QE6gW4ATACrgH0ANkA9gGuBP0JAgqtB2oDSQS7A7gB",
          "dtype": "i2"
         },
         "y0": " ",
         "yaxis": "y"
        }
       ],
       "layout": {
        "boxmode": "overlay",
        "legend": {
         "title": {
          "text": "holiday"
         },
         "tracegroupgap": 0
        },
        "template": {
         "data": {
          "bar": [
           {
            "error_x": {
             "color": "#2a3f5f"
            },
            "error_y": {
             "color": "#2a3f5f"
            },
            "marker": {
             "line": {
              "color": "#E5ECF6",
              "width": 0.5
             },
             "pattern": {
              "fillmode": "overlay",
              "size": 10,
              "solidity": 0.2
             }
            },
            "type": "bar"
           }
          ],
          "barpolar": [
           {
            "marker": {
             "line": {
              "color": "#E5ECF6",
              "width": 0.5
             },
             "pattern": {
              "fillmode": "overlay",
              "size": 10,
              "solidity": 0.2
             }
            },
            "type": "barpolar"
           }
          ],
          "carpet": [
           {
            "aaxis": {
             "endlinecolor": "#2a3f5f",
             "gridcolor": "white",
             "linecolor": "white",
             "minorgridcolor": "white",
             "startlinecolor": "#2a3f5f"
            },
            "baxis": {
             "endlinecolor": "#2a3f5f",
             "gridcolor": "white",
             "linecolor": "white",
             "minorgridcolor": "white",
             "startlinecolor": "#2a3f5f"
            },
            "type": "carpet"
           }
          ],
          "choropleth": [
           {
            "colorbar": {
             "outlinewidth": 0,
             "ticks": ""
            },
            "type": "choropleth"
           }
          ],
          "contour": [
           {
            "colorbar": {
             "outlinewidth": 0,
             "ticks": ""
            },
            "colorscale": [
             [
              0,
              "#0d0887"
             ],
             [
              0.1111111111111111,
              "#46039f"
             ],
             [
              0.2222222222222222,
              "#7201a8"
             ],
             [
              0.3333333333333333,
              "#9c179e"
             ],
             [
              0.4444444444444444,
              "#bd3786"
             ],
             [
              0.5555555555555556,
              "#d8576b"
             ],
             [
              0.6666666666666666,
              "#ed7953"
             ],
             [
              0.7777777777777778,
              "#fb9f3a"
             ],
             [
              0.8888888888888888,
              "#fdca26"
             ],
             [
              1,
              "#f0f921"
             ]
            ],
            "type": "contour"
           }
          ],
          "contourcarpet": [
           {
            "colorbar": {
             "outlinewidth": 0,
             "ticks": ""
            },
            "type": "contourcarpet"
           }
          ],
          "heatmap": [
           {
            "colorbar": {
             "outlinewidth": 0,
             "ticks": ""
            },
            "colorscale": [
             [
              0,
              "#0d0887"
             ],
             [
              0.1111111111111111,
              "#46039f"
             ],
             [
              0.2222222222222222,
              "#7201a8"
             ],
             [
              0.3333333333333333,
              "#9c179e"
             ],
             [
              0.4444444444444444,
              "#bd3786"
             ],
             [
              0.5555555555555556,
              "#d8576b"
             ],
             [
              0.6666666666666666,
              "#ed7953"
             ],
             [
              0.7777777777777778,
              "#fb9f3a"
             ],
             [
              0.8888888888888888,
              "#fdca26"
             ],
             [
              1,
              "#f0f921"
             ]
            ],
            "type": "heatmap"
           }
          ],
          "histogram": [
           {
            "marker": {
             "pattern": {
              "fillmode": "overlay",
              "size": 10,
              "solidity": 0.2
             }
            },
            "type": "histogram"
           }
          ],
          "histogram2d": [
           {
            "colorbar": {
             "outlinewidth": 0,
             "ticks": ""
            },
            "colorscale": [
             [
              0,
              "#0d0887"
             ],
             [
              0.1111111111111111,
              "#46039f"
             ],
             [
              0.2222222222222222,
              "#7201a8"
             ],
             [
              0.3333333333333333,
              "#9c179e"
             ],
             [
              0.4444444444444444,
              "#bd3786"
             ],
             [
              0.5555555555555556,
              "#d8576b"
             ],
             [
              0.6666666666666666,
              "#ed7953"
             ],
             [
              0.7777777777777778,
              "#fb9f3a"
             ],
             [
              0.8888888888888888,
              "#fdca26"
             ],
             [
              1,
              "#f0f921"
             ]
            ],
            "type": "histogram2d"
           }
          ],
          "histogram2dcontour": [
           {
            "colorbar": {
             "outlinewidth": 0,
             "ticks": ""
            },
            "colorscale": [
             [
              0,
              "#0d0887"
             ],
             [
              0.1111111111111111,
              "#46039f"
             ],
             [
              0.2222222222222222,
              "#7201a8"
             ],
             [
              0.3333333333333333,
              "#9c179e"
             ],
             [
              0.4444444444444444,
              "#bd3786"
             ],
             [
              0.5555555555555556,
              "#d8576b"
             ],
             [
              0.6666666666666666,
              "#ed7953"
             ],
             [
              0.7777777777777778,
              "#fb9f3a"
             ],
             [
              0.8888888888888888,
              "#fdca26"
             ],
             [
              1,
              "#f0f921"
             ]
            ],
            "type": "histogram2dcontour"
           }
          ],
          "mesh3d": [
           {
            "colorbar": {
             "outlinewidth": 0,
             "ticks": ""
            },
            "type": "mesh3d"
           }
          ],
          "parcoords": [
           {
            "line": {
             "colorbar": {
              "outlinewidth": 0,
              "ticks": ""
             }
            },
            "type": "parcoords"
           }
          ],
          "pie": [
           {
            "automargin": true,
            "type": "pie"
           }
          ],
          "scatter": [
           {
            "fillpattern": {
             "fillmode": "overlay",
             "size": 10,
             "solidity": 0.2
            },
            "type": "scatter"
           }
          ],
          "scatter3d": [
           {
            "line": {
             "colorbar": {
              "outlinewidth": 0,
              "ticks": ""
             }
            },
            "marker": {
             "colorbar": {
              "outlinewidth": 0,
              "ticks": ""
             }
            },
            "type": "scatter3d"
           }
          ],
          "scattercarpet": [
           {
            "marker": {
             "colorbar": {
              "outlinewidth": 0,
              "ticks": ""
             }
            },
            "type": "scattercarpet"
           }
          ],
          "scattergeo": [
           {
            "marker": {
             "colorbar": {
              "outlinewidth": 0,
              "ticks": ""
             }
            },
            "type": "scattergeo"
           }
          ],
          "scattergl": [
           {
            "marker": {
             "colorbar": {
              "outlinewidth": 0,
              "ticks": ""
             }
            },
            "type": "scattergl"
           }
          ],
          "scattermap": [
           {
            "marker": {
             "colorbar": {
              "outlinewidth": 0,
              "ticks": ""
             }
            },
            "type": "scattermap"
           }
          ],
          "scattermapbox": [
           {
            "marker": {
             "colorbar": {
              "outlinewidth": 0,
              "ticks": ""
             }
            },
            "type": "scattermapbox"
           }
          ],
          "scatterpolar": [
           {
            "marker": {
             "colorbar": {
              "outlinewidth": 0,
              "ticks": ""
             }
            },
            "type": "scatterpolar"
           }
          ],
          "scatterpolargl": [
           {
            "marker": {
             "colorbar": {
              "outlinewidth": 0,
              "ticks": ""
             }
            },
            "type": "scatterpolargl"
           }
          ],
          "scatterternary": [
           {
            "marker": {
             "colorbar": {
              "outlinewidth": 0,
              "ticks": ""
             }
            },
            "type": "scatterternary"
           }
          ],
          "surface": [
           {
            "colorbar": {
             "outlinewidth": 0,
             "ticks": ""
            },
            "colorscale": [
             [
              0,
              "#0d0887"
             ],
             [
              0.1111111111111111,
              "#46039f"
             ],
             [
              0.2222222222222222,
              "#7201a8"
             ],
             [
              0.3333333333333333,
              "#9c179e"
             ],
             [
              0.4444444444444444,
              "#bd3786"
             ],
             [
              0.5555555555555556,
              "#d8576b"
             ],
             [
              0.6666666666666666,
              "#ed7953"
             ],
             [
              0.7777777777777778,
              "#fb9f3a"
             ],
             [
              0.8888888888888888,
              "#fdca26"
             ],
             [
              1,
              "#f0f921"
             ]
            ],
            "type": "surface"
           }
          ],
          "table": [
           {
            "cells": {
             "fill": {
              "color": "#EBF0F8"
             },
             "line": {
              "color": "white"
             }
            },
            "header": {
             "fill": {
              "color": "#C8D4E3"
             },
             "line": {
              "color": "white"
             }
            },
            "type": "table"
           }
          ]
         },
         "layout": {
          "annotationdefaults": {
           "arrowcolor": "#2a3f5f",
           "arrowhead": 0,
           "arrowwidth": 1
          },
          "autotypenumbers": "strict",
          "coloraxis": {
           "colorbar": {
            "outlinewidth": 0,
            "ticks": ""
           }
          },
          "colorscale": {
           "diverging": [
            [
             0,
             "#8e0152"
            ],
            [
             0.1,
             "#c51b7d"
            ],
            [
             0.2,
             "#de77ae"
            ],
            [
             0.3,
             "#f1b6da"
            ],
            [
             0.4,
             "#fde0ef"
            ],
            [
             0.5,
             "#f7f7f7"
            ],
            [
             0.6,
             "#e6f5d0"
            ],
            [
             0.7,
             "#b8e186"
            ],
            [
             0.8,
             "#7fbc41"
            ],
            [
             0.9,
             "#4d9221"
            ],
            [
             1,
             "#276419"
            ]
           ],
           "sequential": [
            [
             0,
             "#0d0887"
            ],
            [
             0.1111111111111111,
             "#46039f"
            ],
            [
             0.2222222222222222,
             "#7201a8"
            ],
            [
             0.3333333333333333,
             "#9c179e"
            ],
            [
             0.4444444444444444,
             "#bd3786"
            ],
            [
             0.5555555555555556,
             "#d8576b"
            ],
            [
             0.6666666666666666,
             "#ed7953"
            ],
            [
             0.7777777777777778,
             "#fb9f3a"
            ],
            [
             0.8888888888888888,
             "#fdca26"
            ],
            [
             1,
             "#f0f921"
            ]
           ],
           "sequentialminus": [
            [
             0,
             "#0d0887"
            ],
            [
             0.1111111111111111,
             "#46039f"
            ],
            [
             0.2222222222222222,
             "#7201a8"
            ],
            [
             0.3333333333333333,
             "#9c179e"
            ],
            [
             0.4444444444444444,
             "#bd3786"
            ],
            [
             0.5555555555555556,
             "#d8576b"
            ],
            [
             0.6666666666666666,
             "#ed7953"
            ],
            [
             0.7777777777777778,
             "#fb9f3a"
            ],
            [
             0.8888888888888888,
             "#fdca26"
            ],
            [
             1,
             "#f0f921"
            ]
           ]
          },
          "colorway": [
           "#636efa",
           "#EF553B",
           "#00cc96",
           "#ab63fa",
           "#FFA15A",
           "#19d3f3",
           "#FF6692",
           "#B6E880",
           "#FF97FF",
           "#FECB52"
          ],
          "font": {
           "color": "#2a3f5f"
          },
          "geo": {
           "bgcolor": "white",
           "lakecolor": "white",
           "landcolor": "#E5ECF6",
           "showlakes": true,
           "showland": true,
           "subunitcolor": "white"
          },
          "hoverlabel": {
           "align": "left"
          },
          "hovermode": "closest",
          "mapbox": {
           "style": "light"
          },
          "paper_bgcolor": "white",
          "plot_bgcolor": "#E5ECF6",
          "polar": {
           "angularaxis": {
            "gridcolor": "white",
            "linecolor": "white",
            "ticks": ""
           },
           "bgcolor": "#E5ECF6",
           "radialaxis": {
            "gridcolor": "white",
            "linecolor": "white",
            "ticks": ""
           }
          },
          "scene": {
           "xaxis": {
            "backgroundcolor": "#E5ECF6",
            "gridcolor": "white",
            "gridwidth": 2,
            "linecolor": "white",
            "showbackground": true,
            "ticks": "",
            "zerolinecolor": "white"
           },
           "yaxis": {
            "backgroundcolor": "#E5ECF6",
            "gridcolor": "white",
            "gridwidth": 2,
            "linecolor": "white",
            "showbackground": true,
            "ticks": "",
            "zerolinecolor": "white"
           },
           "zaxis": {
            "backgroundcolor": "#E5ECF6",
            "gridcolor": "white",
            "gridwidth": 2,
            "linecolor": "white",
            "showbackground": true,
            "ticks": "",
            "zerolinecolor": "white"
           }
          },
          "shapedefaults": {
           "line": {
            "color": "#2a3f5f"
           }
          },
          "ternary": {
           "aaxis": {
            "gridcolor": "white",
            "linecolor": "white",
            "ticks": ""
           },
           "baxis": {
            "gridcolor": "white",
            "linecolor": "white",
            "ticks": ""
           },
           "bgcolor": "#E5ECF6",
           "caxis": {
            "gridcolor": "white",
            "linecolor": "white",
            "ticks": ""
           }
          },
          "title": {
           "x": 0.05
          },
          "xaxis": {
           "automargin": true,
           "gridcolor": "white",
           "linecolor": "white",
           "ticks": "",
           "title": {
            "standoff": 15
           },
           "zerolinecolor": "white",
           "zerolinewidth": 2
          },
          "yaxis": {
           "automargin": true,
           "gridcolor": "white",
           "linecolor": "white",
           "ticks": "",
           "title": {
            "standoff": 15
           },
           "zerolinecolor": "white",
           "zerolinewidth": 2
          }
         }
        },
        "title": {
         "text": "Rentals by holiday"
        },
        "xaxis": {
         "anchor": "y",
         "categoryarray": [
          0,
          1
         ],
         "categoryorder": "array",
         "domain": [
          0,
          1
         ],
         "title": {
          "text": "holiday"
         }
        },
        "yaxis": {
         "anchor": "x",
         "domain": [
          0,
          1
         ],
         "title": {
          "text": "Bike Rentals"
         }
        }
       }
      }
     },
     "metadata": {},
     "output_type": "display_data"
    },
    {
     "data": {
      "application/vnd.plotly.v1+json": {
       "config": {
        "plotlyServerURL": "https://plot.ly"
       },
       "data": [
        {
         "alignmentgroup": "True",
         "boxpoints": "outliers",
         "hovertemplate": "weekday=%{x}<br>rentals=%{y}<extra></extra>",
         "legendgroup": "6",
         "marker": {
          "color": "#636efa"
         },
         "name": "6",
         "notched": false,
         "offsetgroup": "6",
         "orientation": "v",
         "showlegend": true,
         "type": "box",
         "x": {
          "bdata": "BgYGBgYGBgYGBgYGBgYGBgYGBgYGBgYGBgYGBgYGBgYGBgYGBgYGBgYGBgYGBgYGBgYGBgYGBgYGBgYGBgYGBgYGBgYGBgYGBgYGBgYGBgYGBgYGBgYGBgYGBgYGBgYGBgYGBgYGBgYG",
          "dtype": "i1"
         },
         "x0": " ",
         "xaxis": "x",
         "y": {
          "bdata": "SwFEAN4AXQB7AGQAIAEUAqgBgALUApAF1QOCA28DeQC2Ba0HTAaGA9II0QdNB8EGDwf2BpwIxAdyCdsDFwbxBeAFegfiAI8H1gaaBfAG4AG7CGsH2wU5AIQE+wSvA+EEwgL2ARMBmwCZAi4ETQFDAAcDgAHAAJsFPQG8A8gDUwwJBP0ItAzrCu0JYATACT4KUg0nC+sKlAqTC2EKrwWoBTMJ8AS6CCkJxwgLCyUHMAkVBlgM0AkdCtcLzAj2ClMKBQQqCCEFFAK3A4EE/wLNAJ8A",
          "dtype": "i2"
         },
         "y0": " ",
         "yaxis": "y"
        },
        {
         "alignmentgroup": "True",
         "boxpoints": "outliers",
         "hovertemplate": "weekday=%{x}<br>rentals=%{y}<extra></extra>",
         "legendgroup": "0",
         "marker": {
          "color": "#EF553B"
         },
         "name": "0",
         "notched": false,
         "offsetgroup": "0",
         "orientation": "v",
         "showlegend": true,
         "type": "box",
         "x": {
          "bdata": "AAAAAAAAAAAAAAAAAAAAAAAAAAAAAAAAAAAAAAAAAAAAAAAAAAAAAAAAAAAAAAAAAAAAAAAAAAAAAAAAAAAAAAAAAAAAAAAAAAAAAAAAAAAAAAAAAAAAAAAAAAAAAAAAAAAAAAAAAAAA",
          "dtype": "i1"
         },
         "x0": " ",
         "xaxis": "x",
         "y": {
          "bdata": "gwA2APsAlgCMAGIBjQF/ArYCcgDWAxcE2AFzBqQEFgauBnIEeQUuBigGMwmVBrsFZwaAB+oIzwbWBxoE9AUSBToF4QSHBdkJYQZJBQgGaAJdCdQGUwZ1A7gD7AMTAyoDegJ5AdwALwGuAlcCHAHEAC4CPgFJAGoCAwLGAnoGnwj8BSsJtggeC3gAtQhXCHwIkArTDL4JsAhKCvcJjQWzBIAH8AlpCKsGhgi4BMsFNQoKCnYIlgnfBw0DIAhUCOYDsQTyCJoDNQF8A7kBGgKYAWwB",
          "dtype": "i2"
         },
         "y0": " ",
         "yaxis": "y"
        },
        {
         "alignmentgroup": "True",
         "boxpoints": "outliers",
         "hovertemplate": "weekday=%{x}<br>rentals=%{y}<extra></extra>",
         "legendgroup": "1",
         "marker": {
          "color": "#00cc96"
         },
         "name": "1",
         "notched": false,
         "offsetgroup": "1",
         "orientation": "v",
         "showlegend": true,
         "type": "box",
         "x": {
          "bdata": "AQEBAQEBAQEBAQEBAQEBAQEBAQEBAQEBAQEBAQEBAQEBAQEBAQEBAQEBAQEBAQEBAQEBAQEBAQEBAQEBAQEBAQEBAQEBAQEBAQEBAQEBAQEBAQEBAQEBAQEBAQEBAQEBAQEBAQEBAQEB",
          "dtype": "i1"
         },
         "x0": " ",
         "xaxis": "x",
         "y": {
          "bdata": "eAApAHUAVgAqAHgA0ADDAFEA9ABnAZEB3gDeAlcDnQIFA08DmAIFA0QDDQahAl8DuwJWA/kL0wJJAzgC2QJOAwcDQQPZAtQEsgKzAqwCSgHqBckCuwJqAXUBUwLcAP0A6QCPAAQBrgH0AGoA2QCRAH4AzgBeAPYB/QDLAEYD1gMbA7gEiQOuBMMAmQLwA1YBdgL9CS8E+QONAnMEiAPmA0AEbwQQBNEEtwQCBN0DrQdeBP4D6QP7AmoD+AI+AwIAegFJBMEBUQErAkkB1ACuALcB",
          "dtype": "i2"
         },
         "y0": " ",
         "yaxis": "y"
        },
        {
         "alignmentgroup": "True",
         "boxpoints": "outliers",
         "hovertemplate": "weekday=%{x}<br>rentals=%{y}<extra></extra>",
         "legendgroup": "2",
         "marker": {
          "color": "#ab63fa"
         },
         "name": "2",
         "notched": false,
         "offsetgroup": "2",
         "orientation": "v",
         "showlegend": true,
         "type": "box",
         "x": {
          "bdata": "AgICAgICAgICAgICAgICAgICAgICAgICAgICAgICAgICAgICAgICAgICAgICAgICAgICAgICAgICAgICAgICAgICAgICAgICAgICAgICAgICAgICAgICAgICAgICAgICAgICAgICAgI=",
          "dtype": "i1"
         },
         "x0": " ",
         "xaxis": "x",
         "y": {
          "bdata": "bAArAAkAugAvAEAAjABKAIkAPAEhAcwBPQGnAAEBmQGmAlsCtgKmApMCoQL7AtcCBgPcAgcElgLwAu4CIQOLA9ECAQUHA8wAvQK2Ad0B5gGbAn0CtwKaAXgBwQFFAGAAfgCbANgAZwBZAK0AfwC3AUQBxwCHAKMA5QDdAPoCGwQTAkQFMwPdAwYCjQLiAnECMwNwA8gD3QHIAzUEHAS6A5kDdATIA/4EaAQ5BKcDYwMuBHMBTQM7AVkCmgNJA1cA0gFHARYCewAnAhoBsQG4AQ==",
          "dtype": "i2"
         },
         "y0": " ",
         "yaxis": "y"
        },
        {
         "alignmentgroup": "True",
         "boxpoints": "outliers",
         "hovertemplate": "weekday=%{x}<br>rentals=%{y}<extra></extra>",
         "legendgroup": "3",
         "marker": {
          "color": "#FFA15A"
         },
         "name": "3",
         "notched": false,
         "offsetgroup": "3",
         "orientation": "v",
         "showlegend": true,
         "type": "box",
         "x": {
          "bdata": "AwMDAwMDAwMDAwMDAwMDAwMDAwMDAwMDAwMDAwMDAwMDAwMDAwMDAwMDAwMDAwMDAwMDAwMDAwMDAwMDAwMDAwMDAwMDAwMDAwMDAwMDAwMDAwMDAwMDAwMDAwMDAwMDAwMDAwMDAwM=",
          "dtype": "i1"
         },
         "x0": " ",
         "xaxis": "x",
         "y": {
          "bdata": "UgAZAE4AIgBIADUA2gCLAOcAvwBBAcsAqACdAdEAZQIjAv8AJgIYAuQCAQKkAgEDlQJQAxAD7AKEAvMC0wF0A5wCtQOwAnYAhwIbAuABLwLZAP4AlAFyATEBkQBwALwAMgCyAGsA/wBfAFwAbQDTATABbQCNAIoBQQCwAeUDYgSiAiIE4gFbAY8CmwJsAt8D/gLpAgMElQRoAzUEAgrPAx8DZwUyBO8ErgRGBJkEQAMaBBQDEwPYAgwD0wMbA6MBRgF1AWcCxgBLATYBTQEJAA==",
          "dtype": "i2"
         },
         "y0": " ",
         "yaxis": "y"
        },
        {
         "alignmentgroup": "True",
         "boxpoints": "outliers",
         "hovertemplate": "weekday=%{x}<br>rentals=%{y}<extra></extra>",
         "legendgroup": "4",
         "marker": {
          "color": "#19d3f3"
         },
         "name": "4",
         "notched": false,
         "offsetgroup": "4",
         "orientation": "v",
         "showlegend": true,
         "type": "box",
         "x": {
          "bdata": "BAQEBAQEBAQEBAQEBAQEBAQEBAQEBAQEBAQEBAQEBAQEBAQEBAQEBAQEBAQEBAQEBAQEBAQEBAQEBAQEBAQEBAQEBAQEBAQEBAQEBAQEBAQEBAQEBAQEBAQEBAQEBAQEBAQEBAQEBAQ=",
          "dtype": "i1"
         },
         "x0": " ",
         "xaxis": "x",
         "y": {
          "bdata": "WAAmAFMADwA9AC8AAwFkAHsALgCoAaYAswA7AhEC6QI5AmYCtwLfAvYC4AIzAiEC6gIDBPICeAN4Al4CHwMsA38CswEPA5kArAErAo0CfwIiAdcB8AA+Ab4AiwAwArYAlgC1AOMA/gCMAA0BggD0AL4AowBKAAQCRQHmAe0DNgVCA6gElwJOA9sB/AICBNoEIwRMBA4EnAQKA5kDfQUIBHgDDATXA6wEOgVTBZQEYwIeBKsD7wJ7A0ID8ANrA9IBVAFAAbsD8wBUAakBOgH3AA==",
          "dtype": "i2"
         },
         "y0": " ",
         "yaxis": "y"
        },
        {
         "alignmentgroup": "True",
         "boxpoints": "outliers",
         "hovertemplate": "weekday=%{x}<br>rentals=%{y}<extra></extra>",
         "legendgroup": "5",
         "marker": {
          "color": "#FF6692"
         },
         "name": "5",
         "notched": false,
         "offsetgroup": "5",
         "orientation": "v",
         "showlegend": true,
         "type": "box",
         "x": {
          "bdata": "BQUFBQUFBQUFBQUFBQUFBQUFBQUFBQUFBQUFBQUFBQUFBQUFBQUFBQUFBQUFBQUFBQUFBQUFBQUFBQUFBQUFBQUFBQUFBQUFBQUFBQUFBQUFBQUFBQUFBQUFBQUFBQUFBQUFBQUFBQU=",
          "dtype": "i1"
         },
         "x0": " ",
         "xaxis": "x",
         "y": {
          "bdata": "lAA2AEsAJgBYAJUAQwJ4ANYA9wB0AywBMwGsAIICsQBuA34DtAKNA2cDggMvA18DyQPeBLQCJgUyAp4C/wMbBB0DAANrA6EB5gICAT4DtQMRAqQCyAHWAbgB9QBHBAwBBQGyAKMA6wEzAa4AcwANATYB4wBdAfYA9gC/ASQCpQkcAw8H5AQ8BfYDLQQnBfEFiQUVAtAFGwbEAz0DVgXnBesC6wQwBSkEywUtBZkFFQRjBeIEFQTsBSQE8QKeBGoCxQLkAUMGagFdAa0B3QCEAg==",
          "dtype": "i2"
         },
         "y0": " ",
         "yaxis": "y"
        }
       ],
       "layout": {
        "boxmode": "overlay",
        "legend": {
         "title": {
          "text": "weekday"
         },
         "tracegroupgap": 0
        },
        "template": {
         "data": {
          "bar": [
           {
            "error_x": {
             "color": "#2a3f5f"
            },
            "error_y": {
             "color": "#2a3f5f"
            },
            "marker": {
             "line": {
              "color": "#E5ECF6",
              "width": 0.5
             },
             "pattern": {
              "fillmode": "overlay",
              "size": 10,
              "solidity": 0.2
             }
            },
            "type": "bar"
           }
          ],
          "barpolar": [
           {
            "marker": {
             "line": {
              "color": "#E5ECF6",
              "width": 0.5
             },
             "pattern": {
              "fillmode": "overlay",
              "size": 10,
              "solidity": 0.2
             }
            },
            "type": "barpolar"
           }
          ],
          "carpet": [
           {
            "aaxis": {
             "endlinecolor": "#2a3f5f",
             "gridcolor": "white",
             "linecolor": "white",
             "minorgridcolor": "white",
             "startlinecolor": "#2a3f5f"
            },
            "baxis": {
             "endlinecolor": "#2a3f5f",
             "gridcolor": "white",
             "linecolor": "white",
             "minorgridcolor": "white",
             "startlinecolor": "#2a3f5f"
            },
            "type": "carpet"
           }
          ],
          "choropleth": [
           {
            "colorbar": {
             "outlinewidth": 0,
             "ticks": ""
            },
            "type": "choropleth"
           }
          ],
          "contour": [
           {
            "colorbar": {
             "outlinewidth": 0,
             "ticks": ""
            },
            "colorscale": [
             [
              0,
              "#0d0887"
             ],
             [
              0.1111111111111111,
              "#46039f"
             ],
             [
              0.2222222222222222,
              "#7201a8"
             ],
             [
              0.3333333333333333,
              "#9c179e"
             ],
             [
              0.4444444444444444,
              "#bd3786"
             ],
             [
              0.5555555555555556,
              "#d8576b"
             ],
             [
              0.6666666666666666,
              "#ed7953"
             ],
             [
              0.7777777777777778,
              "#fb9f3a"
             ],
             [
              0.8888888888888888,
              "#fdca26"
             ],
             [
              1,
              "#f0f921"
             ]
            ],
            "type": "contour"
           }
          ],
          "contourcarpet": [
           {
            "colorbar": {
             "outlinewidth": 0,
             "ticks": ""
            },
            "type": "contourcarpet"
           }
          ],
          "heatmap": [
           {
            "colorbar": {
             "outlinewidth": 0,
             "ticks": ""
            },
            "colorscale": [
             [
              0,
              "#0d0887"
             ],
             [
              0.1111111111111111,
              "#46039f"
             ],
             [
              0.2222222222222222,
              "#7201a8"
             ],
             [
              0.3333333333333333,
              "#9c179e"
             ],
             [
              0.4444444444444444,
              "#bd3786"
             ],
             [
              0.5555555555555556,
              "#d8576b"
             ],
             [
              0.6666666666666666,
              "#ed7953"
             ],
             [
              0.7777777777777778,
              "#fb9f3a"
             ],
             [
              0.8888888888888888,
              "#fdca26"
             ],
             [
              1,
              "#f0f921"
             ]
            ],
            "type": "heatmap"
           }
          ],
          "histogram": [
           {
            "marker": {
             "pattern": {
              "fillmode": "overlay",
              "size": 10,
              "solidity": 0.2
             }
            },
            "type": "histogram"
           }
          ],
          "histogram2d": [
           {
            "colorbar": {
             "outlinewidth": 0,
             "ticks": ""
            },
            "colorscale": [
             [
              0,
              "#0d0887"
             ],
             [
              0.1111111111111111,
              "#46039f"
             ],
             [
              0.2222222222222222,
              "#7201a8"
             ],
             [
              0.3333333333333333,
              "#9c179e"
             ],
             [
              0.4444444444444444,
              "#bd3786"
             ],
             [
              0.5555555555555556,
              "#d8576b"
             ],
             [
              0.6666666666666666,
              "#ed7953"
             ],
             [
              0.7777777777777778,
              "#fb9f3a"
             ],
             [
              0.8888888888888888,
              "#fdca26"
             ],
             [
              1,
              "#f0f921"
             ]
            ],
            "type": "histogram2d"
           }
          ],
          "histogram2dcontour": [
           {
            "colorbar": {
             "outlinewidth": 0,
             "ticks": ""
            },
            "colorscale": [
             [
              0,
              "#0d0887"
             ],
             [
              0.1111111111111111,
              "#46039f"
             ],
             [
              0.2222222222222222,
              "#7201a8"
             ],
             [
              0.3333333333333333,
              "#9c179e"
             ],
             [
              0.4444444444444444,
              "#bd3786"
             ],
             [
              0.5555555555555556,
              "#d8576b"
             ],
             [
              0.6666666666666666,
              "#ed7953"
             ],
             [
              0.7777777777777778,
              "#fb9f3a"
             ],
             [
              0.8888888888888888,
              "#fdca26"
             ],
             [
              1,
              "#f0f921"
             ]
            ],
            "type": "histogram2dcontour"
           }
          ],
          "mesh3d": [
           {
            "colorbar": {
             "outlinewidth": 0,
             "ticks": ""
            },
            "type": "mesh3d"
           }
          ],
          "parcoords": [
           {
            "line": {
             "colorbar": {
              "outlinewidth": 0,
              "ticks": ""
             }
            },
            "type": "parcoords"
           }
          ],
          "pie": [
           {
            "automargin": true,
            "type": "pie"
           }
          ],
          "scatter": [
           {
            "fillpattern": {
             "fillmode": "overlay",
             "size": 10,
             "solidity": 0.2
            },
            "type": "scatter"
           }
          ],
          "scatter3d": [
           {
            "line": {
             "colorbar": {
              "outlinewidth": 0,
              "ticks": ""
             }
            },
            "marker": {
             "colorbar": {
              "outlinewidth": 0,
              "ticks": ""
             }
            },
            "type": "scatter3d"
           }
          ],
          "scattercarpet": [
           {
            "marker": {
             "colorbar": {
              "outlinewidth": 0,
              "ticks": ""
             }
            },
            "type": "scattercarpet"
           }
          ],
          "scattergeo": [
           {
            "marker": {
             "colorbar": {
              "outlinewidth": 0,
              "ticks": ""
             }
            },
            "type": "scattergeo"
           }
          ],
          "scattergl": [
           {
            "marker": {
             "colorbar": {
              "outlinewidth": 0,
              "ticks": ""
             }
            },
            "type": "scattergl"
           }
          ],
          "scattermap": [
           {
            "marker": {
             "colorbar": {
              "outlinewidth": 0,
              "ticks": ""
             }
            },
            "type": "scattermap"
           }
          ],
          "scattermapbox": [
           {
            "marker": {
             "colorbar": {
              "outlinewidth": 0,
              "ticks": ""
             }
            },
            "type": "scattermapbox"
           }
          ],
          "scatterpolar": [
           {
            "marker": {
             "colorbar": {
              "outlinewidth": 0,
              "ticks": ""
             }
            },
            "type": "scatterpolar"
           }
          ],
          "scatterpolargl": [
           {
            "marker": {
             "colorbar": {
              "outlinewidth": 0,
              "ticks": ""
             }
            },
            "type": "scatterpolargl"
           }
          ],
          "scatterternary": [
           {
            "marker": {
             "colorbar": {
              "outlinewidth": 0,
              "ticks": ""
             }
            },
            "type": "scatterternary"
           }
          ],
          "surface": [
           {
            "colorbar": {
             "outlinewidth": 0,
             "ticks": ""
            },
            "colorscale": [
             [
              0,
              "#0d0887"
             ],
             [
              0.1111111111111111,
              "#46039f"
             ],
             [
              0.2222222222222222,
              "#7201a8"
             ],
             [
              0.3333333333333333,
              "#9c179e"
             ],
             [
              0.4444444444444444,
              "#bd3786"
             ],
             [
              0.5555555555555556,
              "#d8576b"
             ],
             [
              0.6666666666666666,
              "#ed7953"
             ],
             [
              0.7777777777777778,
              "#fb9f3a"
             ],
             [
              0.8888888888888888,
              "#fdca26"
             ],
             [
              1,
              "#f0f921"
             ]
            ],
            "type": "surface"
           }
          ],
          "table": [
           {
            "cells": {
             "fill": {
              "color": "#EBF0F8"
             },
             "line": {
              "color": "white"
             }
            },
            "header": {
             "fill": {
              "color": "#C8D4E3"
             },
             "line": {
              "color": "white"
             }
            },
            "type": "table"
           }
          ]
         },
         "layout": {
          "annotationdefaults": {
           "arrowcolor": "#2a3f5f",
           "arrowhead": 0,
           "arrowwidth": 1
          },
          "autotypenumbers": "strict",
          "coloraxis": {
           "colorbar": {
            "outlinewidth": 0,
            "ticks": ""
           }
          },
          "colorscale": {
           "diverging": [
            [
             0,
             "#8e0152"
            ],
            [
             0.1,
             "#c51b7d"
            ],
            [
             0.2,
             "#de77ae"
            ],
            [
             0.3,
             "#f1b6da"
            ],
            [
             0.4,
             "#fde0ef"
            ],
            [
             0.5,
             "#f7f7f7"
            ],
            [
             0.6,
             "#e6f5d0"
            ],
            [
             0.7,
             "#b8e186"
            ],
            [
             0.8,
             "#7fbc41"
            ],
            [
             0.9,
             "#4d9221"
            ],
            [
             1,
             "#276419"
            ]
           ],
           "sequential": [
            [
             0,
             "#0d0887"
            ],
            [
             0.1111111111111111,
             "#46039f"
            ],
            [
             0.2222222222222222,
             "#7201a8"
            ],
            [
             0.3333333333333333,
             "#9c179e"
            ],
            [
             0.4444444444444444,
             "#bd3786"
            ],
            [
             0.5555555555555556,
             "#d8576b"
            ],
            [
             0.6666666666666666,
             "#ed7953"
            ],
            [
             0.7777777777777778,
             "#fb9f3a"
            ],
            [
             0.8888888888888888,
             "#fdca26"
            ],
            [
             1,
             "#f0f921"
            ]
           ],
           "sequentialminus": [
            [
             0,
             "#0d0887"
            ],
            [
             0.1111111111111111,
             "#46039f"
            ],
            [
             0.2222222222222222,
             "#7201a8"
            ],
            [
             0.3333333333333333,
             "#9c179e"
            ],
            [
             0.4444444444444444,
             "#bd3786"
            ],
            [
             0.5555555555555556,
             "#d8576b"
            ],
            [
             0.6666666666666666,
             "#ed7953"
            ],
            [
             0.7777777777777778,
             "#fb9f3a"
            ],
            [
             0.8888888888888888,
             "#fdca26"
            ],
            [
             1,
             "#f0f921"
            ]
           ]
          },
          "colorway": [
           "#636efa",
           "#EF553B",
           "#00cc96",
           "#ab63fa",
           "#FFA15A",
           "#19d3f3",
           "#FF6692",
           "#B6E880",
           "#FF97FF",
           "#FECB52"
          ],
          "font": {
           "color": "#2a3f5f"
          },
          "geo": {
           "bgcolor": "white",
           "lakecolor": "white",
           "landcolor": "#E5ECF6",
           "showlakes": true,
           "showland": true,
           "subunitcolor": "white"
          },
          "hoverlabel": {
           "align": "left"
          },
          "hovermode": "closest",
          "mapbox": {
           "style": "light"
          },
          "paper_bgcolor": "white",
          "plot_bgcolor": "#E5ECF6",
          "polar": {
           "angularaxis": {
            "gridcolor": "white",
            "linecolor": "white",
            "ticks": ""
           },
           "bgcolor": "#E5ECF6",
           "radialaxis": {
            "gridcolor": "white",
            "linecolor": "white",
            "ticks": ""
           }
          },
          "scene": {
           "xaxis": {
            "backgroundcolor": "#E5ECF6",
            "gridcolor": "white",
            "gridwidth": 2,
            "linecolor": "white",
            "showbackground": true,
            "ticks": "",
            "zerolinecolor": "white"
           },
           "yaxis": {
            "backgroundcolor": "#E5ECF6",
            "gridcolor": "white",
            "gridwidth": 2,
            "linecolor": "white",
            "showbackground": true,
            "ticks": "",
            "zerolinecolor": "white"
           },
           "zaxis": {
            "backgroundcolor": "#E5ECF6",
            "gridcolor": "white",
            "gridwidth": 2,
            "linecolor": "white",
            "showbackground": true,
            "ticks": "",
            "zerolinecolor": "white"
           }
          },
          "shapedefaults": {
           "line": {
            "color": "#2a3f5f"
           }
          },
          "ternary": {
           "aaxis": {
            "gridcolor": "white",
            "linecolor": "white",
            "ticks": ""
           },
           "baxis": {
            "gridcolor": "white",
            "linecolor": "white",
            "ticks": ""
           },
           "bgcolor": "#E5ECF6",
           "caxis": {
            "gridcolor": "white",
            "linecolor": "white",
            "ticks": ""
           }
          },
          "title": {
           "x": 0.05
          },
          "xaxis": {
           "automargin": true,
           "gridcolor": "white",
           "linecolor": "white",
           "ticks": "",
           "title": {
            "standoff": 15
           },
           "zerolinecolor": "white",
           "zerolinewidth": 2
          },
          "yaxis": {
           "automargin": true,
           "gridcolor": "white",
           "linecolor": "white",
           "ticks": "",
           "title": {
            "standoff": 15
           },
           "zerolinecolor": "white",
           "zerolinewidth": 2
          }
         }
        },
        "title": {
         "text": "Rentals by weekday"
        },
        "xaxis": {
         "anchor": "y",
         "categoryarray": [
          6,
          0,
          1,
          2,
          3,
          4,
          5
         ],
         "categoryorder": "array",
         "domain": [
          0,
          1
         ],
         "title": {
          "text": "weekday"
         }
        },
        "yaxis": {
         "anchor": "x",
         "domain": [
          0,
          1
         ],
         "title": {
          "text": "Bike Rentals"
         }
        }
       }
      }
     },
     "metadata": {},
     "output_type": "display_data"
    },
    {
     "data": {
      "application/vnd.plotly.v1+json": {
       "config": {
        "plotlyServerURL": "https://plot.ly"
       },
       "data": [
        {
         "alignmentgroup": "True",
         "boxpoints": "outliers",
         "hovertemplate": "workingday=%{x}<br>rentals=%{y}<extra></extra>",
         "legendgroup": "0",
         "marker": {
          "color": "#636efa"
         },
         "name": "0",
         "notched": false,
         "offsetgroup": "0",
         "orientation": "v",
         "showlegend": true,
         "type": "box",
         "x": {
          "bdata": "AAAAAAAAAAAAAAAAAAAAAAAAAAAAAAAAAAAAAAAAAAAAAAAAAAAAAAAAAAAAAAAAAAAAAAAAAAAAAAAAAAAAAAAAAAAAAAAAAAAAAAAAAAAAAAAAAAAAAAAAAAAAAAAAAAAAAAAAAAAAAAAAAAAAAAAAAAAAAAAAAAAAAAAAAAAAAAAAAAAAAAAAAAAAAAAAAAAAAAAAAAAAAAAAAAAAAAAAAAAAAAAAAAAAAAAAAAAAAAAAAAAAAAAAAAAAAAAAAAAAAAAAAAAAAAAAAAAAAAAAAAAAAAAAAAAAAAAAAAAAAAAAAAAA",
          "dtype": "i1"
         },
         "x0": " ",
         "xaxis": "x",
         "y": {
          "bdata": "SwGDAEQANgDeAPsAdQBdAJYAewCMAGQAYgEgAY0BFAJ/AsMAqAG2AoACcgDUAtYDkAUXBNUD2AGCA3MGbwOkBIICeQAWBrYFrgatB3IETAZ5BYYDLgbSCCgG0QczCQ0GTQeVBsEGuwUPB2cG9gaAB5wI6gj5C8QHzwZyCdYH2wMaBBcG9AXxBRIF4AU6BXoH4QTiAIcFjwfZCdQE1gZhBpoFSQXwBggG4AFoArsIXQnqBWsH1AbbBVMGOQB1A4QEuAO4AfsE7AOvAxMDMALhBCoDwgJ6AvYBeQETAdwAmwAvAa4BmQKuAvQALgRXAk0BHAHZAEMAxAAHAy4CgAE+AcAASQCbBWoC9gE9AQMCvAPGAsgDegZTDJ8ICQT8Bf0IKwm0DLYI6woeC64E7Ql4AGAEtQjACVcIPgp8CFINkAonC9MM/QnrCr4JlAqwCJMLSgphCvcJrwWNBQIKqAWzBDMJgAfwBPAJughpCCkJqwbHCIYICwu4BCUHywUwCTUKrQcVBgoKWAx2CNAJlgkdCt8H1wsNA2oDzAggCPYKVAhTCuYDBQSxBCoI8ghJBCEFmgO7AxQCNQG3A3wDgQS5Af8CGgLNAJgBuAGfAGwB",
          "dtype": "i2"
         },
         "y0": " ",
         "yaxis": "y"
        },
        {
         "alignmentgroup": "True",
         "boxpoints": "outliers",
         "hovertemplate": "workingday=%{x}<br>rentals=%{y}<extra></extra>",
         "legendgroup": "1",
         "marker": {
          "color": "#EF553B"
         },
         "name": "1",
         "notched": false,
         "offsetgroup": "1",
         "orientation": "v",
         "showlegend": true,
         "type": "box",
         "x": {
          "bdata": "AQEBAQEBAQEBAQEBAQEBAQEBAQEBAQEBAQEBAQEBAQEBAQEBAQEBAQEBAQEBAQEBAQEBAQEBAQEBAQEBAQEBAQEBAQEBAQEBAQEBAQEBAQEBAQEBAQEBAQEBAQEBAQEBAQEBAQEBAQEBAQEBAQEBAQEBAQEBAQEBAQEBAQEBAQEBAQEBAQEBAQEBAQEBAQEBAQEBAQEBAQEBAQEBAQEBAQEBAQEBAQEBAQEBAQEBAQEBAQEBAQEBAQEBAQEBAQEBAQEBAQEBAQEBAQEBAQEBAQEBAQEBAQEBAQEBAQEBAQEBAQEBAQEBAQEBAQEBAQEBAQEBAQEBAQEBAQEBAQEBAQEBAQEBAQEBAQEBAQEBAQEBAQEBAQEBAQEBAQEBAQEBAQEBAQEBAQEBAQEBAQEBAQEBAQEBAQEBAQEBAQEBAQEBAQEBAQEBAQEBAQEBAQEBAQEBAQEBAQEBAQEBAQEBAQEBAQEBAQEBAQEBAQEBAQEBAQEBAQEBAQEBAQEBAQEBAQEBAQEBAQEBAQEBAQEBAQEBAQEBAQEBAQEBAQEBAQEBAQEBAQEBAQEBAQEBAQEBAQEBAQEBAQEBAQEBAQEBAQEBAQEBAQEBAQEBAQEBAQEBAQEBAQEBAQEBAQEBAQEBAQEBAQEBAQEBAQEBAQEBAQEBAQE=",
          "dtype": "i1"
         },
         "x0": " ",
         "xaxis": "x",
         "y": {
          "bdata": "eABsAFIAWACUACkAKwAZACYANgAJAE4AUwBLAFYAugAiAA8AJgAqAC8ASAA9AFgAeABAADUALwCVANAAjADaAAMBQwJKAIsAZAB4AFEAiQDnAHsA1gD0ADwBvwAuAPcAZwEhAUEBqAF0A5EBzAHLAKYALAHeAD0BqACzADMB3gKnAJ0BOwKsAFcDAQHRABECnQKZAWUC6QKxAAUDpgIjAjkCbgNPA1sC/wBmAn4DmAK2AiYCtwK0AgUDpgIYAt8CjQNEA5MC5AL2AmcDoQIBAuACggOhAvsCpAIzAi8DXwPXAgEDIQJfA7sCBgOVAuoCyQNWA9wCUAMDBN4EBwQQA/ICtALTApYC7AJ4AyYFSQPwAoQCeAIyAjgC7gLzAl4CngLZAiED0wEfA/8DTgOLA3QDLAMbBAcD0QKcAn8CHQNBAwEFtQOzAQAD2QIHA7ACDwNrA8wAdgCZAKEBsgK9AocCrAHmArMCtgEbAisCAgGsAt0B4AGNAj4DSgHmAS8CfwK1A5sC2QAiARECyQJ9Av4A1wGkArsCtwKUAfAAyAFqAZoBcgE+AdYBdQF4ATEBvgBTAsEBkQCLAPUA3ABFAHAARwT9AGAAvAC2AAwB6QB+ADIAlgAFAY8AmwCyALUAsgAEAdgAawDjAKMAZwD/AP4A6wFZAF8AjAAzAWoArQBcAA0BrgB/AG0AggBzAJEAtwHTAfQADQF+AEQBMAG+ADYBzgDHAG0AowDjAF4AhwCNAEoAXQGjAIoBBAL2AP0A5QBBAEUB9gDLAN0AsAHmAb8BRgP6AuUD7QMkAtYDGwRiBDYFpQkbAxMCogJCAxwDuAREBSIEqAQPB4kDMwPiAZcC5ATdA1sBTgM8BcMABgKPAtsB9gOZAo0CmwL8Ai0E8APiAmwCAgQnBVYBcQLfA9oE8QV2AjMD/gIjBIkFcAPpAkwEFQIvBMgDAwQOBNAF+QPdAZUEnAQbBo0CyANoAwoDxANzBDUENQSZAz0DiAMcBH0FVgXmA7oDzwMIBOcFQASZAx8DeAPrAm8EdARnBQwE6wQQBMgDMgTXAzAF0QT+BO8ErAQpBLcEaASuBDoFywUCBDkERgRTBS0F3QOnA5kElASZBWMDQANjAhUEXgQuBBoEHgRjBf4DcwEUA6sD4gTpA00DEwPvAhUE+wI7AdgCewPsBVkCDANCAyQE+AKaA9MD8APxAj4DSQMbA2sDngQCAFcAowHSAWoCegHSAUYBVAHFAkcBdQFAAeQBwQEWAmcCQwZRAXsAxgDzAGoBKwInAksBVAFdAUkBGgE2AakBrQHUALEBTQE6Ad0ArgAJAPcAhAK3AQ==",
          "dtype": "i2"
         },
         "y0": " ",
         "yaxis": "y"
        }
       ],
       "layout": {
        "boxmode": "overlay",
        "legend": {
         "title": {
          "text": "workingday"
         },
         "tracegroupgap": 0
        },
        "template": {
         "data": {
          "bar": [
           {
            "error_x": {
             "color": "#2a3f5f"
            },
            "error_y": {
             "color": "#2a3f5f"
            },
            "marker": {
             "line": {
              "color": "#E5ECF6",
              "width": 0.5
             },
             "pattern": {
              "fillmode": "overlay",
              "size": 10,
              "solidity": 0.2
             }
            },
            "type": "bar"
           }
          ],
          "barpolar": [
           {
            "marker": {
             "line": {
              "color": "#E5ECF6",
              "width": 0.5
             },
             "pattern": {
              "fillmode": "overlay",
              "size": 10,
              "solidity": 0.2
             }
            },
            "type": "barpolar"
           }
          ],
          "carpet": [
           {
            "aaxis": {
             "endlinecolor": "#2a3f5f",
             "gridcolor": "white",
             "linecolor": "white",
             "minorgridcolor": "white",
             "startlinecolor": "#2a3f5f"
            },
            "baxis": {
             "endlinecolor": "#2a3f5f",
             "gridcolor": "white",
             "linecolor": "white",
             "minorgridcolor": "white",
             "startlinecolor": "#2a3f5f"
            },
            "type": "carpet"
           }
          ],
          "choropleth": [
           {
            "colorbar": {
             "outlinewidth": 0,
             "ticks": ""
            },
            "type": "choropleth"
           }
          ],
          "contour": [
           {
            "colorbar": {
             "outlinewidth": 0,
             "ticks": ""
            },
            "colorscale": [
             [
              0,
              "#0d0887"
             ],
             [
              0.1111111111111111,
              "#46039f"
             ],
             [
              0.2222222222222222,
              "#7201a8"
             ],
             [
              0.3333333333333333,
              "#9c179e"
             ],
             [
              0.4444444444444444,
              "#bd3786"
             ],
             [
              0.5555555555555556,
              "#d8576b"
             ],
             [
              0.6666666666666666,
              "#ed7953"
             ],
             [
              0.7777777777777778,
              "#fb9f3a"
             ],
             [
              0.8888888888888888,
              "#fdca26"
             ],
             [
              1,
              "#f0f921"
             ]
            ],
            "type": "contour"
           }
          ],
          "contourcarpet": [
           {
            "colorbar": {
             "outlinewidth": 0,
             "ticks": ""
            },
            "type": "contourcarpet"
           }
          ],
          "heatmap": [
           {
            "colorbar": {
             "outlinewidth": 0,
             "ticks": ""
            },
            "colorscale": [
             [
              0,
              "#0d0887"
             ],
             [
              0.1111111111111111,
              "#46039f"
             ],
             [
              0.2222222222222222,
              "#7201a8"
             ],
             [
              0.3333333333333333,
              "#9c179e"
             ],
             [
              0.4444444444444444,
              "#bd3786"
             ],
             [
              0.5555555555555556,
              "#d8576b"
             ],
             [
              0.6666666666666666,
              "#ed7953"
             ],
             [
              0.7777777777777778,
              "#fb9f3a"
             ],
             [
              0.8888888888888888,
              "#fdca26"
             ],
             [
              1,
              "#f0f921"
             ]
            ],
            "type": "heatmap"
           }
          ],
          "histogram": [
           {
            "marker": {
             "pattern": {
              "fillmode": "overlay",
              "size": 10,
              "solidity": 0.2
             }
            },
            "type": "histogram"
           }
          ],
          "histogram2d": [
           {
            "colorbar": {
             "outlinewidth": 0,
             "ticks": ""
            },
            "colorscale": [
             [
              0,
              "#0d0887"
             ],
             [
              0.1111111111111111,
              "#46039f"
             ],
             [
              0.2222222222222222,
              "#7201a8"
             ],
             [
              0.3333333333333333,
              "#9c179e"
             ],
             [
              0.4444444444444444,
              "#bd3786"
             ],
             [
              0.5555555555555556,
              "#d8576b"
             ],
             [
              0.6666666666666666,
              "#ed7953"
             ],
             [
              0.7777777777777778,
              "#fb9f3a"
             ],
             [
              0.8888888888888888,
              "#fdca26"
             ],
             [
              1,
              "#f0f921"
             ]
            ],
            "type": "histogram2d"
           }
          ],
          "histogram2dcontour": [
           {
            "colorbar": {
             "outlinewidth": 0,
             "ticks": ""
            },
            "colorscale": [
             [
              0,
              "#0d0887"
             ],
             [
              0.1111111111111111,
              "#46039f"
             ],
             [
              0.2222222222222222,
              "#7201a8"
             ],
             [
              0.3333333333333333,
              "#9c179e"
             ],
             [
              0.4444444444444444,
              "#bd3786"
             ],
             [
              0.5555555555555556,
              "#d8576b"
             ],
             [
              0.6666666666666666,
              "#ed7953"
             ],
             [
              0.7777777777777778,
              "#fb9f3a"
             ],
             [
              0.8888888888888888,
              "#fdca26"
             ],
             [
              1,
              "#f0f921"
             ]
            ],
            "type": "histogram2dcontour"
           }
          ],
          "mesh3d": [
           {
            "colorbar": {
             "outlinewidth": 0,
             "ticks": ""
            },
            "type": "mesh3d"
           }
          ],
          "parcoords": [
           {
            "line": {
             "colorbar": {
              "outlinewidth": 0,
              "ticks": ""
             }
            },
            "type": "parcoords"
           }
          ],
          "pie": [
           {
            "automargin": true,
            "type": "pie"
           }
          ],
          "scatter": [
           {
            "fillpattern": {
             "fillmode": "overlay",
             "size": 10,
             "solidity": 0.2
            },
            "type": "scatter"
           }
          ],
          "scatter3d": [
           {
            "line": {
             "colorbar": {
              "outlinewidth": 0,
              "ticks": ""
             }
            },
            "marker": {
             "colorbar": {
              "outlinewidth": 0,
              "ticks": ""
             }
            },
            "type": "scatter3d"
           }
          ],
          "scattercarpet": [
           {
            "marker": {
             "colorbar": {
              "outlinewidth": 0,
              "ticks": ""
             }
            },
            "type": "scattercarpet"
           }
          ],
          "scattergeo": [
           {
            "marker": {
             "colorbar": {
              "outlinewidth": 0,
              "ticks": ""
             }
            },
            "type": "scattergeo"
           }
          ],
          "scattergl": [
           {
            "marker": {
             "colorbar": {
              "outlinewidth": 0,
              "ticks": ""
             }
            },
            "type": "scattergl"
           }
          ],
          "scattermap": [
           {
            "marker": {
             "colorbar": {
              "outlinewidth": 0,
              "ticks": ""
             }
            },
            "type": "scattermap"
           }
          ],
          "scattermapbox": [
           {
            "marker": {
             "colorbar": {
              "outlinewidth": 0,
              "ticks": ""
             }
            },
            "type": "scattermapbox"
           }
          ],
          "scatterpolar": [
           {
            "marker": {
             "colorbar": {
              "outlinewidth": 0,
              "ticks": ""
             }
            },
            "type": "scatterpolar"
           }
          ],
          "scatterpolargl": [
           {
            "marker": {
             "colorbar": {
              "outlinewidth": 0,
              "ticks": ""
             }
            },
            "type": "scatterpolargl"
           }
          ],
          "scatterternary": [
           {
            "marker": {
             "colorbar": {
              "outlinewidth": 0,
              "ticks": ""
             }
            },
            "type": "scatterternary"
           }
          ],
          "surface": [
           {
            "colorbar": {
             "outlinewidth": 0,
             "ticks": ""
            },
            "colorscale": [
             [
              0,
              "#0d0887"
             ],
             [
              0.1111111111111111,
              "#46039f"
             ],
             [
              0.2222222222222222,
              "#7201a8"
             ],
             [
              0.3333333333333333,
              "#9c179e"
             ],
             [
              0.4444444444444444,
              "#bd3786"
             ],
             [
              0.5555555555555556,
              "#d8576b"
             ],
             [
              0.6666666666666666,
              "#ed7953"
             ],
             [
              0.7777777777777778,
              "#fb9f3a"
             ],
             [
              0.8888888888888888,
              "#fdca26"
             ],
             [
              1,
              "#f0f921"
             ]
            ],
            "type": "surface"
           }
          ],
          "table": [
           {
            "cells": {
             "fill": {
              "color": "#EBF0F8"
             },
             "line": {
              "color": "white"
             }
            },
            "header": {
             "fill": {
              "color": "#C8D4E3"
             },
             "line": {
              "color": "white"
             }
            },
            "type": "table"
           }
          ]
         },
         "layout": {
          "annotationdefaults": {
           "arrowcolor": "#2a3f5f",
           "arrowhead": 0,
           "arrowwidth": 1
          },
          "autotypenumbers": "strict",
          "coloraxis": {
           "colorbar": {
            "outlinewidth": 0,
            "ticks": ""
           }
          },
          "colorscale": {
           "diverging": [
            [
             0,
             "#8e0152"
            ],
            [
             0.1,
             "#c51b7d"
            ],
            [
             0.2,
             "#de77ae"
            ],
            [
             0.3,
             "#f1b6da"
            ],
            [
             0.4,
             "#fde0ef"
            ],
            [
             0.5,
             "#f7f7f7"
            ],
            [
             0.6,
             "#e6f5d0"
            ],
            [
             0.7,
             "#b8e186"
            ],
            [
             0.8,
             "#7fbc41"
            ],
            [
             0.9,
             "#4d9221"
            ],
            [
             1,
             "#276419"
            ]
           ],
           "sequential": [
            [
             0,
             "#0d0887"
            ],
            [
             0.1111111111111111,
             "#46039f"
            ],
            [
             0.2222222222222222,
             "#7201a8"
            ],
            [
             0.3333333333333333,
             "#9c179e"
            ],
            [
             0.4444444444444444,
             "#bd3786"
            ],
            [
             0.5555555555555556,
             "#d8576b"
            ],
            [
             0.6666666666666666,
             "#ed7953"
            ],
            [
             0.7777777777777778,
             "#fb9f3a"
            ],
            [
             0.8888888888888888,
             "#fdca26"
            ],
            [
             1,
             "#f0f921"
            ]
           ],
           "sequentialminus": [
            [
             0,
             "#0d0887"
            ],
            [
             0.1111111111111111,
             "#46039f"
            ],
            [
             0.2222222222222222,
             "#7201a8"
            ],
            [
             0.3333333333333333,
             "#9c179e"
            ],
            [
             0.4444444444444444,
             "#bd3786"
            ],
            [
             0.5555555555555556,
             "#d8576b"
            ],
            [
             0.6666666666666666,
             "#ed7953"
            ],
            [
             0.7777777777777778,
             "#fb9f3a"
            ],
            [
             0.8888888888888888,
             "#fdca26"
            ],
            [
             1,
             "#f0f921"
            ]
           ]
          },
          "colorway": [
           "#636efa",
           "#EF553B",
           "#00cc96",
           "#ab63fa",
           "#FFA15A",
           "#19d3f3",
           "#FF6692",
           "#B6E880",
           "#FF97FF",
           "#FECB52"
          ],
          "font": {
           "color": "#2a3f5f"
          },
          "geo": {
           "bgcolor": "white",
           "lakecolor": "white",
           "landcolor": "#E5ECF6",
           "showlakes": true,
           "showland": true,
           "subunitcolor": "white"
          },
          "hoverlabel": {
           "align": "left"
          },
          "hovermode": "closest",
          "mapbox": {
           "style": "light"
          },
          "paper_bgcolor": "white",
          "plot_bgcolor": "#E5ECF6",
          "polar": {
           "angularaxis": {
            "gridcolor": "white",
            "linecolor": "white",
            "ticks": ""
           },
           "bgcolor": "#E5ECF6",
           "radialaxis": {
            "gridcolor": "white",
            "linecolor": "white",
            "ticks": ""
           }
          },
          "scene": {
           "xaxis": {
            "backgroundcolor": "#E5ECF6",
            "gridcolor": "white",
            "gridwidth": 2,
            "linecolor": "white",
            "showbackground": true,
            "ticks": "",
            "zerolinecolor": "white"
           },
           "yaxis": {
            "backgroundcolor": "#E5ECF6",
            "gridcolor": "white",
            "gridwidth": 2,
            "linecolor": "white",
            "showbackground": true,
            "ticks": "",
            "zerolinecolor": "white"
           },
           "zaxis": {
            "backgroundcolor": "#E5ECF6",
            "gridcolor": "white",
            "gridwidth": 2,
            "linecolor": "white",
            "showbackground": true,
            "ticks": "",
            "zerolinecolor": "white"
           }
          },
          "shapedefaults": {
           "line": {
            "color": "#2a3f5f"
           }
          },
          "ternary": {
           "aaxis": {
            "gridcolor": "white",
            "linecolor": "white",
            "ticks": ""
           },
           "baxis": {
            "gridcolor": "white",
            "linecolor": "white",
            "ticks": ""
           },
           "bgcolor": "#E5ECF6",
           "caxis": {
            "gridcolor": "white",
            "linecolor": "white",
            "ticks": ""
           }
          },
          "title": {
           "x": 0.05
          },
          "xaxis": {
           "automargin": true,
           "gridcolor": "white",
           "linecolor": "white",
           "ticks": "",
           "title": {
            "standoff": 15
           },
           "zerolinecolor": "white",
           "zerolinewidth": 2
          },
          "yaxis": {
           "automargin": true,
           "gridcolor": "white",
           "linecolor": "white",
           "ticks": "",
           "title": {
            "standoff": 15
           },
           "zerolinecolor": "white",
           "zerolinewidth": 2
          }
         }
        },
        "title": {
         "text": "Rentals by workingday"
        },
        "xaxis": {
         "anchor": "y",
         "categoryarray": [
          0,
          1
         ],
         "categoryorder": "array",
         "domain": [
          0,
          1
         ],
         "title": {
          "text": "workingday"
         }
        },
        "yaxis": {
         "anchor": "x",
         "domain": [
          0,
          1
         ],
         "title": {
          "text": "Bike Rentals"
         }
        }
       }
      }
     },
     "metadata": {},
     "output_type": "display_data"
    },
    {
     "data": {
      "application/vnd.plotly.v1+json": {
       "config": {
        "plotlyServerURL": "https://plot.ly"
       },
       "data": [
        {
         "alignmentgroup": "True",
         "boxpoints": "outliers",
         "hovertemplate": "weathersit=%{x}<br>rentals=%{y}<extra></extra>",
         "legendgroup": "2",
         "marker": {
          "color": "#636efa"
         },
         "name": "2",
         "notched": false,
         "offsetgroup": "2",
         "orientation": "v",
         "showlegend": true,
         "type": "box",
         "x": {
          "bdata": "AgICAgICAgICAgICAgICAgICAgICAgICAgICAgICAgICAgICAgICAgICAgICAgICAgICAgICAgICAgICAgICAgICAgICAgICAgICAgICAgICAgICAgICAgICAgICAgICAgICAgICAgICAgICAgICAgICAgICAgICAgICAgICAgICAgICAgICAgICAgICAgICAgICAgICAgICAgICAgICAgICAgICAgICAgICAgICAgICAgICAgICAgICAgICAgICAgICAgICAgICAgICAgICAgICAgICAgICAgICAgICAgICAgICAgICAgICAgICAgICAgICAgICAg==",
          "dtype": "i1"
         },
         "x0": " ",
         "xaxis": "x",
         "y": {
          "bdata": "SwGDAJQARAArAN4AdQAJAE4AUwC6ACYAKgAvAEgAWABkADUAwwBkAHgAUQDWAIACcgC/APcAIQFBAZEBywCmANgBqAAzAYIDpwCsAG8DpARXAwEB0QCZAbEAtgWuBiMCOQJyBE8DWwL/ALQChgMuBqYCGALfAkQDkwIBApUGMwIhAmcGuwIGA+oCVgPqCPkLtAJ4AtMBHwPxBeAFOgUdA7MB4gBrA9QEoQGsAeYCmgWzArYBGwIrAgIB8AYIBqwC3QHgAeABaAJKAZsCIgERAn0ClAHwAMgB1gG+AMEBiwATA3AAYADpALIAtQCyABMB2ABrAOMAZwBfAGoAXAANAX8AcwBDAMQAkQD0AA0BvgCAAT4BbQDjAIcASgBqAvYAQQD2ALwDvwEkAlMMnwhiBKUJCQT8BRwD/QgrCVsBwwDbAWAEmQKNAvwCwAlXCPAD4gJsAlYBcQJ2AjMD/gLpAhUCyAP5A90BjQLmA7oD5wUzCesC8AkwBdEE/gTvBCkExwi4BAIELQUlB8sFMAk1CmMCFQb+A3MB7wIVBPsC2AJ7Aw0DagNZAvgC8APxAmsDngRTCuYDVwCjAdIBBQRGAUcBQAHBARYCewC3A3wDXQGBBLkBSQEaATYBGgLUADoB3QCuALgB9wCEAp8AtwE=",
          "dtype": "i2"
         },
         "y0": " ",
         "yaxis": "y"
        },
        {
         "alignmentgroup": "True",
         "boxpoints": "outliers",
         "hovertemplate": "weathersit=%{x}<br>rentals=%{y}<extra></extra>",
         "legendgroup": "1",
         "marker": {
          "color": "#EF553B"
         },
         "name": "1",
         "notched": false,
         "offsetgroup": "1",
         "orientation": "v",
         "showlegend": true,
         "type": "box",
         "x": {
          "bdata": "AQEBAQEBAQEBAQEBAQEBAQEBAQEBAQEBAQEBAQEBAQEBAQEBAQEBAQEBAQEBAQEBAQEBAQEBAQEBAQEBAQEBAQEBAQEBAQEBAQEBAQEBAQEBAQEBAQEBAQEBAQEBAQEBAQEBAQEBAQEBAQEBAQEBAQEBAQEBAQEBAQEBAQEBAQEBAQEBAQEBAQEBAQEBAQEBAQEBAQEBAQEBAQEBAQEBAQEBAQEBAQEBAQEBAQEBAQEBAQEBAQEBAQEBAQEBAQEBAQEBAQEBAQEBAQEBAQEBAQEBAQEBAQEBAQEBAQEBAQEBAQEBAQEBAQEBAQEBAQEBAQEBAQEBAQEBAQEBAQEBAQEBAQEBAQEBAQEBAQEBAQEBAQEBAQEBAQEBAQEBAQEBAQEBAQEBAQEBAQEBAQEBAQEBAQEBAQEBAQEBAQEBAQEBAQEBAQEBAQEBAQEBAQEBAQEBAQEBAQEBAQEBAQEBAQEBAQEBAQEBAQEBAQEBAQEBAQEBAQEBAQEBAQEBAQEBAQEBAQEBAQEBAQEBAQEBAQEBAQEBAQEBAQEBAQEBAQEBAQEBAQEBAQEBAQEBAQEBAQEBAQEBAQEBAQEBAQEBAQEBAQEBAQEBAQEBAQEBAQ==",
          "dtype": "i1"
         },
         "x0": " ",
         "xaxis": "x",
         "y": {
          "bdata": "eABsAFIAWAA2ACkAGQAmADYA+wBLAF0AlgBWAA8AewCMAD0AYgF4AEAALwCVACABjQHQAIwA2gADAUMCFAJ/AkoAiwCoAbYCiQDnAHsA9AA8AdQC1gNnAagBdAOQBRcEzAEsAdUD3gA9AXMG3gKdATsCEQKCAhYGnQJlAukCBQOmAm4DrQdmAn4DTAZ5BZgCtgImArcCBQONA9IIKAbkAvYCZwPRBzMJDQahAuACggNNB6EC+wKkAi8DwQa7BV8D1wIBA18DDweVAskD9gaAB9wCUAMDBN4EnAgHBBAD8gLEB88G0wKWAuwCeAMmBXIJ1gdJA/AChAIyAtsDGgQ4Au4C8wJeAp4CFwb0BdkCIQP/AxIFTgOLA3QDLAMbBAcD0QKcAn8CegfhBEEDAQW1AwADhwXZAgcDsAIPA48H2QnWBmEGsgK9AocCSQWNAj4D5gEvAn8CtQO7CF0J6gVrB9QGyQLXAaQC2wVTBrsCtwJ1A2oBmgFyAT4BhAS4A3UBeAExAbgB+wTsA1MC9QCvAzACRwThBCoD/QC8ALYADAHCAnoClgAFAfYBeQGPAJsA3AAEAaMAmwAvAa4B/wD+AOsBmQKuAvQAWQCMADMBLgRXAq0ArgBNARwB2QBtAIIAtwHTAQcDLgJ+AEQBMAE2Ac4AxwCjAEkAXgCNAF0BmwX2AaMAigEEAj0BAwL9AOUARQHGAssA3QCwAeYByAN6BkYD+gLlA+0D1gMbBDYFGwMTAqICQgO4BEQFIgSoBA8HtAy2CIkDMwPiAZcC5ATrCh4LrgTdA04DPAXtCQYCjwL2A7UImwItBAIEJwU+CnwI3wPaBPEFUg2QCiMEiQUnC9MM/QlwA0wE6wq+CS8EAwQOBNAFlAqwCJUEnAQbBpMLSgrIA2gDCgPEA2EK9wlzBDUENQSZAz0DrwWNBYgDHAQCCn0FVgWoBbMEzwMIBIAHQASZAx8DeANvBHQEZwUMBOsEughpCBAEyAMyBNcDKQmrBqwEhgi3BGgErgQ6BcsFCws5BEYEUwXdA6cDmQSUBJkFrQdjA0ADFQQKCl4ELgQaBB4EYwVYDHYIFAOrA+IE0AmWCekDTQMTAx0K3wfsBdcLDANCAyQEzAggCJoD0wP2ClQIPgNJAxsDagKxBHoB0gFUAcUCKgjyCEkEdQHkASEFmgNnArsDQwYUAjUBUQHGAPMAagErAicCSwFUAakBrQH/ArEBTQHNAJgBbAE=",
          "dtype": "i2"
         },
         "y0": " ",
         "yaxis": "y"
        },
        {
         "alignmentgroup": "True",
         "boxpoints": "outliers",
         "hovertemplate": "weathersit=%{x}<br>rentals=%{y}<extra></extra>",
         "legendgroup": "3",
         "marker": {
          "color": "#00cc96"
         },
         "name": "3",
         "notched": false,
         "offsetgroup": "3",
         "orientation": "v",
         "showlegend": true,
         "type": "box",
         "x": {
          "bdata": "AwMDAwMDAwMDAwMDAwMDAwMDAwMD",
          "dtype": "i1"
         },
         "x0": " ",
         "xaxis": "x",
         "y": {
          "bdata": "IgAuALMAeQDMAHYAmQDZAP4AOQCRANwARQB+ADIAwAB4APAEOwECAAkA",
          "dtype": "i2"
         },
         "y0": " ",
         "yaxis": "y"
        }
       ],
       "layout": {
        "boxmode": "overlay",
        "legend": {
         "title": {
          "text": "weathersit"
         },
         "tracegroupgap": 0
        },
        "template": {
         "data": {
          "bar": [
           {
            "error_x": {
             "color": "#2a3f5f"
            },
            "error_y": {
             "color": "#2a3f5f"
            },
            "marker": {
             "line": {
              "color": "#E5ECF6",
              "width": 0.5
             },
             "pattern": {
              "fillmode": "overlay",
              "size": 10,
              "solidity": 0.2
             }
            },
            "type": "bar"
           }
          ],
          "barpolar": [
           {
            "marker": {
             "line": {
              "color": "#E5ECF6",
              "width": 0.5
             },
             "pattern": {
              "fillmode": "overlay",
              "size": 10,
              "solidity": 0.2
             }
            },
            "type": "barpolar"
           }
          ],
          "carpet": [
           {
            "aaxis": {
             "endlinecolor": "#2a3f5f",
             "gridcolor": "white",
             "linecolor": "white",
             "minorgridcolor": "white",
             "startlinecolor": "#2a3f5f"
            },
            "baxis": {
             "endlinecolor": "#2a3f5f",
             "gridcolor": "white",
             "linecolor": "white",
             "minorgridcolor": "white",
             "startlinecolor": "#2a3f5f"
            },
            "type": "carpet"
           }
          ],
          "choropleth": [
           {
            "colorbar": {
             "outlinewidth": 0,
             "ticks": ""
            },
            "type": "choropleth"
           }
          ],
          "contour": [
           {
            "colorbar": {
             "outlinewidth": 0,
             "ticks": ""
            },
            "colorscale": [
             [
              0,
              "#0d0887"
             ],
             [
              0.1111111111111111,
              "#46039f"
             ],
             [
              0.2222222222222222,
              "#7201a8"
             ],
             [
              0.3333333333333333,
              "#9c179e"
             ],
             [
              0.4444444444444444,
              "#bd3786"
             ],
             [
              0.5555555555555556,
              "#d8576b"
             ],
             [
              0.6666666666666666,
              "#ed7953"
             ],
             [
              0.7777777777777778,
              "#fb9f3a"
             ],
             [
              0.8888888888888888,
              "#fdca26"
             ],
             [
              1,
              "#f0f921"
             ]
            ],
            "type": "contour"
           }
          ],
          "contourcarpet": [
           {
            "colorbar": {
             "outlinewidth": 0,
             "ticks": ""
            },
            "type": "contourcarpet"
           }
          ],
          "heatmap": [
           {
            "colorbar": {
             "outlinewidth": 0,
             "ticks": ""
            },
            "colorscale": [
             [
              0,
              "#0d0887"
             ],
             [
              0.1111111111111111,
              "#46039f"
             ],
             [
              0.2222222222222222,
              "#7201a8"
             ],
             [
              0.3333333333333333,
              "#9c179e"
             ],
             [
              0.4444444444444444,
              "#bd3786"
             ],
             [
              0.5555555555555556,
              "#d8576b"
             ],
             [
              0.6666666666666666,
              "#ed7953"
             ],
             [
              0.7777777777777778,
              "#fb9f3a"
             ],
             [
              0.8888888888888888,
              "#fdca26"
             ],
             [
              1,
              "#f0f921"
             ]
            ],
            "type": "heatmap"
           }
          ],
          "histogram": [
           {
            "marker": {
             "pattern": {
              "fillmode": "overlay",
              "size": 10,
              "solidity": 0.2
             }
            },
            "type": "histogram"
           }
          ],
          "histogram2d": [
           {
            "colorbar": {
             "outlinewidth": 0,
             "ticks": ""
            },
            "colorscale": [
             [
              0,
              "#0d0887"
             ],
             [
              0.1111111111111111,
              "#46039f"
             ],
             [
              0.2222222222222222,
              "#7201a8"
             ],
             [
              0.3333333333333333,
              "#9c179e"
             ],
             [
              0.4444444444444444,
              "#bd3786"
             ],
             [
              0.5555555555555556,
              "#d8576b"
             ],
             [
              0.6666666666666666,
              "#ed7953"
             ],
             [
              0.7777777777777778,
              "#fb9f3a"
             ],
             [
              0.8888888888888888,
              "#fdca26"
             ],
             [
              1,
              "#f0f921"
             ]
            ],
            "type": "histogram2d"
           }
          ],
          "histogram2dcontour": [
           {
            "colorbar": {
             "outlinewidth": 0,
             "ticks": ""
            },
            "colorscale": [
             [
              0,
              "#0d0887"
             ],
             [
              0.1111111111111111,
              "#46039f"
             ],
             [
              0.2222222222222222,
              "#7201a8"
             ],
             [
              0.3333333333333333,
              "#9c179e"
             ],
             [
              0.4444444444444444,
              "#bd3786"
             ],
             [
              0.5555555555555556,
              "#d8576b"
             ],
             [
              0.6666666666666666,
              "#ed7953"
             ],
             [
              0.7777777777777778,
              "#fb9f3a"
             ],
             [
              0.8888888888888888,
              "#fdca26"
             ],
             [
              1,
              "#f0f921"
             ]
            ],
            "type": "histogram2dcontour"
           }
          ],
          "mesh3d": [
           {
            "colorbar": {
             "outlinewidth": 0,
             "ticks": ""
            },
            "type": "mesh3d"
           }
          ],
          "parcoords": [
           {
            "line": {
             "colorbar": {
              "outlinewidth": 0,
              "ticks": ""
             }
            },
            "type": "parcoords"
           }
          ],
          "pie": [
           {
            "automargin": true,
            "type": "pie"
           }
          ],
          "scatter": [
           {
            "fillpattern": {
             "fillmode": "overlay",
             "size": 10,
             "solidity": 0.2
            },
            "type": "scatter"
           }
          ],
          "scatter3d": [
           {
            "line": {
             "colorbar": {
              "outlinewidth": 0,
              "ticks": ""
             }
            },
            "marker": {
             "colorbar": {
              "outlinewidth": 0,
              "ticks": ""
             }
            },
            "type": "scatter3d"
           }
          ],
          "scattercarpet": [
           {
            "marker": {
             "colorbar": {
              "outlinewidth": 0,
              "ticks": ""
             }
            },
            "type": "scattercarpet"
           }
          ],
          "scattergeo": [
           {
            "marker": {
             "colorbar": {
              "outlinewidth": 0,
              "ticks": ""
             }
            },
            "type": "scattergeo"
           }
          ],
          "scattergl": [
           {
            "marker": {
             "colorbar": {
              "outlinewidth": 0,
              "ticks": ""
             }
            },
            "type": "scattergl"
           }
          ],
          "scattermap": [
           {
            "marker": {
             "colorbar": {
              "outlinewidth": 0,
              "ticks": ""
             }
            },
            "type": "scattermap"
           }
          ],
          "scattermapbox": [
           {
            "marker": {
             "colorbar": {
              "outlinewidth": 0,
              "ticks": ""
             }
            },
            "type": "scattermapbox"
           }
          ],
          "scatterpolar": [
           {
            "marker": {
             "colorbar": {
              "outlinewidth": 0,
              "ticks": ""
             }
            },
            "type": "scatterpolar"
           }
          ],
          "scatterpolargl": [
           {
            "marker": {
             "colorbar": {
              "outlinewidth": 0,
              "ticks": ""
             }
            },
            "type": "scatterpolargl"
           }
          ],
          "scatterternary": [
           {
            "marker": {
             "colorbar": {
              "outlinewidth": 0,
              "ticks": ""
             }
            },
            "type": "scatterternary"
           }
          ],
          "surface": [
           {
            "colorbar": {
             "outlinewidth": 0,
             "ticks": ""
            },
            "colorscale": [
             [
              0,
              "#0d0887"
             ],
             [
              0.1111111111111111,
              "#46039f"
             ],
             [
              0.2222222222222222,
              "#7201a8"
             ],
             [
              0.3333333333333333,
              "#9c179e"
             ],
             [
              0.4444444444444444,
              "#bd3786"
             ],
             [
              0.5555555555555556,
              "#d8576b"
             ],
             [
              0.6666666666666666,
              "#ed7953"
             ],
             [
              0.7777777777777778,
              "#fb9f3a"
             ],
             [
              0.8888888888888888,
              "#fdca26"
             ],
             [
              1,
              "#f0f921"
             ]
            ],
            "type": "surface"
           }
          ],
          "table": [
           {
            "cells": {
             "fill": {
              "color": "#EBF0F8"
             },
             "line": {
              "color": "white"
             }
            },
            "header": {
             "fill": {
              "color": "#C8D4E3"
             },
             "line": {
              "color": "white"
             }
            },
            "type": "table"
           }
          ]
         },
         "layout": {
          "annotationdefaults": {
           "arrowcolor": "#2a3f5f",
           "arrowhead": 0,
           "arrowwidth": 1
          },
          "autotypenumbers": "strict",
          "coloraxis": {
           "colorbar": {
            "outlinewidth": 0,
            "ticks": ""
           }
          },
          "colorscale": {
           "diverging": [
            [
             0,
             "#8e0152"
            ],
            [
             0.1,
             "#c51b7d"
            ],
            [
             0.2,
             "#de77ae"
            ],
            [
             0.3,
             "#f1b6da"
            ],
            [
             0.4,
             "#fde0ef"
            ],
            [
             0.5,
             "#f7f7f7"
            ],
            [
             0.6,
             "#e6f5d0"
            ],
            [
             0.7,
             "#b8e186"
            ],
            [
             0.8,
             "#7fbc41"
            ],
            [
             0.9,
             "#4d9221"
            ],
            [
             1,
             "#276419"
            ]
           ],
           "sequential": [
            [
             0,
             "#0d0887"
            ],
            [
             0.1111111111111111,
             "#46039f"
            ],
            [
             0.2222222222222222,
             "#7201a8"
            ],
            [
             0.3333333333333333,
             "#9c179e"
            ],
            [
             0.4444444444444444,
             "#bd3786"
            ],
            [
             0.5555555555555556,
             "#d8576b"
            ],
            [
             0.6666666666666666,
             "#ed7953"
            ],
            [
             0.7777777777777778,
             "#fb9f3a"
            ],
            [
             0.8888888888888888,
             "#fdca26"
            ],
            [
             1,
             "#f0f921"
            ]
           ],
           "sequentialminus": [
            [
             0,
             "#0d0887"
            ],
            [
             0.1111111111111111,
             "#46039f"
            ],
            [
             0.2222222222222222,
             "#7201a8"
            ],
            [
             0.3333333333333333,
             "#9c179e"
            ],
            [
             0.4444444444444444,
             "#bd3786"
            ],
            [
             0.5555555555555556,
             "#d8576b"
            ],
            [
             0.6666666666666666,
             "#ed7953"
            ],
            [
             0.7777777777777778,
             "#fb9f3a"
            ],
            [
             0.8888888888888888,
             "#fdca26"
            ],
            [
             1,
             "#f0f921"
            ]
           ]
          },
          "colorway": [
           "#636efa",
           "#EF553B",
           "#00cc96",
           "#ab63fa",
           "#FFA15A",
           "#19d3f3",
           "#FF6692",
           "#B6E880",
           "#FF97FF",
           "#FECB52"
          ],
          "font": {
           "color": "#2a3f5f"
          },
          "geo": {
           "bgcolor": "white",
           "lakecolor": "white",
           "landcolor": "#E5ECF6",
           "showlakes": true,
           "showland": true,
           "subunitcolor": "white"
          },
          "hoverlabel": {
           "align": "left"
          },
          "hovermode": "closest",
          "mapbox": {
           "style": "light"
          },
          "paper_bgcolor": "white",
          "plot_bgcolor": "#E5ECF6",
          "polar": {
           "angularaxis": {
            "gridcolor": "white",
            "linecolor": "white",
            "ticks": ""
           },
           "bgcolor": "#E5ECF6",
           "radialaxis": {
            "gridcolor": "white",
            "linecolor": "white",
            "ticks": ""
           }
          },
          "scene": {
           "xaxis": {
            "backgroundcolor": "#E5ECF6",
            "gridcolor": "white",
            "gridwidth": 2,
            "linecolor": "white",
            "showbackground": true,
            "ticks": "",
            "zerolinecolor": "white"
           },
           "yaxis": {
            "backgroundcolor": "#E5ECF6",
            "gridcolor": "white",
            "gridwidth": 2,
            "linecolor": "white",
            "showbackground": true,
            "ticks": "",
            "zerolinecolor": "white"
           },
           "zaxis": {
            "backgroundcolor": "#E5ECF6",
            "gridcolor": "white",
            "gridwidth": 2,
            "linecolor": "white",
            "showbackground": true,
            "ticks": "",
            "zerolinecolor": "white"
           }
          },
          "shapedefaults": {
           "line": {
            "color": "#2a3f5f"
           }
          },
          "ternary": {
           "aaxis": {
            "gridcolor": "white",
            "linecolor": "white",
            "ticks": ""
           },
           "baxis": {
            "gridcolor": "white",
            "linecolor": "white",
            "ticks": ""
           },
           "bgcolor": "#E5ECF6",
           "caxis": {
            "gridcolor": "white",
            "linecolor": "white",
            "ticks": ""
           }
          },
          "title": {
           "x": 0.05
          },
          "xaxis": {
           "automargin": true,
           "gridcolor": "white",
           "linecolor": "white",
           "ticks": "",
           "title": {
            "standoff": 15
           },
           "zerolinecolor": "white",
           "zerolinewidth": 2
          },
          "yaxis": {
           "automargin": true,
           "gridcolor": "white",
           "linecolor": "white",
           "ticks": "",
           "title": {
            "standoff": 15
           },
           "zerolinecolor": "white",
           "zerolinewidth": 2
          }
         }
        },
        "title": {
         "text": "Rentals by weathersit"
        },
        "xaxis": {
         "anchor": "y",
         "categoryarray": [
          2,
          1,
          3
         ],
         "categoryorder": "array",
         "domain": [
          0,
          1
         ],
         "title": {
          "text": "weathersit"
         }
        },
        "yaxis": {
         "anchor": "x",
         "domain": [
          0,
          1
         ],
         "title": {
          "text": "Bike Rentals"
         }
        }
       }
      }
     },
     "metadata": {},
     "output_type": "display_data"
    },
    {
     "data": {
      "application/vnd.plotly.v1+json": {
       "config": {
        "plotlyServerURL": "https://plot.ly"
       },
       "data": [
        {
         "alignmentgroup": "True",
         "boxpoints": "outliers",
         "hovertemplate": "day=%{x}<br>rentals=%{y}<extra></extra>",
         "legendgroup": "1",
         "marker": {
          "color": "#636efa"
         },
         "name": "1",
         "notched": false,
         "offsetgroup": "1",
         "orientation": "v",
         "showlegend": true,
         "type": "box",
         "x": {
          "bdata": "AQAAAAEAAAABAAAAAQAAAAEAAAABAAAAAQAAAAEAAAABAAAAAQAAAAEAAAABAAAAAQAAAAEAAAABAAAAAQAAAAEAAAABAAAAAQAAAAEAAAABAAAAAQAAAAEAAAABAAAA",
          "dtype": "i4"
         },
         "x0": " ",
         "xaxis": "x",
         "y": {
          "bdata": "SwEvAIkAMwFyBAEC3gTZAg8D4AGaAbYArgIwAUUBKwmNAhUCjQUyBDAJ+wLSAbcD",
          "dtype": "i2"
         },
         "y0": " ",
         "yaxis": "y"
        },
        {
         "alignmentgroup": "True",
         "boxpoints": "outliers",
         "hovertemplate": "day=%{x}<br>rentals=%{y}<extra></extra>",
         "legendgroup": "2",
         "marker": {
          "color": "#EF553B"
         },
         "name": "2",
         "notched": false,
         "offsetgroup": "2",
         "orientation": "v",
         "showlegend": true,
         "type": "box",
         "x": {
          "bdata": "AgAAAAIAAAACAAAAAgAAAAIAAAACAAAAAgAAAAIAAAACAAAAAgAAAAIAAAACAAAAAgAAAAIAAAACAAAAAgAAAAIAAAACAAAAAgAAAAIAAAACAAAAAgAAAAIAAAACAAAA",
          "dtype": "i4"
         },
         "x0": " ",
         "xaxis": "x",
         "y": {
          "bdata": "gwBIAOcAggNPA+ACnAghA2sDaAJyAQwB9AC+APYAuASbAusKiAPXAzUKOwFqAnwD",
          "dtype": "i2"
         },
         "y0": " ",
         "yaxis": "y"
        },
        {
         "alignmentgroup": "True",
         "boxpoints": "outliers",
         "hovertemplate": "day=%{x}<br>rentals=%{y}<extra></extra>",
         "legendgroup": "3",
         "marker": {
          "color": "#00cc96"
         },
         "name": "3",
         "notched": false,
         "offsetgroup": "3",
         "orientation": "v",
         "showlegend": true,
         "type": "box",
         "x": {
          "bdata": "AwAAAAMAAAADAAAAAwAAAAMAAAADAAAAAwAAAAMAAAADAAAAAwAAAAMAAAADAAAAAwAAAAMAAAADAAAAAwAAAAMAAAADAAAAAwAAAAMAAAADAAAAAwAAAAMAAAADAAAA",
          "dtype": "i4"
         },
         "x0": " ",
         "xaxis": "x",
         "y": {
          "bdata": "eAA9AHsAcwZbAoID6gjTAY8HSgE+AcICWQA2AbwDRAX8Ar4JHAQwBa0H2AIFBCsC",
          "dtype": "i2"
         },
         "y0": " ",
         "yaxis": "y"
        },
        {
         "alignmentgroup": "True",
         "boxpoints": "outliers",
         "hovertemplate": "day=%{x}<br>rentals=%{y}<extra></extra>",
         "legendgroup": "4",
         "marker": {
          "color": "#ab63fa"
         },
         "name": "4",
         "notched": false,
         "offsetgroup": "4",
         "orientation": "v",
         "showlegend": true,
         "type": "box",
         "x": {
          "bdata": "BAAAAAQAAAAEAAAABAAAAAQAAAAEAAAABAAAAAQAAAAEAAAABAAAAAQAAAAEAAAABAAAAAQAAAAEAAAABAAAAAQAAAAEAAAABAAAAAQAAAAEAAAABAAAAAQAAAAEAAAA",
          "dtype": "i4"
         },
         "x0": " ",
         "xaxis": "x",
         "y": {
          "bdata": "bABYANYA3gL/AE0H+QsfA9kJ5gHWAXoCXwCAAcYCIgQtBC8EAgopCWMDewOxBCcC",
          "dtype": "i2"
         },
         "y0": " ",
         "yaxis": "y"
        },
        {
         "alignmentgroup": "True",
         "boxpoints": "outliers",
         "hovertemplate": "day=%{x}<br>rentals=%{y}<extra></extra>",
         "legendgroup": "5",
         "marker": {
          "color": "#FFA15A"
         },
         "name": "5",
         "notched": false,
         "offsetgroup": "5",
         "orientation": "v",
         "showlegend": true,
         "type": "box",
         "x": {
          "bdata": "BQAAAAUAAAAFAAAABQAAAAUAAAAFAAAABQAAAAUAAAAFAAAABQAAAAUAAAAFAAAABQAAAAUAAAAFAAAABQAAAAUAAAAFAAAABQAAAAUAAAAFAAAABQAAAAUAAAAFAAAA",
          "dtype": "i4"
         },
         "x0": " ",
         "xaxis": "x",
         "y": {
          "bdata": "UgBkAIACpwBmApUGBwT/A9QELwKEBOkAjAA+AcsAqATACcgDfQWrBkAD7AV6AUsB",
          "dtype": "i2"
         },
         "y0": " ",
         "yaxis": "y"
        },
        {
         "alignmentgroup": "True",
         "boxpoints": "outliers",
         "hovertemplate": "day=%{x}<br>rentals=%{y}<extra></extra>",
         "legendgroup": "6",
         "marker": {
          "color": "#19d3f3"
         },
         "name": "6",
         "notched": false,
         "offsetgroup": "6",
         "orientation": "v",
         "showlegend": true,
         "type": "box",
         "x": {
          "bdata": "BgAAAAYAAAAGAAAABgAAAAYAAAAGAAAABgAAAAYAAAAGAAAABgAAAAYAAAAGAAAABgAAAAYAAAAGAAAABgAAAAYAAAAGAAAABgAAAAYAAAAGAAAABgAAAAYAAAAGAAAA",
          "dtype": "i4"
         },
         "x0": " ",
         "xaxis": "x",
         "y": {
          "bdata": "WABiAXIAnQF+A6ECEAPxBcwAfwK4A34AMwHOAN0ADwdXCAMEVgXRBGMC1wvSAVQB",
          "dtype": "i2"
         },
         "y0": " ",
         "yaxis": "y"
        },
        {
         "alignmentgroup": "True",
         "boxpoints": "outliers",
         "hovertemplate": "day=%{x}<br>rentals=%{y}<extra></extra>",
         "legendgroup": "7",
         "marker": {
          "color": "#FF6692"
         },
         "name": "7",
         "notched": false,
         "offsetgroup": "7",
         "orientation": "v",
         "showlegend": true,
         "type": "box",
         "x": {
          "bdata": "BwAAAAcAAAAHAAAABwAAAAcAAAAHAAAABwAAAAcAAAAHAAAABwAAAAcAAAAHAAAABwAAAAcAAAAHAAAABwAAAAcAAAAHAAAABwAAAAcAAAAHAAAABwAAAAcAAAAHAAAA",
          "dtype": "i4"
         },
         "x0": " ",
         "xaxis": "x",
         "y": {
          "bdata": "lAB4APQAOwJMBvsC8gISBXYAtQN1ATIALgTHALABtAzwAw4EqAX+BBUEDQNGAV0B",
          "dtype": "i2"
         },
         "y0": " ",
         "yaxis": "y"
        },
        {
         "alignmentgroup": "True",
         "boxpoints": "outliers",
         "hovertemplate": "day=%{x}<br>rentals=%{y}<extra></extra>",
         "legendgroup": "8",
         "marker": {
          "color": "#B6E880"
         },
         "name": "8",
         "notched": false,
         "offsetgroup": "8",
         "orientation": "v",
         "showlegend": true,
         "type": "box",
         "x": {
          "bdata": "CAAAAAgAAAAIAAAACAAAAAgAAAAIAAAACAAAAAgAAAAIAAAACAAAAAgAAAAIAAAACAAAAAgAAAAIAAAACAAAAAgAAAAIAAAACAAAAAgAAAAIAAAACAAAAAgAAAAIAAAA",
          "dtype": "i4"
         },
         "x0": " ",
         "xaxis": "x",
         "y": {
          "bdata": "RABAADwBrAB5BaQCtAJOA5kAuwh4AZYAVwJtAOYBtgjiAtAFswTvBBUGagNUAYEE",
          "dtype": "i2"
         },
         "y0": " ",
         "yaxis": "y"
        },
        {
         "alignmentgroup": "True",
         "boxpoints": "outliers",
         "hovertemplate": "day=%{x}<br>rentals=%{y}<extra></extra>",
         "legendgroup": "9",
         "marker": {
          "color": "#FF97FF"
         },
         "name": "9",
         "notched": false,
         "offsetgroup": "9",
         "orientation": "v",
         "showlegend": true,
         "type": "box",
         "x": {
          "bdata": "CQAAAAkAAAAJAAAACQAAAAkAAAAJAAAACQAAAAkAAAAJAAAACQAAAAkAAAAJAAAACQAAAAkAAAAJAAAACQAAAAkAAAAJAAAACQAAAAkAAAAJAAAACQAAAAkAAAAJAAAA",
          "dtype": "i4"
         },
         "x0": " ",
         "xaxis": "x",
         "y": {
          "bdata": "NgA1AL8AbwOYAjMCxAeLA6EBXQkxAQUBagCjAL8BiQNsApQK5gOsBAoKWQLFArkB",
          "dtype": "i2"
         },
         "y0": " ",
         "yaxis": "y"
        },
        {
         "alignmentgroup": "True",
         "boxpoints": "outliers",
         "hovertemplate": "day=%{x}<br>rentals=%{y}<extra></extra>",
         "legendgroup": "10",
         "marker": {
          "color": "#FECB52"
         },
         "name": "10",
         "notched": false,
         "offsetgroup": "10",
         "orientation": "v",
         "showlegend": true,
         "type": "box",
         "x": {
          "bdata": "CgAAAAoAAAAKAAAACgAAAAoAAAAKAAAACgAAAAoAAAAKAAAACgAAAAoAAAAKAAAACgAAAAoAAAAKAAAACgAAAAoAAAAKAAAACgAAAAoAAAAKAAAACgAAAAoAAAAKAAAA",
          "dtype": "i4"
         },
         "x0": " ",
         "xaxis": "x",
         "y": {
          "bdata": "KQAvAC4ApAS2Ai8DzwZ0A9YG6gW+APYBrQDjAMgDMwMCBLAIugMpBF4EDAMqCEkB",
          "dtype": "i2"
         },
         "y0": " ",
         "yaxis": "y"
        },
        {
         "alignmentgroup": "True",
         "boxpoints": "outliers",
         "hovertemplate": "day=%{x}<br>rentals=%{y}<extra></extra>",
         "legendgroup": "11",
         "marker": {
          "color": "#636efa"
         },
         "name": "11",
         "notched": false,
         "offsetgroup": "11",
         "orientation": "v",
         "showlegend": true,
         "type": "box",
         "x": {
          "bdata": "CwAAAAsAAAALAAAACwAAAAsAAAALAAAACwAAAAsAAAALAAAACwAAAAsAAAALAAAACwAAAAsAAAALAAAACwAAAAsAAAALAAAACwAAAAsAAAALAAAACwAAAAsAAAALAAAA",
          "dtype": "i4"
         },
         "x0": " ",
         "xaxis": "x",
         "y": {
          "bdata": "KwCVAPcAVwMmAsEG0wIsA2EGmwK4AXkBXADAAHoG4gEnBfkDzwPHCC4EQgPyCBoB",
          "dtype": "i2"
         },
         "y0": " ",
         "yaxis": "y"
        },
        {
         "alignmentgroup": "True",
         "boxpoints": "outliers",
         "hovertemplate": "day=%{x}<br>rentals=%{y}<extra></extra>",
         "legendgroup": "12",
         "marker": {
          "color": "#EF553B"
         },
         "name": "12",
         "notched": false,
         "offsetgroup": "12",
         "orientation": "v",
         "showlegend": true,
         "type": "box",
         "x": {
          "bdata": "DAAAAAwAAAAMAAAADAAAAAwAAAAMAAAADAAAAAwAAAAMAAAADAAAAAwAAAAMAAAADAAAAAwAAAAMAAAADAAAAAwAAAAMAAAADAAAAAwAAAAMAAAADAAAAAwAAAAMAAAA",
          "dtype": "i4"
         },
         "x0": " ",
         "xaxis": "x",
         "y": {
          "bdata": "GQAgAdQCAQG3ArsFlgIbBLIC2QD7BI8ADQFJAEYDlwI+Ct0BCASGCBoEJARJBDYB",
          "dtype": "i2"
         },
         "y0": " ",
         "yaxis": "y"
        },
        {
         "alignmentgroup": "True",
         "boxpoints": "outliers",
         "hovertemplate": "day=%{x}<br>rentals=%{y}<extra></extra>",
         "legendgroup": "13",
         "marker": {
          "color": "#00cc96"
         },
         "name": "13",
         "notched": false,
         "offsetgroup": "13",
         "orientation": "v",
         "showlegend": true,
         "type": "box",
         "x": {
          "bdata": "DQAAAA0AAAANAAAADQAAAA0AAAANAAAADQAAAA0AAAANAAAADQAAAA0AAAANAAAADQAAAA0AAAANAAAADQAAAA0AAAANAAAADQAAAA0AAAANAAAADQAAAA0AAAANAAAA",
          "dtype": "i4"
         },
         "x0": " ",
         "xaxis": "x",
         "y": {
          "bdata": "JgCNAdYD0QC0Al8D7ALgBb0CIgHsA5sArgBeAPoC5AR8CJUE5wW3BB4EzAhHAakB",
          "dtype": "i2"
         },
         "y0": " ",
         "yaxis": "y"
        },
        {
         "alignmentgroup": "True",
         "boxpoints": "outliers",
         "hovertemplate": "day=%{x}<br>rentals=%{y}<extra></extra>",
         "legendgroup": "14",
         "marker": {
          "color": "#ab63fa"
         },
         "name": "14",
         "notched": false,
         "offsetgroup": "14",
         "orientation": "v",
         "showlegend": true,
         "type": "box",
         "x": {
          "bdata": "DgAAAA4AAAAOAAAADgAAAA4AAAAOAAAADgAAAA4AAAAOAAAADgAAAA4AAAAOAAAADgAAAA4AAAAOAAAADgAAAA4AAAAOAAAADgAAAA4AAAAOAAAADgAAAA4AAAAOAAAA",
          "dtype": "i4"
         },
         "x0": " ",
         "xaxis": "x",
         "y": {
          "bdata": "NgDQAGcBEQKGA9cCeAM6BYcCEQJTArIATQGHAOUD6wpWAZwEMwloBGMFIAh1Aa0B",
          "dtype": "i2"
         },
         "y0": " ",
         "yaxis": "y"
        },
        {
         "alignmentgroup": "True",
         "boxpoints": "outliers",
         "hovertemplate": "day=%{x}<br>rentals=%{y}<extra></extra>",
         "legendgroup": "15",
         "marker": {
          "color": "#FFA15A"
         },
         "name": "15",
         "notched": false,
         "offsetgroup": "15",
         "orientation": "v",
         "showlegend": true,
         "type": "box",
         "x": {
          "bdata": "DwAAAA8AAAAPAAAADwAAAA8AAAAPAAAADwAAAA8AAAAPAAAADwAAAA8AAAAPAAAADwAAAA8AAAAPAAAADwAAAA8AAAAPAAAADwAAAA8AAAAPAAAADwAAAA8AAAAPAAAA",
          "dtype": "i4"
         },
         "x0": " ",
         "xaxis": "x",
         "y": {
          "bdata": "3gCMACEBggIuBgEDJgUHA6wBawfBAbUAHAGNAO0DHgtxAhsGgAeuBFgM+AJAAf8C",
          "dtype": "i2"
         },
         "y0": " ",
         "yaxis": "y"
        },
        {
         "alignmentgroup": "True",
         "boxpoints": "outliers",
         "hovertemplate": "day=%{x}<br>rentals=%{y}<extra></extra>",
         "legendgroup": "16",
         "marker": {
          "color": "#19d3f3"
         },
         "name": "16",
         "notched": false,
         "offsetgroup": "16",
         "orientation": "v",
         "showlegend": true,
         "type": "box",
         "x": {
          "bdata": "EAAAABAAAAAQAAAAEAAAABAAAAAQAAAAEAAAABAAAAAQAAAAEAAAABAAAAAQAAAAEAAAABAAAAAQAAAAEAAAABAAAAAQAAAAEAAAABAAAAAQAAAAEAAAABAAAAAQAAAA",
          "dtype": "i4"
         },
         "x0": " ",
         "xaxis": "x",
         "y": {
          "bdata": "+wDaAEEBeQAFAyECcgnRAuYC1AaRALIA2QBKACQCrgTfA5MLQAQ6BXYImgPkARoC",
          "dtype": "i2"
         },
         "y0": " ",
         "yaxis": "y"
        },
        {
         "alignmentgroup": "True",
         "boxpoints": "outliers",
         "hovertemplate": "day=%{x}<br>rentals=%{y}<extra></extra>",
         "legendgroup": "17",
         "marker": {
          "color": "#FF6692"
         },
         "name": "17",
         "notched": false,
         "offsetgroup": "17",
         "orientation": "v",
         "showlegend": true,
         "type": "box",
         "x": {
          "bdata": "EQAAABEAAAARAAAAEQAAABEAAAARAAAAEQAAABEAAAARAAAAEQAAABEAAAARAAAAEQAAABEAAAARAAAAEQAAABEAAAARAAAAEQAAABEAAAARAAAAEQAAABEAAAARAAAA",
          "dtype": "i4"
         },
         "x0": " ",
         "xaxis": "x",
         "y": {
          "bdata": "dQADAagBFgamAl8D1gecApoFyQKLABMBfwBdAVMM3QPaBEoKmQPLBf4D0wMhBdQA",
          "dtype": "i2"
         },
         "y0": " ",
         "yaxis": "y"
        },
        {
         "alignmentgroup": "True",
         "boxpoints": "outliers",
         "hovertemplate": "day=%{x}<br>rentals=%{y}<extra></extra>",
         "legendgroup": "18",
         "marker": {
          "color": "#B6E880"
         },
         "name": "18",
         "notched": false,
         "offsetgroup": "18",
         "orientation": "v",
         "showlegend": true,
         "type": "box",
         "x": {
          "bdata": "EgAAABIAAAASAAAAEgAAABIAAAASAAAAEgAAABIAAAASAAAAEgAAABIAAAASAAAAEgAAABIAAAASAAAAEgAAABIAAAASAAAAEgAAABIAAAASAAAAEgAAABIAAAASAAAA",
          "dtype": "i4"
         },
         "x0": " ",
         "xaxis": "x",
         "y": {
          "bdata": "CQBDAnQDnQIYAg8HSQN/AkkFfQL1ANwAbQCbBZ8IWwHxBY0CHwMLC3MB8AOaA7EB",
          "dtype": "i2"
         },
         "y0": " ",
         "yaxis": "y"
        },
        {
         "alignmentgroup": "True",
         "boxpoints": "outliers",
         "hovertemplate": "day=%{x}<br>rentals=%{y}<extra></extra>",
         "legendgroup": "19",
         "marker": {
          "color": "#FF97FF"
         },
         "name": "19",
         "notched": false,
         "offsetgroup": "19",
         "orientation": "v",
         "showlegend": true,
         "type": "box",
         "x": {
          "bdata": "EwAAABMAAAATAAAAEwAAABMAAAATAAAAEwAAABMAAAATAAAAEwAAABMAAAATAAAAEwAAABMAAAATAAAAEwAAABMAAAATAAAAEwAAABMAAAATAAAAEwAAABMAAAATAAAA",
          "dtype": "i4"
         },
         "x0": " ",
         "xaxis": "x",
         "y": {
          "bdata": "TgAUApAFmQHfAmcG8AIdA7MC/gCvAwQBggBqAtYDTgNSDcgDeAO4BBQD8QLBAU0B",
          "dtype": "i2"
         },
         "y0": " ",
         "yaxis": "y"
        },
        {
         "alignmentgroup": "True",
         "boxpoints": "outliers",
         "hovertemplate": "day=%{x}<br>rentals=%{y}<extra></extra>",
         "legendgroup": "20",
         "marker": {
          "color": "#FECB52"
         },
         "name": "20",
         "notched": false,
         "offsetgroup": "20",
         "orientation": "v",
         "showlegend": true,
         "type": "box",
         "x": {
          "bdata": "FAAAABQAAAAUAAAAFAAAABQAAAAUAAAAFAAAABQAAAAUAAAAFAAAABQAAAAUAAAAFAAAABQAAAAUAAAAFAAAABQAAAAUAAAAFAAAABQAAAAUAAAAFAAAABQAAAAUAAAA",
          "dtype": "i4"
         },
         "x0": " ",
         "xaxis": "x",
         "y": {
          "bdata": "UwB/AhcEZQKNA7sChAJ6B7YB1wETA9gAcwD2ARsEPAWQCmgD6wICBKsD9goWAjoB",
          "dtype": "i2"
         },
         "y0": " ",
         "yaxis": "y"
        },
        {
         "alignmentgroup": "True",
         "boxpoints": "outliers",
         "hovertemplate": "day=%{x}<br>rentals=%{y}<extra></extra>",
         "legendgroup": "21",
         "marker": {
          "color": "#636efa"
         },
         "name": "21",
         "notched": false,
         "offsetgroup": "21",
         "orientation": "v",
         "showlegend": true,
         "type": "box",
         "x": {
          "bdata": "FQAAABUAAAAVAAAAFQAAABUAAAAVAAAAFQAAABUAAAAVAAAAFQAAABUAAAAVAAAAFQAAABUAAAAVAAAAFQAAABUAAAAVAAAAFQAAABUAAAAVAAAAFQAAABUAAAAVAAAA",
          "dtype": "i4"
         },
         "x0": " ",
         "xaxis": "x",
         "y": {
          "bdata": "SwDDAJEB6QLSCAYDeALhBBsCpALcAGsAQwCjAGIE7Ql2AgoD8AQ5BOIEVAhnAt0A",
          "dtype": "i2"
         },
         "y0": " ",
         "yaxis": "y"
        },
        {
         "alignmentgroup": "True",
         "boxpoints": "outliers",
         "hovertemplate": "day=%{x}<br>rentals=%{y}<extra></extra>",
         "legendgroup": "22",
         "marker": {
          "color": "#EF553B"
         },
         "name": "22",
         "notched": false,
         "offsetgroup": "22",
         "orientation": "v",
         "showlegend": true,
         "type": "box",
         "x": {
          "bdata": "FgAAABYAAAAWAAAAFgAAABYAAAAWAAAAFgAAABYAAAAWAAAAFgAAABYAAAAWAAAAFgAAABYAAAAWAAAAFgAAABYAAAAWAAAAFgAAABYAAAAWAAAAFgAAABYAAAAWAAAA",
          "dtype": "i4"
         },
         "x0": " ",
         "xaxis": "x",
         "y": {
          "bdata": "XQBKAMwBsQAoBpUCMgJBAysC2wVFAOMAxACKATYFeAAzA8QD8AlGBNAJPgO7A80A",
          "dtype": "i2"
         },
         "y0": " ",
         "yaxis": "y"
        },
        {
         "alignmentgroup": "True",
         "boxpoints": "outliers",
         "hovertemplate": "day=%{x}<br>rentals=%{y}<extra></extra>",
         "legendgroup": "23",
         "marker": {
          "color": "#00cc96"
         },
         "name": "23",
         "notched": false,
         "offsetgroup": "23",
         "orientation": "v",
         "showlegend": true,
         "type": "box",
         "x": {
          "bdata": "FwAAABcAAAAXAAAAFwAAABcAAAAXAAAAFwAAABcAAAAXAAAAFwAAABcAAAAXAAAAFwAAABcAAAAXAAAAFwAAABcAAAAXAAAAFwAAABcAAAAXAAAAFwAAABcAAAAXAAAA",
          "dtype": "i4"
         },
         "x0": " ",
         "xaxis": "x",
         "y": {
          "bdata": "lgCLAMsAtgVEA+oC2wMBBQIBUwZwAKMAkQAEAqUJwwD+AmEKbwRTBZYJSQNDBpgB",
          "dtype": "i2"
         },
         "y0": " ",
         "yaxis": "y"
        },
        {
         "alignmentgroup": "True",
         "boxpoints": "outliers",
         "hovertemplate": "day=%{x}<br>rentals=%{y}<extra></extra>",
         "legendgroup": "24",
         "marker": {
          "color": "#ab63fa"
         },
         "name": "24",
         "notched": false,
         "offsetgroup": "24",
         "orientation": "v",
         "showlegend": true,
         "type": "box",
         "x": {
          "bdata": "GAAAABgAAAAYAAAAGAAAABgAAAAYAAAAGAAAABgAAAAYAAAAGAAAABgAAAAYAAAAGAAAABgAAAAYAAAAGAAAABgAAAAYAAAAGAAAABgAAAAYAAAAGAAAABgAAAAYAAAA",
          "dtype": "i4"
         },
         "x0": " ",
         "xaxis": "x",
         "y": {
          "bdata": "VgBkAKYArgaTAskDGgS1A/AGuwIwApsAtwH2AAkEBgIjBPcJdAQtBekDGwMUAq4A",
          "dtype": "i2"
         },
         "y0": " ",
         "yaxis": "y"
        },
        {
         "alignmentgroup": "True",
         "boxpoints": "outliers",
         "hovertemplate": "day=%{x}<br>rentals=%{y}<extra></extra>",
         "legendgroup": "25",
         "marker": {
          "color": "#FFA15A"
         },
         "name": "25",
         "notched": false,
         "offsetgroup": "25",
         "orientation": "v",
         "showlegend": true,
         "type": "box",
         "x": {
          "bdata": "GQAAABkAAAAZAAAAGQAAABkAAAAZAAAAGQAAABkAAAAZAAAAGQAAABkAAAAZAAAAGQAAABkAAAAZAAAAGQAAABkAAAAZAAAAGQAAABkAAAAZAAAAGQAAABkAAAAZAAAA",
          "dtype": "i4"
         },
         "x0": " ",
         "xaxis": "x",
         "y": {
          "bdata": "ugB4ACwBBQPkAvYGOAKzAQgGtwJHBC8B0wE9AfwFjwKJBXMEZwUlB00DawM1AbgB",
          "dtype": "i2"
         },
         "y0": " ",
         "yaxis": "y"
        },
        {
         "alignmentgroup": "True",
         "boxpoints": "outliers",
         "hovertemplate": "day=%{x}<br>rentals=%{y}<extra></extra>",
         "legendgroup": "26",
         "marker": {
          "color": "#19d3f3"
         },
         "name": "26",
         "notched": false,
         "offsetgroup": "26",
         "orientation": "v",
         "showlegend": true,
         "type": "box",
         "x": {
          "bdata": "GgAAABoAAAAaAAAAGgAAABoAAAAaAAAAGgAAABoAAAAaAAAAGgAAABoAAAAaAAAAGgAAABoAAAAaAAAAGgAAABoAAAAaAAAAGgAAABoAAAAaAAAAGgAAABoAAAAaAAAA",
          "dtype": "i4"
         },
         "x0": " ",
         "xaxis": "x",
         "y": {
          "bdata": "IgCoAdUDpgL2AoAH7gIAA6wClAHhBK4B9AADAhsD2wEnCzUEDATLBRMDngRRAQkA",
          "dtype": "i2"
         },
         "y0": " ",
         "yaxis": "y"
        },
        {
         "alignmentgroup": "True",
         "boxpoints": "outliers",
         "hovertemplate": "day=%{x}<br>rentals=%{y}<extra></extra>",
         "legendgroup": "27",
         "marker": {
          "color": "#FF6692"
         },
         "name": "27",
         "notched": false,
         "offsetgroup": "27",
         "orientation": "v",
         "showlegend": true,
         "type": "box",
         "x": {
          "bdata": "GwAAABsAAAAbAAAAGwAAABsAAAAbAAAAGwAAABsAAAAbAAAAGwAAABsAAAAbAAAAGwAAABsAAAAbAAAAGwAAABsAAAAbAAAAGwAAABsAAAAbAAAAGwAAABsAAAAbAAAA",
          "dtype": "i4"
         },
         "x0": " ",
         "xaxis": "x",
         "y": {
          "bdata": "DwC2AtgBIwJnA1YD8wLiAN0B8AAqA2cADQH9ABMC9gPTDDUE6wTdA+8CUwp7APcA",
          "dtype": "i2"
         },
         "y0": " ",
         "yaxis": "y"
        },
        {
         "alignmentgroup": "True",
         "boxpoints": "outliers",
         "hovertemplate": "day=%{x}<br>rentals=%{y}<extra></extra>",
         "legendgroup": "28",
         "marker": {
          "color": "#B6E880"
         },
         "name": "28",
         "notched": false,
         "offsetgroup": "28",
         "orientation": "v",
         "showlegend": true,
         "type": "box",
         "x": {
          "bdata": "HAAAABwAAAAcAAAAHAAAABwAAAAcAAAAHAAAABwAAAAcAAAAHAAAABwAAAAcAAAAHAAAABwAAAAcAAAAHAAAABwAAAAcAAAAHAAAABwAAAAcAAAAHAAAABwAAAAcAAAA",
          "dtype": "i4"
         },
         "x0": " ",
         "xaxis": "x",
         "y": {
          "bdata": "JgBRAN4AOQLRB9wCXgKHBeAByAH9AP8ABwPlAKICYAT9CZkDuginAxUE5gPGAIQC",
          "dtype": "i2"
         },
         "y0": " ",
         "yaxis": "y"
        },
        {
         "alignmentgroup": "True",
         "boxpoints": "outliers",
         "hovertemplate": "day=%{x}<br>rentals=%{y}<extra></extra>",
         "legendgroup": "29",
         "marker": {
          "color": "#FF97FF"
         },
         "name": "29",
         "notched": false,
         "offsetgroup": "29",
         "orientation": "v",
         "showlegend": true,
         "type": "box",
         "x": {
          "bdata": "HQAAAB0AAAAdAAAAHQAAAB0AAAAdAAAAHQAAAB0AAAAdAAAAHQAAAB0AAAAdAAAAHQAAAB0AAAAdAAAAHQAAAB0AAAAdAAAAHQAAAB0AAAAdAAAAHQAAAB0AAAA=",
          "dtype": "i4"
         },
         "x0": " ",
         "xaxis": "x",
         "y": {
          "bdata": "ewA9AW4DMwlQA54C2QKNAjkAYAD+AC4CQQBCA7UIcAM9A2kImQQdCgIA8wCfAA==",
          "dtype": "i2"
         },
         "y0": " ",
         "yaxis": "y"
        },
        {
         "alignmentgroup": "True",
         "boxpoints": "outliers",
         "hovertemplate": "day=%{x}<br>rentals=%{y}<extra></extra>",
         "legendgroup": "30",
         "marker": {
          "color": "#FECB52"
         },
         "name": "30",
         "notched": false,
         "offsetgroup": "30",
         "orientation": "v",
         "showlegend": true,
         "type": "box",
         "x": {
          "bdata": "HgAAAB4AAAAeAAAAHgAAAB4AAAAeAAAAHgAAAB4AAAAeAAAAHgAAAB4AAAAeAAAAHgAAAB4AAAAeAAAAHgAAAB4AAAAeAAAAHgAAAB4AAAAeAAAAHgAAAA==",
          "dtype": "i4"
         },
         "x0": " ",
         "xaxis": "x",
         "y": {
          "bdata": "jACoAK0HDQYDBBcGBwM+A3UDvADrAX4AHAOZAukCrwUQBJQE3wdXAGoBbAE=",
          "dtype": "i2"
         },
         "y0": " ",
         "yaxis": "y"
        },
        {
         "alignmentgroup": "True",
         "boxpoints": "outliers",
         "hovertemplate": "day=%{x}<br>rentals=%{y}<extra></extra>",
         "legendgroup": "31",
         "marker": {
          "color": "#636efa"
         },
         "name": "31",
         "notched": false,
         "offsetgroup": "31",
         "orientation": "v",
         "showlegend": true,
         "type": "box",
         "x": {
          "bdata": "HwAAAB8AAAAfAAAAHwAAAB8AAAAfAAAAHwAAAB8AAAAfAAAAHwAAAB8AAAAfAAAAHwAAAB8AAAA=",
          "dtype": "i4"
         },
         "x0": " ",
         "xaxis": "x",
         "y": {
          "bdata": "KgCzAKEC9AWwAmoBmQJEAf0ITATIA5kFowG3AQ==",
          "dtype": "i2"
         },
         "y0": " ",
         "yaxis": "y"
        }
       ],
       "layout": {
        "boxmode": "overlay",
        "legend": {
         "title": {
          "text": "day"
         },
         "tracegroupgap": 0
        },
        "template": {
         "data": {
          "bar": [
           {
            "error_x": {
             "color": "#2a3f5f"
            },
            "error_y": {
             "color": "#2a3f5f"
            },
            "marker": {
             "line": {
              "color": "#E5ECF6",
              "width": 0.5
             },
             "pattern": {
              "fillmode": "overlay",
              "size": 10,
              "solidity": 0.2
             }
            },
            "type": "bar"
           }
          ],
          "barpolar": [
           {
            "marker": {
             "line": {
              "color": "#E5ECF6",
              "width": 0.5
             },
             "pattern": {
              "fillmode": "overlay",
              "size": 10,
              "solidity": 0.2
             }
            },
            "type": "barpolar"
           }
          ],
          "carpet": [
           {
            "aaxis": {
             "endlinecolor": "#2a3f5f",
             "gridcolor": "white",
             "linecolor": "white",
             "minorgridcolor": "white",
             "startlinecolor": "#2a3f5f"
            },
            "baxis": {
             "endlinecolor": "#2a3f5f",
             "gridcolor": "white",
             "linecolor": "white",
             "minorgridcolor": "white",
             "startlinecolor": "#2a3f5f"
            },
            "type": "carpet"
           }
          ],
          "choropleth": [
           {
            "colorbar": {
             "outlinewidth": 0,
             "ticks": ""
            },
            "type": "choropleth"
           }
          ],
          "contour": [
           {
            "colorbar": {
             "outlinewidth": 0,
             "ticks": ""
            },
            "colorscale": [
             [
              0,
              "#0d0887"
             ],
             [
              0.1111111111111111,
              "#46039f"
             ],
             [
              0.2222222222222222,
              "#7201a8"
             ],
             [
              0.3333333333333333,
              "#9c179e"
             ],
             [
              0.4444444444444444,
              "#bd3786"
             ],
             [
              0.5555555555555556,
              "#d8576b"
             ],
             [
              0.6666666666666666,
              "#ed7953"
             ],
             [
              0.7777777777777778,
              "#fb9f3a"
             ],
             [
              0.8888888888888888,
              "#fdca26"
             ],
             [
              1,
              "#f0f921"
             ]
            ],
            "type": "contour"
           }
          ],
          "contourcarpet": [
           {
            "colorbar": {
             "outlinewidth": 0,
             "ticks": ""
            },
            "type": "contourcarpet"
           }
          ],
          "heatmap": [
           {
            "colorbar": {
             "outlinewidth": 0,
             "ticks": ""
            },
            "colorscale": [
             [
              0,
              "#0d0887"
             ],
             [
              0.1111111111111111,
              "#46039f"
             ],
             [
              0.2222222222222222,
              "#7201a8"
             ],
             [
              0.3333333333333333,
              "#9c179e"
             ],
             [
              0.4444444444444444,
              "#bd3786"
             ],
             [
              0.5555555555555556,
              "#d8576b"
             ],
             [
              0.6666666666666666,
              "#ed7953"
             ],
             [
              0.7777777777777778,
              "#fb9f3a"
             ],
             [
              0.8888888888888888,
              "#fdca26"
             ],
             [
              1,
              "#f0f921"
             ]
            ],
            "type": "heatmap"
           }
          ],
          "histogram": [
           {
            "marker": {
             "pattern": {
              "fillmode": "overlay",
              "size": 10,
              "solidity": 0.2
             }
            },
            "type": "histogram"
           }
          ],
          "histogram2d": [
           {
            "colorbar": {
             "outlinewidth": 0,
             "ticks": ""
            },
            "colorscale": [
             [
              0,
              "#0d0887"
             ],
             [
              0.1111111111111111,
              "#46039f"
             ],
             [
              0.2222222222222222,
              "#7201a8"
             ],
             [
              0.3333333333333333,
              "#9c179e"
             ],
             [
              0.4444444444444444,
              "#bd3786"
             ],
             [
              0.5555555555555556,
              "#d8576b"
             ],
             [
              0.6666666666666666,
              "#ed7953"
             ],
             [
              0.7777777777777778,
              "#fb9f3a"
             ],
             [
              0.8888888888888888,
              "#fdca26"
             ],
             [
              1,
              "#f0f921"
             ]
            ],
            "type": "histogram2d"
           }
          ],
          "histogram2dcontour": [
           {
            "colorbar": {
             "outlinewidth": 0,
             "ticks": ""
            },
            "colorscale": [
             [
              0,
              "#0d0887"
             ],
             [
              0.1111111111111111,
              "#46039f"
             ],
             [
              0.2222222222222222,
              "#7201a8"
             ],
             [
              0.3333333333333333,
              "#9c179e"
             ],
             [
              0.4444444444444444,
              "#bd3786"
             ],
             [
              0.5555555555555556,
              "#d8576b"
             ],
             [
              0.6666666666666666,
              "#ed7953"
             ],
             [
              0.7777777777777778,
              "#fb9f3a"
             ],
             [
              0.8888888888888888,
              "#fdca26"
             ],
             [
              1,
              "#f0f921"
             ]
            ],
            "type": "histogram2dcontour"
           }
          ],
          "mesh3d": [
           {
            "colorbar": {
             "outlinewidth": 0,
             "ticks": ""
            },
            "type": "mesh3d"
           }
          ],
          "parcoords": [
           {
            "line": {
             "colorbar": {
              "outlinewidth": 0,
              "ticks": ""
             }
            },
            "type": "parcoords"
           }
          ],
          "pie": [
           {
            "automargin": true,
            "type": "pie"
           }
          ],
          "scatter": [
           {
            "fillpattern": {
             "fillmode": "overlay",
             "size": 10,
             "solidity": 0.2
            },
            "type": "scatter"
           }
          ],
          "scatter3d": [
           {
            "line": {
             "colorbar": {
              "outlinewidth": 0,
              "ticks": ""
             }
            },
            "marker": {
             "colorbar": {
              "outlinewidth": 0,
              "ticks": ""
             }
            },
            "type": "scatter3d"
           }
          ],
          "scattercarpet": [
           {
            "marker": {
             "colorbar": {
              "outlinewidth": 0,
              "ticks": ""
             }
            },
            "type": "scattercarpet"
           }
          ],
          "scattergeo": [
           {
            "marker": {
             "colorbar": {
              "outlinewidth": 0,
              "ticks": ""
             }
            },
            "type": "scattergeo"
           }
          ],
          "scattergl": [
           {
            "marker": {
             "colorbar": {
              "outlinewidth": 0,
              "ticks": ""
             }
            },
            "type": "scattergl"
           }
          ],
          "scattermap": [
           {
            "marker": {
             "colorbar": {
              "outlinewidth": 0,
              "ticks": ""
             }
            },
            "type": "scattermap"
           }
          ],
          "scattermapbox": [
           {
            "marker": {
             "colorbar": {
              "outlinewidth": 0,
              "ticks": ""
             }
            },
            "type": "scattermapbox"
           }
          ],
          "scatterpolar": [
           {
            "marker": {
             "colorbar": {
              "outlinewidth": 0,
              "ticks": ""
             }
            },
            "type": "scatterpolar"
           }
          ],
          "scatterpolargl": [
           {
            "marker": {
             "colorbar": {
              "outlinewidth": 0,
              "ticks": ""
             }
            },
            "type": "scatterpolargl"
           }
          ],
          "scatterternary": [
           {
            "marker": {
             "colorbar": {
              "outlinewidth": 0,
              "ticks": ""
             }
            },
            "type": "scatterternary"
           }
          ],
          "surface": [
           {
            "colorbar": {
             "outlinewidth": 0,
             "ticks": ""
            },
            "colorscale": [
             [
              0,
              "#0d0887"
             ],
             [
              0.1111111111111111,
              "#46039f"
             ],
             [
              0.2222222222222222,
              "#7201a8"
             ],
             [
              0.3333333333333333,
              "#9c179e"
             ],
             [
              0.4444444444444444,
              "#bd3786"
             ],
             [
              0.5555555555555556,
              "#d8576b"
             ],
             [
              0.6666666666666666,
              "#ed7953"
             ],
             [
              0.7777777777777778,
              "#fb9f3a"
             ],
             [
              0.8888888888888888,
              "#fdca26"
             ],
             [
              1,
              "#f0f921"
             ]
            ],
            "type": "surface"
           }
          ],
          "table": [
           {
            "cells": {
             "fill": {
              "color": "#EBF0F8"
             },
             "line": {
              "color": "white"
             }
            },
            "header": {
             "fill": {
              "color": "#C8D4E3"
             },
             "line": {
              "color": "white"
             }
            },
            "type": "table"
           }
          ]
         },
         "layout": {
          "annotationdefaults": {
           "arrowcolor": "#2a3f5f",
           "arrowhead": 0,
           "arrowwidth": 1
          },
          "autotypenumbers": "strict",
          "coloraxis": {
           "colorbar": {
            "outlinewidth": 0,
            "ticks": ""
           }
          },
          "colorscale": {
           "diverging": [
            [
             0,
             "#8e0152"
            ],
            [
             0.1,
             "#c51b7d"
            ],
            [
             0.2,
             "#de77ae"
            ],
            [
             0.3,
             "#f1b6da"
            ],
            [
             0.4,
             "#fde0ef"
            ],
            [
             0.5,
             "#f7f7f7"
            ],
            [
             0.6,
             "#e6f5d0"
            ],
            [
             0.7,
             "#b8e186"
            ],
            [
             0.8,
             "#7fbc41"
            ],
            [
             0.9,
             "#4d9221"
            ],
            [
             1,
             "#276419"
            ]
           ],
           "sequential": [
            [
             0,
             "#0d0887"
            ],
            [
             0.1111111111111111,
             "#46039f"
            ],
            [
             0.2222222222222222,
             "#7201a8"
            ],
            [
             0.3333333333333333,
             "#9c179e"
            ],
            [
             0.4444444444444444,
             "#bd3786"
            ],
            [
             0.5555555555555556,
             "#d8576b"
            ],
            [
             0.6666666666666666,
             "#ed7953"
            ],
            [
             0.7777777777777778,
             "#fb9f3a"
            ],
            [
             0.8888888888888888,
             "#fdca26"
            ],
            [
             1,
             "#f0f921"
            ]
           ],
           "sequentialminus": [
            [
             0,
             "#0d0887"
            ],
            [
             0.1111111111111111,
             "#46039f"
            ],
            [
             0.2222222222222222,
             "#7201a8"
            ],
            [
             0.3333333333333333,
             "#9c179e"
            ],
            [
             0.4444444444444444,
             "#bd3786"
            ],
            [
             0.5555555555555556,
             "#d8576b"
            ],
            [
             0.6666666666666666,
             "#ed7953"
            ],
            [
             0.7777777777777778,
             "#fb9f3a"
            ],
            [
             0.8888888888888888,
             "#fdca26"
            ],
            [
             1,
             "#f0f921"
            ]
           ]
          },
          "colorway": [
           "#636efa",
           "#EF553B",
           "#00cc96",
           "#ab63fa",
           "#FFA15A",
           "#19d3f3",
           "#FF6692",
           "#B6E880",
           "#FF97FF",
           "#FECB52"
          ],
          "font": {
           "color": "#2a3f5f"
          },
          "geo": {
           "bgcolor": "white",
           "lakecolor": "white",
           "landcolor": "#E5ECF6",
           "showlakes": true,
           "showland": true,
           "subunitcolor": "white"
          },
          "hoverlabel": {
           "align": "left"
          },
          "hovermode": "closest",
          "mapbox": {
           "style": "light"
          },
          "paper_bgcolor": "white",
          "plot_bgcolor": "#E5ECF6",
          "polar": {
           "angularaxis": {
            "gridcolor": "white",
            "linecolor": "white",
            "ticks": ""
           },
           "bgcolor": "#E5ECF6",
           "radialaxis": {
            "gridcolor": "white",
            "linecolor": "white",
            "ticks": ""
           }
          },
          "scene": {
           "xaxis": {
            "backgroundcolor": "#E5ECF6",
            "gridcolor": "white",
            "gridwidth": 2,
            "linecolor": "white",
            "showbackground": true,
            "ticks": "",
            "zerolinecolor": "white"
           },
           "yaxis": {
            "backgroundcolor": "#E5ECF6",
            "gridcolor": "white",
            "gridwidth": 2,
            "linecolor": "white",
            "showbackground": true,
            "ticks": "",
            "zerolinecolor": "white"
           },
           "zaxis": {
            "backgroundcolor": "#E5ECF6",
            "gridcolor": "white",
            "gridwidth": 2,
            "linecolor": "white",
            "showbackground": true,
            "ticks": "",
            "zerolinecolor": "white"
           }
          },
          "shapedefaults": {
           "line": {
            "color": "#2a3f5f"
           }
          },
          "ternary": {
           "aaxis": {
            "gridcolor": "white",
            "linecolor": "white",
            "ticks": ""
           },
           "baxis": {
            "gridcolor": "white",
            "linecolor": "white",
            "ticks": ""
           },
           "bgcolor": "#E5ECF6",
           "caxis": {
            "gridcolor": "white",
            "linecolor": "white",
            "ticks": ""
           }
          },
          "title": {
           "x": 0.05
          },
          "xaxis": {
           "automargin": true,
           "gridcolor": "white",
           "linecolor": "white",
           "ticks": "",
           "title": {
            "standoff": 15
           },
           "zerolinecolor": "white",
           "zerolinewidth": 2
          },
          "yaxis": {
           "automargin": true,
           "gridcolor": "white",
           "linecolor": "white",
           "ticks": "",
           "title": {
            "standoff": 15
           },
           "zerolinecolor": "white",
           "zerolinewidth": 2
          }
         }
        },
        "title": {
         "text": "Rentals by day"
        },
        "xaxis": {
         "anchor": "y",
         "categoryarray": [
          1,
          2,
          3,
          4,
          5,
          6,
          7,
          8,
          9,
          10,
          11,
          12,
          13,
          14,
          15,
          16,
          17,
          18,
          19,
          20,
          21,
          22,
          23,
          24,
          25,
          26,
          27,
          28,
          29,
          30,
          31
         ],
         "categoryorder": "array",
         "domain": [
          0,
          1
         ],
         "title": {
          "text": "day"
         }
        },
        "yaxis": {
         "anchor": "x",
         "domain": [
          0,
          1
         ],
         "title": {
          "text": "Bike Rentals"
         }
        }
       }
      }
     },
     "metadata": {},
     "output_type": "display_data"
    }
   ],
   "source": [
    "import plotly.express as px\n",
    "\n",
    "for col in categorical_features:\n",
    "    fig = px.box(bike_data, x=col, y='rentals', points='outliers', color=col, title=f'Rentals by {col}')\n",
    "    fig.update_layout(yaxis_title='Bike Rentals', xaxis_title=col)\n",
    "    fig.show()"
   ]
  },
  {
   "cell_type": "markdown",
   "id": "aa873468",
   "metadata": {},
   "source": [
    "![Distribución de rentas por variable categórica](assets/DistributionRentalsCategoricalVariable.png)"
   ]
  },
  {
   "cell_type": "markdown",
   "id": "ca44a35e",
   "metadata": {},
   "source": [
    "Los gráficos muestran cierta variación en la relación entre algunos valores categóricos y el número de rentas. Por ejemplo, hay una diferencia clara en la distribución de rentas durante los fines de semana (**weekday** 0 o 6) en comparación con los días laborables (**weekday** del 1 al 5). De manera similar, también se observan diferencias notables en las categorías **holiday** y **workingday**.\n",
    "\n",
    "Existe una tendencia evidente que muestra distintas distribuciones de rentas en los meses de primavera y verano en comparación con los meses de invierno y otoño. La categoría **weathersit** también parece influir en la distribución de rentas.\n",
    "\n",
    "Por otro lado, la característica **day**, que creamos para representar el día del mes, muestra poca variación, lo que indica que probablemente **no es un buen predictor** del número de rentas."
   ]
  },
  {
   "cell_type": "markdown",
   "id": "8e57665b",
   "metadata": {},
   "source": [
    "## Entrenar un Modelo de Regresión\n",
    "\n",
    "Ahora que hemos explorado los datos, es momento de usarlos para entrenar un modelo de regresión que utilice las características que hemos identificado como potencialmente predictivas para predecir la etiqueta **rentals**.\n",
    "\n",
    "Lo primero que necesitamos hacer es separar las características que queremos usar para entrenar el modelo de la etiqueta que queremos que el modelo prediga."
   ]
  },
  {
   "cell_type": "code",
   "execution_count": 23,
   "id": "22fd302d",
   "metadata": {},
   "outputs": [
    {
     "name": "stdout",
     "output_type": "stream",
     "text": [
      "Features:\n",
      "[[1.        1.        0.        6.        0.        2.        0.344167\n",
      "  0.363625  0.805833  0.160446 ]\n",
      " [1.        1.        0.        0.        0.        2.        0.363478\n",
      "  0.353739  0.696087  0.248539 ]\n",
      " [1.        1.        0.        1.        1.        1.        0.196364\n",
      "  0.189405  0.437273  0.248309 ]\n",
      " [1.        1.        0.        2.        1.        1.        0.2\n",
      "  0.212122  0.590435  0.160296 ]\n",
      " [1.        1.        0.        3.        1.        1.        0.226957\n",
      "  0.22927   0.436957  0.1869   ]\n",
      " [1.        1.        0.        4.        1.        1.        0.204348\n",
      "  0.233209  0.518261  0.0895652]\n",
      " [1.        1.        0.        5.        1.        2.        0.196522\n",
      "  0.208839  0.498696  0.168726 ]\n",
      " [1.        1.        0.        6.        0.        2.        0.165\n",
      "  0.162254  0.535833  0.266804 ]\n",
      " [1.        1.        0.        0.        0.        1.        0.138333\n",
      "  0.116175  0.434167  0.36195  ]\n",
      " [1.        1.        0.        1.        1.        1.        0.150833\n",
      "  0.150888  0.482917  0.223267 ]]\n",
      "\n",
      "Labels:\n",
      "[331 131 120 108  82  88 148  68  54  41]\n"
     ]
    }
   ],
   "source": [
    "# Separa las características (features) y las etiquetas (labels)\n",
    "X, y = bike_data[['season','mnth', 'holiday','weekday','workingday','weathersit','temp', 'atemp', 'hum', 'windspeed']].values, bike_data['rentals'].values\n",
    "print('Features:',X[:10], '\\nLabels:', y[:10], sep='\\n')"
   ]
  },
  {
   "cell_type": "markdown",
   "id": "76567bd9",
   "metadata": {},
   "source": [
    "Después de separar el conjunto de datos, ahora tenemos arreglos de NumPy llamados **X** que contienen las características y **y** que contienen las etiquetas.\n",
    "\n",
    "*Podríamos* entrenar un modelo utilizando todos los datos, pero en el aprendizaje supervisado es una práctica común dividir los datos en dos subconjuntos: un conjunto (normalmente más grande) para entrenar el modelo, y un conjunto más pequeño de \"retención\" para validar el modelo entrenado. Esto nos permite evaluar qué tan bien se desempeña el modelo al usar el conjunto de validación, comparando las etiquetas predichas con las etiquetas reales conocidas.\n",
    "\n",
    "Es importante dividir los datos de manera *aleatoria* (en lugar de, por ejemplo, tomar el primer 70 % para entrenamiento y el resto para validación). Esto ayuda a asegurar que los dos subconjuntos de datos sean estadísticamente comparables (de modo que validemos el modelo con datos que tengan una distribución estadística similar a los datos con los que fue entrenado).\n",
    "\n",
    "Para dividir los datos aleatoriamente, usaremos la función **train_test_split** de la biblioteca **scikit-learn**. Esta biblioteca es uno de los paquetes de aprendizaje automático más ampliamente utilizados en Python."
   ]
  },
  {
   "cell_type": "code",
   "execution_count": 24,
   "id": "28ee599d",
   "metadata": {},
   "outputs": [
    {
     "name": "stdout",
     "output_type": "stream",
     "text": [
      "Training Set: 511 rows\n",
      "Test Set: 220 rows\n"
     ]
    }
   ],
   "source": [
    "from sklearn.model_selection import train_test_split\n",
    "\n",
    "# Divide los datos en un 70% para entrenamiento y un 30% para prueba de forma aleatoria\n",
    "X_train, X_test, y_train, y_test = train_test_split(X, y, test_size=0.30, random_state=0)\n",
    "\n",
    "print('Training Set: %d rows\\nTest Set: %d rows' % (X_train.shape[0], X_test.shape[0]))"
   ]
  },
  {
   "cell_type": "markdown",
   "id": "803f4fab",
   "metadata": {},
   "source": [
    "Ahora tenemos los siguientes cuatro conjuntos de datos:\n",
    "\n",
    "- **X_train**: Los valores de características que usaremos para entrenar el modelo  \n",
    "- **y_train**: Las etiquetas correspondientes que usaremos para entrenar el modelo  \n",
    "- **X_test**: Los valores de características que usaremos para validar el modelo  \n",
    "- **y_test**: Las etiquetas correspondientes que usaremos para validar el modelo\n",
    "\n",
    "Ahora estamos listos para entrenar un modelo ajustando un algoritmo de regresión adecuado a los datos de entrenamiento. Usaremos un algoritmo de *regresión lineal*, un punto de partida común para problemas de regresión que funciona tratando de encontrar una relación lineal entre los valores de *X* y la etiqueta *y*. El modelo resultante es una función que, conceptualmente, define una línea donde se intersectan todas las combinaciones posibles de valores de X y y.\n",
    "\n",
    "En Scikit-Learn, los algoritmos de entrenamiento están encapsulados en *estimadores*, y en este caso, usaremos el estimador **LinearRegression** para entrenar un modelo de regresión lineal."
   ]
  },
  {
   "cell_type": "code",
   "execution_count": 25,
   "id": "845bec48",
   "metadata": {},
   "outputs": [
    {
     "name": "stdout",
     "output_type": "stream",
     "text": [
      "LinearRegression(copy_X=True, fit_intercept=True, n_jobs=None, positive=False)\n"
     ]
    }
   ],
   "source": [
    "# Entrena el modelo\n",
    "from sklearn.linear_model import LinearRegression\n",
    "\n",
    "# Ajusta un modelo de regresión lineal usando el conjunto de entrenamiento\n",
    "model = LinearRegression().fit(X_train, y_train)\n",
    "# print(model)\n",
    "# print(model.get_params())\n",
    "print(f\"LinearRegression(copy_X={model.copy_X}, fit_intercept={model.fit_intercept}, n_jobs={model.n_jobs}, positive={model.positive})\")"
   ]
  },
  {
   "cell_type": "markdown",
   "id": "505abcfc",
   "metadata": {},
   "source": [
    "### Evaluar el Modelo Entrenado\n",
    "\n",
    "Ahora que hemos entrenado el modelo, podemos usarlo para predecir los conteos de rentas utilizando las características que reservamos en nuestro conjunto de datos de validación. Luego podemos comparar estas predicciones con los valores reales de las etiquetas para evaluar qué tan bien (¡o no!) está funcionando el modelo."
   ]
  },
  {
   "cell_type": "code",
   "execution_count": 26,
   "id": "b34d2310",
   "metadata": {},
   "outputs": [
    {
     "name": "stdout",
     "output_type": "stream",
     "text": [
      "Predicted labels:  [1896. 1184. 1007.  -28.  314.  385.  475.  590. 1476.  -22.]\n",
      "Actual labels   :  [2418  754  222   47  244  145  240  555 3252   38]\n"
     ]
    }
   ],
   "source": [
    "import numpy as np\n",
    "\n",
    "predictions = model.predict(X_test)\n",
    "np.set_printoptions(suppress=True)\n",
    "print('Predicted labels: ', np.round(predictions)[:10])\n",
    "print('Actual labels   : ' ,y_test[:10])"
   ]
  },
  {
   "cell_type": "markdown",
   "id": "f8494df8",
   "metadata": {},
   "source": [
    "Comparar cada predicción con su correspondiente valor real (\"ground truth\") no es una forma muy eficiente de determinar qué tan bien está prediciendo el modelo. Veamos si podemos obtener una mejor indicación visualizando un diagrama de dispersión (*scatter plot*) que compare las predicciones con las etiquetas reales.\n",
    "\n",
    "También superpondremos una línea de tendencia para obtener una idea general de qué tan bien se alinean las etiquetas predichas con las verdaderas."
   ]
  },
  {
   "cell_type": "code",
   "execution_count": 27,
   "id": "8056ddb8",
   "metadata": {},
   "outputs": [
    {
     "data": {
      "application/vnd.plotly.v1+json": {
       "config": {
        "plotlyServerURL": "https://plot.ly"
       },
       "data": [
        {
         "marker": {
          "color": "royalblue",
          "opacity": 0.6
         },
         "mode": "markers",
         "name": "Predicciones",
         "type": "scatter",
         "x": {
          "bdata": "cgnyAt4ALwD0AJEA8AArArQMJgAvAGcAeAD7AuwCuwJeBCoIbQCRAZQEnwB6AbsFxAC4BDICsAKWCesKNgAPA1kC9gajAAcDDASoBagBYADtCYMAjQL2ADIE6QP0ANQEgAHYAf0JbwSZApUEHwMqA7wA0wMQBIwAPAWbBXMBWAwOBHYAPgPmAScLowECBM8D/AVpCBECJwL6ArcE3ABsARcGsQTeBH8CCAYbBiwDmwLwBEQDKwAuAOsEMAVWAbgBOQDXA9MBowAbAvYDSQEMA5sA9AUbAxUEKwlrAK4GswGhARQCwAChAr0CWwJrA7gEeACVAkMCrgLBAawCTgDIA/YBdANyAKsGSgCkAtMB1gMeC7MCtQPWBmAEbgPrAsEB8AZSDYcFrADxBXsDfAhqAXQEmQAJAAsL2QKNBUUAIgEFBCAIfAPiAowAiAPWAJwEvgDHCNII2wUvBHkFGgQEAS8B5AJ1AV0AJARBAGQAogJ6AiMEkAUTAnoH/QBlAl0BAQEtBNgCHQO5AX8C5ARTAnkB3QDmApAKAQO0AuwDWACTCzoFhAK2AO0DDQOVBg0BZwU+AYQCtQM=",
          "dtype": "i2"
         },
         "y": {
          "bdata": "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",
          "dtype": "f8"
         }
        },
        {
         "line": {
          "color": "magenta"
         },
         "mode": "lines",
         "name": "Regresión",
         "type": "scatter",
         "x": {
          "bdata": "AAAAAAAAIkADtX6lQK1FQAO1fqVAbVNAhA8++OADXEADtX6lQE1iQERi3s6QmGZAhA8++ODjakDFvJ0hMS9vQAO1fqVAvXFAo4suuujic0BEYt7OkAh2QOQ4juM4LnhAhA8++OBTekAl5u0MiXl8QMW8nSExn35As8kmm2xigEADtX6lQHWBQFOg1q8UiIJAo4suuuiag0D0dobEvK2EQERi3s6QwIVAlE022WTThkDkOI7jOOaHQDQk5u0M+YhAhA8++OALikDV+pUCtR6LQCXm7QyJMYxAddFFF11EjUDFvJ0hMVeOQBWo9SsFao9As8kmm2w+kEBbv1Kg1seQQAO1fqVAUZFAq6qqqqrakUBToNavFGSSQPuVArV+7ZJAo4suuuh2k0BLgVq/UgCUQPR2hsS8iZRAnGyyySYTlUBEYt7OkJyVQOxXCtT6JZZAlE022WSvlkA8Q2LezjiXQOQ4juM4wpdAjC666KJLmEA0JObtDNWYQNwZEvN2XplAhA8++ODnmUAtBWr9SnGaQNX6lQK1+ppAffDBBx+Em0Al5u0MiQ2cQM3bGRLzlpxAddFFF10gnUAdx3Ecx6mdQMW8nSExM55AbbLJJpu8nkAVqPUrBUafQL6dITFvz59As8kmm2wsoECHxLydIXGgQFu/UqDWtaBAL7rooov6oEADtX6lQD+hQNevFKj1g6FAq6qqqqrIoUB/pUCtXw2iQFOg1q8UUqJAJ5tsssmWokD7lQK1ftuiQM+QmLczIKNAo4suuuhko0B3hsS8namjQEuBWr9S7qNAIHzwwQczpED0dobEvHekQMhxHMdxvKRAnGyyySYBpUBwZ0jM20WlQERi3s6QiqVAGF100UXPpUDsVwrU+hOmQMBSoNavWKZAlE022WSdpkBoSMzbGeKmQDxDYt7OJqdAED744INrp0DkOI7jOLCnQLgzJObt9KdAjC666KI5qEBgKVDrV36oQDQk5u0Mw6hACB988MEHqUDcGRLzdkypQLAUqPUrkalAhA8++ODVqUBZCtT6lRqqQC0Fav1KX6pAAAAAAACkqkA=",
          "dtype": "f8"
         },
         "y": {
          "bdata": "LlGOis+3d0Ccsm25bvp4QAoUTegNPXpAeHUsF61/e0Dm1gtGTMJ8QFQ463TrBH5AwpnKo4pHf0CY/VTpFEWAQE+uxIBk5oBABl80GLSHgUC+D6SvAymCQHTAE0dTyoJAK3GD3qJrg0DiIfN18gyEQJrSYg1CroRAUIPSpJFPhUAINEI84fCFQL7ksdMwkoZAdpUha4Azh0AtRpEC0NSHQOT2AJofdohAm6dwMW8XiUBSWODIvriJQAgJUGAOWopAwLm/9137ikB3ai+PrZyLQC4bnyb9PYxA5csOvkzfjECcfH5VnICNQFMt7uzrIY5ACt5dhDvDjkDBjs0bi2SPQLyfnlntApBAGHhWJZVTkEBzUA7xPKSQQM4oxrzk9JBAKgF+iIxFkUCG2TVUNJaRQOKx7R/c5pFAPYql64M3kkCYYl23K4iSQPQ6FYPT2JJAUBPNTnspk0Cr64QaI3qTQAbEPObKypNAYpz0sXIblEC+dKx9GmyUQBhNZEnCvJRAdCUcFWoNlUDQ/dPgEV6VQCzWi6y5rpVAiK5DeGH/lUDihvtDCVCWQD5fsw+xoJZAmjdr21jxlkD2DyOnAEKXQFDo2nKokpdArMCSPlDjl0AImUoK+DOYQGRxAtafhJhAvkm6oUfVmEAaInJt7yWZQHb6KTmXdplA0tLhBD/HmUAsq5nQ5heaQIiDUZyOaJpA5FsJaDa5mkBANMEz3gmbQJoMef+FWptA9uQwyy2rm0BSveiW1fubQK6VoGJ9TJxACG5YLiWdnEBkRhD6zO2cQMAeyMV0Pp1AHPd/kRyPnUB4zzddxN+dQNSn7yhsMJ5ALoCn9BOBnkCKWF/Au9GeQOYwF4xjIp9AQAnPVwtzn0Cc4YYjs8OfQPxcn3ctCqBAKkl7XYEyoEBXNVdD1VqgQIUhMykpg6BAsw0PD32roEDh+er00NOgQA7mxtok/KBAPNKiwHgkoUBqvn6mzEyhQJiqWowgdaFAxZY2cnSdoUDzghJYyMWhQCFv7j0c7qFATlvKI3AWokB9R6YJxD6iQKszgu8XZ6JA2B9e1WuPokA=",
          "dtype": "f8"
         }
        }
       ],
       "layout": {
        "height": 500,
        "template": {
         "data": {
          "bar": [
           {
            "error_x": {
             "color": "#2a3f5f"
            },
            "error_y": {
             "color": "#2a3f5f"
            },
            "marker": {
             "line": {
              "color": "#E5ECF6",
              "width": 0.5
             },
             "pattern": {
              "fillmode": "overlay",
              "size": 10,
              "solidity": 0.2
             }
            },
            "type": "bar"
           }
          ],
          "barpolar": [
           {
            "marker": {
             "line": {
              "color": "#E5ECF6",
              "width": 0.5
             },
             "pattern": {
              "fillmode": "overlay",
              "size": 10,
              "solidity": 0.2
             }
            },
            "type": "barpolar"
           }
          ],
          "carpet": [
           {
            "aaxis": {
             "endlinecolor": "#2a3f5f",
             "gridcolor": "white",
             "linecolor": "white",
             "minorgridcolor": "white",
             "startlinecolor": "#2a3f5f"
            },
            "baxis": {
             "endlinecolor": "#2a3f5f",
             "gridcolor": "white",
             "linecolor": "white",
             "minorgridcolor": "white",
             "startlinecolor": "#2a3f5f"
            },
            "type": "carpet"
           }
          ],
          "choropleth": [
           {
            "colorbar": {
             "outlinewidth": 0,
             "ticks": ""
            },
            "type": "choropleth"
           }
          ],
          "contour": [
           {
            "colorbar": {
             "outlinewidth": 0,
             "ticks": ""
            },
            "colorscale": [
             [
              0,
              "#0d0887"
             ],
             [
              0.1111111111111111,
              "#46039f"
             ],
             [
              0.2222222222222222,
              "#7201a8"
             ],
             [
              0.3333333333333333,
              "#9c179e"
             ],
             [
              0.4444444444444444,
              "#bd3786"
             ],
             [
              0.5555555555555556,
              "#d8576b"
             ],
             [
              0.6666666666666666,
              "#ed7953"
             ],
             [
              0.7777777777777778,
              "#fb9f3a"
             ],
             [
              0.8888888888888888,
              "#fdca26"
             ],
             [
              1,
              "#f0f921"
             ]
            ],
            "type": "contour"
           }
          ],
          "contourcarpet": [
           {
            "colorbar": {
             "outlinewidth": 0,
             "ticks": ""
            },
            "type": "contourcarpet"
           }
          ],
          "heatmap": [
           {
            "colorbar": {
             "outlinewidth": 0,
             "ticks": ""
            },
            "colorscale": [
             [
              0,
              "#0d0887"
             ],
             [
              0.1111111111111111,
              "#46039f"
             ],
             [
              0.2222222222222222,
              "#7201a8"
             ],
             [
              0.3333333333333333,
              "#9c179e"
             ],
             [
              0.4444444444444444,
              "#bd3786"
             ],
             [
              0.5555555555555556,
              "#d8576b"
             ],
             [
              0.6666666666666666,
              "#ed7953"
             ],
             [
              0.7777777777777778,
              "#fb9f3a"
             ],
             [
              0.8888888888888888,
              "#fdca26"
             ],
             [
              1,
              "#f0f921"
             ]
            ],
            "type": "heatmap"
           }
          ],
          "histogram": [
           {
            "marker": {
             "pattern": {
              "fillmode": "overlay",
              "size": 10,
              "solidity": 0.2
             }
            },
            "type": "histogram"
           }
          ],
          "histogram2d": [
           {
            "colorbar": {
             "outlinewidth": 0,
             "ticks": ""
            },
            "colorscale": [
             [
              0,
              "#0d0887"
             ],
             [
              0.1111111111111111,
              "#46039f"
             ],
             [
              0.2222222222222222,
              "#7201a8"
             ],
             [
              0.3333333333333333,
              "#9c179e"
             ],
             [
              0.4444444444444444,
              "#bd3786"
             ],
             [
              0.5555555555555556,
              "#d8576b"
             ],
             [
              0.6666666666666666,
              "#ed7953"
             ],
             [
              0.7777777777777778,
              "#fb9f3a"
             ],
             [
              0.8888888888888888,
              "#fdca26"
             ],
             [
              1,
              "#f0f921"
             ]
            ],
            "type": "histogram2d"
           }
          ],
          "histogram2dcontour": [
           {
            "colorbar": {
             "outlinewidth": 0,
             "ticks": ""
            },
            "colorscale": [
             [
              0,
              "#0d0887"
             ],
             [
              0.1111111111111111,
              "#46039f"
             ],
             [
              0.2222222222222222,
              "#7201a8"
             ],
             [
              0.3333333333333333,
              "#9c179e"
             ],
             [
              0.4444444444444444,
              "#bd3786"
             ],
             [
              0.5555555555555556,
              "#d8576b"
             ],
             [
              0.6666666666666666,
              "#ed7953"
             ],
             [
              0.7777777777777778,
              "#fb9f3a"
             ],
             [
              0.8888888888888888,
              "#fdca26"
             ],
             [
              1,
              "#f0f921"
             ]
            ],
            "type": "histogram2dcontour"
           }
          ],
          "mesh3d": [
           {
            "colorbar": {
             "outlinewidth": 0,
             "ticks": ""
            },
            "type": "mesh3d"
           }
          ],
          "parcoords": [
           {
            "line": {
             "colorbar": {
              "outlinewidth": 0,
              "ticks": ""
             }
            },
            "type": "parcoords"
           }
          ],
          "pie": [
           {
            "automargin": true,
            "type": "pie"
           }
          ],
          "scatter": [
           {
            "fillpattern": {
             "fillmode": "overlay",
             "size": 10,
             "solidity": 0.2
            },
            "type": "scatter"
           }
          ],
          "scatter3d": [
           {
            "line": {
             "colorbar": {
              "outlinewidth": 0,
              "ticks": ""
             }
            },
            "marker": {
             "colorbar": {
              "outlinewidth": 0,
              "ticks": ""
             }
            },
            "type": "scatter3d"
           }
          ],
          "scattercarpet": [
           {
            "marker": {
             "colorbar": {
              "outlinewidth": 0,
              "ticks": ""
             }
            },
            "type": "scattercarpet"
           }
          ],
          "scattergeo": [
           {
            "marker": {
             "colorbar": {
              "outlinewidth": 0,
              "ticks": ""
             }
            },
            "type": "scattergeo"
           }
          ],
          "scattergl": [
           {
            "marker": {
             "colorbar": {
              "outlinewidth": 0,
              "ticks": ""
             }
            },
            "type": "scattergl"
           }
          ],
          "scattermap": [
           {
            "marker": {
             "colorbar": {
              "outlinewidth": 0,
              "ticks": ""
             }
            },
            "type": "scattermap"
           }
          ],
          "scattermapbox": [
           {
            "marker": {
             "colorbar": {
              "outlinewidth": 0,
              "ticks": ""
             }
            },
            "type": "scattermapbox"
           }
          ],
          "scatterpolar": [
           {
            "marker": {
             "colorbar": {
              "outlinewidth": 0,
              "ticks": ""
             }
            },
            "type": "scatterpolar"
           }
          ],
          "scatterpolargl": [
           {
            "marker": {
             "colorbar": {
              "outlinewidth": 0,
              "ticks": ""
             }
            },
            "type": "scatterpolargl"
           }
          ],
          "scatterternary": [
           {
            "marker": {
             "colorbar": {
              "outlinewidth": 0,
              "ticks": ""
             }
            },
            "type": "scatterternary"
           }
          ],
          "surface": [
           {
            "colorbar": {
             "outlinewidth": 0,
             "ticks": ""
            },
            "colorscale": [
             [
              0,
              "#0d0887"
             ],
             [
              0.1111111111111111,
              "#46039f"
             ],
             [
              0.2222222222222222,
              "#7201a8"
             ],
             [
              0.3333333333333333,
              "#9c179e"
             ],
             [
              0.4444444444444444,
              "#bd3786"
             ],
             [
              0.5555555555555556,
              "#d8576b"
             ],
             [
              0.6666666666666666,
              "#ed7953"
             ],
             [
              0.7777777777777778,
              "#fb9f3a"
             ],
             [
              0.8888888888888888,
              "#fdca26"
             ],
             [
              1,
              "#f0f921"
             ]
            ],
            "type": "surface"
           }
          ],
          "table": [
           {
            "cells": {
             "fill": {
              "color": "#EBF0F8"
             },
             "line": {
              "color": "white"
             }
            },
            "header": {
             "fill": {
              "color": "#C8D4E3"
             },
             "line": {
              "color": "white"
             }
            },
            "type": "table"
           }
          ]
         },
         "layout": {
          "annotationdefaults": {
           "arrowcolor": "#2a3f5f",
           "arrowhead": 0,
           "arrowwidth": 1
          },
          "autotypenumbers": "strict",
          "coloraxis": {
           "colorbar": {
            "outlinewidth": 0,
            "ticks": ""
           }
          },
          "colorscale": {
           "diverging": [
            [
             0,
             "#8e0152"
            ],
            [
             0.1,
             "#c51b7d"
            ],
            [
             0.2,
             "#de77ae"
            ],
            [
             0.3,
             "#f1b6da"
            ],
            [
             0.4,
             "#fde0ef"
            ],
            [
             0.5,
             "#f7f7f7"
            ],
            [
             0.6,
             "#e6f5d0"
            ],
            [
             0.7,
             "#b8e186"
            ],
            [
             0.8,
             "#7fbc41"
            ],
            [
             0.9,
             "#4d9221"
            ],
            [
             1,
             "#276419"
            ]
           ],
           "sequential": [
            [
             0,
             "#0d0887"
            ],
            [
             0.1111111111111111,
             "#46039f"
            ],
            [
             0.2222222222222222,
             "#7201a8"
            ],
            [
             0.3333333333333333,
             "#9c179e"
            ],
            [
             0.4444444444444444,
             "#bd3786"
            ],
            [
             0.5555555555555556,
             "#d8576b"
            ],
            [
             0.6666666666666666,
             "#ed7953"
            ],
            [
             0.7777777777777778,
             "#fb9f3a"
            ],
            [
             0.8888888888888888,
             "#fdca26"
            ],
            [
             1,
             "#f0f921"
            ]
           ],
           "sequentialminus": [
            [
             0,
             "#0d0887"
            ],
            [
             0.1111111111111111,
             "#46039f"
            ],
            [
             0.2222222222222222,
             "#7201a8"
            ],
            [
             0.3333333333333333,
             "#9c179e"
            ],
            [
             0.4444444444444444,
             "#bd3786"
            ],
            [
             0.5555555555555556,
             "#d8576b"
            ],
            [
             0.6666666666666666,
             "#ed7953"
            ],
            [
             0.7777777777777778,
             "#fb9f3a"
            ],
            [
             0.8888888888888888,
             "#fdca26"
            ],
            [
             1,
             "#f0f921"
            ]
           ]
          },
          "colorway": [
           "#636efa",
           "#EF553B",
           "#00cc96",
           "#ab63fa",
           "#FFA15A",
           "#19d3f3",
           "#FF6692",
           "#B6E880",
           "#FF97FF",
           "#FECB52"
          ],
          "font": {
           "color": "#2a3f5f"
          },
          "geo": {
           "bgcolor": "white",
           "lakecolor": "white",
           "landcolor": "#E5ECF6",
           "showlakes": true,
           "showland": true,
           "subunitcolor": "white"
          },
          "hoverlabel": {
           "align": "left"
          },
          "hovermode": "closest",
          "mapbox": {
           "style": "light"
          },
          "paper_bgcolor": "white",
          "plot_bgcolor": "#E5ECF6",
          "polar": {
           "angularaxis": {
            "gridcolor": "white",
            "linecolor": "white",
            "ticks": ""
           },
           "bgcolor": "#E5ECF6",
           "radialaxis": {
            "gridcolor": "white",
            "linecolor": "white",
            "ticks": ""
           }
          },
          "scene": {
           "xaxis": {
            "backgroundcolor": "#E5ECF6",
            "gridcolor": "white",
            "gridwidth": 2,
            "linecolor": "white",
            "showbackground": true,
            "ticks": "",
            "zerolinecolor": "white"
           },
           "yaxis": {
            "backgroundcolor": "#E5ECF6",
            "gridcolor": "white",
            "gridwidth": 2,
            "linecolor": "white",
            "showbackground": true,
            "ticks": "",
            "zerolinecolor": "white"
           },
           "zaxis": {
            "backgroundcolor": "#E5ECF6",
            "gridcolor": "white",
            "gridwidth": 2,
            "linecolor": "white",
            "showbackground": true,
            "ticks": "",
            "zerolinecolor": "white"
           }
          },
          "shapedefaults": {
           "line": {
            "color": "#2a3f5f"
           }
          },
          "ternary": {
           "aaxis": {
            "gridcolor": "white",
            "linecolor": "white",
            "ticks": ""
           },
           "baxis": {
            "gridcolor": "white",
            "linecolor": "white",
            "ticks": ""
           },
           "bgcolor": "#E5ECF6",
           "caxis": {
            "gridcolor": "white",
            "linecolor": "white",
            "ticks": ""
           }
          },
          "title": {
           "x": 0.05
          },
          "xaxis": {
           "automargin": true,
           "gridcolor": "white",
           "linecolor": "white",
           "ticks": "",
           "title": {
            "standoff": 15
           },
           "zerolinecolor": "white",
           "zerolinewidth": 2
          },
          "yaxis": {
           "automargin": true,
           "gridcolor": "white",
           "linecolor": "white",
           "ticks": "",
           "title": {
            "standoff": 15
           },
           "zerolinecolor": "white",
           "zerolinewidth": 2
          }
         }
        },
        "title": {
         "text": "Daily Bike Share Predictions"
        },
        "width": 700,
        "xaxis": {
         "title": {
          "text": "Actual Labels"
         }
        },
        "yaxis": {
         "title": {
          "text": "Predicted Labels"
         }
        }
       }
      }
     },
     "metadata": {},
     "output_type": "display_data"
    }
   ],
   "source": [
    "import numpy as np\n",
    "\n",
    "import plotly.graph_objects as go\n",
    "\n",
    "# Scatter plot\n",
    "fig = go.Figure()\n",
    "fig.add_trace(go.Scatter(\n",
    "    x=y_test,\n",
    "    y=predictions,\n",
    "    mode='markers',\n",
    "    marker=dict(color='royalblue', opacity=0.6),\n",
    "    name='Predicciones'\n",
    "))\n",
    "\n",
    "# Línea de regresión\n",
    "z = np.polyfit(y_test, predictions, 1)\n",
    "p = np.poly1d(z)\n",
    "x_line = np.linspace(min(y_test), max(y_test), 100)\n",
    "fig.add_trace(go.Scatter(\n",
    "    x=x_line,\n",
    "    y=p(x_line),\n",
    "    mode='lines',\n",
    "    line=dict(color='magenta'),\n",
    "    name='Regresión'\n",
    "))\n",
    "\n",
    "fig.update_layout(\n",
    "    title='Daily Bike Share Predictions',\n",
    "    xaxis_title='Actual Labels',\n",
    "    yaxis_title='Predicted Labels',\n",
    "    height=500,\n",
    "    width=700\n",
    ")\n",
    "fig.show()"
   ]
  },
  {
   "cell_type": "markdown",
   "id": "59eb5313",
   "metadata": {},
   "source": [
    "Hay una tendencia diagonal clara, y las intersecciones entre los valores predichos y los valores reales siguen en general la trayectoria de la línea de tendencia; sin embargo, hay una diferencia considerable entre la función ideal representada por la línea y los resultados reales. Esta variación representa los *residuales* del modelo; es decir, la diferencia entre la etiqueta predicha cuando el modelo aplica los coeficientes aprendidos durante el entrenamiento a los datos de validación, y el valor real de la etiqueta de validación.\n",
    "\n",
    "Estos residuales, cuando se evalúan con los datos de validación, indican el nivel esperado de *error* cuando el modelo se use con nuevos datos cuya etiqueta es desconocida.\n",
    "\n",
    "Puedes cuantificar los residuales calculando algunas métricas de evaluación comúnmente utilizadas. Nos enfocaremos en las siguientes tres:\n",
    "\n",
    "- **Error Cuadrático Medio (MSE)**: La media de las diferencias al cuadrado entre los valores predichos y los reales. Produce una métrica relativa: cuanto menor sea el valor, mejor se ajusta el modelo.\n",
    "- **Raíz del Error Cuadrático Medio (RMSE)**: La raíz cuadrada del MSE. Proporciona una métrica absoluta en la misma unidad que la etiqueta (en este caso, número de rentas). Cuanto menor sea el valor, mejor es el modelo (de forma simple, representa el número promedio de rentas por el cual las predicciones se equivocan).\n",
    "- **Coeficiente de determinación (conocido comúnmente como *R-cuadrado* o R²)**: Una métrica relativa en la que un valor más alto indica un mejor ajuste del modelo. En esencia, representa cuánta de la varianza entre los valores predichos y reales puede explicar el modelo.\n",
    "\n",
    "> **Nota**: Puedes encontrar más información sobre estas y otras métricas de evaluación para modelos de regresión en la [documentación de Scikit-Learn](https://scikit-learn.org/stable/modules/model_evaluation.html#regression-metrics)\n",
    "\n",
    "Vamos a usar Scikit-Learn para calcular estas métricas para nuestro modelo, basándonos en las predicciones generadas para el conjunto de validación."
   ]
  },
  {
   "cell_type": "code",
   "execution_count": 28,
   "id": "e674538a",
   "metadata": {},
   "outputs": [
    {
     "name": "stdout",
     "output_type": "stream",
     "text": [
      "MSE: 201972.55947035612\n",
      "RMSE: 449.4135728595167\n",
      "R2: 0.6040454736919186\n"
     ]
    }
   ],
   "source": [
    "from sklearn.metrics import mean_squared_error, r2_score\n",
    "\n",
    "mse = mean_squared_error(y_test, predictions)\n",
    "print(\"MSE:\", mse)\n",
    "\n",
    "rmse = np.sqrt(mse)\n",
    "print(\"RMSE:\", rmse)\n",
    "\n",
    "r2 = r2_score(y_test, predictions)\n",
    "print(\"R2:\", r2)"
   ]
  },
  {
   "cell_type": "markdown",
   "id": "4608513c",
   "metadata": {},
   "source": [
    "## Interpretación:\n",
    "\n",
    "- **MSE (Error Cuadrático Medio): 201,972.56**  \n",
    "  Representa el promedio de los cuadrados de las diferencias entre los valores reales y los valores predichos por el modelo. Un valor más bajo indica un mejor ajuste, pero su magnitud depende de la escala de la variable objetivo.\n",
    "\n",
    "- **RMSE (Raíz del Error Cuadrático Medio): 449.41**  \n",
    "  Es la raíz cuadrada del MSE, por lo que está en la misma unidad que la variable objetivo (número de rentas). En este caso, el modelo se equivoca en promedio por unas **449 rentas** al predecir el valor diario. Cuanto menor sea este valor, mejor será el desempeño del modelo.\n",
    "\n",
    "- **R² (Coeficiente de determinación): 0.60**  \n",
    "  Indica que el modelo explica aproximadamente el **60 %** de la variabilidad observada en el número de rentas. Un valor de 1 representa un ajuste perfecto; un valor de 0 significa que el modelo no explica nada de la variabilidad.\n",
    "\n",
    "**En resumen:**  \n",
    "El modelo tiene un poder predictivo razonable, pero aún hay margen de mejora. El error promedio es de unas 449 rentas y el modelo explica el 60 % de la variabilidad de los datos reales. Esto sugiere que, aunque el modelo capta tendencias generales, existen otros factores que podrían ayudar a mejorar la precisión de las predicciones."
   ]
  },
  {
   "cell_type": "markdown",
   "id": "0f5fa967",
   "metadata": {},
   "source": [
    "## Lectura adicional\n",
    "\n",
    "Para aprender más sobre Scikit-Learn, consulta la [documentación de Scikit-Learn](https://scikit-learn.org/stable/modules/model_evaluation.html#regression-metrics)."
   ]
  }
 ],
 "metadata": {
  "kernelspec": {
   "display_name": "reactor",
   "language": "python",
   "name": "python3"
  },
  "language_info": {
   "codemirror_mode": {
    "name": "ipython",
    "version": 3
   },
   "file_extension": ".py",
   "mimetype": "text/x-python",
   "name": "python",
   "nbconvert_exporter": "python",
   "pygments_lexer": "ipython3",
   "version": "3.10.16"
  }
 },
 "nbformat": 4,
 "nbformat_minor": 5
}
